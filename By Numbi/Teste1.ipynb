{
 "cells": [
  {
   "attachments": {},
   "cell_type": "markdown",
   "metadata": {},
   "source": [
    "# **Estudo e Analise do Dataset do Kaggle**\n",
    "- Student dropout\n",
    "---\n",
    "- Link: https://www.kaggle.com/datasets/thapleosehona/student-dropout"
   ]
  },
  {
   "cell_type": "code",
   "execution_count": 1,
   "metadata": {},
   "outputs": [],
   "source": [
    "# Bibliotecas\n",
    "import pandas as pd\n",
    "import numpy as np\n",
    "import seaborn as sns\n",
    "import matplotlib.pyplot as plt"
   ]
  },
  {
   "attachments": {},
   "cell_type": "markdown",
   "metadata": {},
   "source": [
    "### Base de Dados"
   ]
  },
  {
   "cell_type": "code",
   "execution_count": 2,
   "metadata": {},
   "outputs": [
    {
     "data": {
      "text/html": [
       "<div>\n",
       "<style scoped>\n",
       "    .dataframe tbody tr th:only-of-type {\n",
       "        vertical-align: middle;\n",
       "    }\n",
       "\n",
       "    .dataframe tbody tr th {\n",
       "        vertical-align: top;\n",
       "    }\n",
       "\n",
       "    .dataframe thead th {\n",
       "        text-align: right;\n",
       "    }\n",
       "</style>\n",
       "<table border=\"1\" class=\"dataframe\">\n",
       "  <thead>\n",
       "    <tr style=\"text-align: right;\">\n",
       "      <th></th>\n",
       "      <th>ID</th>\n",
       "      <th>Please select your age range.</th>\n",
       "      <th>Please select your gender.</th>\n",
       "      <th>What type of secondary school did you attend?</th>\n",
       "      <th>What is your average matric result?</th>\n",
       "      <th>Please select what type of student are you at Eduvos</th>\n",
       "      <th>Which faculty are you in at Eduvos?</th>\n",
       "      <th>What is your current grade average? (The current average of the program you are enrolled in).</th>\n",
       "      <th>How many hours do you study every week on average?</th>\n",
       "      <th>Do you have access to the following? Please select all that applies to you .)</th>\n",
       "      <th>Has online learning had an impact on your ability to study?</th>\n",
       "    </tr>\n",
       "  </thead>\n",
       "  <tbody>\n",
       "    <tr>\n",
       "      <th>0</th>\n",
       "      <td>1</td>\n",
       "      <td>24-26 years</td>\n",
       "      <td>Male</td>\n",
       "      <td>State/Public</td>\n",
       "      <td>40-49%</td>\n",
       "      <td>Full-time student</td>\n",
       "      <td>Information Technology</td>\n",
       "      <td>Below 40%</td>\n",
       "      <td>1 - 10 hours weekly</td>\n",
       "      <td>A location or place where you may study;</td>\n",
       "      <td>Yes</td>\n",
       "    </tr>\n",
       "    <tr>\n",
       "      <th>1</th>\n",
       "      <td>2</td>\n",
       "      <td>21-23 years</td>\n",
       "      <td>Male</td>\n",
       "      <td>State/Public</td>\n",
       "      <td>60-69%</td>\n",
       "      <td>Full-time student</td>\n",
       "      <td>Applied Sciences</td>\n",
       "      <td>50-59%</td>\n",
       "      <td>10 - 20 hours weekly</td>\n",
       "      <td>Electricity at your place of study;Access to t...</td>\n",
       "      <td>Yes</td>\n",
       "    </tr>\n",
       "    <tr>\n",
       "      <th>2</th>\n",
       "      <td>4</td>\n",
       "      <td>24-26 years</td>\n",
       "      <td>Male</td>\n",
       "      <td>State/Public</td>\n",
       "      <td>50-59%</td>\n",
       "      <td>Part-time student</td>\n",
       "      <td>Information Technology</td>\n",
       "      <td>70-79%</td>\n",
       "      <td>1 - 10 hours weekly</td>\n",
       "      <td>Electricity at your place of study;Access to t...</td>\n",
       "      <td>Yes</td>\n",
       "    </tr>\n",
       "    <tr>\n",
       "      <th>3</th>\n",
       "      <td>5</td>\n",
       "      <td>24-26 years</td>\n",
       "      <td>Male</td>\n",
       "      <td>State/Public</td>\n",
       "      <td>70-79%</td>\n",
       "      <td>Full-time student</td>\n",
       "      <td>Information Technology</td>\n",
       "      <td>90-100%</td>\n",
       "      <td>20 - 30 hours weekly</td>\n",
       "      <td>Electricity at your place of study;Access to t...</td>\n",
       "      <td>No</td>\n",
       "    </tr>\n",
       "    <tr>\n",
       "      <th>4</th>\n",
       "      <td>6</td>\n",
       "      <td>21-23 years</td>\n",
       "      <td>Male</td>\n",
       "      <td>Private</td>\n",
       "      <td>60-69%</td>\n",
       "      <td>Full-time student</td>\n",
       "      <td>Information Technology</td>\n",
       "      <td>60-69%</td>\n",
       "      <td>1 - 10 hours weekly</td>\n",
       "      <td>Electricity at your place of study;Access to t...</td>\n",
       "      <td>No</td>\n",
       "    </tr>\n",
       "  </tbody>\n",
       "</table>\n",
       "</div>"
      ],
      "text/plain": [
       "   ID Please select your age range. Please select your gender.   \n",
       "0   1                   24-26 years                       Male  \\\n",
       "1   2                   21-23 years                       Male   \n",
       "2   4                   24-26 years                       Male   \n",
       "3   5                   24-26 years                       Male   \n",
       "4   6                   21-23 years                       Male   \n",
       "\n",
       "  What type of secondary school did you attend?   \n",
       "0                                  State/Public  \\\n",
       "1                                  State/Public   \n",
       "2                                  State/Public   \n",
       "3                                  State/Public   \n",
       "4                                       Private   \n",
       "\n",
       "  What is your average matric result?   \n",
       "0                              40-49%  \\\n",
       "1                              60-69%   \n",
       "2                              50-59%   \n",
       "3                              70-79%   \n",
       "4                              60-69%   \n",
       "\n",
       "  Please select what type of student are you at Eduvos   \n",
       "0                                  Full-time student    \\\n",
       "1                                  Full-time student     \n",
       "2                                  Part-time student     \n",
       "3                                  Full-time student     \n",
       "4                                  Full-time student     \n",
       "\n",
       "  Which faculty are you in at Eduvos?   \n",
       "0              Information Technology  \\\n",
       "1                    Applied Sciences   \n",
       "2              Information Technology   \n",
       "3              Information Technology   \n",
       "4              Information Technology   \n",
       "\n",
       "  What is your current grade average? (The current average of the program you are enrolled in).   \n",
       "0                                          Below 40%                                             \\\n",
       "1                                             50-59%                                              \n",
       "2                                             70-79%                                              \n",
       "3                                            90-100%                                              \n",
       "4                                             60-69%                                              \n",
       "\n",
       "  How many hours do you study every week on average?   \n",
       "0                                1 - 10 hours weekly  \\\n",
       "1                               10 - 20 hours weekly   \n",
       "2                                1 - 10 hours weekly   \n",
       "3                               20 - 30 hours weekly   \n",
       "4                                1 - 10 hours weekly   \n",
       "\n",
       "  Do you have access to the following? Please select all that applies to you .)   \n",
       "0           A location or place where you may study;                             \\\n",
       "1  Electricity at your place of study;Access to t...                              \n",
       "2  Electricity at your place of study;Access to t...                              \n",
       "3  Electricity at your place of study;Access to t...                              \n",
       "4  Electricity at your place of study;Access to t...                              \n",
       "\n",
       "  Has online learning had an impact on your ability to study?  \n",
       "0                                                Yes           \n",
       "1                                                Yes           \n",
       "2                                                Yes           \n",
       "3                                                 No           \n",
       "4                                                 No           "
      ]
     },
     "execution_count": 2,
     "metadata": {},
     "output_type": "execute_result"
    }
   ],
   "source": [
    "# Base de Dados\n",
    "ds = pd.read_excel('./data/Student_dropoutData.xlsx')\n",
    "ds.head()"
   ]
  },
  {
   "attachments": {},
   "cell_type": "markdown",
   "metadata": {},
   "source": [
    "### Informações "
   ]
  },
  {
   "cell_type": "code",
   "execution_count": 3,
   "metadata": {},
   "outputs": [
    {
     "data": {
      "text/plain": [
       "(1658, 11)"
      ]
     },
     "execution_count": 3,
     "metadata": {},
     "output_type": "execute_result"
    }
   ],
   "source": [
    "# Tamanho\n",
    "ds.shape"
   ]
  },
  {
   "cell_type": "code",
   "execution_count": 4,
   "metadata": {},
   "outputs": [
    {
     "name": "stdout",
     "output_type": "stream",
     "text": [
      "<class 'pandas.core.frame.DataFrame'>\n",
      "RangeIndex: 1658 entries, 0 to 1657\n",
      "Data columns (total 11 columns):\n",
      " #   Column                                                                                         Non-Null Count  Dtype \n",
      "---  ------                                                                                         --------------  ----- \n",
      " 0   ID                                                                                             1658 non-null   int64 \n",
      " 1   Please select your age range.                                                                  1634 non-null   object\n",
      " 2   Please select your gender.                                                                     1634 non-null   object\n",
      " 3   What type of secondary school did you attend?                                                  1634 non-null   object\n",
      " 4   What is your average matric result?                                                            1634 non-null   object\n",
      " 5   Please select what type of student are you at Eduvos                                           1634 non-null   object\n",
      " 6   Which faculty are you in at Eduvos?                                                            1634 non-null   object\n",
      " 7   What is your current grade average? (The current average of the program you are enrolled in).  1634 non-null   object\n",
      " 8   How many hours do you study every week on average?                                             1634 non-null   object\n",
      " 9   Do you have access to the following? Please select all that applies to you .)                  1634 non-null   object\n",
      " 10  Has online learning had an impact on your ability to study?                                    1634 non-null   object\n",
      "dtypes: int64(1), object(10)\n",
      "memory usage: 142.6+ KB\n"
     ]
    }
   ],
   "source": [
    "#Informação\n",
    "ds.info()"
   ]
  },
  {
   "cell_type": "code",
   "execution_count": 5,
   "metadata": {},
   "outputs": [
    {
     "data": {
      "text/plain": [
       "ID                                                                                                0\n",
       "Please select your age range.                                                                    24\n",
       "Please select your gender.                                                                       24\n",
       "What type of secondary school did you attend?                                                    24\n",
       "What is your average matric result?                                                              24\n",
       "Please select what type of student are you at Eduvos                                             24\n",
       "Which faculty are you in at Eduvos?                                                              24\n",
       "What is your current grade average? (The current average of the program you are enrolled in).    24\n",
       "How many hours do you study every week on average?                                               24\n",
       "Do you have access to the following? Please select all that applies to you .)                    24\n",
       "Has online learning had an impact on your ability to study?                                      24\n",
       "dtype: int64"
      ]
     },
     "execution_count": 5,
     "metadata": {},
     "output_type": "execute_result"
    }
   ],
   "source": [
    "# Valores nulos \n",
    "ds.isnull().sum()"
   ]
  },
  {
   "attachments": {},
   "cell_type": "markdown",
   "metadata": {},
   "source": [
    "'ID', 'Please select your age range.', 'Please select your gender.',\n",
    "       'What type of secondary school did you attend?',\n",
    "       'What is your average matric result?',\n",
    "       'Please select what type of student are you at Eduvos',\n",
    "       'Which faculty are you in at Eduvos?',\n",
    "       'What is your current grade average? (The current average of the program you are enrolled in).',\n",
    "       'How many hours do you study every week on average?',\n",
    "       'Do you have access to the following? Please select all that applies to you .)',\n",
    "       'Has online learning had an impact on your ability to study?'"
   ]
  },
  {
   "cell_type": "code",
   "execution_count": 6,
   "metadata": {},
   "outputs": [
    {
     "data": {
      "text/html": [
       "<div>\n",
       "<style scoped>\n",
       "    .dataframe tbody tr th:only-of-type {\n",
       "        vertical-align: middle;\n",
       "    }\n",
       "\n",
       "    .dataframe tbody tr th {\n",
       "        vertical-align: top;\n",
       "    }\n",
       "\n",
       "    .dataframe thead th {\n",
       "        text-align: right;\n",
       "    }\n",
       "</style>\n",
       "<table border=\"1\" class=\"dataframe\">\n",
       "  <thead>\n",
       "    <tr style=\"text-align: right;\">\n",
       "      <th></th>\n",
       "      <th>id</th>\n",
       "      <th>faixa_etaria</th>\n",
       "      <th>genero</th>\n",
       "      <th>tipo_de_escola_secundaria</th>\n",
       "      <th>resultado_medio_da_matriz</th>\n",
       "      <th>tipo_de_aluno</th>\n",
       "      <th>faculdade</th>\n",
       "      <th>media_de_notas_atual</th>\n",
       "      <th>horas_de_estudo_por_semana</th>\n",
       "      <th>acesso_ao_seguinte</th>\n",
       "      <th>impacto_do_aprendizado_on-line</th>\n",
       "    </tr>\n",
       "  </thead>\n",
       "  <tbody>\n",
       "    <tr>\n",
       "      <th>0</th>\n",
       "      <td>1</td>\n",
       "      <td>24-26 years</td>\n",
       "      <td>Male</td>\n",
       "      <td>State/Public</td>\n",
       "      <td>40-49%</td>\n",
       "      <td>Full-time student</td>\n",
       "      <td>Information Technology</td>\n",
       "      <td>Below 40%</td>\n",
       "      <td>1 - 10 hours weekly</td>\n",
       "      <td>A location or place where you may study;</td>\n",
       "      <td>Yes</td>\n",
       "    </tr>\n",
       "    <tr>\n",
       "      <th>1</th>\n",
       "      <td>2</td>\n",
       "      <td>21-23 years</td>\n",
       "      <td>Male</td>\n",
       "      <td>State/Public</td>\n",
       "      <td>60-69%</td>\n",
       "      <td>Full-time student</td>\n",
       "      <td>Applied Sciences</td>\n",
       "      <td>50-59%</td>\n",
       "      <td>10 - 20 hours weekly</td>\n",
       "      <td>Electricity at your place of study;Access to t...</td>\n",
       "      <td>Yes</td>\n",
       "    </tr>\n",
       "    <tr>\n",
       "      <th>2</th>\n",
       "      <td>4</td>\n",
       "      <td>24-26 years</td>\n",
       "      <td>Male</td>\n",
       "      <td>State/Public</td>\n",
       "      <td>50-59%</td>\n",
       "      <td>Part-time student</td>\n",
       "      <td>Information Technology</td>\n",
       "      <td>70-79%</td>\n",
       "      <td>1 - 10 hours weekly</td>\n",
       "      <td>Electricity at your place of study;Access to t...</td>\n",
       "      <td>Yes</td>\n",
       "    </tr>\n",
       "    <tr>\n",
       "      <th>3</th>\n",
       "      <td>5</td>\n",
       "      <td>24-26 years</td>\n",
       "      <td>Male</td>\n",
       "      <td>State/Public</td>\n",
       "      <td>70-79%</td>\n",
       "      <td>Full-time student</td>\n",
       "      <td>Information Technology</td>\n",
       "      <td>90-100%</td>\n",
       "      <td>20 - 30 hours weekly</td>\n",
       "      <td>Electricity at your place of study;Access to t...</td>\n",
       "      <td>No</td>\n",
       "    </tr>\n",
       "    <tr>\n",
       "      <th>4</th>\n",
       "      <td>6</td>\n",
       "      <td>21-23 years</td>\n",
       "      <td>Male</td>\n",
       "      <td>Private</td>\n",
       "      <td>60-69%</td>\n",
       "      <td>Full-time student</td>\n",
       "      <td>Information Technology</td>\n",
       "      <td>60-69%</td>\n",
       "      <td>1 - 10 hours weekly</td>\n",
       "      <td>Electricity at your place of study;Access to t...</td>\n",
       "      <td>No</td>\n",
       "    </tr>\n",
       "  </tbody>\n",
       "</table>\n",
       "</div>"
      ],
      "text/plain": [
       "   id faixa_etaria genero tipo_de_escola_secundaria resultado_medio_da_matriz   \n",
       "0   1  24-26 years   Male              State/Public                    40-49%  \\\n",
       "1   2  21-23 years   Male              State/Public                    60-69%   \n",
       "2   4  24-26 years   Male              State/Public                    50-59%   \n",
       "3   5  24-26 years   Male              State/Public                    70-79%   \n",
       "4   6  21-23 years   Male                   Private                    60-69%   \n",
       "\n",
       "       tipo_de_aluno               faculdade media_de_notas_atual   \n",
       "0  Full-time student  Information Technology            Below 40%  \\\n",
       "1  Full-time student        Applied Sciences               50-59%   \n",
       "2  Part-time student  Information Technology               70-79%   \n",
       "3  Full-time student  Information Technology              90-100%   \n",
       "4  Full-time student  Information Technology               60-69%   \n",
       "\n",
       "  horas_de_estudo_por_semana   \n",
       "0        1 - 10 hours weekly  \\\n",
       "1       10 - 20 hours weekly   \n",
       "2        1 - 10 hours weekly   \n",
       "3       20 - 30 hours weekly   \n",
       "4        1 - 10 hours weekly   \n",
       "\n",
       "                                  acesso_ao_seguinte   \n",
       "0           A location or place where you may study;  \\\n",
       "1  Electricity at your place of study;Access to t...   \n",
       "2  Electricity at your place of study;Access to t...   \n",
       "3  Electricity at your place of study;Access to t...   \n",
       "4  Electricity at your place of study;Access to t...   \n",
       "\n",
       "  impacto_do_aprendizado_on-line  \n",
       "0                            Yes  \n",
       "1                            Yes  \n",
       "2                            Yes  \n",
       "3                             No  \n",
       "4                             No  "
      ]
     },
     "execution_count": 6,
     "metadata": {},
     "output_type": "execute_result"
    }
   ],
   "source": [
    "# Renomeando as colunas\n",
    "ds.columns =[\n",
    "    'id', 'faixa_etaria', 'genero', 'tipo_de_escola_secundaria', 'resultado_medio_da_matriz',\n",
    "    'tipo_de_aluno', 'faculdade', 'media_de_notas_atual', 'horas_de_estudo_por_semana',\n",
    "    'acesso_ao_seguinte', 'impacto_do_aprendizado_on-line'\n",
    "]\n",
    "ds.head()"
   ]
  },
  {
   "attachments": {},
   "cell_type": "markdown",
   "metadata": {},
   "source": [
    "### Limpeza de Dados"
   ]
  },
  {
   "cell_type": "code",
   "execution_count": 7,
   "metadata": {},
   "outputs": [
    {
     "data": {
      "text/html": [
       "<div>\n",
       "<style scoped>\n",
       "    .dataframe tbody tr th:only-of-type {\n",
       "        vertical-align: middle;\n",
       "    }\n",
       "\n",
       "    .dataframe tbody tr th {\n",
       "        vertical-align: top;\n",
       "    }\n",
       "\n",
       "    .dataframe thead th {\n",
       "        text-align: right;\n",
       "    }\n",
       "</style>\n",
       "<table border=\"1\" class=\"dataframe\">\n",
       "  <thead>\n",
       "    <tr style=\"text-align: right;\">\n",
       "      <th></th>\n",
       "      <th>faixa_etaria</th>\n",
       "      <th>genero</th>\n",
       "      <th>tipo_de_escola_secundaria</th>\n",
       "      <th>resultado_medio_da_matriz</th>\n",
       "      <th>tipo_de_aluno</th>\n",
       "      <th>faculdade</th>\n",
       "      <th>media_de_notas_atual</th>\n",
       "      <th>horas_de_estudo_por_semana</th>\n",
       "      <th>acesso_ao_seguinte</th>\n",
       "      <th>impacto_do_aprendizado_on-line</th>\n",
       "    </tr>\n",
       "  </thead>\n",
       "  <tbody>\n",
       "    <tr>\n",
       "      <th>0</th>\n",
       "      <td>24-26 years</td>\n",
       "      <td>Male</td>\n",
       "      <td>State/Public</td>\n",
       "      <td>40-49%</td>\n",
       "      <td>Full-time student</td>\n",
       "      <td>Information Technology</td>\n",
       "      <td>Below 40%</td>\n",
       "      <td>1 - 10 hours weekly</td>\n",
       "      <td>A location or place where you may study;</td>\n",
       "      <td>Yes</td>\n",
       "    </tr>\n",
       "    <tr>\n",
       "      <th>1</th>\n",
       "      <td>21-23 years</td>\n",
       "      <td>Male</td>\n",
       "      <td>State/Public</td>\n",
       "      <td>60-69%</td>\n",
       "      <td>Full-time student</td>\n",
       "      <td>Applied Sciences</td>\n",
       "      <td>50-59%</td>\n",
       "      <td>10 - 20 hours weekly</td>\n",
       "      <td>Electricity at your place of study;Access to t...</td>\n",
       "      <td>Yes</td>\n",
       "    </tr>\n",
       "    <tr>\n",
       "      <th>2</th>\n",
       "      <td>24-26 years</td>\n",
       "      <td>Male</td>\n",
       "      <td>State/Public</td>\n",
       "      <td>50-59%</td>\n",
       "      <td>Part-time student</td>\n",
       "      <td>Information Technology</td>\n",
       "      <td>70-79%</td>\n",
       "      <td>1 - 10 hours weekly</td>\n",
       "      <td>Electricity at your place of study;Access to t...</td>\n",
       "      <td>Yes</td>\n",
       "    </tr>\n",
       "    <tr>\n",
       "      <th>3</th>\n",
       "      <td>24-26 years</td>\n",
       "      <td>Male</td>\n",
       "      <td>State/Public</td>\n",
       "      <td>70-79%</td>\n",
       "      <td>Full-time student</td>\n",
       "      <td>Information Technology</td>\n",
       "      <td>90-100%</td>\n",
       "      <td>20 - 30 hours weekly</td>\n",
       "      <td>Electricity at your place of study;Access to t...</td>\n",
       "      <td>No</td>\n",
       "    </tr>\n",
       "    <tr>\n",
       "      <th>4</th>\n",
       "      <td>21-23 years</td>\n",
       "      <td>Male</td>\n",
       "      <td>Private</td>\n",
       "      <td>60-69%</td>\n",
       "      <td>Full-time student</td>\n",
       "      <td>Information Technology</td>\n",
       "      <td>60-69%</td>\n",
       "      <td>1 - 10 hours weekly</td>\n",
       "      <td>Electricity at your place of study;Access to t...</td>\n",
       "      <td>No</td>\n",
       "    </tr>\n",
       "  </tbody>\n",
       "</table>\n",
       "</div>"
      ],
      "text/plain": [
       "  faixa_etaria genero tipo_de_escola_secundaria resultado_medio_da_matriz   \n",
       "0  24-26 years   Male              State/Public                    40-49%  \\\n",
       "1  21-23 years   Male              State/Public                    60-69%   \n",
       "2  24-26 years   Male              State/Public                    50-59%   \n",
       "3  24-26 years   Male              State/Public                    70-79%   \n",
       "4  21-23 years   Male                   Private                    60-69%   \n",
       "\n",
       "       tipo_de_aluno               faculdade media_de_notas_atual   \n",
       "0  Full-time student  Information Technology            Below 40%  \\\n",
       "1  Full-time student        Applied Sciences               50-59%   \n",
       "2  Part-time student  Information Technology               70-79%   \n",
       "3  Full-time student  Information Technology              90-100%   \n",
       "4  Full-time student  Information Technology               60-69%   \n",
       "\n",
       "  horas_de_estudo_por_semana   \n",
       "0        1 - 10 hours weekly  \\\n",
       "1       10 - 20 hours weekly   \n",
       "2        1 - 10 hours weekly   \n",
       "3       20 - 30 hours weekly   \n",
       "4        1 - 10 hours weekly   \n",
       "\n",
       "                                  acesso_ao_seguinte   \n",
       "0           A location or place where you may study;  \\\n",
       "1  Electricity at your place of study;Access to t...   \n",
       "2  Electricity at your place of study;Access to t...   \n",
       "3  Electricity at your place of study;Access to t...   \n",
       "4  Electricity at your place of study;Access to t...   \n",
       "\n",
       "  impacto_do_aprendizado_on-line  \n",
       "0                            Yes  \n",
       "1                            Yes  \n",
       "2                            Yes  \n",
       "3                             No  \n",
       "4                             No  "
      ]
     },
     "execution_count": 7,
     "metadata": {},
     "output_type": "execute_result"
    }
   ],
   "source": [
    "# Eliminado a coluna id\n",
    "ds = ds.drop('id', axis=1)\n",
    "ds.head()"
   ]
  },
  {
   "cell_type": "code",
   "execution_count": 8,
   "metadata": {},
   "outputs": [
    {
     "data": {
      "text/plain": [
       "faixa_etaria                      0\n",
       "genero                            0\n",
       "tipo_de_escola_secundaria         0\n",
       "resultado_medio_da_matriz         0\n",
       "tipo_de_aluno                     0\n",
       "faculdade                         0\n",
       "media_de_notas_atual              0\n",
       "horas_de_estudo_por_semana        0\n",
       "acesso_ao_seguinte                0\n",
       "impacto_do_aprendizado_on-line    0\n",
       "dtype: int64"
      ]
     },
     "execution_count": 8,
     "metadata": {},
     "output_type": "execute_result"
    }
   ],
   "source": [
    "# eliminado os NAs\n",
    "ds = ds.dropna()\n",
    "ds.isnull().sum()"
   ]
  },
  {
   "attachments": {},
   "cell_type": "markdown",
   "metadata": {},
   "source": [
    "### Gráficos"
   ]
  },
  {
   "cell_type": "code",
   "execution_count": 9,
   "metadata": {},
   "outputs": [
    {
     "data": {
      "image/png": "[encoded data removed]",
      "text/plain": [
       "<Figure size 640x480 with 1 Axes>"
      ]
     },
     "metadata": {},
     "output_type": "display_data"
    }
   ],
   "source": [
    "ida_info = ds['faixa_etaria'].value_counts().sort_index()\n",
    "plt.bar(ida_info.index, ida_info)\n",
    "plt.title('Faixa etaria')\n",
    "plt.show()"
   ]
  },
  {
   "cell_type": "code",
   "execution_count": 10,
   "metadata": {},
   "outputs": [
    {
     "data": {
      "image/png": "[encoded data removed]",
      "text/plain": [
       "<Figure size 640x480 with 1 Axes>"
      ]
     },
     "metadata": {},
     "output_type": "display_data"
    }
   ],
   "source": [
    "sns.countplot(x='impacto_do_aprendizado_on-line', data=ds)\n",
    "plt.title('Impacto do Aprendizado On-line')\n",
    "plt.show()"
   ]
  },
  {
   "cell_type": "code",
   "execution_count": 11,
   "metadata": {},
   "outputs": [
    {
     "data": {
      "text/plain": [
       "genero\n",
       "Female    1018\n",
       "Male       601\n",
       "Other       15\n",
       "Name: count, dtype: int64"
      ]
     },
     "execution_count": 11,
     "metadata": {},
     "output_type": "execute_result"
    }
   ],
   "source": [
    "ds['genero'].value_counts()"
   ]
  },
  {
   "cell_type": "code",
   "execution_count": 12,
   "metadata": {},
   "outputs": [
    {
     "data": {
      "image/png": "[encoded data removed]",
      "text/plain": [
       "<Figure size 1200x800 with 1 Axes>"
      ]
     },
     "metadata": {},
     "output_type": "display_data"
    }
   ],
   "source": [
    "fig, ax = plt.subplots(figsize=(12, 8))\n",
    "sns.countplot(hue='genero', x='impacto_do_aprendizado_on-line', data=ds, ax=ax, palette=sns.color_palette(\"Set2\"))\n",
    "plt.title('Visão geral do aprendizado on-line por genero')\n",
    "plt.show()"
   ]
  }
 ],
 "metadata": {
  "kernelspec": {
   "display_name": "venv",
   "language": "python",
   "name": "python3"
  },
  "language_info": {
   "codemirror_mode": {
    "name": "ipython",
    "version": 3
   },
   "file_extension": ".py",
   "mimetype": "text/x-python",
   "name": "python",
   "nbconvert_exporter": "python",
   "pygments_lexer": "ipython3",
   "version": "3.11.2"
  },
  "orig_nbformat": 4
 },
 "nbformat": 4,
 "nbformat_minor": 2
}
