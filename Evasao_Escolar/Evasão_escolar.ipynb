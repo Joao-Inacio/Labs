{
 "cells": [
  {
   "attachments": {},
   "cell_type": "markdown",
   "metadata": {},
   "source": [
    "# **Estudo e Analise do Dataset do Governo**\n",
    "- Student dropout\n",
    "---\n",
    "- Link: https://dados.gov.br/dados/conjuntos-dados/ifce-matriculas  \n",
    "Dados relacionados às matrículas de estudantes que ingressaram no IFCE desde 2009, com informações sobre o aluno, situação da matrícula e curso realizado"
   ]
  },
  {
   "cell_type": "code",
   "execution_count": 1,
   "metadata": {},
   "outputs": [],
   "source": [
    "# Bibliotecas\n",
    "import pandas as pd\n",
    "import numpy as np\n",
    "import seaborn as sns\n",
    "import matplotlib.pyplot as plt"
   ]
  },
  {
   "attachments": {},
   "cell_type": "markdown",
   "metadata": {},
   "source": [
    "### Base de Dados"
   ]
  },
  {
   "cell_type": "code",
   "execution_count": 2,
   "metadata": {},
   "outputs": [
    {
     "data": {
      "text/html": [
       "<div>\n",
       "<style scoped>\n",
       "    .dataframe tbody tr th:only-of-type {\n",
       "        vertical-align: middle;\n",
       "    }\n",
       "\n",
       "    .dataframe tbody tr th {\n",
       "        vertical-align: top;\n",
       "    }\n",
       "\n",
       "    .dataframe thead th {\n",
       "        text-align: right;\n",
       "    }\n",
       "</style>\n",
       "<table border=\"1\" class=\"dataframe\">\n",
       "  <thead>\n",
       "    <tr style=\"text-align: right;\">\n",
       "      <th></th>\n",
       "      <th>COD_MATRICULA</th>\n",
       "      <th>COD_PESSOA</th>\n",
       "      <th>GENERO</th>\n",
       "      <th>ANO_INICIO</th>\n",
       "      <th>MOD_ENSINO</th>\n",
       "      <th>NIVEL_ENSINO</th>\n",
       "      <th>NOME_CURSO</th>\n",
       "      <th>MOD_CURSO</th>\n",
       "      <th>SIT_MATRICULA</th>\n",
       "      <th>CAMPUS</th>\n",
       "    </tr>\n",
       "  </thead>\n",
       "  <tbody>\n",
       "    <tr>\n",
       "      <th>0</th>\n",
       "      <td>3</td>\n",
       "      <td>3</td>\n",
       "      <td>Masculino</td>\n",
       "      <td>2000</td>\n",
       "      <td>Presencial</td>\n",
       "      <td>Técnico</td>\n",
       "      <td>Edificacoes - Técnico Antigo</td>\n",
       "      <td>Integrado</td>\n",
       "      <td>Matriculado</td>\n",
       "      <td>CAMPUS FORTALEZA</td>\n",
       "    </tr>\n",
       "    <tr>\n",
       "      <th>1</th>\n",
       "      <td>5</td>\n",
       "      <td>5</td>\n",
       "      <td>Feminino</td>\n",
       "      <td>2000</td>\n",
       "      <td>Presencial</td>\n",
       "      <td>Técnico</td>\n",
       "      <td>Edificacoes - Técnico Antigo</td>\n",
       "      <td>Integrado</td>\n",
       "      <td>Matriculado</td>\n",
       "      <td>CAMPUS FORTALEZA</td>\n",
       "    </tr>\n",
       "    <tr>\n",
       "      <th>2</th>\n",
       "      <td>6</td>\n",
       "      <td>6</td>\n",
       "      <td>Masculino</td>\n",
       "      <td>2000</td>\n",
       "      <td>Presencial</td>\n",
       "      <td>Técnico</td>\n",
       "      <td>Edificacoes - Técnico Antigo</td>\n",
       "      <td>Integrado</td>\n",
       "      <td>Matriculado</td>\n",
       "      <td>CAMPUS FORTALEZA</td>\n",
       "    </tr>\n",
       "    <tr>\n",
       "      <th>3</th>\n",
       "      <td>7</td>\n",
       "      <td>7789</td>\n",
       "      <td>Feminino</td>\n",
       "      <td>2000</td>\n",
       "      <td>Presencial</td>\n",
       "      <td>Técnico</td>\n",
       "      <td>Edificacoes - Técnico Antigo</td>\n",
       "      <td>Integrado</td>\n",
       "      <td>Matriculado</td>\n",
       "      <td>CAMPUS FORTALEZA</td>\n",
       "    </tr>\n",
       "    <tr>\n",
       "      <th>4</th>\n",
       "      <td>9</td>\n",
       "      <td>9</td>\n",
       "      <td>Masculino</td>\n",
       "      <td>2000</td>\n",
       "      <td>Presencial</td>\n",
       "      <td>Técnico</td>\n",
       "      <td>Edificacoes - Técnico Antigo</td>\n",
       "      <td>Integrado</td>\n",
       "      <td>Matriculado</td>\n",
       "      <td>CAMPUS FORTALEZA</td>\n",
       "    </tr>\n",
       "  </tbody>\n",
       "</table>\n",
       "</div>"
      ],
      "text/plain": [
       "   COD_MATRICULA  COD_PESSOA     GENERO  ANO_INICIO  MOD_ENSINO NIVEL_ENSINO  \\\n",
       "0              3           3  Masculino        2000  Presencial      Técnico   \n",
       "1              5           5   Feminino        2000  Presencial      Técnico   \n",
       "2              6           6  Masculino        2000  Presencial      Técnico   \n",
       "3              7        7789   Feminino        2000  Presencial      Técnico   \n",
       "4              9           9  Masculino        2000  Presencial      Técnico   \n",
       "\n",
       "                     NOME_CURSO  MOD_CURSO SIT_MATRICULA           CAMPUS   \n",
       "0  Edificacoes - Técnico Antigo  Integrado   Matriculado  CAMPUS FORTALEZA  \n",
       "1  Edificacoes - Técnico Antigo  Integrado   Matriculado  CAMPUS FORTALEZA  \n",
       "2  Edificacoes - Técnico Antigo  Integrado   Matriculado  CAMPUS FORTALEZA  \n",
       "3  Edificacoes - Técnico Antigo  Integrado   Matriculado  CAMPUS FORTALEZA  \n",
       "4  Edificacoes - Técnico Antigo  Integrado   Matriculado  CAMPUS FORTALEZA  "
      ]
     },
     "execution_count": 2,
     "metadata": {},
     "output_type": "execute_result"
    }
   ],
   "source": [
    "# Base de Dados\n",
    "ds = pd.read_csv('./data/IFCE-MATRICULAS.csv')\n",
    "ds.head()"
   ]
  },
  {
   "attachments": {},
   "cell_type": "markdown",
   "metadata": {},
   "source": [
    "### Intendendo os dados "
   ]
  },
  {
   "cell_type": "code",
   "execution_count": 3,
   "metadata": {},
   "outputs": [
    {
     "data": {
      "text/plain": [
       "(254248, 10)"
      ]
     },
     "execution_count": 3,
     "metadata": {},
     "output_type": "execute_result"
    }
   ],
   "source": [
    "# Tamanho\n",
    "ds.shape"
   ]
  },
  {
   "cell_type": "code",
   "execution_count": 4,
   "metadata": {},
   "outputs": [
    {
     "name": "stdout",
     "output_type": "stream",
     "text": [
      "<class 'pandas.core.frame.DataFrame'>\n",
      "RangeIndex: 254248 entries, 0 to 254247\n",
      "Data columns (total 10 columns):\n",
      " #   Column         Non-Null Count   Dtype \n",
      "---  ------         --------------   ----- \n",
      " 0   COD_MATRICULA  254248 non-null  int64 \n",
      " 1   COD_PESSOA     254248 non-null  int64 \n",
      " 2   GENERO         254248 non-null  object\n",
      " 3   ANO_INICIO     254248 non-null  int64 \n",
      " 4   MOD_ENSINO     254248 non-null  object\n",
      " 5   NIVEL_ENSINO   254248 non-null  object\n",
      " 6   NOME_CURSO     254248 non-null  object\n",
      " 7   MOD_CURSO      254244 non-null  object\n",
      " 8   SIT_MATRICULA  254248 non-null  object\n",
      " 9   CAMPUS         254248 non-null  object\n",
      "dtypes: int64(3), object(7)\n",
      "memory usage: 19.4+ MB\n"
     ]
    }
   ],
   "source": [
    "#Informação\n",
    "ds.info()"
   ]
  },
  {
   "cell_type": "code",
   "execution_count": 5,
   "metadata": {},
   "outputs": [
    {
     "data": {
      "text/html": [
       "<div>\n",
       "<style scoped>\n",
       "    .dataframe tbody tr th:only-of-type {\n",
       "        vertical-align: middle;\n",
       "    }\n",
       "\n",
       "    .dataframe tbody tr th {\n",
       "        vertical-align: top;\n",
       "    }\n",
       "\n",
       "    .dataframe thead th {\n",
       "        text-align: right;\n",
       "    }\n",
       "</style>\n",
       "<table border=\"1\" class=\"dataframe\">\n",
       "  <thead>\n",
       "    <tr style=\"text-align: right;\">\n",
       "      <th></th>\n",
       "      <th>COD_MATRICULA</th>\n",
       "      <th>COD_PESSOA</th>\n",
       "      <th>ANO_INICIO</th>\n",
       "    </tr>\n",
       "  </thead>\n",
       "  <tbody>\n",
       "    <tr>\n",
       "      <th>count</th>\n",
       "      <td>254248.000000</td>\n",
       "      <td>254248.000000</td>\n",
       "      <td>254248.000000</td>\n",
       "    </tr>\n",
       "    <tr>\n",
       "      <th>mean</th>\n",
       "      <td>229324.517223</td>\n",
       "      <td>183970.501318</td>\n",
       "      <td>2015.122294</td>\n",
       "    </tr>\n",
       "    <tr>\n",
       "      <th>std</th>\n",
       "      <td>143723.799236</td>\n",
       "      <td>118073.978155</td>\n",
       "      <td>6.132698</td>\n",
       "    </tr>\n",
       "    <tr>\n",
       "      <th>min</th>\n",
       "      <td>1.000000</td>\n",
       "      <td>1.000000</td>\n",
       "      <td>1950.000000</td>\n",
       "    </tr>\n",
       "    <tr>\n",
       "      <th>25%</th>\n",
       "      <td>99870.750000</td>\n",
       "      <td>78234.000000</td>\n",
       "      <td>2012.000000</td>\n",
       "    </tr>\n",
       "    <tr>\n",
       "      <th>50%</th>\n",
       "      <td>231570.500000</td>\n",
       "      <td>182324.500000</td>\n",
       "      <td>2017.000000</td>\n",
       "    </tr>\n",
       "    <tr>\n",
       "      <th>75%</th>\n",
       "      <td>357605.250000</td>\n",
       "      <td>280843.250000</td>\n",
       "      <td>2020.000000</td>\n",
       "    </tr>\n",
       "    <tr>\n",
       "      <th>max</th>\n",
       "      <td>471538.000000</td>\n",
       "      <td>400690.000000</td>\n",
       "      <td>2022.000000</td>\n",
       "    </tr>\n",
       "  </tbody>\n",
       "</table>\n",
       "</div>"
      ],
      "text/plain": [
       "       COD_MATRICULA     COD_PESSOA     ANO_INICIO\n",
       "count  254248.000000  254248.000000  254248.000000\n",
       "mean   229324.517223  183970.501318    2015.122294\n",
       "std    143723.799236  118073.978155       6.132698\n",
       "min         1.000000       1.000000    1950.000000\n",
       "25%     99870.750000   78234.000000    2012.000000\n",
       "50%    231570.500000  182324.500000    2017.000000\n",
       "75%    357605.250000  280843.250000    2020.000000\n",
       "max    471538.000000  400690.000000    2022.000000"
      ]
     },
     "execution_count": 5,
     "metadata": {},
     "output_type": "execute_result"
    }
   ],
   "source": [
    "ds.describe()"
   ]
  },
  {
   "cell_type": "code",
   "execution_count": 6,
   "metadata": {},
   "outputs": [
    {
     "data": {
      "text/plain": [
       "COD_MATRICULA    0\n",
       "COD_PESSOA       0\n",
       "GENERO           0\n",
       "ANO_INICIO       0\n",
       "MOD_ENSINO       0\n",
       "NIVEL_ENSINO     0\n",
       "NOME_CURSO       0\n",
       "MOD_CURSO        4\n",
       "SIT_MATRICULA    0\n",
       "CAMPUS           0\n",
       "dtype: int64"
      ]
     },
     "execution_count": 6,
     "metadata": {},
     "output_type": "execute_result"
    }
   ],
   "source": [
    "# Valores nulos \n",
    "ds.isnull().sum()"
   ]
  },
  {
   "attachments": {},
   "cell_type": "markdown",
   "metadata": {},
   "source": [
    "### Limpeza de Dados"
   ]
  },
  {
   "cell_type": "code",
   "execution_count": 7,
   "metadata": {},
   "outputs": [
    {
     "data": {
      "text/html": [
       "<div>\n",
       "<style scoped>\n",
       "    .dataframe tbody tr th:only-of-type {\n",
       "        vertical-align: middle;\n",
       "    }\n",
       "\n",
       "    .dataframe tbody tr th {\n",
       "        vertical-align: top;\n",
       "    }\n",
       "\n",
       "    .dataframe thead th {\n",
       "        text-align: right;\n",
       "    }\n",
       "</style>\n",
       "<table border=\"1\" class=\"dataframe\">\n",
       "  <thead>\n",
       "    <tr style=\"text-align: right;\">\n",
       "      <th></th>\n",
       "      <th>GENERO</th>\n",
       "      <th>ANO_INICIO</th>\n",
       "      <th>MOD_ENSINO</th>\n",
       "      <th>NIVEL_ENSINO</th>\n",
       "      <th>NOME_CURSO</th>\n",
       "      <th>MOD_CURSO</th>\n",
       "      <th>SIT_MATRICULA</th>\n",
       "      <th>CAMPUS</th>\n",
       "    </tr>\n",
       "  </thead>\n",
       "  <tbody>\n",
       "    <tr>\n",
       "      <th>0</th>\n",
       "      <td>Masculino</td>\n",
       "      <td>2000</td>\n",
       "      <td>Presencial</td>\n",
       "      <td>Técnico</td>\n",
       "      <td>Edificacoes - Técnico Antigo</td>\n",
       "      <td>Integrado</td>\n",
       "      <td>Matriculado</td>\n",
       "      <td>CAMPUS FORTALEZA</td>\n",
       "    </tr>\n",
       "    <tr>\n",
       "      <th>1</th>\n",
       "      <td>Feminino</td>\n",
       "      <td>2000</td>\n",
       "      <td>Presencial</td>\n",
       "      <td>Técnico</td>\n",
       "      <td>Edificacoes - Técnico Antigo</td>\n",
       "      <td>Integrado</td>\n",
       "      <td>Matriculado</td>\n",
       "      <td>CAMPUS FORTALEZA</td>\n",
       "    </tr>\n",
       "    <tr>\n",
       "      <th>2</th>\n",
       "      <td>Masculino</td>\n",
       "      <td>2000</td>\n",
       "      <td>Presencial</td>\n",
       "      <td>Técnico</td>\n",
       "      <td>Edificacoes - Técnico Antigo</td>\n",
       "      <td>Integrado</td>\n",
       "      <td>Matriculado</td>\n",
       "      <td>CAMPUS FORTALEZA</td>\n",
       "    </tr>\n",
       "    <tr>\n",
       "      <th>3</th>\n",
       "      <td>Feminino</td>\n",
       "      <td>2000</td>\n",
       "      <td>Presencial</td>\n",
       "      <td>Técnico</td>\n",
       "      <td>Edificacoes - Técnico Antigo</td>\n",
       "      <td>Integrado</td>\n",
       "      <td>Matriculado</td>\n",
       "      <td>CAMPUS FORTALEZA</td>\n",
       "    </tr>\n",
       "    <tr>\n",
       "      <th>4</th>\n",
       "      <td>Masculino</td>\n",
       "      <td>2000</td>\n",
       "      <td>Presencial</td>\n",
       "      <td>Técnico</td>\n",
       "      <td>Edificacoes - Técnico Antigo</td>\n",
       "      <td>Integrado</td>\n",
       "      <td>Matriculado</td>\n",
       "      <td>CAMPUS FORTALEZA</td>\n",
       "    </tr>\n",
       "  </tbody>\n",
       "</table>\n",
       "</div>"
      ],
      "text/plain": [
       "      GENERO  ANO_INICIO  MOD_ENSINO NIVEL_ENSINO  \\\n",
       "0  Masculino        2000  Presencial      Técnico   \n",
       "1   Feminino        2000  Presencial      Técnico   \n",
       "2  Masculino        2000  Presencial      Técnico   \n",
       "3   Feminino        2000  Presencial      Técnico   \n",
       "4  Masculino        2000  Presencial      Técnico   \n",
       "\n",
       "                     NOME_CURSO  MOD_CURSO SIT_MATRICULA           CAMPUS   \n",
       "0  Edificacoes - Técnico Antigo  Integrado   Matriculado  CAMPUS FORTALEZA  \n",
       "1  Edificacoes - Técnico Antigo  Integrado   Matriculado  CAMPUS FORTALEZA  \n",
       "2  Edificacoes - Técnico Antigo  Integrado   Matriculado  CAMPUS FORTALEZA  \n",
       "3  Edificacoes - Técnico Antigo  Integrado   Matriculado  CAMPUS FORTALEZA  \n",
       "4  Edificacoes - Técnico Antigo  Integrado   Matriculado  CAMPUS FORTALEZA  "
      ]
     },
     "execution_count": 7,
     "metadata": {},
     "output_type": "execute_result"
    }
   ],
   "source": [
    "# Eliminado a coluna id\n",
    "ds = ds.drop(['COD_MATRICULA', 'COD_PESSOA'], axis=1)\n",
    "ds.head()"
   ]
  },
  {
   "attachments": {},
   "cell_type": "markdown",
   "metadata": {},
   "source": [
    "### EDA"
   ]
  },
  {
   "cell_type": "code",
   "execution_count": 8,
   "metadata": {},
   "outputs": [
    {
     "data": {
      "text/plain": [
       "<Axes: ylabel='SIT_MATRICULA'>"
      ]
     },
     "execution_count": 8,
     "metadata": {},
     "output_type": "execute_result"
    },
    {
     "data": {
      "image/png": "[encoded data removed]",
      "text/plain": [
       "<Figure size 640x480 with 1 Axes>"
      ]
     },
     "metadata": {},
     "output_type": "display_data"
    }
   ],
   "source": [
    "situacao_matricula = ds.groupby(['SIT_MATRICULA']).size()\n",
    "situacao_matricula.plot.barh()\n"
   ]
  },
  {
   "cell_type": "code",
   "execution_count": 9,
   "metadata": {},
   "outputs": [
    {
     "data": {
      "text/plain": [
       "SIT_MATRICULA\n",
       "Concluído                      63295\n",
       "Abandono                       61621\n",
       "Matriculado                    41326\n",
       "Não Concluído                  25909\n",
       "Trancado                       14828\n",
       "Cancelado Voluntariamente      12888\n",
       "Formado                        12686\n",
       "Cancelado Compulsoriamente     10542\n",
       "Concludente                     3641\n",
       "Transferido Interno             3228\n",
       "Transferido Externo             2820\n",
       "Estagiario (Concludente)         705\n",
       "Aguardando Colação de Grau       245\n",
       "Projeto Final (Concludente)      197\n",
       "Aguardando ENADE                 159\n",
       "Falecido                         102\n",
       "Jubilado                          34\n",
       "Intercâmbio                        9\n",
       "Vínculo Institucional              8\n",
       "Certificado ENEM                   3\n",
       "Afastado                           2\n",
       "Name: count, dtype: int64"
      ]
     },
     "execution_count": 9,
     "metadata": {},
     "output_type": "execute_result"
    }
   ],
   "source": [
    "# contando os valores da coluna situação\n",
    "ds['SIT_MATRICULA'].value_counts()"
   ]
  },
  {
   "cell_type": "code",
   "execution_count": 10,
   "metadata": {},
   "outputs": [
    {
     "data": {
      "text/plain": [
       "SIT_MATRICULA\n",
       "Abandono                       99983\n",
       "Concluído                      63295\n",
       "Matriculado                    41326\n",
       "Não Concluído                  25909\n",
       "Formado                        12686\n",
       "Concludente                     3641\n",
       "Transferido Interno             3228\n",
       "Transferido Externo             2820\n",
       "Estagiario (Concludente)         705\n",
       "Aguardando Colação de Grau       245\n",
       "Projeto Final (Concludente)      197\n",
       "Aguardando ENADE                 159\n",
       "Jubilado                          34\n",
       "Intercâmbio                        9\n",
       "Vínculo Institucional              8\n",
       "Certificado ENEM                   3\n",
       "Name: count, dtype: int64"
      ]
     },
     "execution_count": 10,
     "metadata": {},
     "output_type": "execute_result"
    }
   ],
   "source": [
    "# Realocando os dados\n",
    "ds.loc[ds['SIT_MATRICULA'].isin([\n",
    "    'Trancado', 'Cancelado Voluntariamente', 'Cancelado Compulsoriamente', 'Falecido', 'Afastado'\n",
    "]), 'SIT_MATRICULA'] = 'Abandono'\n",
    "ds['SIT_MATRICULA'].value_counts()"
   ]
  },
  {
   "cell_type": "code",
   "execution_count": 11,
   "metadata": {},
   "outputs": [
    {
     "data": {
      "text/plain": [
       "SIT_MATRICULA\n",
       "Abandono                 99983\n",
       "Concluído                80769\n",
       "Matriculado              41326\n",
       "Não Concluído            25909\n",
       "Transferido Interno       3228\n",
       "Transferido Externo       2820\n",
       "Aguardando ENADE           159\n",
       "Jubilado                    34\n",
       "Intercâmbio                  9\n",
       "Vínculo Institucional        8\n",
       "Certificado ENEM             3\n",
       "Name: count, dtype: int64"
      ]
     },
     "execution_count": 11,
     "metadata": {},
     "output_type": "execute_result"
    }
   ],
   "source": [
    "# Realocando os dados de Concluído\n",
    "ds.loc[ds['SIT_MATRICULA'].isin([\n",
    "    'Formado', 'Concludente', 'Estagiario (Concludente)', 'Aguardando Colação de Grau', 'Projeto Final (Concludente)'\n",
    "]), 'SIT_MATRICULA'] = 'Concluído'\n",
    "ds['SIT_MATRICULA'].value_counts()"
   ]
  },
  {
   "cell_type": "code",
   "execution_count": 12,
   "metadata": {},
   "outputs": [
    {
     "data": {
      "text/plain": [
       "SIT_MATRICULA\n",
       "Abandono               99983\n",
       "Concluído              80769\n",
       "Matriculado            67445\n",
       "Transferido Interno     3228\n",
       "Transferido Externo     2820\n",
       "Certificado ENEM           3\n",
       "Name: count, dtype: int64"
      ]
     },
     "execution_count": 12,
     "metadata": {},
     "output_type": "execute_result"
    }
   ],
   "source": [
    "# Realocando os dados de Matriculado\n",
    "ds.loc[ds['SIT_MATRICULA'].isin([\n",
    "    'Não Concluído', 'Aguardando ENADE', 'Jubilado', 'Intercâmbio', 'Vínculo Institucional'\n",
    "]), 'SIT_MATRICULA'] = 'Matriculado'\n",
    "ds['SIT_MATRICULA'].value_counts()"
   ]
  },
  {
   "cell_type": "code",
   "execution_count": 13,
   "metadata": {},
   "outputs": [
    {
     "data": {
      "text/plain": [
       "SIT_MATRICULA\n",
       "Abandono       99983\n",
       "Concluído      80769\n",
       "Matriculado    67445\n",
       "Name: count, dtype: int64"
      ]
     },
     "execution_count": 13,
     "metadata": {},
     "output_type": "execute_result"
    }
   ],
   "source": [
    "# Eliminado valores irrelevante\n",
    "values_to_drop = ['Transferido Interno', 'Transferido Externo', 'Certificado ENEM']\n",
    "# eliminado os matriculados\n",
    "ds.drop(ds[ds['SIT_MATRICULA'].isin(values_to_drop)].index, inplace=True)\n",
    "ds['SIT_MATRICULA'].value_counts()"
   ]
  },
  {
   "cell_type": "markdown",
   "metadata": {},
   "source": [
    "### Gráficos"
   ]
  },
  {
   "cell_type": "code",
   "execution_count": 14,
   "metadata": {},
   "outputs": [
    {
     "data": {
      "image/png": "[encoded data removed]",
      "text/plain": [
       "<Figure size 640x480 with 1 Axes>"
      ]
     },
     "metadata": {},
     "output_type": "display_data"
    }
   ],
   "source": [
    "sns.countplot(x=ds['SIT_MATRICULA'], hue=ds['GENERO']);"
   ]
  }
 ],
 "metadata": {
  "kernelspec": {
   "display_name": "venv",
   "language": "python",
   "name": "python3"
  },
  "language_info": {
   "codemirror_mode": {
    "name": "ipython",
    "version": 3
   },
   "file_extension": ".py",
   "mimetype": "text/x-python",
   "name": "python",
   "nbconvert_exporter": "python",
   "pygments_lexer": "ipython3",
   "version": "3.11.4"
  },
  "orig_nbformat": 4
 },
 "nbformat": 4,
 "nbformat_minor": 2
}
