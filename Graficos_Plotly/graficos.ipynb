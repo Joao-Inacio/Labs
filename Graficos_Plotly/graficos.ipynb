{
 "cells": [
  {
   "attachments": {},
   "cell_type": "markdown",
   "metadata": {},
   "source": [
    "# **Introdução ao Plotly | Plotly com Python**"
   ]
  },
  {
   "attachments": {},
   "cell_type": "markdown",
   "metadata": {},
   "source": [
    "## **Bibliotecas**"
   ]
  },
  {
   "cell_type": "code",
   "execution_count": 1,
   "metadata": {},
   "outputs": [],
   "source": [
    "# Libs\n",
    "import pandas as pd\n",
    "import numpy as np\n",
    "import plotly.express as px"
   ]
  },
  {
   "attachments": {},
   "cell_type": "markdown",
   "metadata": {},
   "source": [
    "### **Gráficos de Linha**"
   ]
  },
  {
   "cell_type": "code",
   "execution_count": 2,
   "metadata": {},
   "outputs": [
    {
     "data": {
      "application/vnd.plotly.v1+json": {
       "config": {
        "plotlyServerURL": "https://plot.ly"
       },
       "data": [
        {
         "hovertemplate": "x=%{x}<br>y=%{y}<extra></extra>",
         "legendgroup": "",
         "line": {
          "color": "#636efa",
          "dash": "solid"
         },
         "marker": {
          "symbol": "circle"
         },
         "mode": "lines",
         "name": "",
         "orientation": "v",
         "showlegend": false,
         "type": "scatter",
         "x": [
          1,
          2,
          3,
          4,
          5
         ],
         "xaxis": "x",
         "y": [
          10,
          20,
          40,
          30,
          50
         ],
         "yaxis": "y"
        }
       ],
       "layout": {
        "legend": {
         "tracegroupgap": 0
        },
        "margin": {
         "t": 60
        },
        "template": {
         "data": {
          "bar": [
           {
            "error_x": {
             "color": "#2a3f5f"
            },
            "error_y": {
             "color": "#2a3f5f"
            },
            "marker": {
             "line": {
              "color": "#E5ECF6",
              "width": 0.5
             },
             "pattern": {
              "fillmode": "overlay",
              "size": 10,
              "solidity": 0.2
             }
            },
            "type": "bar"
           }
          ],
          "barpolar": [
           {
            "marker": {
             "line": {
              "color": "#E5ECF6",
              "width": 0.5
             },
             "pattern": {
              "fillmode": "overlay",
              "size": 10,
              "solidity": 0.2
             }
            },
            "type": "barpolar"
           }
          ],
          "carpet": [
           {
            "aaxis": {
             "endlinecolor": "#2a3f5f",
             "gridcolor": "white",
             "linecolor": "white",
             "minorgridcolor": "white",
             "startlinecolor": "#2a3f5f"
            },
            "baxis": {
             "endlinecolor": "#2a3f5f",
             "gridcolor": "white",
             "linecolor": "white",
             "minorgridcolor": "white",
             "startlinecolor": "#2a3f5f"
            },
            "type": "carpet"
           }
          ],
          "choropleth": [
           {
            "colorbar": {
             "outlinewidth": 0,
             "ticks": ""
            },
            "type": "choropleth"
           }
          ],
          "contour": [
           {
            "colorbar": {
             "outlinewidth": 0,
             "ticks": ""
            },
            "colorscale": [
             [
              0,
              "#0d0887"
             ],
             [
              0.1111111111111111,
              "#46039f"
             ],
             [
              0.2222222222222222,
              "#7201a8"
             ],
             [
              0.3333333333333333,
              "#9c179e"
             ],
             [
              0.4444444444444444,
              "#bd3786"
             ],
             [
              0.5555555555555556,
              "#d8576b"
             ],
             [
              0.6666666666666666,
              "#ed7953"
             ],
             [
              0.7777777777777778,
              "#fb9f3a"
             ],
             [
              0.8888888888888888,
              "#fdca26"
             ],
             [
              1,
              "#f0f921"
             ]
            ],
            "type": "contour"
           }
          ],
          "contourcarpet": [
           {
            "colorbar": {
             "outlinewidth": 0,
             "ticks": ""
            },
            "type": "contourcarpet"
           }
          ],
          "heatmap": [
           {
            "colorbar": {
             "outlinewidth": 0,
             "ticks": ""
            },
            "colorscale": [
             [
              0,
              "#0d0887"
             ],
             [
              0.1111111111111111,
              "#46039f"
             ],
             [
              0.2222222222222222,
              "#7201a8"
             ],
             [
              0.3333333333333333,
              "#9c179e"
             ],
             [
              0.4444444444444444,
              "#bd3786"
             ],
             [
              0.5555555555555556,
              "#d8576b"
             ],
             [
              0.6666666666666666,
              "#ed7953"
             ],
             [
              0.7777777777777778,
              "#fb9f3a"
             ],
             [
              0.8888888888888888,
              "#fdca26"
             ],
             [
              1,
              "#f0f921"
             ]
            ],
            "type": "heatmap"
           }
          ],
          "heatmapgl": [
           {
            "colorbar": {
             "outlinewidth": 0,
             "ticks": ""
            },
            "colorscale": [
             [
              0,
              "#0d0887"
             ],
             [
              0.1111111111111111,
              "#46039f"
             ],
             [
              0.2222222222222222,
              "#7201a8"
             ],
             [
              0.3333333333333333,
              "#9c179e"
             ],
             [
              0.4444444444444444,
              "#bd3786"
             ],
             [
              0.5555555555555556,
              "#d8576b"
             ],
             [
              0.6666666666666666,
              "#ed7953"
             ],
             [
              0.7777777777777778,
              "#fb9f3a"
             ],
             [
              0.8888888888888888,
              "#fdca26"
             ],
             [
              1,
              "#f0f921"
             ]
            ],
            "type": "heatmapgl"
           }
          ],
          "histogram": [
           {
            "marker": {
             "pattern": {
              "fillmode": "overlay",
              "size": 10,
              "solidity": 0.2
             }
            },
            "type": "histogram"
           }
          ],
          "histogram2d": [
           {
            "colorbar": {
             "outlinewidth": 0,
             "ticks": ""
            },
            "colorscale": [
             [
              0,
              "#0d0887"
             ],
             [
              0.1111111111111111,
              "#46039f"
             ],
             [
              0.2222222222222222,
              "#7201a8"
             ],
             [
              0.3333333333333333,
              "#9c179e"
             ],
             [
              0.4444444444444444,
              "#bd3786"
             ],
             [
              0.5555555555555556,
              "#d8576b"
             ],
             [
              0.6666666666666666,
              "#ed7953"
             ],
             [
              0.7777777777777778,
              "#fb9f3a"
             ],
             [
              0.8888888888888888,
              "#fdca26"
             ],
             [
              1,
              "#f0f921"
             ]
            ],
            "type": "histogram2d"
           }
          ],
          "histogram2dcontour": [
           {
            "colorbar": {
             "outlinewidth": 0,
             "ticks": ""
            },
            "colorscale": [
             [
              0,
              "#0d0887"
             ],
             [
              0.1111111111111111,
              "#46039f"
             ],
             [
              0.2222222222222222,
              "#7201a8"
             ],
             [
              0.3333333333333333,
              "#9c179e"
             ],
             [
              0.4444444444444444,
              "#bd3786"
             ],
             [
              0.5555555555555556,
              "#d8576b"
             ],
             [
              0.6666666666666666,
              "#ed7953"
             ],
             [
              0.7777777777777778,
              "#fb9f3a"
             ],
             [
              0.8888888888888888,
              "#fdca26"
             ],
             [
              1,
              "#f0f921"
             ]
            ],
            "type": "histogram2dcontour"
           }
          ],
          "mesh3d": [
           {
            "colorbar": {
             "outlinewidth": 0,
             "ticks": ""
            },
            "type": "mesh3d"
           }
          ],
          "parcoords": [
           {
            "line": {
             "colorbar": {
              "outlinewidth": 0,
              "ticks": ""
             }
            },
            "type": "parcoords"
           }
          ],
          "pie": [
           {
            "automargin": true,
            "type": "pie"
           }
          ],
          "scatter": [
           {
            "fillpattern": {
             "fillmode": "overlay",
             "size": 10,
             "solidity": 0.2
            },
            "type": "scatter"
           }
          ],
          "scatter3d": [
           {
            "line": {
             "colorbar": {
              "outlinewidth": 0,
              "ticks": ""
             }
            },
            "marker": {
             "colorbar": {
              "outlinewidth": 0,
              "ticks": ""
             }
            },
            "type": "scatter3d"
           }
          ],
          "scattercarpet": [
           {
            "marker": {
             "colorbar": {
              "outlinewidth": 0,
              "ticks": ""
             }
            },
            "type": "scattercarpet"
           }
          ],
          "scattergeo": [
           {
            "marker": {
             "colorbar": {
              "outlinewidth": 0,
              "ticks": ""
             }
            },
            "type": "scattergeo"
           }
          ],
          "scattergl": [
           {
            "marker": {
             "colorbar": {
              "outlinewidth": 0,
              "ticks": ""
             }
            },
            "type": "scattergl"
           }
          ],
          "scattermapbox": [
           {
            "marker": {
             "colorbar": {
              "outlinewidth": 0,
              "ticks": ""
             }
            },
            "type": "scattermapbox"
           }
          ],
          "scatterpolar": [
           {
            "marker": {
             "colorbar": {
              "outlinewidth": 0,
              "ticks": ""
             }
            },
            "type": "scatterpolar"
           }
          ],
          "scatterpolargl": [
           {
            "marker": {
             "colorbar": {
              "outlinewidth": 0,
              "ticks": ""
             }
            },
            "type": "scatterpolargl"
           }
          ],
          "scatterternary": [
           {
            "marker": {
             "colorbar": {
              "outlinewidth": 0,
              "ticks": ""
             }
            },
            "type": "scatterternary"
           }
          ],
          "surface": [
           {
            "colorbar": {
             "outlinewidth": 0,
             "ticks": ""
            },
            "colorscale": [
             [
              0,
              "#0d0887"
             ],
             [
              0.1111111111111111,
              "#46039f"
             ],
             [
              0.2222222222222222,
              "#7201a8"
             ],
             [
              0.3333333333333333,
              "#9c179e"
             ],
             [
              0.4444444444444444,
              "#bd3786"
             ],
             [
              0.5555555555555556,
              "#d8576b"
             ],
             [
              0.6666666666666666,
              "#ed7953"
             ],
             [
              0.7777777777777778,
              "#fb9f3a"
             ],
             [
              0.8888888888888888,
              "#fdca26"
             ],
             [
              1,
              "#f0f921"
             ]
            ],
            "type": "surface"
           }
          ],
          "table": [
           {
            "cells": {
             "fill": {
              "color": "#EBF0F8"
             },
             "line": {
              "color": "white"
             }
            },
            "header": {
             "fill": {
              "color": "#C8D4E3"
             },
             "line": {
              "color": "white"
             }
            },
            "type": "table"
           }
          ]
         },
         "layout": {
          "annotationdefaults": {
           "arrowcolor": "#2a3f5f",
           "arrowhead": 0,
           "arrowwidth": 1
          },
          "autotypenumbers": "strict",
          "coloraxis": {
           "colorbar": {
            "outlinewidth": 0,
            "ticks": ""
           }
          },
          "colorscale": {
           "diverging": [
            [
             0,
             "#8e0152"
            ],
            [
             0.1,
             "#c51b7d"
            ],
            [
             0.2,
             "#de77ae"
            ],
            [
             0.3,
             "#f1b6da"
            ],
            [
             0.4,
             "#fde0ef"
            ],
            [
             0.5,
             "#f7f7f7"
            ],
            [
             0.6,
             "#e6f5d0"
            ],
            [
             0.7,
             "#b8e186"
            ],
            [
             0.8,
             "#7fbc41"
            ],
            [
             0.9,
             "#4d9221"
            ],
            [
             1,
             "#276419"
            ]
           ],
           "sequential": [
            [
             0,
             "#0d0887"
            ],
            [
             0.1111111111111111,
             "#46039f"
            ],
            [
             0.2222222222222222,
             "#7201a8"
            ],
            [
             0.3333333333333333,
             "#9c179e"
            ],
            [
             0.4444444444444444,
             "#bd3786"
            ],
            [
             0.5555555555555556,
             "#d8576b"
            ],
            [
             0.6666666666666666,
             "#ed7953"
            ],
            [
             0.7777777777777778,
             "#fb9f3a"
            ],
            [
             0.8888888888888888,
             "#fdca26"
            ],
            [
             1,
             "#f0f921"
            ]
           ],
           "sequentialminus": [
            [
             0,
             "#0d0887"
            ],
            [
             0.1111111111111111,
             "#46039f"
            ],
            [
             0.2222222222222222,
             "#7201a8"
            ],
            [
             0.3333333333333333,
             "#9c179e"
            ],
            [
             0.4444444444444444,
             "#bd3786"
            ],
            [
             0.5555555555555556,
             "#d8576b"
            ],
            [
             0.6666666666666666,
             "#ed7953"
            ],
            [
             0.7777777777777778,
             "#fb9f3a"
            ],
            [
             0.8888888888888888,
             "#fdca26"
            ],
            [
             1,
             "#f0f921"
            ]
           ]
          },
          "colorway": [
           "#636efa",
           "#EF553B",
           "#00cc96",
           "#ab63fa",
           "#FFA15A",
           "#19d3f3",
           "#FF6692",
           "#B6E880",
           "#FF97FF",
           "#FECB52"
          ],
          "font": {
           "color": "#2a3f5f"
          },
          "geo": {
           "bgcolor": "white",
           "lakecolor": "white",
           "landcolor": "#E5ECF6",
           "showlakes": true,
           "showland": true,
           "subunitcolor": "white"
          },
          "hoverlabel": {
           "align": "left"
          },
          "hovermode": "closest",
          "mapbox": {
           "style": "light"
          },
          "paper_bgcolor": "white",
          "plot_bgcolor": "#E5ECF6",
          "polar": {
           "angularaxis": {
            "gridcolor": "white",
            "linecolor": "white",
            "ticks": ""
           },
           "bgcolor": "#E5ECF6",
           "radialaxis": {
            "gridcolor": "white",
            "linecolor": "white",
            "ticks": ""
           }
          },
          "scene": {
           "xaxis": {
            "backgroundcolor": "#E5ECF6",
            "gridcolor": "white",
            "gridwidth": 2,
            "linecolor": "white",
            "showbackground": true,
            "ticks": "",
            "zerolinecolor": "white"
           },
           "yaxis": {
            "backgroundcolor": "#E5ECF6",
            "gridcolor": "white",
            "gridwidth": 2,
            "linecolor": "white",
            "showbackground": true,
            "ticks": "",
            "zerolinecolor": "white"
           },
           "zaxis": {
            "backgroundcolor": "#E5ECF6",
            "gridcolor": "white",
            "gridwidth": 2,
            "linecolor": "white",
            "showbackground": true,
            "ticks": "",
            "zerolinecolor": "white"
           }
          },
          "shapedefaults": {
           "line": {
            "color": "#2a3f5f"
           }
          },
          "ternary": {
           "aaxis": {
            "gridcolor": "white",
            "linecolor": "white",
            "ticks": ""
           },
           "baxis": {
            "gridcolor": "white",
            "linecolor": "white",
            "ticks": ""
           },
           "bgcolor": "#E5ECF6",
           "caxis": {
            "gridcolor": "white",
            "linecolor": "white",
            "ticks": ""
           }
          },
          "title": {
           "x": 0.05
          },
          "xaxis": {
           "automargin": true,
           "gridcolor": "white",
           "linecolor": "white",
           "ticks": "",
           "title": {
            "standoff": 15
           },
           "zerolinecolor": "white",
           "zerolinewidth": 2
          },
          "yaxis": {
           "automargin": true,
           "gridcolor": "white",
           "linecolor": "white",
           "ticks": "",
           "title": {
            "standoff": 15
           },
           "zerolinecolor": "white",
           "zerolinewidth": 2
          }
         }
        },
        "xaxis": {
         "anchor": "y",
         "domain": [
          0,
          1
         ],
         "title": {
          "text": "x"
         }
        },
        "yaxis": {
         "anchor": "x",
         "domain": [
          0,
          1
         ],
         "title": {
          "text": "y"
         }
        }
       }
      }
     },
     "metadata": {},
     "output_type": "display_data"
    }
   ],
   "source": [
    "# gráfico\n",
    "px.line(x=[1, 2, 3, 4, 5], y=[10, 20, 40, 30, 50])"
   ]
  },
  {
   "attachments": {},
   "cell_type": "markdown",
   "metadata": {},
   "source": [
    "### **Usando um dataframe**"
   ]
  },
  {
   "cell_type": "code",
   "execution_count": 3,
   "metadata": {},
   "outputs": [
    {
     "data": {
      "text/html": [
       "<div>\n",
       "<style scoped>\n",
       "    .dataframe tbody tr th:only-of-type {\n",
       "        vertical-align: middle;\n",
       "    }\n",
       "\n",
       "    .dataframe tbody tr th {\n",
       "        vertical-align: top;\n",
       "    }\n",
       "\n",
       "    .dataframe thead th {\n",
       "        text-align: right;\n",
       "    }\n",
       "</style>\n",
       "<table border=\"1\" class=\"dataframe\">\n",
       "  <thead>\n",
       "    <tr style=\"text-align: right;\">\n",
       "      <th></th>\n",
       "      <th>year</th>\n",
       "      <th>month</th>\n",
       "      <th>passengers</th>\n",
       "    </tr>\n",
       "  </thead>\n",
       "  <tbody>\n",
       "    <tr>\n",
       "      <th>0</th>\n",
       "      <td>1949</td>\n",
       "      <td>January</td>\n",
       "      <td>112</td>\n",
       "    </tr>\n",
       "    <tr>\n",
       "      <th>1</th>\n",
       "      <td>1949</td>\n",
       "      <td>February</td>\n",
       "      <td>118</td>\n",
       "    </tr>\n",
       "    <tr>\n",
       "      <th>2</th>\n",
       "      <td>1949</td>\n",
       "      <td>March</td>\n",
       "      <td>132</td>\n",
       "    </tr>\n",
       "    <tr>\n",
       "      <th>3</th>\n",
       "      <td>1949</td>\n",
       "      <td>April</td>\n",
       "      <td>129</td>\n",
       "    </tr>\n",
       "    <tr>\n",
       "      <th>4</th>\n",
       "      <td>1949</td>\n",
       "      <td>May</td>\n",
       "      <td>121</td>\n",
       "    </tr>\n",
       "  </tbody>\n",
       "</table>\n",
       "</div>"
      ],
      "text/plain": [
       "   year     month  passengers\n",
       "0  1949   January         112\n",
       "1  1949  February         118\n",
       "2  1949     March         132\n",
       "3  1949     April         129\n",
       "4  1949       May         121"
      ]
     },
     "execution_count": 3,
     "metadata": {},
     "output_type": "execute_result"
    }
   ],
   "source": [
    "# dado\n",
    "df = pd.read_csv('https://raw.githubusercontent.com/mwaskom/seaborn-data/master/flights.csv')\n",
    "df.head()"
   ]
  },
  {
   "cell_type": "code",
   "execution_count": 4,
   "metadata": {},
   "outputs": [
    {
     "data": {
      "text/html": [
       "<div>\n",
       "<style scoped>\n",
       "    .dataframe tbody tr th:only-of-type {\n",
       "        vertical-align: middle;\n",
       "    }\n",
       "\n",
       "    .dataframe tbody tr th {\n",
       "        vertical-align: top;\n",
       "    }\n",
       "\n",
       "    .dataframe thead th {\n",
       "        text-align: right;\n",
       "    }\n",
       "</style>\n",
       "<table border=\"1\" class=\"dataframe\">\n",
       "  <thead>\n",
       "    <tr style=\"text-align: right;\">\n",
       "      <th></th>\n",
       "      <th>month</th>\n",
       "      <th>year</th>\n",
       "      <th>passengers</th>\n",
       "    </tr>\n",
       "  </thead>\n",
       "  <tbody>\n",
       "    <tr>\n",
       "      <th>0</th>\n",
       "      <td>January</td>\n",
       "      <td>1954.5</td>\n",
       "      <td>241.750000</td>\n",
       "    </tr>\n",
       "    <tr>\n",
       "      <th>1</th>\n",
       "      <td>February</td>\n",
       "      <td>1954.5</td>\n",
       "      <td>235.000000</td>\n",
       "    </tr>\n",
       "    <tr>\n",
       "      <th>2</th>\n",
       "      <td>March</td>\n",
       "      <td>1954.5</td>\n",
       "      <td>270.166667</td>\n",
       "    </tr>\n",
       "    <tr>\n",
       "      <th>3</th>\n",
       "      <td>April</td>\n",
       "      <td>1954.5</td>\n",
       "      <td>267.083333</td>\n",
       "    </tr>\n",
       "    <tr>\n",
       "      <th>4</th>\n",
       "      <td>May</td>\n",
       "      <td>1954.5</td>\n",
       "      <td>271.833333</td>\n",
       "    </tr>\n",
       "  </tbody>\n",
       "</table>\n",
       "</div>"
      ],
      "text/plain": [
       "      month    year  passengers\n",
       "0   January  1954.5  241.750000\n",
       "1  February  1954.5  235.000000\n",
       "2     March  1954.5  270.166667\n",
       "3     April  1954.5  267.083333\n",
       "4       May  1954.5  271.833333"
      ]
     },
     "execution_count": 4,
     "metadata": {},
     "output_type": "execute_result"
    }
   ],
   "source": [
    "# a média dos meses \n",
    "df_agru_mes = df.groupby('month', sort=False).mean().reset_index()\n",
    "df_agru_mes.head()"
   ]
  },
  {
   "cell_type": "code",
   "execution_count": 5,
   "metadata": {},
   "outputs": [
    {
     "data": {
      "application/vnd.plotly.v1+json": {
       "config": {
        "plotlyServerURL": "https://plot.ly"
       },
       "data": [
        {
         "hovertemplate": "month=%{x}<br>passengers=%{y}<extra></extra>",
         "legendgroup": "",
         "line": {
          "color": "#636efa",
          "dash": "solid"
         },
         "marker": {
          "symbol": "circle"
         },
         "mode": "lines",
         "name": "",
         "orientation": "v",
         "showlegend": false,
         "type": "scatter",
         "x": [
          "January",
          "February",
          "March",
          "April",
          "May",
          "June",
          "July",
          "August",
          "September",
          "October",
          "November",
          "December"
         ],
         "xaxis": "x",
         "y": [
          241.75,
          235,
          270.1666666666667,
          267.0833333333333,
          271.8333333333333,
          311.6666666666667,
          351.3333333333333,
          351.0833333333333,
          302.4166666666667,
          266.5833333333333,
          232.83333333333334,
          261.8333333333333
         ],
         "yaxis": "y"
        }
       ],
       "layout": {
        "legend": {
         "tracegroupgap": 0
        },
        "margin": {
         "t": 60
        },
        "template": {
         "data": {
          "bar": [
           {
            "error_x": {
             "color": "#2a3f5f"
            },
            "error_y": {
             "color": "#2a3f5f"
            },
            "marker": {
             "line": {
              "color": "#E5ECF6",
              "width": 0.5
             },
             "pattern": {
              "fillmode": "overlay",
              "size": 10,
              "solidity": 0.2
             }
            },
            "type": "bar"
           }
          ],
          "barpolar": [
           {
            "marker": {
             "line": {
              "color": "#E5ECF6",
              "width": 0.5
             },
             "pattern": {
              "fillmode": "overlay",
              "size": 10,
              "solidity": 0.2
             }
            },
            "type": "barpolar"
           }
          ],
          "carpet": [
           {
            "aaxis": {
             "endlinecolor": "#2a3f5f",
             "gridcolor": "white",
             "linecolor": "white",
             "minorgridcolor": "white",
             "startlinecolor": "#2a3f5f"
            },
            "baxis": {
             "endlinecolor": "#2a3f5f",
             "gridcolor": "white",
             "linecolor": "white",
             "minorgridcolor": "white",
             "startlinecolor": "#2a3f5f"
            },
            "type": "carpet"
           }
          ],
          "choropleth": [
           {
            "colorbar": {
             "outlinewidth": 0,
             "ticks": ""
            },
            "type": "choropleth"
           }
          ],
          "contour": [
           {
            "colorbar": {
             "outlinewidth": 0,
             "ticks": ""
            },
            "colorscale": [
             [
              0,
              "#0d0887"
             ],
             [
              0.1111111111111111,
              "#46039f"
             ],
             [
              0.2222222222222222,
              "#7201a8"
             ],
             [
              0.3333333333333333,
              "#9c179e"
             ],
             [
              0.4444444444444444,
              "#bd3786"
             ],
             [
              0.5555555555555556,
              "#d8576b"
             ],
             [
              0.6666666666666666,
              "#ed7953"
             ],
             [
              0.7777777777777778,
              "#fb9f3a"
             ],
             [
              0.8888888888888888,
              "#fdca26"
             ],
             [
              1,
              "#f0f921"
             ]
            ],
            "type": "contour"
           }
          ],
          "contourcarpet": [
           {
            "colorbar": {
             "outlinewidth": 0,
             "ticks": ""
            },
            "type": "contourcarpet"
           }
          ],
          "heatmap": [
           {
            "colorbar": {
             "outlinewidth": 0,
             "ticks": ""
            },
            "colorscale": [
             [
              0,
              "#0d0887"
             ],
             [
              0.1111111111111111,
              "#46039f"
             ],
             [
              0.2222222222222222,
              "#7201a8"
             ],
             [
              0.3333333333333333,
              "#9c179e"
             ],
             [
              0.4444444444444444,
              "#bd3786"
             ],
             [
              0.5555555555555556,
              "#d8576b"
             ],
             [
              0.6666666666666666,
              "#ed7953"
             ],
             [
              0.7777777777777778,
              "#fb9f3a"
             ],
             [
              0.8888888888888888,
              "#fdca26"
             ],
             [
              1,
              "#f0f921"
             ]
            ],
            "type": "heatmap"
           }
          ],
          "heatmapgl": [
           {
            "colorbar": {
             "outlinewidth": 0,
             "ticks": ""
            },
            "colorscale": [
             [
              0,
              "#0d0887"
             ],
             [
              0.1111111111111111,
              "#46039f"
             ],
             [
              0.2222222222222222,
              "#7201a8"
             ],
             [
              0.3333333333333333,
              "#9c179e"
             ],
             [
              0.4444444444444444,
              "#bd3786"
             ],
             [
              0.5555555555555556,
              "#d8576b"
             ],
             [
              0.6666666666666666,
              "#ed7953"
             ],
             [
              0.7777777777777778,
              "#fb9f3a"
             ],
             [
              0.8888888888888888,
              "#fdca26"
             ],
             [
              1,
              "#f0f921"
             ]
            ],
            "type": "heatmapgl"
           }
          ],
          "histogram": [
           {
            "marker": {
             "pattern": {
              "fillmode": "overlay",
              "size": 10,
              "solidity": 0.2
             }
            },
            "type": "histogram"
           }
          ],
          "histogram2d": [
           {
            "colorbar": {
             "outlinewidth": 0,
             "ticks": ""
            },
            "colorscale": [
             [
              0,
              "#0d0887"
             ],
             [
              0.1111111111111111,
              "#46039f"
             ],
             [
              0.2222222222222222,
              "#7201a8"
             ],
             [
              0.3333333333333333,
              "#9c179e"
             ],
             [
              0.4444444444444444,
              "#bd3786"
             ],
             [
              0.5555555555555556,
              "#d8576b"
             ],
             [
              0.6666666666666666,
              "#ed7953"
             ],
             [
              0.7777777777777778,
              "#fb9f3a"
             ],
             [
              0.8888888888888888,
              "#fdca26"
             ],
             [
              1,
              "#f0f921"
             ]
            ],
            "type": "histogram2d"
           }
          ],
          "histogram2dcontour": [
           {
            "colorbar": {
             "outlinewidth": 0,
             "ticks": ""
            },
            "colorscale": [
             [
              0,
              "#0d0887"
             ],
             [
              0.1111111111111111,
              "#46039f"
             ],
             [
              0.2222222222222222,
              "#7201a8"
             ],
             [
              0.3333333333333333,
              "#9c179e"
             ],
             [
              0.4444444444444444,
              "#bd3786"
             ],
             [
              0.5555555555555556,
              "#d8576b"
             ],
             [
              0.6666666666666666,
              "#ed7953"
             ],
             [
              0.7777777777777778,
              "#fb9f3a"
             ],
             [
              0.8888888888888888,
              "#fdca26"
             ],
             [
              1,
              "#f0f921"
             ]
            ],
            "type": "histogram2dcontour"
           }
          ],
          "mesh3d": [
           {
            "colorbar": {
             "outlinewidth": 0,
             "ticks": ""
            },
            "type": "mesh3d"
           }
          ],
          "parcoords": [
           {
            "line": {
             "colorbar": {
              "outlinewidth": 0,
              "ticks": ""
             }
            },
            "type": "parcoords"
           }
          ],
          "pie": [
           {
            "automargin": true,
            "type": "pie"
           }
          ],
          "scatter": [
           {
            "fillpattern": {
             "fillmode": "overlay",
             "size": 10,
             "solidity": 0.2
            },
            "type": "scatter"
           }
          ],
          "scatter3d": [
           {
            "line": {
             "colorbar": {
              "outlinewidth": 0,
              "ticks": ""
             }
            },
            "marker": {
             "colorbar": {
              "outlinewidth": 0,
              "ticks": ""
             }
            },
            "type": "scatter3d"
           }
          ],
          "scattercarpet": [
           {
            "marker": {
             "colorbar": {
              "outlinewidth": 0,
              "ticks": ""
             }
            },
            "type": "scattercarpet"
           }
          ],
          "scattergeo": [
           {
            "marker": {
             "colorbar": {
              "outlinewidth": 0,
              "ticks": ""
             }
            },
            "type": "scattergeo"
           }
          ],
          "scattergl": [
           {
            "marker": {
             "colorbar": {
              "outlinewidth": 0,
              "ticks": ""
             }
            },
            "type": "scattergl"
           }
          ],
          "scattermapbox": [
           {
            "marker": {
             "colorbar": {
              "outlinewidth": 0,
              "ticks": ""
             }
            },
            "type": "scattermapbox"
           }
          ],
          "scatterpolar": [
           {
            "marker": {
             "colorbar": {
              "outlinewidth": 0,
              "ticks": ""
             }
            },
            "type": "scatterpolar"
           }
          ],
          "scatterpolargl": [
           {
            "marker": {
             "colorbar": {
              "outlinewidth": 0,
              "ticks": ""
             }
            },
            "type": "scatterpolargl"
           }
          ],
          "scatterternary": [
           {
            "marker": {
             "colorbar": {
              "outlinewidth": 0,
              "ticks": ""
             }
            },
            "type": "scatterternary"
           }
          ],
          "surface": [
           {
            "colorbar": {
             "outlinewidth": 0,
             "ticks": ""
            },
            "colorscale": [
             [
              0,
              "#0d0887"
             ],
             [
              0.1111111111111111,
              "#46039f"
             ],
             [
              0.2222222222222222,
              "#7201a8"
             ],
             [
              0.3333333333333333,
              "#9c179e"
             ],
             [
              0.4444444444444444,
              "#bd3786"
             ],
             [
              0.5555555555555556,
              "#d8576b"
             ],
             [
              0.6666666666666666,
              "#ed7953"
             ],
             [
              0.7777777777777778,
              "#fb9f3a"
             ],
             [
              0.8888888888888888,
              "#fdca26"
             ],
             [
              1,
              "#f0f921"
             ]
            ],
            "type": "surface"
           }
          ],
          "table": [
           {
            "cells": {
             "fill": {
              "color": "#EBF0F8"
             },
             "line": {
              "color": "white"
             }
            },
            "header": {
             "fill": {
              "color": "#C8D4E3"
             },
             "line": {
              "color": "white"
             }
            },
            "type": "table"
           }
          ]
         },
         "layout": {
          "annotationdefaults": {
           "arrowcolor": "#2a3f5f",
           "arrowhead": 0,
           "arrowwidth": 1
          },
          "autotypenumbers": "strict",
          "coloraxis": {
           "colorbar": {
            "outlinewidth": 0,
            "ticks": ""
           }
          },
          "colorscale": {
           "diverging": [
            [
             0,
             "#8e0152"
            ],
            [
             0.1,
             "#c51b7d"
            ],
            [
             0.2,
             "#de77ae"
            ],
            [
             0.3,
             "#f1b6da"
            ],
            [
             0.4,
             "#fde0ef"
            ],
            [
             0.5,
             "#f7f7f7"
            ],
            [
             0.6,
             "#e6f5d0"
            ],
            [
             0.7,
             "#b8e186"
            ],
            [
             0.8,
             "#7fbc41"
            ],
            [
             0.9,
             "#4d9221"
            ],
            [
             1,
             "#276419"
            ]
           ],
           "sequential": [
            [
             0,
             "#0d0887"
            ],
            [
             0.1111111111111111,
             "#46039f"
            ],
            [
             0.2222222222222222,
             "#7201a8"
            ],
            [
             0.3333333333333333,
             "#9c179e"
            ],
            [
             0.4444444444444444,
             "#bd3786"
            ],
            [
             0.5555555555555556,
             "#d8576b"
            ],
            [
             0.6666666666666666,
             "#ed7953"
            ],
            [
             0.7777777777777778,
             "#fb9f3a"
            ],
            [
             0.8888888888888888,
             "#fdca26"
            ],
            [
             1,
             "#f0f921"
            ]
           ],
           "sequentialminus": [
            [
             0,
             "#0d0887"
            ],
            [
             0.1111111111111111,
             "#46039f"
            ],
            [
             0.2222222222222222,
             "#7201a8"
            ],
            [
             0.3333333333333333,
             "#9c179e"
            ],
            [
             0.4444444444444444,
             "#bd3786"
            ],
            [
             0.5555555555555556,
             "#d8576b"
            ],
            [
             0.6666666666666666,
             "#ed7953"
            ],
            [
             0.7777777777777778,
             "#fb9f3a"
            ],
            [
             0.8888888888888888,
             "#fdca26"
            ],
            [
             1,
             "#f0f921"
            ]
           ]
          },
          "colorway": [
           "#636efa",
           "#EF553B",
           "#00cc96",
           "#ab63fa",
           "#FFA15A",
           "#19d3f3",
           "#FF6692",
           "#B6E880",
           "#FF97FF",
           "#FECB52"
          ],
          "font": {
           "color": "#2a3f5f"
          },
          "geo": {
           "bgcolor": "white",
           "lakecolor": "white",
           "landcolor": "#E5ECF6",
           "showlakes": true,
           "showland": true,
           "subunitcolor": "white"
          },
          "hoverlabel": {
           "align": "left"
          },
          "hovermode": "closest",
          "mapbox": {
           "style": "light"
          },
          "paper_bgcolor": "white",
          "plot_bgcolor": "#E5ECF6",
          "polar": {
           "angularaxis": {
            "gridcolor": "white",
            "linecolor": "white",
            "ticks": ""
           },
           "bgcolor": "#E5ECF6",
           "radialaxis": {
            "gridcolor": "white",
            "linecolor": "white",
            "ticks": ""
           }
          },
          "scene": {
           "xaxis": {
            "backgroundcolor": "#E5ECF6",
            "gridcolor": "white",
            "gridwidth": 2,
            "linecolor": "white",
            "showbackground": true,
            "ticks": "",
            "zerolinecolor": "white"
           },
           "yaxis": {
            "backgroundcolor": "#E5ECF6",
            "gridcolor": "white",
            "gridwidth": 2,
            "linecolor": "white",
            "showbackground": true,
            "ticks": "",
            "zerolinecolor": "white"
           },
           "zaxis": {
            "backgroundcolor": "#E5ECF6",
            "gridcolor": "white",
            "gridwidth": 2,
            "linecolor": "white",
            "showbackground": true,
            "ticks": "",
            "zerolinecolor": "white"
           }
          },
          "shapedefaults": {
           "line": {
            "color": "#2a3f5f"
           }
          },
          "ternary": {
           "aaxis": {
            "gridcolor": "white",
            "linecolor": "white",
            "ticks": ""
           },
           "baxis": {
            "gridcolor": "white",
            "linecolor": "white",
            "ticks": ""
           },
           "bgcolor": "#E5ECF6",
           "caxis": {
            "gridcolor": "white",
            "linecolor": "white",
            "ticks": ""
           }
          },
          "title": {
           "x": 0.05
          },
          "xaxis": {
           "automargin": true,
           "gridcolor": "white",
           "linecolor": "white",
           "ticks": "",
           "title": {
            "standoff": 15
           },
           "zerolinecolor": "white",
           "zerolinewidth": 2
          },
          "yaxis": {
           "automargin": true,
           "gridcolor": "white",
           "linecolor": "white",
           "ticks": "",
           "title": {
            "standoff": 15
           },
           "zerolinecolor": "white",
           "zerolinewidth": 2
          }
         }
        },
        "xaxis": {
         "anchor": "y",
         "domain": [
          0,
          1
         ],
         "title": {
          "text": "month"
         }
        },
        "yaxis": {
         "anchor": "x",
         "domain": [
          0,
          1
         ],
         "title": {
          "text": "passengers"
         }
        }
       }
      }
     },
     "metadata": {},
     "output_type": "display_data"
    }
   ],
   "source": [
    "# Gráficos\n",
    "px.line(df_agru_mes, x='month', y='passengers')"
   ]
  },
  {
   "cell_type": "code",
   "execution_count": 6,
   "metadata": {},
   "outputs": [
    {
     "data": {
      "application/vnd.plotly.v1+json": {
       "config": {
        "plotlyServerURL": "https://plot.ly"
       },
       "data": [
        {
         "hovertemplate": "year=1949<br>month=%{x}<br>passengers=%{y}<extra></extra>",
         "legendgroup": "1949",
         "line": {
          "color": "#636efa",
          "dash": "solid"
         },
         "marker": {
          "symbol": "circle"
         },
         "mode": "lines",
         "name": "1949",
         "orientation": "v",
         "showlegend": true,
         "type": "scatter",
         "x": [
          "January",
          "February",
          "March",
          "April",
          "May",
          "June",
          "July",
          "August",
          "September",
          "October",
          "November",
          "December"
         ],
         "xaxis": "x",
         "y": [
          112,
          118,
          132,
          129,
          121,
          135,
          148,
          148,
          136,
          119,
          104,
          118
         ],
         "yaxis": "y"
        },
        {
         "hovertemplate": "year=1950<br>month=%{x}<br>passengers=%{y}<extra></extra>",
         "legendgroup": "1950",
         "line": {
          "color": "#EF553B",
          "dash": "solid"
         },
         "marker": {
          "symbol": "circle"
         },
         "mode": "lines",
         "name": "1950",
         "orientation": "v",
         "showlegend": true,
         "type": "scatter",
         "x": [
          "January",
          "February",
          "March",
          "April",
          "May",
          "June",
          "July",
          "August",
          "September",
          "October",
          "November",
          "December"
         ],
         "xaxis": "x",
         "y": [
          115,
          126,
          141,
          135,
          125,
          149,
          170,
          170,
          158,
          133,
          114,
          140
         ],
         "yaxis": "y"
        },
        {
         "hovertemplate": "year=1951<br>month=%{x}<br>passengers=%{y}<extra></extra>",
         "legendgroup": "1951",
         "line": {
          "color": "#00cc96",
          "dash": "solid"
         },
         "marker": {
          "symbol": "circle"
         },
         "mode": "lines",
         "name": "1951",
         "orientation": "v",
         "showlegend": true,
         "type": "scatter",
         "x": [
          "January",
          "February",
          "March",
          "April",
          "May",
          "June",
          "July",
          "August",
          "September",
          "October",
          "November",
          "December"
         ],
         "xaxis": "x",
         "y": [
          145,
          150,
          178,
          163,
          172,
          178,
          199,
          199,
          184,
          162,
          146,
          166
         ],
         "yaxis": "y"
        },
        {
         "hovertemplate": "year=1952<br>month=%{x}<br>passengers=%{y}<extra></extra>",
         "legendgroup": "1952",
         "line": {
          "color": "#ab63fa",
          "dash": "solid"
         },
         "marker": {
          "symbol": "circle"
         },
         "mode": "lines",
         "name": "1952",
         "orientation": "v",
         "showlegend": true,
         "type": "scatter",
         "x": [
          "January",
          "February",
          "March",
          "April",
          "May",
          "June",
          "July",
          "August",
          "September",
          "October",
          "November",
          "December"
         ],
         "xaxis": "x",
         "y": [
          171,
          180,
          193,
          181,
          183,
          218,
          230,
          242,
          209,
          191,
          172,
          194
         ],
         "yaxis": "y"
        },
        {
         "hovertemplate": "year=1953<br>month=%{x}<br>passengers=%{y}<extra></extra>",
         "legendgroup": "1953",
         "line": {
          "color": "#FFA15A",
          "dash": "solid"
         },
         "marker": {
          "symbol": "circle"
         },
         "mode": "lines",
         "name": "1953",
         "orientation": "v",
         "showlegend": true,
         "type": "scatter",
         "x": [
          "January",
          "February",
          "March",
          "April",
          "May",
          "June",
          "July",
          "August",
          "September",
          "October",
          "November",
          "December"
         ],
         "xaxis": "x",
         "y": [
          196,
          196,
          236,
          235,
          229,
          243,
          264,
          272,
          237,
          211,
          180,
          201
         ],
         "yaxis": "y"
        },
        {
         "hovertemplate": "year=1954<br>month=%{x}<br>passengers=%{y}<extra></extra>",
         "legendgroup": "1954",
         "line": {
          "color": "#19d3f3",
          "dash": "solid"
         },
         "marker": {
          "symbol": "circle"
         },
         "mode": "lines",
         "name": "1954",
         "orientation": "v",
         "showlegend": true,
         "type": "scatter",
         "x": [
          "January",
          "February",
          "March",
          "April",
          "May",
          "June",
          "July",
          "August",
          "September",
          "October",
          "November",
          "December"
         ],
         "xaxis": "x",
         "y": [
          204,
          188,
          235,
          227,
          234,
          264,
          302,
          293,
          259,
          229,
          203,
          229
         ],
         "yaxis": "y"
        },
        {
         "hovertemplate": "year=1955<br>month=%{x}<br>passengers=%{y}<extra></extra>",
         "legendgroup": "1955",
         "line": {
          "color": "#FF6692",
          "dash": "solid"
         },
         "marker": {
          "symbol": "circle"
         },
         "mode": "lines",
         "name": "1955",
         "orientation": "v",
         "showlegend": true,
         "type": "scatter",
         "x": [
          "January",
          "February",
          "March",
          "April",
          "May",
          "June",
          "July",
          "August",
          "September",
          "October",
          "November",
          "December"
         ],
         "xaxis": "x",
         "y": [
          242,
          233,
          267,
          269,
          270,
          315,
          364,
          347,
          312,
          274,
          237,
          278
         ],
         "yaxis": "y"
        },
        {
         "hovertemplate": "year=1956<br>month=%{x}<br>passengers=%{y}<extra></extra>",
         "legendgroup": "1956",
         "line": {
          "color": "#B6E880",
          "dash": "solid"
         },
         "marker": {
          "symbol": "circle"
         },
         "mode": "lines",
         "name": "1956",
         "orientation": "v",
         "showlegend": true,
         "type": "scatter",
         "x": [
          "January",
          "February",
          "March",
          "April",
          "May",
          "June",
          "July",
          "August",
          "September",
          "October",
          "November",
          "December"
         ],
         "xaxis": "x",
         "y": [
          284,
          277,
          317,
          313,
          318,
          374,
          413,
          405,
          355,
          306,
          271,
          306
         ],
         "yaxis": "y"
        },
        {
         "hovertemplate": "year=1957<br>month=%{x}<br>passengers=%{y}<extra></extra>",
         "legendgroup": "1957",
         "line": {
          "color": "#FF97FF",
          "dash": "solid"
         },
         "marker": {
          "symbol": "circle"
         },
         "mode": "lines",
         "name": "1957",
         "orientation": "v",
         "showlegend": true,
         "type": "scatter",
         "x": [
          "January",
          "February",
          "March",
          "April",
          "May",
          "June",
          "July",
          "August",
          "September",
          "October",
          "November",
          "December"
         ],
         "xaxis": "x",
         "y": [
          315,
          301,
          356,
          348,
          355,
          422,
          465,
          467,
          404,
          347,
          305,
          336
         ],
         "yaxis": "y"
        },
        {
         "hovertemplate": "year=1958<br>month=%{x}<br>passengers=%{y}<extra></extra>",
         "legendgroup": "1958",
         "line": {
          "color": "#FECB52",
          "dash": "solid"
         },
         "marker": {
          "symbol": "circle"
         },
         "mode": "lines",
         "name": "1958",
         "orientation": "v",
         "showlegend": true,
         "type": "scatter",
         "x": [
          "January",
          "February",
          "March",
          "April",
          "May",
          "June",
          "July",
          "August",
          "September",
          "October",
          "November",
          "December"
         ],
         "xaxis": "x",
         "y": [
          340,
          318,
          362,
          348,
          363,
          435,
          491,
          505,
          404,
          359,
          310,
          337
         ],
         "yaxis": "y"
        },
        {
         "hovertemplate": "year=1959<br>month=%{x}<br>passengers=%{y}<extra></extra>",
         "legendgroup": "1959",
         "line": {
          "color": "#636efa",
          "dash": "solid"
         },
         "marker": {
          "symbol": "circle"
         },
         "mode": "lines",
         "name": "1959",
         "orientation": "v",
         "showlegend": true,
         "type": "scatter",
         "x": [
          "January",
          "February",
          "March",
          "April",
          "May",
          "June",
          "July",
          "August",
          "September",
          "October",
          "November",
          "December"
         ],
         "xaxis": "x",
         "y": [
          360,
          342,
          406,
          396,
          420,
          472,
          548,
          559,
          463,
          407,
          362,
          405
         ],
         "yaxis": "y"
        },
        {
         "hovertemplate": "year=1960<br>month=%{x}<br>passengers=%{y}<extra></extra>",
         "legendgroup": "1960",
         "line": {
          "color": "#EF553B",
          "dash": "solid"
         },
         "marker": {
          "symbol": "circle"
         },
         "mode": "lines",
         "name": "1960",
         "orientation": "v",
         "showlegend": true,
         "type": "scatter",
         "x": [
          "January",
          "February",
          "March",
          "April",
          "May",
          "June",
          "July",
          "August",
          "September",
          "October",
          "November",
          "December"
         ],
         "xaxis": "x",
         "y": [
          417,
          391,
          419,
          461,
          472,
          535,
          622,
          606,
          508,
          461,
          390,
          432
         ],
         "yaxis": "y"
        }
       ],
       "layout": {
        "legend": {
         "title": {
          "text": "year"
         },
         "tracegroupgap": 0
        },
        "margin": {
         "t": 60
        },
        "template": {
         "data": {
          "bar": [
           {
            "error_x": {
             "color": "#2a3f5f"
            },
            "error_y": {
             "color": "#2a3f5f"
            },
            "marker": {
             "line": {
              "color": "#E5ECF6",
              "width": 0.5
             },
             "pattern": {
              "fillmode": "overlay",
              "size": 10,
              "solidity": 0.2
             }
            },
            "type": "bar"
           }
          ],
          "barpolar": [
           {
            "marker": {
             "line": {
              "color": "#E5ECF6",
              "width": 0.5
             },
             "pattern": {
              "fillmode": "overlay",
              "size": 10,
              "solidity": 0.2
             }
            },
            "type": "barpolar"
           }
          ],
          "carpet": [
           {
            "aaxis": {
             "endlinecolor": "#2a3f5f",
             "gridcolor": "white",
             "linecolor": "white",
             "minorgridcolor": "white",
             "startlinecolor": "#2a3f5f"
            },
            "baxis": {
             "endlinecolor": "#2a3f5f",
             "gridcolor": "white",
             "linecolor": "white",
             "minorgridcolor": "white",
             "startlinecolor": "#2a3f5f"
            },
            "type": "carpet"
           }
          ],
          "choropleth": [
           {
            "colorbar": {
             "outlinewidth": 0,
             "ticks": ""
            },
            "type": "choropleth"
           }
          ],
          "contour": [
           {
            "colorbar": {
             "outlinewidth": 0,
             "ticks": ""
            },
            "colorscale": [
             [
              0,
              "#0d0887"
             ],
             [
              0.1111111111111111,
              "#46039f"
             ],
             [
              0.2222222222222222,
              "#7201a8"
             ],
             [
              0.3333333333333333,
              "#9c179e"
             ],
             [
              0.4444444444444444,
              "#bd3786"
             ],
             [
              0.5555555555555556,
              "#d8576b"
             ],
             [
              0.6666666666666666,
              "#ed7953"
             ],
             [
              0.7777777777777778,
              "#fb9f3a"
             ],
             [
              0.8888888888888888,
              "#fdca26"
             ],
             [
              1,
              "#f0f921"
             ]
            ],
            "type": "contour"
           }
          ],
          "contourcarpet": [
           {
            "colorbar": {
             "outlinewidth": 0,
             "ticks": ""
            },
            "type": "contourcarpet"
           }
          ],
          "heatmap": [
           {
            "colorbar": {
             "outlinewidth": 0,
             "ticks": ""
            },
            "colorscale": [
             [
              0,
              "#0d0887"
             ],
             [
              0.1111111111111111,
              "#46039f"
             ],
             [
              0.2222222222222222,
              "#7201a8"
             ],
             [
              0.3333333333333333,
              "#9c179e"
             ],
             [
              0.4444444444444444,
              "#bd3786"
             ],
             [
              0.5555555555555556,
              "#d8576b"
             ],
             [
              0.6666666666666666,
              "#ed7953"
             ],
             [
              0.7777777777777778,
              "#fb9f3a"
             ],
             [
              0.8888888888888888,
              "#fdca26"
             ],
             [
              1,
              "#f0f921"
             ]
            ],
            "type": "heatmap"
           }
          ],
          "heatmapgl": [
           {
            "colorbar": {
             "outlinewidth": 0,
             "ticks": ""
            },
            "colorscale": [
             [
              0,
              "#0d0887"
             ],
             [
              0.1111111111111111,
              "#46039f"
             ],
             [
              0.2222222222222222,
              "#7201a8"
             ],
             [
              0.3333333333333333,
              "#9c179e"
             ],
             [
              0.4444444444444444,
              "#bd3786"
             ],
             [
              0.5555555555555556,
              "#d8576b"
             ],
             [
              0.6666666666666666,
              "#ed7953"
             ],
             [
              0.7777777777777778,
              "#fb9f3a"
             ],
             [
              0.8888888888888888,
              "#fdca26"
             ],
             [
              1,
              "#f0f921"
             ]
            ],
            "type": "heatmapgl"
           }
          ],
          "histogram": [
           {
            "marker": {
             "pattern": {
              "fillmode": "overlay",
              "size": 10,
              "solidity": 0.2
             }
            },
            "type": "histogram"
           }
          ],
          "histogram2d": [
           {
            "colorbar": {
             "outlinewidth": 0,
             "ticks": ""
            },
            "colorscale": [
             [
              0,
              "#0d0887"
             ],
             [
              0.1111111111111111,
              "#46039f"
             ],
             [
              0.2222222222222222,
              "#7201a8"
             ],
             [
              0.3333333333333333,
              "#9c179e"
             ],
             [
              0.4444444444444444,
              "#bd3786"
             ],
             [
              0.5555555555555556,
              "#d8576b"
             ],
             [
              0.6666666666666666,
              "#ed7953"
             ],
             [
              0.7777777777777778,
              "#fb9f3a"
             ],
             [
              0.8888888888888888,
              "#fdca26"
             ],
             [
              1,
              "#f0f921"
             ]
            ],
            "type": "histogram2d"
           }
          ],
          "histogram2dcontour": [
           {
            "colorbar": {
             "outlinewidth": 0,
             "ticks": ""
            },
            "colorscale": [
             [
              0,
              "#0d0887"
             ],
             [
              0.1111111111111111,
              "#46039f"
             ],
             [
              0.2222222222222222,
              "#7201a8"
             ],
             [
              0.3333333333333333,
              "#9c179e"
             ],
             [
              0.4444444444444444,
              "#bd3786"
             ],
             [
              0.5555555555555556,
              "#d8576b"
             ],
             [
              0.6666666666666666,
              "#ed7953"
             ],
             [
              0.7777777777777778,
              "#fb9f3a"
             ],
             [
              0.8888888888888888,
              "#fdca26"
             ],
             [
              1,
              "#f0f921"
             ]
            ],
            "type": "histogram2dcontour"
           }
          ],
          "mesh3d": [
           {
            "colorbar": {
             "outlinewidth": 0,
             "ticks": ""
            },
            "type": "mesh3d"
           }
          ],
          "parcoords": [
           {
            "line": {
             "colorbar": {
              "outlinewidth": 0,
              "ticks": ""
             }
            },
            "type": "parcoords"
           }
          ],
          "pie": [
           {
            "automargin": true,
            "type": "pie"
           }
          ],
          "scatter": [
           {
            "fillpattern": {
             "fillmode": "overlay",
             "size": 10,
             "solidity": 0.2
            },
            "type": "scatter"
           }
          ],
          "scatter3d": [
           {
            "line": {
             "colorbar": {
              "outlinewidth": 0,
              "ticks": ""
             }
            },
            "marker": {
             "colorbar": {
              "outlinewidth": 0,
              "ticks": ""
             }
            },
            "type": "scatter3d"
           }
          ],
          "scattercarpet": [
           {
            "marker": {
             "colorbar": {
              "outlinewidth": 0,
              "ticks": ""
             }
            },
            "type": "scattercarpet"
           }
          ],
          "scattergeo": [
           {
            "marker": {
             "colorbar": {
              "outlinewidth": 0,
              "ticks": ""
             }
            },
            "type": "scattergeo"
           }
          ],
          "scattergl": [
           {
            "marker": {
             "colorbar": {
              "outlinewidth": 0,
              "ticks": ""
             }
            },
            "type": "scattergl"
           }
          ],
          "scattermapbox": [
           {
            "marker": {
             "colorbar": {
              "outlinewidth": 0,
              "ticks": ""
             }
            },
            "type": "scattermapbox"
           }
          ],
          "scatterpolar": [
           {
            "marker": {
             "colorbar": {
              "outlinewidth": 0,
              "ticks": ""
             }
            },
            "type": "scatterpolar"
           }
          ],
          "scatterpolargl": [
           {
            "marker": {
             "colorbar": {
              "outlinewidth": 0,
              "ticks": ""
             }
            },
            "type": "scatterpolargl"
           }
          ],
          "scatterternary": [
           {
            "marker": {
             "colorbar": {
              "outlinewidth": 0,
              "ticks": ""
             }
            },
            "type": "scatterternary"
           }
          ],
          "surface": [
           {
            "colorbar": {
             "outlinewidth": 0,
             "ticks": ""
            },
            "colorscale": [
             [
              0,
              "#0d0887"
             ],
             [
              0.1111111111111111,
              "#46039f"
             ],
             [
              0.2222222222222222,
              "#7201a8"
             ],
             [
              0.3333333333333333,
              "#9c179e"
             ],
             [
              0.4444444444444444,
              "#bd3786"
             ],
             [
              0.5555555555555556,
              "#d8576b"
             ],
             [
              0.6666666666666666,
              "#ed7953"
             ],
             [
              0.7777777777777778,
              "#fb9f3a"
             ],
             [
              0.8888888888888888,
              "#fdca26"
             ],
             [
              1,
              "#f0f921"
             ]
            ],
            "type": "surface"
           }
          ],
          "table": [
           {
            "cells": {
             "fill": {
              "color": "#EBF0F8"
             },
             "line": {
              "color": "white"
             }
            },
            "header": {
             "fill": {
              "color": "#C8D4E3"
             },
             "line": {
              "color": "white"
             }
            },
            "type": "table"
           }
          ]
         },
         "layout": {
          "annotationdefaults": {
           "arrowcolor": "#2a3f5f",
           "arrowhead": 0,
           "arrowwidth": 1
          },
          "autotypenumbers": "strict",
          "coloraxis": {
           "colorbar": {
            "outlinewidth": 0,
            "ticks": ""
           }
          },
          "colorscale": {
           "diverging": [
            [
             0,
             "#8e0152"
            ],
            [
             0.1,
             "#c51b7d"
            ],
            [
             0.2,
             "#de77ae"
            ],
            [
             0.3,
             "#f1b6da"
            ],
            [
             0.4,
             "#fde0ef"
            ],
            [
             0.5,
             "#f7f7f7"
            ],
            [
             0.6,
             "#e6f5d0"
            ],
            [
             0.7,
             "#b8e186"
            ],
            [
             0.8,
             "#7fbc41"
            ],
            [
             0.9,
             "#4d9221"
            ],
            [
             1,
             "#276419"
            ]
           ],
           "sequential": [
            [
             0,
             "#0d0887"
            ],
            [
             0.1111111111111111,
             "#46039f"
            ],
            [
             0.2222222222222222,
             "#7201a8"
            ],
            [
             0.3333333333333333,
             "#9c179e"
            ],
            [
             0.4444444444444444,
             "#bd3786"
            ],
            [
             0.5555555555555556,
             "#d8576b"
            ],
            [
             0.6666666666666666,
             "#ed7953"
            ],
            [
             0.7777777777777778,
             "#fb9f3a"
            ],
            [
             0.8888888888888888,
             "#fdca26"
            ],
            [
             1,
             "#f0f921"
            ]
           ],
           "sequentialminus": [
            [
             0,
             "#0d0887"
            ],
            [
             0.1111111111111111,
             "#46039f"
            ],
            [
             0.2222222222222222,
             "#7201a8"
            ],
            [
             0.3333333333333333,
             "#9c179e"
            ],
            [
             0.4444444444444444,
             "#bd3786"
            ],
            [
             0.5555555555555556,
             "#d8576b"
            ],
            [
             0.6666666666666666,
             "#ed7953"
            ],
            [
             0.7777777777777778,
             "#fb9f3a"
            ],
            [
             0.8888888888888888,
             "#fdca26"
            ],
            [
             1,
             "#f0f921"
            ]
           ]
          },
          "colorway": [
           "#636efa",
           "#EF553B",
           "#00cc96",
           "#ab63fa",
           "#FFA15A",
           "#19d3f3",
           "#FF6692",
           "#B6E880",
           "#FF97FF",
           "#FECB52"
          ],
          "font": {
           "color": "#2a3f5f"
          },
          "geo": {
           "bgcolor": "white",
           "lakecolor": "white",
           "landcolor": "#E5ECF6",
           "showlakes": true,
           "showland": true,
           "subunitcolor": "white"
          },
          "hoverlabel": {
           "align": "left"
          },
          "hovermode": "closest",
          "mapbox": {
           "style": "light"
          },
          "paper_bgcolor": "white",
          "plot_bgcolor": "#E5ECF6",
          "polar": {
           "angularaxis": {
            "gridcolor": "white",
            "linecolor": "white",
            "ticks": ""
           },
           "bgcolor": "#E5ECF6",
           "radialaxis": {
            "gridcolor": "white",
            "linecolor": "white",
            "ticks": ""
           }
          },
          "scene": {
           "xaxis": {
            "backgroundcolor": "#E5ECF6",
            "gridcolor": "white",
            "gridwidth": 2,
            "linecolor": "white",
            "showbackground": true,
            "ticks": "",
            "zerolinecolor": "white"
           },
           "yaxis": {
            "backgroundcolor": "#E5ECF6",
            "gridcolor": "white",
            "gridwidth": 2,
            "linecolor": "white",
            "showbackground": true,
            "ticks": "",
            "zerolinecolor": "white"
           },
           "zaxis": {
            "backgroundcolor": "#E5ECF6",
            "gridcolor": "white",
            "gridwidth": 2,
            "linecolor": "white",
            "showbackground": true,
            "ticks": "",
            "zerolinecolor": "white"
           }
          },
          "shapedefaults": {
           "line": {
            "color": "#2a3f5f"
           }
          },
          "ternary": {
           "aaxis": {
            "gridcolor": "white",
            "linecolor": "white",
            "ticks": ""
           },
           "baxis": {
            "gridcolor": "white",
            "linecolor": "white",
            "ticks": ""
           },
           "bgcolor": "#E5ECF6",
           "caxis": {
            "gridcolor": "white",
            "linecolor": "white",
            "ticks": ""
           }
          },
          "title": {
           "x": 0.05
          },
          "xaxis": {
           "automargin": true,
           "gridcolor": "white",
           "linecolor": "white",
           "ticks": "",
           "title": {
            "standoff": 15
           },
           "zerolinecolor": "white",
           "zerolinewidth": 2
          },
          "yaxis": {
           "automargin": true,
           "gridcolor": "white",
           "linecolor": "white",
           "ticks": "",
           "title": {
            "standoff": 15
           },
           "zerolinecolor": "white",
           "zerolinewidth": 2
          }
         }
        },
        "xaxis": {
         "anchor": "y",
         "domain": [
          0,
          1
         ],
         "title": {
          "text": "month"
         }
        },
        "yaxis": {
         "anchor": "x",
         "domain": [
          0,
          1
         ],
         "title": {
          "text": "passengers"
         }
        }
       }
      }
     },
     "metadata": {},
     "output_type": "display_data"
    }
   ],
   "source": [
    "px.line(df, x='month', y='passengers', color='year')"
   ]
  },
  {
   "attachments": {},
   "cell_type": "markdown",
   "metadata": {},
   "source": [
    "# Gráficos: Barras, Dispersão e Pizza"
   ]
  },
  {
   "attachments": {},
   "cell_type": "markdown",
   "metadata": {},
   "source": [
    "### Base de Dados "
   ]
  },
  {
   "cell_type": "code",
   "execution_count": 7,
   "metadata": {},
   "outputs": [
    {
     "data": {
      "text/html": [
       "<div>\n",
       "<style scoped>\n",
       "    .dataframe tbody tr th:only-of-type {\n",
       "        vertical-align: middle;\n",
       "    }\n",
       "\n",
       "    .dataframe tbody tr th {\n",
       "        vertical-align: top;\n",
       "    }\n",
       "\n",
       "    .dataframe thead th {\n",
       "        text-align: right;\n",
       "    }\n",
       "</style>\n",
       "<table border=\"1\" class=\"dataframe\">\n",
       "  <thead>\n",
       "    <tr style=\"text-align: right;\">\n",
       "      <th></th>\n",
       "      <th>total_bill</th>\n",
       "      <th>tip</th>\n",
       "      <th>sex</th>\n",
       "      <th>smoker</th>\n",
       "      <th>day</th>\n",
       "      <th>time</th>\n",
       "      <th>size</th>\n",
       "    </tr>\n",
       "  </thead>\n",
       "  <tbody>\n",
       "    <tr>\n",
       "      <th>0</th>\n",
       "      <td>16.99</td>\n",
       "      <td>1.01</td>\n",
       "      <td>Female</td>\n",
       "      <td>No</td>\n",
       "      <td>Sun</td>\n",
       "      <td>Dinner</td>\n",
       "      <td>2</td>\n",
       "    </tr>\n",
       "    <tr>\n",
       "      <th>1</th>\n",
       "      <td>10.34</td>\n",
       "      <td>1.66</td>\n",
       "      <td>Male</td>\n",
       "      <td>No</td>\n",
       "      <td>Sun</td>\n",
       "      <td>Dinner</td>\n",
       "      <td>3</td>\n",
       "    </tr>\n",
       "    <tr>\n",
       "      <th>2</th>\n",
       "      <td>21.01</td>\n",
       "      <td>3.50</td>\n",
       "      <td>Male</td>\n",
       "      <td>No</td>\n",
       "      <td>Sun</td>\n",
       "      <td>Dinner</td>\n",
       "      <td>3</td>\n",
       "    </tr>\n",
       "    <tr>\n",
       "      <th>3</th>\n",
       "      <td>23.68</td>\n",
       "      <td>3.31</td>\n",
       "      <td>Male</td>\n",
       "      <td>No</td>\n",
       "      <td>Sun</td>\n",
       "      <td>Dinner</td>\n",
       "      <td>2</td>\n",
       "    </tr>\n",
       "    <tr>\n",
       "      <th>4</th>\n",
       "      <td>24.59</td>\n",
       "      <td>3.61</td>\n",
       "      <td>Female</td>\n",
       "      <td>No</td>\n",
       "      <td>Sun</td>\n",
       "      <td>Dinner</td>\n",
       "      <td>4</td>\n",
       "    </tr>\n",
       "  </tbody>\n",
       "</table>\n",
       "</div>"
      ],
      "text/plain": [
       "   total_bill   tip     sex smoker  day    time  size\n",
       "0       16.99  1.01  Female     No  Sun  Dinner     2\n",
       "1       10.34  1.66    Male     No  Sun  Dinner     3\n",
       "2       21.01  3.50    Male     No  Sun  Dinner     3\n",
       "3       23.68  3.31    Male     No  Sun  Dinner     2\n",
       "4       24.59  3.61  Female     No  Sun  Dinner     4"
      ]
     },
     "execution_count": 7,
     "metadata": {},
     "output_type": "execute_result"
    }
   ],
   "source": [
    "# dados \n",
    "df = pd.read_csv('https://raw.githubusercontent.com/mwaskom/seaborn-data/master/tips.csv')\n",
    "df.head()"
   ]
  },
  {
   "attachments": {},
   "cell_type": "markdown",
   "metadata": {},
   "source": [
    "### Gráficos de Barras"
   ]
  },
  {
   "cell_type": "code",
   "execution_count": 8,
   "metadata": {},
   "outputs": [
    {
     "data": {
      "text/html": [
       "<div>\n",
       "<style scoped>\n",
       "    .dataframe tbody tr th:only-of-type {\n",
       "        vertical-align: middle;\n",
       "    }\n",
       "\n",
       "    .dataframe tbody tr th {\n",
       "        vertical-align: top;\n",
       "    }\n",
       "\n",
       "    .dataframe thead th {\n",
       "        text-align: right;\n",
       "    }\n",
       "</style>\n",
       "<table border=\"1\" class=\"dataframe\">\n",
       "  <thead>\n",
       "    <tr style=\"text-align: right;\">\n",
       "      <th></th>\n",
       "      <th>day</th>\n",
       "      <th>total_bill</th>\n",
       "    </tr>\n",
       "  </thead>\n",
       "  <tbody>\n",
       "    <tr>\n",
       "      <th>0</th>\n",
       "      <td>Sun</td>\n",
       "      <td>1627.16</td>\n",
       "    </tr>\n",
       "    <tr>\n",
       "      <th>1</th>\n",
       "      <td>Sat</td>\n",
       "      <td>1778.40</td>\n",
       "    </tr>\n",
       "    <tr>\n",
       "      <th>2</th>\n",
       "      <td>Thur</td>\n",
       "      <td>1096.33</td>\n",
       "    </tr>\n",
       "    <tr>\n",
       "      <th>3</th>\n",
       "      <td>Fri</td>\n",
       "      <td>325.88</td>\n",
       "    </tr>\n",
       "  </tbody>\n",
       "</table>\n",
       "</div>"
      ],
      "text/plain": [
       "    day  total_bill\n",
       "0   Sun     1627.16\n",
       "1   Sat     1778.40\n",
       "2  Thur     1096.33\n",
       "3   Fri      325.88"
      ]
     },
     "execution_count": 8,
     "metadata": {},
     "output_type": "execute_result"
    }
   ],
   "source": [
    "# Agrupando \n",
    "adrupado_dia = df.groupby('day', sort=False).agg({'total_bill': np.sum}).reset_index()\n",
    "adrupado_dia"
   ]
  },
  {
   "cell_type": "code",
   "execution_count": 9,
   "metadata": {},
   "outputs": [
    {
     "data": {
      "application/vnd.plotly.v1+json": {
       "config": {
        "plotlyServerURL": "https://plot.ly"
       },
       "data": [
        {
         "alignmentgroup": "True",
         "hovertemplate": "day=%{x}<br>total_bill=%{y}<extra></extra>",
         "legendgroup": "",
         "marker": {
          "color": "#636efa",
          "pattern": {
           "shape": ""
          }
         },
         "name": "",
         "offsetgroup": "",
         "orientation": "v",
         "showlegend": false,
         "textposition": "auto",
         "type": "bar",
         "x": [
          "Sun",
          "Sat",
          "Thur",
          "Fri"
         ],
         "xaxis": "x",
         "y": [
          1627.16,
          1778.4,
          1096.33,
          325.88
         ],
         "yaxis": "y"
        }
       ],
       "layout": {
        "barmode": "relative",
        "legend": {
         "tracegroupgap": 0
        },
        "margin": {
         "t": 60
        },
        "template": {
         "data": {
          "bar": [
           {
            "error_x": {
             "color": "#2a3f5f"
            },
            "error_y": {
             "color": "#2a3f5f"
            },
            "marker": {
             "line": {
              "color": "#E5ECF6",
              "width": 0.5
             },
             "pattern": {
              "fillmode": "overlay",
              "size": 10,
              "solidity": 0.2
             }
            },
            "type": "bar"
           }
          ],
          "barpolar": [
           {
            "marker": {
             "line": {
              "color": "#E5ECF6",
              "width": 0.5
             },
             "pattern": {
              "fillmode": "overlay",
              "size": 10,
              "solidity": 0.2
             }
            },
            "type": "barpolar"
           }
          ],
          "carpet": [
           {
            "aaxis": {
             "endlinecolor": "#2a3f5f",
             "gridcolor": "white",
             "linecolor": "white",
             "minorgridcolor": "white",
             "startlinecolor": "#2a3f5f"
            },
            "baxis": {
             "endlinecolor": "#2a3f5f",
             "gridcolor": "white",
             "linecolor": "white",
             "minorgridcolor": "white",
             "startlinecolor": "#2a3f5f"
            },
            "type": "carpet"
           }
          ],
          "choropleth": [
           {
            "colorbar": {
             "outlinewidth": 0,
             "ticks": ""
            },
            "type": "choropleth"
           }
          ],
          "contour": [
           {
            "colorbar": {
             "outlinewidth": 0,
             "ticks": ""
            },
            "colorscale": [
             [
              0,
              "#0d0887"
             ],
             [
              0.1111111111111111,
              "#46039f"
             ],
             [
              0.2222222222222222,
              "#7201a8"
             ],
             [
              0.3333333333333333,
              "#9c179e"
             ],
             [
              0.4444444444444444,
              "#bd3786"
             ],
             [
              0.5555555555555556,
              "#d8576b"
             ],
             [
              0.6666666666666666,
              "#ed7953"
             ],
             [
              0.7777777777777778,
              "#fb9f3a"
             ],
             [
              0.8888888888888888,
              "#fdca26"
             ],
             [
              1,
              "#f0f921"
             ]
            ],
            "type": "contour"
           }
          ],
          "contourcarpet": [
           {
            "colorbar": {
             "outlinewidth": 0,
             "ticks": ""
            },
            "type": "contourcarpet"
           }
          ],
          "heatmap": [
           {
            "colorbar": {
             "outlinewidth": 0,
             "ticks": ""
            },
            "colorscale": [
             [
              0,
              "#0d0887"
             ],
             [
              0.1111111111111111,
              "#46039f"
             ],
             [
              0.2222222222222222,
              "#7201a8"
             ],
             [
              0.3333333333333333,
              "#9c179e"
             ],
             [
              0.4444444444444444,
              "#bd3786"
             ],
             [
              0.5555555555555556,
              "#d8576b"
             ],
             [
              0.6666666666666666,
              "#ed7953"
             ],
             [
              0.7777777777777778,
              "#fb9f3a"
             ],
             [
              0.8888888888888888,
              "#fdca26"
             ],
             [
              1,
              "#f0f921"
             ]
            ],
            "type": "heatmap"
           }
          ],
          "heatmapgl": [
           {
            "colorbar": {
             "outlinewidth": 0,
             "ticks": ""
            },
            "colorscale": [
             [
              0,
              "#0d0887"
             ],
             [
              0.1111111111111111,
              "#46039f"
             ],
             [
              0.2222222222222222,
              "#7201a8"
             ],
             [
              0.3333333333333333,
              "#9c179e"
             ],
             [
              0.4444444444444444,
              "#bd3786"
             ],
             [
              0.5555555555555556,
              "#d8576b"
             ],
             [
              0.6666666666666666,
              "#ed7953"
             ],
             [
              0.7777777777777778,
              "#fb9f3a"
             ],
             [
              0.8888888888888888,
              "#fdca26"
             ],
             [
              1,
              "#f0f921"
             ]
            ],
            "type": "heatmapgl"
           }
          ],
          "histogram": [
           {
            "marker": {
             "pattern": {
              "fillmode": "overlay",
              "size": 10,
              "solidity": 0.2
             }
            },
            "type": "histogram"
           }
          ],
          "histogram2d": [
           {
            "colorbar": {
             "outlinewidth": 0,
             "ticks": ""
            },
            "colorscale": [
             [
              0,
              "#0d0887"
             ],
             [
              0.1111111111111111,
              "#46039f"
             ],
             [
              0.2222222222222222,
              "#7201a8"
             ],
             [
              0.3333333333333333,
              "#9c179e"
             ],
             [
              0.4444444444444444,
              "#bd3786"
             ],
             [
              0.5555555555555556,
              "#d8576b"
             ],
             [
              0.6666666666666666,
              "#ed7953"
             ],
             [
              0.7777777777777778,
              "#fb9f3a"
             ],
             [
              0.8888888888888888,
              "#fdca26"
             ],
             [
              1,
              "#f0f921"
             ]
            ],
            "type": "histogram2d"
           }
          ],
          "histogram2dcontour": [
           {
            "colorbar": {
             "outlinewidth": 0,
             "ticks": ""
            },
            "colorscale": [
             [
              0,
              "#0d0887"
             ],
             [
              0.1111111111111111,
              "#46039f"
             ],
             [
              0.2222222222222222,
              "#7201a8"
             ],
             [
              0.3333333333333333,
              "#9c179e"
             ],
             [
              0.4444444444444444,
              "#bd3786"
             ],
             [
              0.5555555555555556,
              "#d8576b"
             ],
             [
              0.6666666666666666,
              "#ed7953"
             ],
             [
              0.7777777777777778,
              "#fb9f3a"
             ],
             [
              0.8888888888888888,
              "#fdca26"
             ],
             [
              1,
              "#f0f921"
             ]
            ],
            "type": "histogram2dcontour"
           }
          ],
          "mesh3d": [
           {
            "colorbar": {
             "outlinewidth": 0,
             "ticks": ""
            },
            "type": "mesh3d"
           }
          ],
          "parcoords": [
           {
            "line": {
             "colorbar": {
              "outlinewidth": 0,
              "ticks": ""
             }
            },
            "type": "parcoords"
           }
          ],
          "pie": [
           {
            "automargin": true,
            "type": "pie"
           }
          ],
          "scatter": [
           {
            "fillpattern": {
             "fillmode": "overlay",
             "size": 10,
             "solidity": 0.2
            },
            "type": "scatter"
           }
          ],
          "scatter3d": [
           {
            "line": {
             "colorbar": {
              "outlinewidth": 0,
              "ticks": ""
             }
            },
            "marker": {
             "colorbar": {
              "outlinewidth": 0,
              "ticks": ""
             }
            },
            "type": "scatter3d"
           }
          ],
          "scattercarpet": [
           {
            "marker": {
             "colorbar": {
              "outlinewidth": 0,
              "ticks": ""
             }
            },
            "type": "scattercarpet"
           }
          ],
          "scattergeo": [
           {
            "marker": {
             "colorbar": {
              "outlinewidth": 0,
              "ticks": ""
             }
            },
            "type": "scattergeo"
           }
          ],
          "scattergl": [
           {
            "marker": {
             "colorbar": {
              "outlinewidth": 0,
              "ticks": ""
             }
            },
            "type": "scattergl"
           }
          ],
          "scattermapbox": [
           {
            "marker": {
             "colorbar": {
              "outlinewidth": 0,
              "ticks": ""
             }
            },
            "type": "scattermapbox"
           }
          ],
          "scatterpolar": [
           {
            "marker": {
             "colorbar": {
              "outlinewidth": 0,
              "ticks": ""
             }
            },
            "type": "scatterpolar"
           }
          ],
          "scatterpolargl": [
           {
            "marker": {
             "colorbar": {
              "outlinewidth": 0,
              "ticks": ""
             }
            },
            "type": "scatterpolargl"
           }
          ],
          "scatterternary": [
           {
            "marker": {
             "colorbar": {
              "outlinewidth": 0,
              "ticks": ""
             }
            },
            "type": "scatterternary"
           }
          ],
          "surface": [
           {
            "colorbar": {
             "outlinewidth": 0,
             "ticks": ""
            },
            "colorscale": [
             [
              0,
              "#0d0887"
             ],
             [
              0.1111111111111111,
              "#46039f"
             ],
             [
              0.2222222222222222,
              "#7201a8"
             ],
             [
              0.3333333333333333,
              "#9c179e"
             ],
             [
              0.4444444444444444,
              "#bd3786"
             ],
             [
              0.5555555555555556,
              "#d8576b"
             ],
             [
              0.6666666666666666,
              "#ed7953"
             ],
             [
              0.7777777777777778,
              "#fb9f3a"
             ],
             [
              0.8888888888888888,
              "#fdca26"
             ],
             [
              1,
              "#f0f921"
             ]
            ],
            "type": "surface"
           }
          ],
          "table": [
           {
            "cells": {
             "fill": {
              "color": "#EBF0F8"
             },
             "line": {
              "color": "white"
             }
            },
            "header": {
             "fill": {
              "color": "#C8D4E3"
             },
             "line": {
              "color": "white"
             }
            },
            "type": "table"
           }
          ]
         },
         "layout": {
          "annotationdefaults": {
           "arrowcolor": "#2a3f5f",
           "arrowhead": 0,
           "arrowwidth": 1
          },
          "autotypenumbers": "strict",
          "coloraxis": {
           "colorbar": {
            "outlinewidth": 0,
            "ticks": ""
           }
          },
          "colorscale": {
           "diverging": [
            [
             0,
             "#8e0152"
            ],
            [
             0.1,
             "#c51b7d"
            ],
            [
             0.2,
             "#de77ae"
            ],
            [
             0.3,
             "#f1b6da"
            ],
            [
             0.4,
             "#fde0ef"
            ],
            [
             0.5,
             "#f7f7f7"
            ],
            [
             0.6,
             "#e6f5d0"
            ],
            [
             0.7,
             "#b8e186"
            ],
            [
             0.8,
             "#7fbc41"
            ],
            [
             0.9,
             "#4d9221"
            ],
            [
             1,
             "#276419"
            ]
           ],
           "sequential": [
            [
             0,
             "#0d0887"
            ],
            [
             0.1111111111111111,
             "#46039f"
            ],
            [
             0.2222222222222222,
             "#7201a8"
            ],
            [
             0.3333333333333333,
             "#9c179e"
            ],
            [
             0.4444444444444444,
             "#bd3786"
            ],
            [
             0.5555555555555556,
             "#d8576b"
            ],
            [
             0.6666666666666666,
             "#ed7953"
            ],
            [
             0.7777777777777778,
             "#fb9f3a"
            ],
            [
             0.8888888888888888,
             "#fdca26"
            ],
            [
             1,
             "#f0f921"
            ]
           ],
           "sequentialminus": [
            [
             0,
             "#0d0887"
            ],
            [
             0.1111111111111111,
             "#46039f"
            ],
            [
             0.2222222222222222,
             "#7201a8"
            ],
            [
             0.3333333333333333,
             "#9c179e"
            ],
            [
             0.4444444444444444,
             "#bd3786"
            ],
            [
             0.5555555555555556,
             "#d8576b"
            ],
            [
             0.6666666666666666,
             "#ed7953"
            ],
            [
             0.7777777777777778,
             "#fb9f3a"
            ],
            [
             0.8888888888888888,
             "#fdca26"
            ],
            [
             1,
             "#f0f921"
            ]
           ]
          },
          "colorway": [
           "#636efa",
           "#EF553B",
           "#00cc96",
           "#ab63fa",
           "#FFA15A",
           "#19d3f3",
           "#FF6692",
           "#B6E880",
           "#FF97FF",
           "#FECB52"
          ],
          "font": {
           "color": "#2a3f5f"
          },
          "geo": {
           "bgcolor": "white",
           "lakecolor": "white",
           "landcolor": "#E5ECF6",
           "showlakes": true,
           "showland": true,
           "subunitcolor": "white"
          },
          "hoverlabel": {
           "align": "left"
          },
          "hovermode": "closest",
          "mapbox": {
           "style": "light"
          },
          "paper_bgcolor": "white",
          "plot_bgcolor": "#E5ECF6",
          "polar": {
           "angularaxis": {
            "gridcolor": "white",
            "linecolor": "white",
            "ticks": ""
           },
           "bgcolor": "#E5ECF6",
           "radialaxis": {
            "gridcolor": "white",
            "linecolor": "white",
            "ticks": ""
           }
          },
          "scene": {
           "xaxis": {
            "backgroundcolor": "#E5ECF6",
            "gridcolor": "white",
            "gridwidth": 2,
            "linecolor": "white",
            "showbackground": true,
            "ticks": "",
            "zerolinecolor": "white"
           },
           "yaxis": {
            "backgroundcolor": "#E5ECF6",
            "gridcolor": "white",
            "gridwidth": 2,
            "linecolor": "white",
            "showbackground": true,
            "ticks": "",
            "zerolinecolor": "white"
           },
           "zaxis": {
            "backgroundcolor": "#E5ECF6",
            "gridcolor": "white",
            "gridwidth": 2,
            "linecolor": "white",
            "showbackground": true,
            "ticks": "",
            "zerolinecolor": "white"
           }
          },
          "shapedefaults": {
           "line": {
            "color": "#2a3f5f"
           }
          },
          "ternary": {
           "aaxis": {
            "gridcolor": "white",
            "linecolor": "white",
            "ticks": ""
           },
           "baxis": {
            "gridcolor": "white",
            "linecolor": "white",
            "ticks": ""
           },
           "bgcolor": "#E5ECF6",
           "caxis": {
            "gridcolor": "white",
            "linecolor": "white",
            "ticks": ""
           }
          },
          "title": {
           "x": 0.05
          },
          "xaxis": {
           "automargin": true,
           "gridcolor": "white",
           "linecolor": "white",
           "ticks": "",
           "title": {
            "standoff": 15
           },
           "zerolinecolor": "white",
           "zerolinewidth": 2
          },
          "yaxis": {
           "automargin": true,
           "gridcolor": "white",
           "linecolor": "white",
           "ticks": "",
           "title": {
            "standoff": 15
           },
           "zerolinecolor": "white",
           "zerolinewidth": 2
          }
         }
        },
        "xaxis": {
         "anchor": "y",
         "domain": [
          0,
          1
         ],
         "title": {
          "text": "day"
         }
        },
        "yaxis": {
         "anchor": "x",
         "domain": [
          0,
          1
         ],
         "title": {
          "text": "total_bill"
         }
        }
       }
      }
     },
     "metadata": {},
     "output_type": "display_data"
    }
   ],
   "source": [
    "# gráficos\n",
    "px.bar(adrupado_dia, x='day', y='total_bill')"
   ]
  },
  {
   "cell_type": "code",
   "execution_count": 10,
   "metadata": {},
   "outputs": [
    {
     "data": {
      "text/html": [
       "<div>\n",
       "<style scoped>\n",
       "    .dataframe tbody tr th:only-of-type {\n",
       "        vertical-align: middle;\n",
       "    }\n",
       "\n",
       "    .dataframe tbody tr th {\n",
       "        vertical-align: top;\n",
       "    }\n",
       "\n",
       "    .dataframe thead th {\n",
       "        text-align: right;\n",
       "    }\n",
       "</style>\n",
       "<table border=\"1\" class=\"dataframe\">\n",
       "  <thead>\n",
       "    <tr style=\"text-align: right;\">\n",
       "      <th></th>\n",
       "      <th>day</th>\n",
       "      <th>sex</th>\n",
       "      <th>total_bill</th>\n",
       "    </tr>\n",
       "  </thead>\n",
       "  <tbody>\n",
       "    <tr>\n",
       "      <th>0</th>\n",
       "      <td>Sun</td>\n",
       "      <td>Female</td>\n",
       "      <td>357.70</td>\n",
       "    </tr>\n",
       "    <tr>\n",
       "      <th>1</th>\n",
       "      <td>Sun</td>\n",
       "      <td>Male</td>\n",
       "      <td>1269.46</td>\n",
       "    </tr>\n",
       "    <tr>\n",
       "      <th>2</th>\n",
       "      <td>Sat</td>\n",
       "      <td>Male</td>\n",
       "      <td>1227.35</td>\n",
       "    </tr>\n",
       "    <tr>\n",
       "      <th>3</th>\n",
       "      <td>Sat</td>\n",
       "      <td>Female</td>\n",
       "      <td>551.05</td>\n",
       "    </tr>\n",
       "    <tr>\n",
       "      <th>4</th>\n",
       "      <td>Thur</td>\n",
       "      <td>Male</td>\n",
       "      <td>561.44</td>\n",
       "    </tr>\n",
       "    <tr>\n",
       "      <th>5</th>\n",
       "      <td>Thur</td>\n",
       "      <td>Female</td>\n",
       "      <td>534.89</td>\n",
       "    </tr>\n",
       "    <tr>\n",
       "      <th>6</th>\n",
       "      <td>Fri</td>\n",
       "      <td>Male</td>\n",
       "      <td>198.57</td>\n",
       "    </tr>\n",
       "    <tr>\n",
       "      <th>7</th>\n",
       "      <td>Fri</td>\n",
       "      <td>Female</td>\n",
       "      <td>127.31</td>\n",
       "    </tr>\n",
       "  </tbody>\n",
       "</table>\n",
       "</div>"
      ],
      "text/plain": [
       "    day     sex  total_bill\n",
       "0   Sun  Female      357.70\n",
       "1   Sun    Male     1269.46\n",
       "2   Sat    Male     1227.35\n",
       "3   Sat  Female      551.05\n",
       "4  Thur    Male      561.44\n",
       "5  Thur  Female      534.89\n",
       "6   Fri    Male      198.57\n",
       "7   Fri  Female      127.31"
      ]
     },
     "execution_count": 10,
     "metadata": {},
     "output_type": "execute_result"
    }
   ],
   "source": [
    "# Agrupando por dia e sexo\n",
    "adrupado_dia_sexo = df.groupby(['day', 'sex'], sort=False).agg({'total_bill': np.sum}).reset_index()\n",
    "adrupado_dia_sexo"
   ]
  },
  {
   "cell_type": "code",
   "execution_count": 11,
   "metadata": {},
   "outputs": [
    {
     "data": {
      "application/vnd.plotly.v1+json": {
       "config": {
        "plotlyServerURL": "https://plot.ly"
       },
       "data": [
        {
         "alignmentgroup": "True",
         "hovertemplate": "sex=Female<br>day=%{x}<br>total_bill=%{y}<extra></extra>",
         "legendgroup": "Female",
         "marker": {
          "color": "#636efa",
          "pattern": {
           "shape": ""
          }
         },
         "name": "Female",
         "offsetgroup": "Female",
         "orientation": "v",
         "showlegend": true,
         "textposition": "auto",
         "type": "bar",
         "x": [
          "Sun",
          "Sat",
          "Thur",
          "Fri"
         ],
         "xaxis": "x",
         "y": [
          357.7,
          551.05,
          534.89,
          127.31
         ],
         "yaxis": "y"
        },
        {
         "alignmentgroup": "True",
         "hovertemplate": "sex=Male<br>day=%{x}<br>total_bill=%{y}<extra></extra>",
         "legendgroup": "Male",
         "marker": {
          "color": "#EF553B",
          "pattern": {
           "shape": ""
          }
         },
         "name": "Male",
         "offsetgroup": "Male",
         "orientation": "v",
         "showlegend": true,
         "textposition": "auto",
         "type": "bar",
         "x": [
          "Sun",
          "Sat",
          "Thur",
          "Fri"
         ],
         "xaxis": "x",
         "y": [
          1269.46,
          1227.35,
          561.4399999999999,
          198.57
         ],
         "yaxis": "y"
        }
       ],
       "layout": {
        "barmode": "group",
        "legend": {
         "title": {
          "text": "sex"
         },
         "tracegroupgap": 0
        },
        "margin": {
         "t": 60
        },
        "template": {
         "data": {
          "bar": [
           {
            "error_x": {
             "color": "#2a3f5f"
            },
            "error_y": {
             "color": "#2a3f5f"
            },
            "marker": {
             "line": {
              "color": "#E5ECF6",
              "width": 0.5
             },
             "pattern": {
              "fillmode": "overlay",
              "size": 10,
              "solidity": 0.2
             }
            },
            "type": "bar"
           }
          ],
          "barpolar": [
           {
            "marker": {
             "line": {
              "color": "#E5ECF6",
              "width": 0.5
             },
             "pattern": {
              "fillmode": "overlay",
              "size": 10,
              "solidity": 0.2
             }
            },
            "type": "barpolar"
           }
          ],
          "carpet": [
           {
            "aaxis": {
             "endlinecolor": "#2a3f5f",
             "gridcolor": "white",
             "linecolor": "white",
             "minorgridcolor": "white",
             "startlinecolor": "#2a3f5f"
            },
            "baxis": {
             "endlinecolor": "#2a3f5f",
             "gridcolor": "white",
             "linecolor": "white",
             "minorgridcolor": "white",
             "startlinecolor": "#2a3f5f"
            },
            "type": "carpet"
           }
          ],
          "choropleth": [
           {
            "colorbar": {
             "outlinewidth": 0,
             "ticks": ""
            },
            "type": "choropleth"
           }
          ],
          "contour": [
           {
            "colorbar": {
             "outlinewidth": 0,
             "ticks": ""
            },
            "colorscale": [
             [
              0,
              "#0d0887"
             ],
             [
              0.1111111111111111,
              "#46039f"
             ],
             [
              0.2222222222222222,
              "#7201a8"
             ],
             [
              0.3333333333333333,
              "#9c179e"
             ],
             [
              0.4444444444444444,
              "#bd3786"
             ],
             [
              0.5555555555555556,
              "#d8576b"
             ],
             [
              0.6666666666666666,
              "#ed7953"
             ],
             [
              0.7777777777777778,
              "#fb9f3a"
             ],
             [
              0.8888888888888888,
              "#fdca26"
             ],
             [
              1,
              "#f0f921"
             ]
            ],
            "type": "contour"
           }
          ],
          "contourcarpet": [
           {
            "colorbar": {
             "outlinewidth": 0,
             "ticks": ""
            },
            "type": "contourcarpet"
           }
          ],
          "heatmap": [
           {
            "colorbar": {
             "outlinewidth": 0,
             "ticks": ""
            },
            "colorscale": [
             [
              0,
              "#0d0887"
             ],
             [
              0.1111111111111111,
              "#46039f"
             ],
             [
              0.2222222222222222,
              "#7201a8"
             ],
             [
              0.3333333333333333,
              "#9c179e"
             ],
             [
              0.4444444444444444,
              "#bd3786"
             ],
             [
              0.5555555555555556,
              "#d8576b"
             ],
             [
              0.6666666666666666,
              "#ed7953"
             ],
             [
              0.7777777777777778,
              "#fb9f3a"
             ],
             [
              0.8888888888888888,
              "#fdca26"
             ],
             [
              1,
              "#f0f921"
             ]
            ],
            "type": "heatmap"
           }
          ],
          "heatmapgl": [
           {
            "colorbar": {
             "outlinewidth": 0,
             "ticks": ""
            },
            "colorscale": [
             [
              0,
              "#0d0887"
             ],
             [
              0.1111111111111111,
              "#46039f"
             ],
             [
              0.2222222222222222,
              "#7201a8"
             ],
             [
              0.3333333333333333,
              "#9c179e"
             ],
             [
              0.4444444444444444,
              "#bd3786"
             ],
             [
              0.5555555555555556,
              "#d8576b"
             ],
             [
              0.6666666666666666,
              "#ed7953"
             ],
             [
              0.7777777777777778,
              "#fb9f3a"
             ],
             [
              0.8888888888888888,
              "#fdca26"
             ],
             [
              1,
              "#f0f921"
             ]
            ],
            "type": "heatmapgl"
           }
          ],
          "histogram": [
           {
            "marker": {
             "pattern": {
              "fillmode": "overlay",
              "size": 10,
              "solidity": 0.2
             }
            },
            "type": "histogram"
           }
          ],
          "histogram2d": [
           {
            "colorbar": {
             "outlinewidth": 0,
             "ticks": ""
            },
            "colorscale": [
             [
              0,
              "#0d0887"
             ],
             [
              0.1111111111111111,
              "#46039f"
             ],
             [
              0.2222222222222222,
              "#7201a8"
             ],
             [
              0.3333333333333333,
              "#9c179e"
             ],
             [
              0.4444444444444444,
              "#bd3786"
             ],
             [
              0.5555555555555556,
              "#d8576b"
             ],
             [
              0.6666666666666666,
              "#ed7953"
             ],
             [
              0.7777777777777778,
              "#fb9f3a"
             ],
             [
              0.8888888888888888,
              "#fdca26"
             ],
             [
              1,
              "#f0f921"
             ]
            ],
            "type": "histogram2d"
           }
          ],
          "histogram2dcontour": [
           {
            "colorbar": {
             "outlinewidth": 0,
             "ticks": ""
            },
            "colorscale": [
             [
              0,
              "#0d0887"
             ],
             [
              0.1111111111111111,
              "#46039f"
             ],
             [
              0.2222222222222222,
              "#7201a8"
             ],
             [
              0.3333333333333333,
              "#9c179e"
             ],
             [
              0.4444444444444444,
              "#bd3786"
             ],
             [
              0.5555555555555556,
              "#d8576b"
             ],
             [
              0.6666666666666666,
              "#ed7953"
             ],
             [
              0.7777777777777778,
              "#fb9f3a"
             ],
             [
              0.8888888888888888,
              "#fdca26"
             ],
             [
              1,
              "#f0f921"
             ]
            ],
            "type": "histogram2dcontour"
           }
          ],
          "mesh3d": [
           {
            "colorbar": {
             "outlinewidth": 0,
             "ticks": ""
            },
            "type": "mesh3d"
           }
          ],
          "parcoords": [
           {
            "line": {
             "colorbar": {
              "outlinewidth": 0,
              "ticks": ""
             }
            },
            "type": "parcoords"
           }
          ],
          "pie": [
           {
            "automargin": true,
            "type": "pie"
           }
          ],
          "scatter": [
           {
            "fillpattern": {
             "fillmode": "overlay",
             "size": 10,
             "solidity": 0.2
            },
            "type": "scatter"
           }
          ],
          "scatter3d": [
           {
            "line": {
             "colorbar": {
              "outlinewidth": 0,
              "ticks": ""
             }
            },
            "marker": {
             "colorbar": {
              "outlinewidth": 0,
              "ticks": ""
             }
            },
            "type": "scatter3d"
           }
          ],
          "scattercarpet": [
           {
            "marker": {
             "colorbar": {
              "outlinewidth": 0,
              "ticks": ""
             }
            },
            "type": "scattercarpet"
           }
          ],
          "scattergeo": [
           {
            "marker": {
             "colorbar": {
              "outlinewidth": 0,
              "ticks": ""
             }
            },
            "type": "scattergeo"
           }
          ],
          "scattergl": [
           {
            "marker": {
             "colorbar": {
              "outlinewidth": 0,
              "ticks": ""
             }
            },
            "type": "scattergl"
           }
          ],
          "scattermapbox": [
           {
            "marker": {
             "colorbar": {
              "outlinewidth": 0,
              "ticks": ""
             }
            },
            "type": "scattermapbox"
           }
          ],
          "scatterpolar": [
           {
            "marker": {
             "colorbar": {
              "outlinewidth": 0,
              "ticks": ""
             }
            },
            "type": "scatterpolar"
           }
          ],
          "scatterpolargl": [
           {
            "marker": {
             "colorbar": {
              "outlinewidth": 0,
              "ticks": ""
             }
            },
            "type": "scatterpolargl"
           }
          ],
          "scatterternary": [
           {
            "marker": {
             "colorbar": {
              "outlinewidth": 0,
              "ticks": ""
             }
            },
            "type": "scatterternary"
           }
          ],
          "surface": [
           {
            "colorbar": {
             "outlinewidth": 0,
             "ticks": ""
            },
            "colorscale": [
             [
              0,
              "#0d0887"
             ],
             [
              0.1111111111111111,
              "#46039f"
             ],
             [
              0.2222222222222222,
              "#7201a8"
             ],
             [
              0.3333333333333333,
              "#9c179e"
             ],
             [
              0.4444444444444444,
              "#bd3786"
             ],
             [
              0.5555555555555556,
              "#d8576b"
             ],
             [
              0.6666666666666666,
              "#ed7953"
             ],
             [
              0.7777777777777778,
              "#fb9f3a"
             ],
             [
              0.8888888888888888,
              "#fdca26"
             ],
             [
              1,
              "#f0f921"
             ]
            ],
            "type": "surface"
           }
          ],
          "table": [
           {
            "cells": {
             "fill": {
              "color": "#EBF0F8"
             },
             "line": {
              "color": "white"
             }
            },
            "header": {
             "fill": {
              "color": "#C8D4E3"
             },
             "line": {
              "color": "white"
             }
            },
            "type": "table"
           }
          ]
         },
         "layout": {
          "annotationdefaults": {
           "arrowcolor": "#2a3f5f",
           "arrowhead": 0,
           "arrowwidth": 1
          },
          "autotypenumbers": "strict",
          "coloraxis": {
           "colorbar": {
            "outlinewidth": 0,
            "ticks": ""
           }
          },
          "colorscale": {
           "diverging": [
            [
             0,
             "#8e0152"
            ],
            [
             0.1,
             "#c51b7d"
            ],
            [
             0.2,
             "#de77ae"
            ],
            [
             0.3,
             "#f1b6da"
            ],
            [
             0.4,
             "#fde0ef"
            ],
            [
             0.5,
             "#f7f7f7"
            ],
            [
             0.6,
             "#e6f5d0"
            ],
            [
             0.7,
             "#b8e186"
            ],
            [
             0.8,
             "#7fbc41"
            ],
            [
             0.9,
             "#4d9221"
            ],
            [
             1,
             "#276419"
            ]
           ],
           "sequential": [
            [
             0,
             "#0d0887"
            ],
            [
             0.1111111111111111,
             "#46039f"
            ],
            [
             0.2222222222222222,
             "#7201a8"
            ],
            [
             0.3333333333333333,
             "#9c179e"
            ],
            [
             0.4444444444444444,
             "#bd3786"
            ],
            [
             0.5555555555555556,
             "#d8576b"
            ],
            [
             0.6666666666666666,
             "#ed7953"
            ],
            [
             0.7777777777777778,
             "#fb9f3a"
            ],
            [
             0.8888888888888888,
             "#fdca26"
            ],
            [
             1,
             "#f0f921"
            ]
           ],
           "sequentialminus": [
            [
             0,
             "#0d0887"
            ],
            [
             0.1111111111111111,
             "#46039f"
            ],
            [
             0.2222222222222222,
             "#7201a8"
            ],
            [
             0.3333333333333333,
             "#9c179e"
            ],
            [
             0.4444444444444444,
             "#bd3786"
            ],
            [
             0.5555555555555556,
             "#d8576b"
            ],
            [
             0.6666666666666666,
             "#ed7953"
            ],
            [
             0.7777777777777778,
             "#fb9f3a"
            ],
            [
             0.8888888888888888,
             "#fdca26"
            ],
            [
             1,
             "#f0f921"
            ]
           ]
          },
          "colorway": [
           "#636efa",
           "#EF553B",
           "#00cc96",
           "#ab63fa",
           "#FFA15A",
           "#19d3f3",
           "#FF6692",
           "#B6E880",
           "#FF97FF",
           "#FECB52"
          ],
          "font": {
           "color": "#2a3f5f"
          },
          "geo": {
           "bgcolor": "white",
           "lakecolor": "white",
           "landcolor": "#E5ECF6",
           "showlakes": true,
           "showland": true,
           "subunitcolor": "white"
          },
          "hoverlabel": {
           "align": "left"
          },
          "hovermode": "closest",
          "mapbox": {
           "style": "light"
          },
          "paper_bgcolor": "white",
          "plot_bgcolor": "#E5ECF6",
          "polar": {
           "angularaxis": {
            "gridcolor": "white",
            "linecolor": "white",
            "ticks": ""
           },
           "bgcolor": "#E5ECF6",
           "radialaxis": {
            "gridcolor": "white",
            "linecolor": "white",
            "ticks": ""
           }
          },
          "scene": {
           "xaxis": {
            "backgroundcolor": "#E5ECF6",
            "gridcolor": "white",
            "gridwidth": 2,
            "linecolor": "white",
            "showbackground": true,
            "ticks": "",
            "zerolinecolor": "white"
           },
           "yaxis": {
            "backgroundcolor": "#E5ECF6",
            "gridcolor": "white",
            "gridwidth": 2,
            "linecolor": "white",
            "showbackground": true,
            "ticks": "",
            "zerolinecolor": "white"
           },
           "zaxis": {
            "backgroundcolor": "#E5ECF6",
            "gridcolor": "white",
            "gridwidth": 2,
            "linecolor": "white",
            "showbackground": true,
            "ticks": "",
            "zerolinecolor": "white"
           }
          },
          "shapedefaults": {
           "line": {
            "color": "#2a3f5f"
           }
          },
          "ternary": {
           "aaxis": {
            "gridcolor": "white",
            "linecolor": "white",
            "ticks": ""
           },
           "baxis": {
            "gridcolor": "white",
            "linecolor": "white",
            "ticks": ""
           },
           "bgcolor": "#E5ECF6",
           "caxis": {
            "gridcolor": "white",
            "linecolor": "white",
            "ticks": ""
           }
          },
          "title": {
           "x": 0.05
          },
          "xaxis": {
           "automargin": true,
           "gridcolor": "white",
           "linecolor": "white",
           "ticks": "",
           "title": {
            "standoff": 15
           },
           "zerolinecolor": "white",
           "zerolinewidth": 2
          },
          "yaxis": {
           "automargin": true,
           "gridcolor": "white",
           "linecolor": "white",
           "ticks": "",
           "title": {
            "standoff": 15
           },
           "zerolinecolor": "white",
           "zerolinewidth": 2
          }
         }
        },
        "xaxis": {
         "anchor": "y",
         "domain": [
          0,
          1
         ],
         "title": {
          "text": "day"
         }
        },
        "yaxis": {
         "anchor": "x",
         "domain": [
          0,
          1
         ],
         "title": {
          "text": "total_bill"
         }
        }
       }
      }
     },
     "metadata": {},
     "output_type": "display_data"
    }
   ],
   "source": [
    "# gráficos\n",
    "px.bar(adrupado_dia_sexo, x='day', y='total_bill', color='sex', barmode='group')"
   ]
  },
  {
   "cell_type": "code",
   "execution_count": 12,
   "metadata": {},
   "outputs": [
    {
     "data": {
      "application/vnd.plotly.v1+json": {
       "config": {
        "plotlyServerURL": "https://plot.ly"
       },
       "data": [
        {
         "alignmentgroup": "True",
         "hovertemplate": "sex=Female<br>total_bill=%{x}<br>day=%{y}<extra></extra>",
         "legendgroup": "Female",
         "marker": {
          "color": "#636efa",
          "pattern": {
           "shape": ""
          }
         },
         "name": "Female",
         "offsetgroup": "Female",
         "orientation": "h",
         "showlegend": true,
         "textposition": "auto",
         "type": "bar",
         "x": [
          357.7,
          551.05,
          534.89,
          127.31
         ],
         "xaxis": "x",
         "y": [
          "Sun",
          "Sat",
          "Thur",
          "Fri"
         ],
         "yaxis": "y"
        },
        {
         "alignmentgroup": "True",
         "hovertemplate": "sex=Male<br>total_bill=%{x}<br>day=%{y}<extra></extra>",
         "legendgroup": "Male",
         "marker": {
          "color": "#EF553B",
          "pattern": {
           "shape": ""
          }
         },
         "name": "Male",
         "offsetgroup": "Male",
         "orientation": "h",
         "showlegend": true,
         "textposition": "auto",
         "type": "bar",
         "x": [
          1269.46,
          1227.35,
          561.4399999999999,
          198.57
         ],
         "xaxis": "x",
         "y": [
          "Sun",
          "Sat",
          "Thur",
          "Fri"
         ],
         "yaxis": "y"
        }
       ],
       "layout": {
        "barmode": "group",
        "legend": {
         "title": {
          "text": "sex"
         },
         "tracegroupgap": 0
        },
        "margin": {
         "t": 60
        },
        "template": {
         "data": {
          "bar": [
           {
            "error_x": {
             "color": "#2a3f5f"
            },
            "error_y": {
             "color": "#2a3f5f"
            },
            "marker": {
             "line": {
              "color": "#E5ECF6",
              "width": 0.5
             },
             "pattern": {
              "fillmode": "overlay",
              "size": 10,
              "solidity": 0.2
             }
            },
            "type": "bar"
           }
          ],
          "barpolar": [
           {
            "marker": {
             "line": {
              "color": "#E5ECF6",
              "width": 0.5
             },
             "pattern": {
              "fillmode": "overlay",
              "size": 10,
              "solidity": 0.2
             }
            },
            "type": "barpolar"
           }
          ],
          "carpet": [
           {
            "aaxis": {
             "endlinecolor": "#2a3f5f",
             "gridcolor": "white",
             "linecolor": "white",
             "minorgridcolor": "white",
             "startlinecolor": "#2a3f5f"
            },
            "baxis": {
             "endlinecolor": "#2a3f5f",
             "gridcolor": "white",
             "linecolor": "white",
             "minorgridcolor": "white",
             "startlinecolor": "#2a3f5f"
            },
            "type": "carpet"
           }
          ],
          "choropleth": [
           {
            "colorbar": {
             "outlinewidth": 0,
             "ticks": ""
            },
            "type": "choropleth"
           }
          ],
          "contour": [
           {
            "colorbar": {
             "outlinewidth": 0,
             "ticks": ""
            },
            "colorscale": [
             [
              0,
              "#0d0887"
             ],
             [
              0.1111111111111111,
              "#46039f"
             ],
             [
              0.2222222222222222,
              "#7201a8"
             ],
             [
              0.3333333333333333,
              "#9c179e"
             ],
             [
              0.4444444444444444,
              "#bd3786"
             ],
             [
              0.5555555555555556,
              "#d8576b"
             ],
             [
              0.6666666666666666,
              "#ed7953"
             ],
             [
              0.7777777777777778,
              "#fb9f3a"
             ],
             [
              0.8888888888888888,
              "#fdca26"
             ],
             [
              1,
              "#f0f921"
             ]
            ],
            "type": "contour"
           }
          ],
          "contourcarpet": [
           {
            "colorbar": {
             "outlinewidth": 0,
             "ticks": ""
            },
            "type": "contourcarpet"
           }
          ],
          "heatmap": [
           {
            "colorbar": {
             "outlinewidth": 0,
             "ticks": ""
            },
            "colorscale": [
             [
              0,
              "#0d0887"
             ],
             [
              0.1111111111111111,
              "#46039f"
             ],
             [
              0.2222222222222222,
              "#7201a8"
             ],
             [
              0.3333333333333333,
              "#9c179e"
             ],
             [
              0.4444444444444444,
              "#bd3786"
             ],
             [
              0.5555555555555556,
              "#d8576b"
             ],
             [
              0.6666666666666666,
              "#ed7953"
             ],
             [
              0.7777777777777778,
              "#fb9f3a"
             ],
             [
              0.8888888888888888,
              "#fdca26"
             ],
             [
              1,
              "#f0f921"
             ]
            ],
            "type": "heatmap"
           }
          ],
          "heatmapgl": [
           {
            "colorbar": {
             "outlinewidth": 0,
             "ticks": ""
            },
            "colorscale": [
             [
              0,
              "#0d0887"
             ],
             [
              0.1111111111111111,
              "#46039f"
             ],
             [
              0.2222222222222222,
              "#7201a8"
             ],
             [
              0.3333333333333333,
              "#9c179e"
             ],
             [
              0.4444444444444444,
              "#bd3786"
             ],
             [
              0.5555555555555556,
              "#d8576b"
             ],
             [
              0.6666666666666666,
              "#ed7953"
             ],
             [
              0.7777777777777778,
              "#fb9f3a"
             ],
             [
              0.8888888888888888,
              "#fdca26"
             ],
             [
              1,
              "#f0f921"
             ]
            ],
            "type": "heatmapgl"
           }
          ],
          "histogram": [
           {
            "marker": {
             "pattern": {
              "fillmode": "overlay",
              "size": 10,
              "solidity": 0.2
             }
            },
            "type": "histogram"
           }
          ],
          "histogram2d": [
           {
            "colorbar": {
             "outlinewidth": 0,
             "ticks": ""
            },
            "colorscale": [
             [
              0,
              "#0d0887"
             ],
             [
              0.1111111111111111,
              "#46039f"
             ],
             [
              0.2222222222222222,
              "#7201a8"
             ],
             [
              0.3333333333333333,
              "#9c179e"
             ],
             [
              0.4444444444444444,
              "#bd3786"
             ],
             [
              0.5555555555555556,
              "#d8576b"
             ],
             [
              0.6666666666666666,
              "#ed7953"
             ],
             [
              0.7777777777777778,
              "#fb9f3a"
             ],
             [
              0.8888888888888888,
              "#fdca26"
             ],
             [
              1,
              "#f0f921"
             ]
            ],
            "type": "histogram2d"
           }
          ],
          "histogram2dcontour": [
           {
            "colorbar": {
             "outlinewidth": 0,
             "ticks": ""
            },
            "colorscale": [
             [
              0,
              "#0d0887"
             ],
             [
              0.1111111111111111,
              "#46039f"
             ],
             [
              0.2222222222222222,
              "#7201a8"
             ],
             [
              0.3333333333333333,
              "#9c179e"
             ],
             [
              0.4444444444444444,
              "#bd3786"
             ],
             [
              0.5555555555555556,
              "#d8576b"
             ],
             [
              0.6666666666666666,
              "#ed7953"
             ],
             [
              0.7777777777777778,
              "#fb9f3a"
             ],
             [
              0.8888888888888888,
              "#fdca26"
             ],
             [
              1,
              "#f0f921"
             ]
            ],
            "type": "histogram2dcontour"
           }
          ],
          "mesh3d": [
           {
            "colorbar": {
             "outlinewidth": 0,
             "ticks": ""
            },
            "type": "mesh3d"
           }
          ],
          "parcoords": [
           {
            "line": {
             "colorbar": {
              "outlinewidth": 0,
              "ticks": ""
             }
            },
            "type": "parcoords"
           }
          ],
          "pie": [
           {
            "automargin": true,
            "type": "pie"
           }
          ],
          "scatter": [
           {
            "fillpattern": {
             "fillmode": "overlay",
             "size": 10,
             "solidity": 0.2
            },
            "type": "scatter"
           }
          ],
          "scatter3d": [
           {
            "line": {
             "colorbar": {
              "outlinewidth": 0,
              "ticks": ""
             }
            },
            "marker": {
             "colorbar": {
              "outlinewidth": 0,
              "ticks": ""
             }
            },
            "type": "scatter3d"
           }
          ],
          "scattercarpet": [
           {
            "marker": {
             "colorbar": {
              "outlinewidth": 0,
              "ticks": ""
             }
            },
            "type": "scattercarpet"
           }
          ],
          "scattergeo": [
           {
            "marker": {
             "colorbar": {
              "outlinewidth": 0,
              "ticks": ""
             }
            },
            "type": "scattergeo"
           }
          ],
          "scattergl": [
           {
            "marker": {
             "colorbar": {
              "outlinewidth": 0,
              "ticks": ""
             }
            },
            "type": "scattergl"
           }
          ],
          "scattermapbox": [
           {
            "marker": {
             "colorbar": {
              "outlinewidth": 0,
              "ticks": ""
             }
            },
            "type": "scattermapbox"
           }
          ],
          "scatterpolar": [
           {
            "marker": {
             "colorbar": {
              "outlinewidth": 0,
              "ticks": ""
             }
            },
            "type": "scatterpolar"
           }
          ],
          "scatterpolargl": [
           {
            "marker": {
             "colorbar": {
              "outlinewidth": 0,
              "ticks": ""
             }
            },
            "type": "scatterpolargl"
           }
          ],
          "scatterternary": [
           {
            "marker": {
             "colorbar": {
              "outlinewidth": 0,
              "ticks": ""
             }
            },
            "type": "scatterternary"
           }
          ],
          "surface": [
           {
            "colorbar": {
             "outlinewidth": 0,
             "ticks": ""
            },
            "colorscale": [
             [
              0,
              "#0d0887"
             ],
             [
              0.1111111111111111,
              "#46039f"
             ],
             [
              0.2222222222222222,
              "#7201a8"
             ],
             [
              0.3333333333333333,
              "#9c179e"
             ],
             [
              0.4444444444444444,
              "#bd3786"
             ],
             [
              0.5555555555555556,
              "#d8576b"
             ],
             [
              0.6666666666666666,
              "#ed7953"
             ],
             [
              0.7777777777777778,
              "#fb9f3a"
             ],
             [
              0.8888888888888888,
              "#fdca26"
             ],
             [
              1,
              "#f0f921"
             ]
            ],
            "type": "surface"
           }
          ],
          "table": [
           {
            "cells": {
             "fill": {
              "color": "#EBF0F8"
             },
             "line": {
              "color": "white"
             }
            },
            "header": {
             "fill": {
              "color": "#C8D4E3"
             },
             "line": {
              "color": "white"
             }
            },
            "type": "table"
           }
          ]
         },
         "layout": {
          "annotationdefaults": {
           "arrowcolor": "#2a3f5f",
           "arrowhead": 0,
           "arrowwidth": 1
          },
          "autotypenumbers": "strict",
          "coloraxis": {
           "colorbar": {
            "outlinewidth": 0,
            "ticks": ""
           }
          },
          "colorscale": {
           "diverging": [
            [
             0,
             "#8e0152"
            ],
            [
             0.1,
             "#c51b7d"
            ],
            [
             0.2,
             "#de77ae"
            ],
            [
             0.3,
             "#f1b6da"
            ],
            [
             0.4,
             "#fde0ef"
            ],
            [
             0.5,
             "#f7f7f7"
            ],
            [
             0.6,
             "#e6f5d0"
            ],
            [
             0.7,
             "#b8e186"
            ],
            [
             0.8,
             "#7fbc41"
            ],
            [
             0.9,
             "#4d9221"
            ],
            [
             1,
             "#276419"
            ]
           ],
           "sequential": [
            [
             0,
             "#0d0887"
            ],
            [
             0.1111111111111111,
             "#46039f"
            ],
            [
             0.2222222222222222,
             "#7201a8"
            ],
            [
             0.3333333333333333,
             "#9c179e"
            ],
            [
             0.4444444444444444,
             "#bd3786"
            ],
            [
             0.5555555555555556,
             "#d8576b"
            ],
            [
             0.6666666666666666,
             "#ed7953"
            ],
            [
             0.7777777777777778,
             "#fb9f3a"
            ],
            [
             0.8888888888888888,
             "#fdca26"
            ],
            [
             1,
             "#f0f921"
            ]
           ],
           "sequentialminus": [
            [
             0,
             "#0d0887"
            ],
            [
             0.1111111111111111,
             "#46039f"
            ],
            [
             0.2222222222222222,
             "#7201a8"
            ],
            [
             0.3333333333333333,
             "#9c179e"
            ],
            [
             0.4444444444444444,
             "#bd3786"
            ],
            [
             0.5555555555555556,
             "#d8576b"
            ],
            [
             0.6666666666666666,
             "#ed7953"
            ],
            [
             0.7777777777777778,
             "#fb9f3a"
            ],
            [
             0.8888888888888888,
             "#fdca26"
            ],
            [
             1,
             "#f0f921"
            ]
           ]
          },
          "colorway": [
           "#636efa",
           "#EF553B",
           "#00cc96",
           "#ab63fa",
           "#FFA15A",
           "#19d3f3",
           "#FF6692",
           "#B6E880",
           "#FF97FF",
           "#FECB52"
          ],
          "font": {
           "color": "#2a3f5f"
          },
          "geo": {
           "bgcolor": "white",
           "lakecolor": "white",
           "landcolor": "#E5ECF6",
           "showlakes": true,
           "showland": true,
           "subunitcolor": "white"
          },
          "hoverlabel": {
           "align": "left"
          },
          "hovermode": "closest",
          "mapbox": {
           "style": "light"
          },
          "paper_bgcolor": "white",
          "plot_bgcolor": "#E5ECF6",
          "polar": {
           "angularaxis": {
            "gridcolor": "white",
            "linecolor": "white",
            "ticks": ""
           },
           "bgcolor": "#E5ECF6",
           "radialaxis": {
            "gridcolor": "white",
            "linecolor": "white",
            "ticks": ""
           }
          },
          "scene": {
           "xaxis": {
            "backgroundcolor": "#E5ECF6",
            "gridcolor": "white",
            "gridwidth": 2,
            "linecolor": "white",
            "showbackground": true,
            "ticks": "",
            "zerolinecolor": "white"
           },
           "yaxis": {
            "backgroundcolor": "#E5ECF6",
            "gridcolor": "white",
            "gridwidth": 2,
            "linecolor": "white",
            "showbackground": true,
            "ticks": "",
            "zerolinecolor": "white"
           },
           "zaxis": {
            "backgroundcolor": "#E5ECF6",
            "gridcolor": "white",
            "gridwidth": 2,
            "linecolor": "white",
            "showbackground": true,
            "ticks": "",
            "zerolinecolor": "white"
           }
          },
          "shapedefaults": {
           "line": {
            "color": "#2a3f5f"
           }
          },
          "ternary": {
           "aaxis": {
            "gridcolor": "white",
            "linecolor": "white",
            "ticks": ""
           },
           "baxis": {
            "gridcolor": "white",
            "linecolor": "white",
            "ticks": ""
           },
           "bgcolor": "#E5ECF6",
           "caxis": {
            "gridcolor": "white",
            "linecolor": "white",
            "ticks": ""
           }
          },
          "title": {
           "x": 0.05
          },
          "xaxis": {
           "automargin": true,
           "gridcolor": "white",
           "linecolor": "white",
           "ticks": "",
           "title": {
            "standoff": 15
           },
           "zerolinecolor": "white",
           "zerolinewidth": 2
          },
          "yaxis": {
           "automargin": true,
           "gridcolor": "white",
           "linecolor": "white",
           "ticks": "",
           "title": {
            "standoff": 15
           },
           "zerolinecolor": "white",
           "zerolinewidth": 2
          }
         }
        },
        "xaxis": {
         "anchor": "y",
         "domain": [
          0,
          1
         ],
         "title": {
          "text": "total_bill"
         }
        },
        "yaxis": {
         "anchor": "x",
         "domain": [
          0,
          1
         ],
         "title": {
          "text": "day"
         }
        }
       }
      }
     },
     "metadata": {},
     "output_type": "display_data"
    }
   ],
   "source": [
    "# gráficos\n",
    "px.bar(adrupado_dia_sexo, x='total_bill', y='day', color='sex', barmode='group', orientation='h')"
   ]
  },
  {
   "attachments": {},
   "cell_type": "markdown",
   "metadata": {},
   "source": [
    "### Gráfico de Dispersão"
   ]
  },
  {
   "cell_type": "code",
   "execution_count": 13,
   "metadata": {},
   "outputs": [
    {
     "data": {
      "application/vnd.plotly.v1+json": {
       "config": {
        "plotlyServerURL": "https://plot.ly"
       },
       "data": [
        {
         "hovertemplate": "<b>%{hovertext}</b><br><br>day=Sun<br>total_bill=%{x}<br>tip=%{y}<extra></extra>",
         "hovertext": [
          "Dinner",
          "Dinner",
          "Dinner",
          "Dinner",
          "Dinner",
          "Dinner",
          "Dinner",
          "Dinner",
          "Dinner",
          "Dinner",
          "Dinner",
          "Dinner",
          "Dinner",
          "Dinner",
          "Dinner",
          "Dinner",
          "Dinner",
          "Dinner",
          "Dinner",
          "Dinner",
          "Dinner",
          "Dinner",
          "Dinner",
          "Dinner",
          "Dinner",
          "Dinner",
          "Dinner",
          "Dinner",
          "Dinner",
          "Dinner",
          "Dinner",
          "Dinner",
          "Dinner",
          "Dinner",
          "Dinner",
          "Dinner",
          "Dinner",
          "Dinner",
          "Dinner",
          "Dinner",
          "Dinner",
          "Dinner",
          "Dinner",
          "Dinner",
          "Dinner",
          "Dinner",
          "Dinner",
          "Dinner",
          "Dinner",
          "Dinner",
          "Dinner",
          "Dinner",
          "Dinner",
          "Dinner",
          "Dinner",
          "Dinner",
          "Dinner",
          "Dinner",
          "Dinner",
          "Dinner",
          "Dinner",
          "Dinner",
          "Dinner",
          "Dinner",
          "Dinner",
          "Dinner",
          "Dinner",
          "Dinner",
          "Dinner",
          "Dinner",
          "Dinner",
          "Dinner",
          "Dinner",
          "Dinner",
          "Dinner",
          "Dinner"
         ],
         "legendgroup": "Sun",
         "marker": {
          "color": "#636efa",
          "symbol": "circle"
         },
         "mode": "markers",
         "name": "Sun",
         "orientation": "v",
         "showlegend": true,
         "type": "scatter",
         "x": [
          16.99,
          10.34,
          21.01,
          23.68,
          24.59,
          25.29,
          8.77,
          26.88,
          15.04,
          14.78,
          10.27,
          35.26,
          15.42,
          18.43,
          14.83,
          21.58,
          10.33,
          16.29,
          16.97,
          17.46,
          13.94,
          9.68,
          30.4,
          18.29,
          22.23,
          32.4,
          28.55,
          18.04,
          12.54,
          10.29,
          34.81,
          9.94,
          25.56,
          19.49,
          38.07,
          23.95,
          25.71,
          17.31,
          29.93,
          14.07,
          13.13,
          17.26,
          24.55,
          19.77,
          29.85,
          48.17,
          25,
          13.39,
          16.49,
          21.5,
          12.66,
          16.21,
          13.81,
          17.51,
          24.52,
          20.76,
          31.71,
          7.25,
          31.85,
          16.82,
          32.9,
          17.89,
          14.48,
          9.6,
          34.63,
          34.65,
          23.33,
          45.35,
          23.17,
          40.55,
          20.69,
          20.9,
          30.46,
          18.15,
          23.1,
          15.69
         ],
         "xaxis": "x",
         "y": [
          1.01,
          1.66,
          3.5,
          3.31,
          3.61,
          4.71,
          2,
          3.12,
          1.96,
          3.23,
          1.71,
          5,
          1.57,
          3,
          3.02,
          3.92,
          1.67,
          3.71,
          3.5,
          2.54,
          3.06,
          1.32,
          5.6,
          3,
          5,
          6,
          2.05,
          3,
          2.5,
          2.6,
          5.2,
          1.56,
          4.34,
          3.51,
          4,
          2.55,
          4,
          3.5,
          5.07,
          2.5,
          2,
          2.74,
          2,
          2,
          5.14,
          5,
          3.75,
          2.61,
          2,
          3.5,
          2.5,
          2,
          2,
          3,
          3.48,
          2.24,
          4.5,
          5.15,
          3.18,
          4,
          3.11,
          2,
          2,
          4,
          3.55,
          3.68,
          5.65,
          3.5,
          6.5,
          3,
          5,
          3.5,
          2,
          3.5,
          4,
          1.5
         ],
         "yaxis": "y"
        },
        {
         "hovertemplate": "<b>%{hovertext}</b><br><br>day=Sat<br>total_bill=%{x}<br>tip=%{y}<extra></extra>",
         "hovertext": [
          "Dinner",
          "Dinner",
          "Dinner",
          "Dinner",
          "Dinner",
          "Dinner",
          "Dinner",
          "Dinner",
          "Dinner",
          "Dinner",
          "Dinner",
          "Dinner",
          "Dinner",
          "Dinner",
          "Dinner",
          "Dinner",
          "Dinner",
          "Dinner",
          "Dinner",
          "Dinner",
          "Dinner",
          "Dinner",
          "Dinner",
          "Dinner",
          "Dinner",
          "Dinner",
          "Dinner",
          "Dinner",
          "Dinner",
          "Dinner",
          "Dinner",
          "Dinner",
          "Dinner",
          "Dinner",
          "Dinner",
          "Dinner",
          "Dinner",
          "Dinner",
          "Dinner",
          "Dinner",
          "Dinner",
          "Dinner",
          "Dinner",
          "Dinner",
          "Dinner",
          "Dinner",
          "Dinner",
          "Dinner",
          "Dinner",
          "Dinner",
          "Dinner",
          "Dinner",
          "Dinner",
          "Dinner",
          "Dinner",
          "Dinner",
          "Dinner",
          "Dinner",
          "Dinner",
          "Dinner",
          "Dinner",
          "Dinner",
          "Dinner",
          "Dinner",
          "Dinner",
          "Dinner",
          "Dinner",
          "Dinner",
          "Dinner",
          "Dinner",
          "Dinner",
          "Dinner",
          "Dinner",
          "Dinner",
          "Dinner",
          "Dinner",
          "Dinner",
          "Dinner",
          "Dinner",
          "Dinner",
          "Dinner",
          "Dinner",
          "Dinner",
          "Dinner",
          "Dinner",
          "Dinner",
          "Dinner"
         ],
         "legendgroup": "Sat",
         "marker": {
          "color": "#EF553B",
          "symbol": "circle"
         },
         "mode": "markers",
         "name": "Sat",
         "orientation": "v",
         "showlegend": true,
         "type": "scatter",
         "x": [
          20.65,
          17.92,
          20.29,
          15.77,
          39.42,
          19.82,
          17.81,
          13.37,
          12.69,
          21.7,
          19.65,
          9.55,
          18.35,
          15.06,
          20.69,
          17.78,
          24.06,
          16.31,
          16.93,
          18.69,
          31.27,
          16.04,
          38.01,
          26.41,
          11.24,
          48.27,
          20.29,
          13.81,
          11.02,
          18.29,
          17.59,
          20.08,
          16.45,
          3.07,
          20.23,
          15.01,
          12.02,
          17.07,
          26.86,
          25.28,
          14.73,
          10.51,
          17.92,
          44.3,
          22.42,
          20.92,
          15.36,
          20.49,
          25.21,
          18.24,
          14.31,
          14,
          7.25,
          10.59,
          10.63,
          50.81,
          15.81,
          26.59,
          38.73,
          24.27,
          12.76,
          30.06,
          25.89,
          48.33,
          13.27,
          28.17,
          12.9,
          28.15,
          11.59,
          7.74,
          30.14,
          20.45,
          13.28,
          22.12,
          24.01,
          15.69,
          11.61,
          10.77,
          15.53,
          10.07,
          12.6,
          32.83,
          35.83,
          29.03,
          27.18,
          22.67,
          17.82
         ],
         "xaxis": "x",
         "y": [
          3.35,
          4.08,
          2.75,
          2.23,
          7.58,
          3.18,
          2.34,
          2,
          2,
          4.3,
          3,
          1.45,
          2.5,
          3,
          2.45,
          3.27,
          3.6,
          2,
          3.07,
          2.31,
          5,
          2.24,
          3,
          1.5,
          1.76,
          6.73,
          3.21,
          2,
          1.98,
          3.76,
          2.64,
          3.15,
          2.47,
          1,
          2.01,
          2.09,
          1.97,
          3,
          3.14,
          5,
          2.2,
          1.25,
          3.08,
          2.5,
          3.48,
          4.08,
          1.64,
          4.06,
          4.29,
          3.76,
          4,
          3,
          1,
          1.61,
          2,
          10,
          3.16,
          3.41,
          3,
          2.03,
          2.23,
          2,
          5.16,
          9,
          2.5,
          6.5,
          1.1,
          3,
          1.5,
          1.44,
          3.09,
          3,
          2.72,
          2.88,
          2,
          3,
          3.39,
          1.47,
          3,
          1.25,
          1,
          1.17,
          4.67,
          5.92,
          2,
          2,
          1.75
         ],
         "yaxis": "y"
        },
        {
         "hovertemplate": "<b>%{hovertext}</b><br><br>day=Thur<br>total_bill=%{x}<br>tip=%{y}<extra></extra>",
         "hovertext": [
          "Lunch",
          "Lunch",
          "Lunch",
          "Lunch",
          "Lunch",
          "Lunch",
          "Lunch",
          "Lunch",
          "Lunch",
          "Lunch",
          "Lunch",
          "Lunch",
          "Lunch",
          "Lunch",
          "Lunch",
          "Lunch",
          "Lunch",
          "Lunch",
          "Lunch",
          "Lunch",
          "Lunch",
          "Lunch",
          "Lunch",
          "Lunch",
          "Lunch",
          "Lunch",
          "Lunch",
          "Lunch",
          "Lunch",
          "Lunch",
          "Lunch",
          "Lunch",
          "Lunch",
          "Lunch",
          "Lunch",
          "Lunch",
          "Lunch",
          "Lunch",
          "Lunch",
          "Lunch",
          "Lunch",
          "Lunch",
          "Lunch",
          "Lunch",
          "Lunch",
          "Lunch",
          "Lunch",
          "Lunch",
          "Lunch",
          "Lunch",
          "Lunch",
          "Lunch",
          "Lunch",
          "Lunch",
          "Lunch",
          "Lunch",
          "Lunch",
          "Lunch",
          "Lunch",
          "Lunch",
          "Lunch",
          "Dinner"
         ],
         "legendgroup": "Thur",
         "marker": {
          "color": "#00cc96",
          "symbol": "circle"
         },
         "mode": "markers",
         "name": "Thur",
         "orientation": "v",
         "showlegend": true,
         "type": "scatter",
         "x": [
          27.2,
          22.76,
          17.29,
          19.44,
          16.66,
          10.07,
          32.68,
          15.98,
          34.83,
          13.03,
          18.28,
          24.71,
          21.16,
          10.65,
          12.43,
          24.08,
          11.69,
          13.42,
          14.26,
          15.95,
          12.48,
          29.8,
          8.52,
          14.52,
          11.38,
          22.82,
          19.08,
          20.27,
          11.17,
          12.26,
          18.26,
          8.51,
          10.33,
          14.15,
          16,
          13.16,
          17.47,
          34.3,
          41.19,
          27.05,
          16.43,
          8.35,
          18.64,
          11.87,
          9.78,
          7.51,
          19.81,
          28.44,
          15.48,
          16.58,
          7.56,
          10.34,
          43.11,
          13,
          13.51,
          18.71,
          12.74,
          13,
          16.4,
          20.53,
          16.47,
          18.78
         ],
         "xaxis": "x",
         "y": [
          4,
          3,
          2.71,
          3,
          3.4,
          1.83,
          5,
          2.03,
          5.17,
          2,
          4,
          5.85,
          3,
          1.5,
          1.8,
          2.92,
          2.31,
          1.68,
          2.5,
          2,
          2.52,
          4.2,
          1.48,
          2,
          2,
          2.18,
          1.5,
          2.83,
          1.5,
          2,
          3.25,
          1.25,
          2,
          2,
          2,
          2.75,
          3.5,
          6.7,
          5,
          5,
          2.3,
          1.5,
          1.36,
          1.63,
          1.73,
          2,
          4.19,
          2.56,
          2.02,
          4,
          1.44,
          2,
          5,
          2,
          2,
          4,
          2.01,
          2,
          2.5,
          4,
          3.23,
          3
         ],
         "yaxis": "y"
        },
        {
         "hovertemplate": "<b>%{hovertext}</b><br><br>day=Fri<br>total_bill=%{x}<br>tip=%{y}<extra></extra>",
         "hovertext": [
          "Dinner",
          "Dinner",
          "Dinner",
          "Dinner",
          "Dinner",
          "Dinner",
          "Dinner",
          "Dinner",
          "Dinner",
          "Dinner",
          "Dinner",
          "Dinner",
          "Lunch",
          "Lunch",
          "Lunch",
          "Lunch",
          "Lunch",
          "Lunch",
          "Lunch"
         ],
         "legendgroup": "Fri",
         "marker": {
          "color": "#ab63fa",
          "symbol": "circle"
         },
         "mode": "markers",
         "name": "Fri",
         "orientation": "v",
         "showlegend": true,
         "type": "scatter",
         "x": [
          28.97,
          22.49,
          5.75,
          16.32,
          22.75,
          40.17,
          27.28,
          12.03,
          21.01,
          12.46,
          11.35,
          15.38,
          12.16,
          13.42,
          8.58,
          15.98,
          13.42,
          16.27,
          10.09
         ],
         "xaxis": "x",
         "y": [
          3,
          3.5,
          1,
          4.3,
          3.25,
          4.73,
          4,
          1.5,
          3,
          1.5,
          2.5,
          3,
          2.2,
          3.48,
          1.92,
          3,
          1.58,
          2.5,
          2
         ],
         "yaxis": "y"
        }
       ],
       "layout": {
        "legend": {
         "title": {
          "text": "day"
         },
         "tracegroupgap": 0
        },
        "margin": {
         "t": 60
        },
        "template": {
         "data": {
          "bar": [
           {
            "error_x": {
             "color": "#2a3f5f"
            },
            "error_y": {
             "color": "#2a3f5f"
            },
            "marker": {
             "line": {
              "color": "#E5ECF6",
              "width": 0.5
             },
             "pattern": {
              "fillmode": "overlay",
              "size": 10,
              "solidity": 0.2
             }
            },
            "type": "bar"
           }
          ],
          "barpolar": [
           {
            "marker": {
             "line": {
              "color": "#E5ECF6",
              "width": 0.5
             },
             "pattern": {
              "fillmode": "overlay",
              "size": 10,
              "solidity": 0.2
             }
            },
            "type": "barpolar"
           }
          ],
          "carpet": [
           {
            "aaxis": {
             "endlinecolor": "#2a3f5f",
             "gridcolor": "white",
             "linecolor": "white",
             "minorgridcolor": "white",
             "startlinecolor": "#2a3f5f"
            },
            "baxis": {
             "endlinecolor": "#2a3f5f",
             "gridcolor": "white",
             "linecolor": "white",
             "minorgridcolor": "white",
             "startlinecolor": "#2a3f5f"
            },
            "type": "carpet"
           }
          ],
          "choropleth": [
           {
            "colorbar": {
             "outlinewidth": 0,
             "ticks": ""
            },
            "type": "choropleth"
           }
          ],
          "contour": [
           {
            "colorbar": {
             "outlinewidth": 0,
             "ticks": ""
            },
            "colorscale": [
             [
              0,
              "#0d0887"
             ],
             [
              0.1111111111111111,
              "#46039f"
             ],
             [
              0.2222222222222222,
              "#7201a8"
             ],
             [
              0.3333333333333333,
              "#9c179e"
             ],
             [
              0.4444444444444444,
              "#bd3786"
             ],
             [
              0.5555555555555556,
              "#d8576b"
             ],
             [
              0.6666666666666666,
              "#ed7953"
             ],
             [
              0.7777777777777778,
              "#fb9f3a"
             ],
             [
              0.8888888888888888,
              "#fdca26"
             ],
             [
              1,
              "#f0f921"
             ]
            ],
            "type": "contour"
           }
          ],
          "contourcarpet": [
           {
            "colorbar": {
             "outlinewidth": 0,
             "ticks": ""
            },
            "type": "contourcarpet"
           }
          ],
          "heatmap": [
           {
            "colorbar": {
             "outlinewidth": 0,
             "ticks": ""
            },
            "colorscale": [
             [
              0,
              "#0d0887"
             ],
             [
              0.1111111111111111,
              "#46039f"
             ],
             [
              0.2222222222222222,
              "#7201a8"
             ],
             [
              0.3333333333333333,
              "#9c179e"
             ],
             [
              0.4444444444444444,
              "#bd3786"
             ],
             [
              0.5555555555555556,
              "#d8576b"
             ],
             [
              0.6666666666666666,
              "#ed7953"
             ],
             [
              0.7777777777777778,
              "#fb9f3a"
             ],
             [
              0.8888888888888888,
              "#fdca26"
             ],
             [
              1,
              "#f0f921"
             ]
            ],
            "type": "heatmap"
           }
          ],
          "heatmapgl": [
           {
            "colorbar": {
             "outlinewidth": 0,
             "ticks": ""
            },
            "colorscale": [
             [
              0,
              "#0d0887"
             ],
             [
              0.1111111111111111,
              "#46039f"
             ],
             [
              0.2222222222222222,
              "#7201a8"
             ],
             [
              0.3333333333333333,
              "#9c179e"
             ],
             [
              0.4444444444444444,
              "#bd3786"
             ],
             [
              0.5555555555555556,
              "#d8576b"
             ],
             [
              0.6666666666666666,
              "#ed7953"
             ],
             [
              0.7777777777777778,
              "#fb9f3a"
             ],
             [
              0.8888888888888888,
              "#fdca26"
             ],
             [
              1,
              "#f0f921"
             ]
            ],
            "type": "heatmapgl"
           }
          ],
          "histogram": [
           {
            "marker": {
             "pattern": {
              "fillmode": "overlay",
              "size": 10,
              "solidity": 0.2
             }
            },
            "type": "histogram"
           }
          ],
          "histogram2d": [
           {
            "colorbar": {
             "outlinewidth": 0,
             "ticks": ""
            },
            "colorscale": [
             [
              0,
              "#0d0887"
             ],
             [
              0.1111111111111111,
              "#46039f"
             ],
             [
              0.2222222222222222,
              "#7201a8"
             ],
             [
              0.3333333333333333,
              "#9c179e"
             ],
             [
              0.4444444444444444,
              "#bd3786"
             ],
             [
              0.5555555555555556,
              "#d8576b"
             ],
             [
              0.6666666666666666,
              "#ed7953"
             ],
             [
              0.7777777777777778,
              "#fb9f3a"
             ],
             [
              0.8888888888888888,
              "#fdca26"
             ],
             [
              1,
              "#f0f921"
             ]
            ],
            "type": "histogram2d"
           }
          ],
          "histogram2dcontour": [
           {
            "colorbar": {
             "outlinewidth": 0,
             "ticks": ""
            },
            "colorscale": [
             [
              0,
              "#0d0887"
             ],
             [
              0.1111111111111111,
              "#46039f"
             ],
             [
              0.2222222222222222,
              "#7201a8"
             ],
             [
              0.3333333333333333,
              "#9c179e"
             ],
             [
              0.4444444444444444,
              "#bd3786"
             ],
             [
              0.5555555555555556,
              "#d8576b"
             ],
             [
              0.6666666666666666,
              "#ed7953"
             ],
             [
              0.7777777777777778,
              "#fb9f3a"
             ],
             [
              0.8888888888888888,
              "#fdca26"
             ],
             [
              1,
              "#f0f921"
             ]
            ],
            "type": "histogram2dcontour"
           }
          ],
          "mesh3d": [
           {
            "colorbar": {
             "outlinewidth": 0,
             "ticks": ""
            },
            "type": "mesh3d"
           }
          ],
          "parcoords": [
           {
            "line": {
             "colorbar": {
              "outlinewidth": 0,
              "ticks": ""
             }
            },
            "type": "parcoords"
           }
          ],
          "pie": [
           {
            "automargin": true,
            "type": "pie"
           }
          ],
          "scatter": [
           {
            "fillpattern": {
             "fillmode": "overlay",
             "size": 10,
             "solidity": 0.2
            },
            "type": "scatter"
           }
          ],
          "scatter3d": [
           {
            "line": {
             "colorbar": {
              "outlinewidth": 0,
              "ticks": ""
             }
            },
            "marker": {
             "colorbar": {
              "outlinewidth": 0,
              "ticks": ""
             }
            },
            "type": "scatter3d"
           }
          ],
          "scattercarpet": [
           {
            "marker": {
             "colorbar": {
              "outlinewidth": 0,
              "ticks": ""
             }
            },
            "type": "scattercarpet"
           }
          ],
          "scattergeo": [
           {
            "marker": {
             "colorbar": {
              "outlinewidth": 0,
              "ticks": ""
             }
            },
            "type": "scattergeo"
           }
          ],
          "scattergl": [
           {
            "marker": {
             "colorbar": {
              "outlinewidth": 0,
              "ticks": ""
             }
            },
            "type": "scattergl"
           }
          ],
          "scattermapbox": [
           {
            "marker": {
             "colorbar": {
              "outlinewidth": 0,
              "ticks": ""
             }
            },
            "type": "scattermapbox"
           }
          ],
          "scatterpolar": [
           {
            "marker": {
             "colorbar": {
              "outlinewidth": 0,
              "ticks": ""
             }
            },
            "type": "scatterpolar"
           }
          ],
          "scatterpolargl": [
           {
            "marker": {
             "colorbar": {
              "outlinewidth": 0,
              "ticks": ""
             }
            },
            "type": "scatterpolargl"
           }
          ],
          "scatterternary": [
           {
            "marker": {
             "colorbar": {
              "outlinewidth": 0,
              "ticks": ""
             }
            },
            "type": "scatterternary"
           }
          ],
          "surface": [
           {
            "colorbar": {
             "outlinewidth": 0,
             "ticks": ""
            },
            "colorscale": [
             [
              0,
              "#0d0887"
             ],
             [
              0.1111111111111111,
              "#46039f"
             ],
             [
              0.2222222222222222,
              "#7201a8"
             ],
             [
              0.3333333333333333,
              "#9c179e"
             ],
             [
              0.4444444444444444,
              "#bd3786"
             ],
             [
              0.5555555555555556,
              "#d8576b"
             ],
             [
              0.6666666666666666,
              "#ed7953"
             ],
             [
              0.7777777777777778,
              "#fb9f3a"
             ],
             [
              0.8888888888888888,
              "#fdca26"
             ],
             [
              1,
              "#f0f921"
             ]
            ],
            "type": "surface"
           }
          ],
          "table": [
           {
            "cells": {
             "fill": {
              "color": "#EBF0F8"
             },
             "line": {
              "color": "white"
             }
            },
            "header": {
             "fill": {
              "color": "#C8D4E3"
             },
             "line": {
              "color": "white"
             }
            },
            "type": "table"
           }
          ]
         },
         "layout": {
          "annotationdefaults": {
           "arrowcolor": "#2a3f5f",
           "arrowhead": 0,
           "arrowwidth": 1
          },
          "autotypenumbers": "strict",
          "coloraxis": {
           "colorbar": {
            "outlinewidth": 0,
            "ticks": ""
           }
          },
          "colorscale": {
           "diverging": [
            [
             0,
             "#8e0152"
            ],
            [
             0.1,
             "#c51b7d"
            ],
            [
             0.2,
             "#de77ae"
            ],
            [
             0.3,
             "#f1b6da"
            ],
            [
             0.4,
             "#fde0ef"
            ],
            [
             0.5,
             "#f7f7f7"
            ],
            [
             0.6,
             "#e6f5d0"
            ],
            [
             0.7,
             "#b8e186"
            ],
            [
             0.8,
             "#7fbc41"
            ],
            [
             0.9,
             "#4d9221"
            ],
            [
             1,
             "#276419"
            ]
           ],
           "sequential": [
            [
             0,
             "#0d0887"
            ],
            [
             0.1111111111111111,
             "#46039f"
            ],
            [
             0.2222222222222222,
             "#7201a8"
            ],
            [
             0.3333333333333333,
             "#9c179e"
            ],
            [
             0.4444444444444444,
             "#bd3786"
            ],
            [
             0.5555555555555556,
             "#d8576b"
            ],
            [
             0.6666666666666666,
             "#ed7953"
            ],
            [
             0.7777777777777778,
             "#fb9f3a"
            ],
            [
             0.8888888888888888,
             "#fdca26"
            ],
            [
             1,
             "#f0f921"
            ]
           ],
           "sequentialminus": [
            [
             0,
             "#0d0887"
            ],
            [
             0.1111111111111111,
             "#46039f"
            ],
            [
             0.2222222222222222,
             "#7201a8"
            ],
            [
             0.3333333333333333,
             "#9c179e"
            ],
            [
             0.4444444444444444,
             "#bd3786"
            ],
            [
             0.5555555555555556,
             "#d8576b"
            ],
            [
             0.6666666666666666,
             "#ed7953"
            ],
            [
             0.7777777777777778,
             "#fb9f3a"
            ],
            [
             0.8888888888888888,
             "#fdca26"
            ],
            [
             1,
             "#f0f921"
            ]
           ]
          },
          "colorway": [
           "#636efa",
           "#EF553B",
           "#00cc96",
           "#ab63fa",
           "#FFA15A",
           "#19d3f3",
           "#FF6692",
           "#B6E880",
           "#FF97FF",
           "#FECB52"
          ],
          "font": {
           "color": "#2a3f5f"
          },
          "geo": {
           "bgcolor": "white",
           "lakecolor": "white",
           "landcolor": "#E5ECF6",
           "showlakes": true,
           "showland": true,
           "subunitcolor": "white"
          },
          "hoverlabel": {
           "align": "left"
          },
          "hovermode": "closest",
          "mapbox": {
           "style": "light"
          },
          "paper_bgcolor": "white",
          "plot_bgcolor": "#E5ECF6",
          "polar": {
           "angularaxis": {
            "gridcolor": "white",
            "linecolor": "white",
            "ticks": ""
           },
           "bgcolor": "#E5ECF6",
           "radialaxis": {
            "gridcolor": "white",
            "linecolor": "white",
            "ticks": ""
           }
          },
          "scene": {
           "xaxis": {
            "backgroundcolor": "#E5ECF6",
            "gridcolor": "white",
            "gridwidth": 2,
            "linecolor": "white",
            "showbackground": true,
            "ticks": "",
            "zerolinecolor": "white"
           },
           "yaxis": {
            "backgroundcolor": "#E5ECF6",
            "gridcolor": "white",
            "gridwidth": 2,
            "linecolor": "white",
            "showbackground": true,
            "ticks": "",
            "zerolinecolor": "white"
           },
           "zaxis": {
            "backgroundcolor": "#E5ECF6",
            "gridcolor": "white",
            "gridwidth": 2,
            "linecolor": "white",
            "showbackground": true,
            "ticks": "",
            "zerolinecolor": "white"
           }
          },
          "shapedefaults": {
           "line": {
            "color": "#2a3f5f"
           }
          },
          "ternary": {
           "aaxis": {
            "gridcolor": "white",
            "linecolor": "white",
            "ticks": ""
           },
           "baxis": {
            "gridcolor": "white",
            "linecolor": "white",
            "ticks": ""
           },
           "bgcolor": "#E5ECF6",
           "caxis": {
            "gridcolor": "white",
            "linecolor": "white",
            "ticks": ""
           }
          },
          "title": {
           "x": 0.05
          },
          "xaxis": {
           "automargin": true,
           "gridcolor": "white",
           "linecolor": "white",
           "ticks": "",
           "title": {
            "standoff": 15
           },
           "zerolinecolor": "white",
           "zerolinewidth": 2
          },
          "yaxis": {
           "automargin": true,
           "gridcolor": "white",
           "linecolor": "white",
           "ticks": "",
           "title": {
            "standoff": 15
           },
           "zerolinecolor": "white",
           "zerolinewidth": 2
          }
         }
        },
        "xaxis": {
         "anchor": "y",
         "domain": [
          0,
          1
         ],
         "title": {
          "text": "total_bill"
         }
        },
        "yaxis": {
         "anchor": "x",
         "domain": [
          0,
          1
         ],
         "title": {
          "text": "tip"
         }
        }
       }
      }
     },
     "metadata": {},
     "output_type": "display_data"
    }
   ],
   "source": [
    "# Gráfico\n",
    "px.scatter(df, x='total_bill', y='tip', color='day', hover_name='time')"
   ]
  },
  {
   "attachments": {},
   "cell_type": "markdown",
   "metadata": {},
   "source": [
    "### Gráfico de Pizza"
   ]
  },
  {
   "cell_type": "code",
   "execution_count": 14,
   "metadata": {},
   "outputs": [
    {
     "data": {
      "text/plain": [
       "day\n",
       "Sat     87\n",
       "Sun     76\n",
       "Thur    62\n",
       "Fri     19\n",
       "Name: count, dtype: int64"
      ]
     },
     "execution_count": 14,
     "metadata": {},
     "output_type": "execute_result"
    }
   ],
   "source": [
    "# criando as series por dia\n",
    "pedidos_por_dia = df['day'].value_counts()\n",
    "pedidos_por_dia"
   ]
  },
  {
   "cell_type": "code",
   "execution_count": 15,
   "metadata": {},
   "outputs": [
    {
     "data": {
      "application/vnd.plotly.v1+json": {
       "config": {
        "plotlyServerURL": "https://plot.ly"
       },
       "data": [
        {
         "domain": {
          "x": [
           0,
           1
          ],
          "y": [
           0,
           1
          ]
         },
         "hovertemplate": "day=%{label}<br>value=%{value}<extra></extra>",
         "labels": [
          "Sat",
          "Sun",
          "Thur",
          "Fri"
         ],
         "legendgroup": "",
         "name": "",
         "showlegend": true,
         "type": "pie",
         "values": [
          87,
          76,
          62,
          19
         ]
        }
       ],
       "layout": {
        "legend": {
         "tracegroupgap": 0
        },
        "margin": {
         "t": 60
        },
        "template": {
         "data": {
          "bar": [
           {
            "error_x": {
             "color": "#2a3f5f"
            },
            "error_y": {
             "color": "#2a3f5f"
            },
            "marker": {
             "line": {
              "color": "#E5ECF6",
              "width": 0.5
             },
             "pattern": {
              "fillmode": "overlay",
              "size": 10,
              "solidity": 0.2
             }
            },
            "type": "bar"
           }
          ],
          "barpolar": [
           {
            "marker": {
             "line": {
              "color": "#E5ECF6",
              "width": 0.5
             },
             "pattern": {
              "fillmode": "overlay",
              "size": 10,
              "solidity": 0.2
             }
            },
            "type": "barpolar"
           }
          ],
          "carpet": [
           {
            "aaxis": {
             "endlinecolor": "#2a3f5f",
             "gridcolor": "white",
             "linecolor": "white",
             "minorgridcolor": "white",
             "startlinecolor": "#2a3f5f"
            },
            "baxis": {
             "endlinecolor": "#2a3f5f",
             "gridcolor": "white",
             "linecolor": "white",
             "minorgridcolor": "white",
             "startlinecolor": "#2a3f5f"
            },
            "type": "carpet"
           }
          ],
          "choropleth": [
           {
            "colorbar": {
             "outlinewidth": 0,
             "ticks": ""
            },
            "type": "choropleth"
           }
          ],
          "contour": [
           {
            "colorbar": {
             "outlinewidth": 0,
             "ticks": ""
            },
            "colorscale": [
             [
              0,
              "#0d0887"
             ],
             [
              0.1111111111111111,
              "#46039f"
             ],
             [
              0.2222222222222222,
              "#7201a8"
             ],
             [
              0.3333333333333333,
              "#9c179e"
             ],
             [
              0.4444444444444444,
              "#bd3786"
             ],
             [
              0.5555555555555556,
              "#d8576b"
             ],
             [
              0.6666666666666666,
              "#ed7953"
             ],
             [
              0.7777777777777778,
              "#fb9f3a"
             ],
             [
              0.8888888888888888,
              "#fdca26"
             ],
             [
              1,
              "#f0f921"
             ]
            ],
            "type": "contour"
           }
          ],
          "contourcarpet": [
           {
            "colorbar": {
             "outlinewidth": 0,
             "ticks": ""
            },
            "type": "contourcarpet"
           }
          ],
          "heatmap": [
           {
            "colorbar": {
             "outlinewidth": 0,
             "ticks": ""
            },
            "colorscale": [
             [
              0,
              "#0d0887"
             ],
             [
              0.1111111111111111,
              "#46039f"
             ],
             [
              0.2222222222222222,
              "#7201a8"
             ],
             [
              0.3333333333333333,
              "#9c179e"
             ],
             [
              0.4444444444444444,
              "#bd3786"
             ],
             [
              0.5555555555555556,
              "#d8576b"
             ],
             [
              0.6666666666666666,
              "#ed7953"
             ],
             [
              0.7777777777777778,
              "#fb9f3a"
             ],
             [
              0.8888888888888888,
              "#fdca26"
             ],
             [
              1,
              "#f0f921"
             ]
            ],
            "type": "heatmap"
           }
          ],
          "heatmapgl": [
           {
            "colorbar": {
             "outlinewidth": 0,
             "ticks": ""
            },
            "colorscale": [
             [
              0,
              "#0d0887"
             ],
             [
              0.1111111111111111,
              "#46039f"
             ],
             [
              0.2222222222222222,
              "#7201a8"
             ],
             [
              0.3333333333333333,
              "#9c179e"
             ],
             [
              0.4444444444444444,
              "#bd3786"
             ],
             [
              0.5555555555555556,
              "#d8576b"
             ],
             [
              0.6666666666666666,
              "#ed7953"
             ],
             [
              0.7777777777777778,
              "#fb9f3a"
             ],
             [
              0.8888888888888888,
              "#fdca26"
             ],
             [
              1,
              "#f0f921"
             ]
            ],
            "type": "heatmapgl"
           }
          ],
          "histogram": [
           {
            "marker": {
             "pattern": {
              "fillmode": "overlay",
              "size": 10,
              "solidity": 0.2
             }
            },
            "type": "histogram"
           }
          ],
          "histogram2d": [
           {
            "colorbar": {
             "outlinewidth": 0,
             "ticks": ""
            },
            "colorscale": [
             [
              0,
              "#0d0887"
             ],
             [
              0.1111111111111111,
              "#46039f"
             ],
             [
              0.2222222222222222,
              "#7201a8"
             ],
             [
              0.3333333333333333,
              "#9c179e"
             ],
             [
              0.4444444444444444,
              "#bd3786"
             ],
             [
              0.5555555555555556,
              "#d8576b"
             ],
             [
              0.6666666666666666,
              "#ed7953"
             ],
             [
              0.7777777777777778,
              "#fb9f3a"
             ],
             [
              0.8888888888888888,
              "#fdca26"
             ],
             [
              1,
              "#f0f921"
             ]
            ],
            "type": "histogram2d"
           }
          ],
          "histogram2dcontour": [
           {
            "colorbar": {
             "outlinewidth": 0,
             "ticks": ""
            },
            "colorscale": [
             [
              0,
              "#0d0887"
             ],
             [
              0.1111111111111111,
              "#46039f"
             ],
             [
              0.2222222222222222,
              "#7201a8"
             ],
             [
              0.3333333333333333,
              "#9c179e"
             ],
             [
              0.4444444444444444,
              "#bd3786"
             ],
             [
              0.5555555555555556,
              "#d8576b"
             ],
             [
              0.6666666666666666,
              "#ed7953"
             ],
             [
              0.7777777777777778,
              "#fb9f3a"
             ],
             [
              0.8888888888888888,
              "#fdca26"
             ],
             [
              1,
              "#f0f921"
             ]
            ],
            "type": "histogram2dcontour"
           }
          ],
          "mesh3d": [
           {
            "colorbar": {
             "outlinewidth": 0,
             "ticks": ""
            },
            "type": "mesh3d"
           }
          ],
          "parcoords": [
           {
            "line": {
             "colorbar": {
              "outlinewidth": 0,
              "ticks": ""
             }
            },
            "type": "parcoords"
           }
          ],
          "pie": [
           {
            "automargin": true,
            "type": "pie"
           }
          ],
          "scatter": [
           {
            "fillpattern": {
             "fillmode": "overlay",
             "size": 10,
             "solidity": 0.2
            },
            "type": "scatter"
           }
          ],
          "scatter3d": [
           {
            "line": {
             "colorbar": {
              "outlinewidth": 0,
              "ticks": ""
             }
            },
            "marker": {
             "colorbar": {
              "outlinewidth": 0,
              "ticks": ""
             }
            },
            "type": "scatter3d"
           }
          ],
          "scattercarpet": [
           {
            "marker": {
             "colorbar": {
              "outlinewidth": 0,
              "ticks": ""
             }
            },
            "type": "scattercarpet"
           }
          ],
          "scattergeo": [
           {
            "marker": {
             "colorbar": {
              "outlinewidth": 0,
              "ticks": ""
             }
            },
            "type": "scattergeo"
           }
          ],
          "scattergl": [
           {
            "marker": {
             "colorbar": {
              "outlinewidth": 0,
              "ticks": ""
             }
            },
            "type": "scattergl"
           }
          ],
          "scattermapbox": [
           {
            "marker": {
             "colorbar": {
              "outlinewidth": 0,
              "ticks": ""
             }
            },
            "type": "scattermapbox"
           }
          ],
          "scatterpolar": [
           {
            "marker": {
             "colorbar": {
              "outlinewidth": 0,
              "ticks": ""
             }
            },
            "type": "scatterpolar"
           }
          ],
          "scatterpolargl": [
           {
            "marker": {
             "colorbar": {
              "outlinewidth": 0,
              "ticks": ""
             }
            },
            "type": "scatterpolargl"
           }
          ],
          "scatterternary": [
           {
            "marker": {
             "colorbar": {
              "outlinewidth": 0,
              "ticks": ""
             }
            },
            "type": "scatterternary"
           }
          ],
          "surface": [
           {
            "colorbar": {
             "outlinewidth": 0,
             "ticks": ""
            },
            "colorscale": [
             [
              0,
              "#0d0887"
             ],
             [
              0.1111111111111111,
              "#46039f"
             ],
             [
              0.2222222222222222,
              "#7201a8"
             ],
             [
              0.3333333333333333,
              "#9c179e"
             ],
             [
              0.4444444444444444,
              "#bd3786"
             ],
             [
              0.5555555555555556,
              "#d8576b"
             ],
             [
              0.6666666666666666,
              "#ed7953"
             ],
             [
              0.7777777777777778,
              "#fb9f3a"
             ],
             [
              0.8888888888888888,
              "#fdca26"
             ],
             [
              1,
              "#f0f921"
             ]
            ],
            "type": "surface"
           }
          ],
          "table": [
           {
            "cells": {
             "fill": {
              "color": "#EBF0F8"
             },
             "line": {
              "color": "white"
             }
            },
            "header": {
             "fill": {
              "color": "#C8D4E3"
             },
             "line": {
              "color": "white"
             }
            },
            "type": "table"
           }
          ]
         },
         "layout": {
          "annotationdefaults": {
           "arrowcolor": "#2a3f5f",
           "arrowhead": 0,
           "arrowwidth": 1
          },
          "autotypenumbers": "strict",
          "coloraxis": {
           "colorbar": {
            "outlinewidth": 0,
            "ticks": ""
           }
          },
          "colorscale": {
           "diverging": [
            [
             0,
             "#8e0152"
            ],
            [
             0.1,
             "#c51b7d"
            ],
            [
             0.2,
             "#de77ae"
            ],
            [
             0.3,
             "#f1b6da"
            ],
            [
             0.4,
             "#fde0ef"
            ],
            [
             0.5,
             "#f7f7f7"
            ],
            [
             0.6,
             "#e6f5d0"
            ],
            [
             0.7,
             "#b8e186"
            ],
            [
             0.8,
             "#7fbc41"
            ],
            [
             0.9,
             "#4d9221"
            ],
            [
             1,
             "#276419"
            ]
           ],
           "sequential": [
            [
             0,
             "#0d0887"
            ],
            [
             0.1111111111111111,
             "#46039f"
            ],
            [
             0.2222222222222222,
             "#7201a8"
            ],
            [
             0.3333333333333333,
             "#9c179e"
            ],
            [
             0.4444444444444444,
             "#bd3786"
            ],
            [
             0.5555555555555556,
             "#d8576b"
            ],
            [
             0.6666666666666666,
             "#ed7953"
            ],
            [
             0.7777777777777778,
             "#fb9f3a"
            ],
            [
             0.8888888888888888,
             "#fdca26"
            ],
            [
             1,
             "#f0f921"
            ]
           ],
           "sequentialminus": [
            [
             0,
             "#0d0887"
            ],
            [
             0.1111111111111111,
             "#46039f"
            ],
            [
             0.2222222222222222,
             "#7201a8"
            ],
            [
             0.3333333333333333,
             "#9c179e"
            ],
            [
             0.4444444444444444,
             "#bd3786"
            ],
            [
             0.5555555555555556,
             "#d8576b"
            ],
            [
             0.6666666666666666,
             "#ed7953"
            ],
            [
             0.7777777777777778,
             "#fb9f3a"
            ],
            [
             0.8888888888888888,
             "#fdca26"
            ],
            [
             1,
             "#f0f921"
            ]
           ]
          },
          "colorway": [
           "#636efa",
           "#EF553B",
           "#00cc96",
           "#ab63fa",
           "#FFA15A",
           "#19d3f3",
           "#FF6692",
           "#B6E880",
           "#FF97FF",
           "#FECB52"
          ],
          "font": {
           "color": "#2a3f5f"
          },
          "geo": {
           "bgcolor": "white",
           "lakecolor": "white",
           "landcolor": "#E5ECF6",
           "showlakes": true,
           "showland": true,
           "subunitcolor": "white"
          },
          "hoverlabel": {
           "align": "left"
          },
          "hovermode": "closest",
          "mapbox": {
           "style": "light"
          },
          "paper_bgcolor": "white",
          "plot_bgcolor": "#E5ECF6",
          "polar": {
           "angularaxis": {
            "gridcolor": "white",
            "linecolor": "white",
            "ticks": ""
           },
           "bgcolor": "#E5ECF6",
           "radialaxis": {
            "gridcolor": "white",
            "linecolor": "white",
            "ticks": ""
           }
          },
          "scene": {
           "xaxis": {
            "backgroundcolor": "#E5ECF6",
            "gridcolor": "white",
            "gridwidth": 2,
            "linecolor": "white",
            "showbackground": true,
            "ticks": "",
            "zerolinecolor": "white"
           },
           "yaxis": {
            "backgroundcolor": "#E5ECF6",
            "gridcolor": "white",
            "gridwidth": 2,
            "linecolor": "white",
            "showbackground": true,
            "ticks": "",
            "zerolinecolor": "white"
           },
           "zaxis": {
            "backgroundcolor": "#E5ECF6",
            "gridcolor": "white",
            "gridwidth": 2,
            "linecolor": "white",
            "showbackground": true,
            "ticks": "",
            "zerolinecolor": "white"
           }
          },
          "shapedefaults": {
           "line": {
            "color": "#2a3f5f"
           }
          },
          "ternary": {
           "aaxis": {
            "gridcolor": "white",
            "linecolor": "white",
            "ticks": ""
           },
           "baxis": {
            "gridcolor": "white",
            "linecolor": "white",
            "ticks": ""
           },
           "bgcolor": "#E5ECF6",
           "caxis": {
            "gridcolor": "white",
            "linecolor": "white",
            "ticks": ""
           }
          },
          "title": {
           "x": 0.05
          },
          "xaxis": {
           "automargin": true,
           "gridcolor": "white",
           "linecolor": "white",
           "ticks": "",
           "title": {
            "standoff": 15
           },
           "zerolinecolor": "white",
           "zerolinewidth": 2
          },
          "yaxis": {
           "automargin": true,
           "gridcolor": "white",
           "linecolor": "white",
           "ticks": "",
           "title": {
            "standoff": 15
           },
           "zerolinecolor": "white",
           "zerolinewidth": 2
          }
         }
        }
       }
      }
     },
     "metadata": {},
     "output_type": "display_data"
    }
   ],
   "source": [
    "# gráfico\n",
    "px.pie(pedidos_por_dia, names=pedidos_por_dia.index, values=pedidos_por_dia.values)"
   ]
  },
  {
   "cell_type": "markdown",
   "metadata": {},
   "source": [
    "### Gráficos Estatísticos I: Histograma e Distribuição"
   ]
  },
  {
   "cell_type": "code",
   "execution_count": 16,
   "metadata": {},
   "outputs": [
    {
     "data": {
      "text/html": [
       "<div>\n",
       "<style scoped>\n",
       "    .dataframe tbody tr th:only-of-type {\n",
       "        vertical-align: middle;\n",
       "    }\n",
       "\n",
       "    .dataframe tbody tr th {\n",
       "        vertical-align: top;\n",
       "    }\n",
       "\n",
       "    .dataframe thead th {\n",
       "        text-align: right;\n",
       "    }\n",
       "</style>\n",
       "<table border=\"1\" class=\"dataframe\">\n",
       "  <thead>\n",
       "    <tr style=\"text-align: right;\">\n",
       "      <th></th>\n",
       "      <th>total_bill</th>\n",
       "      <th>tip</th>\n",
       "      <th>sex</th>\n",
       "      <th>smoker</th>\n",
       "      <th>day</th>\n",
       "      <th>time</th>\n",
       "      <th>size</th>\n",
       "    </tr>\n",
       "  </thead>\n",
       "  <tbody>\n",
       "    <tr>\n",
       "      <th>0</th>\n",
       "      <td>16.99</td>\n",
       "      <td>1.01</td>\n",
       "      <td>Female</td>\n",
       "      <td>No</td>\n",
       "      <td>Sun</td>\n",
       "      <td>Dinner</td>\n",
       "      <td>2</td>\n",
       "    </tr>\n",
       "    <tr>\n",
       "      <th>1</th>\n",
       "      <td>10.34</td>\n",
       "      <td>1.66</td>\n",
       "      <td>Male</td>\n",
       "      <td>No</td>\n",
       "      <td>Sun</td>\n",
       "      <td>Dinner</td>\n",
       "      <td>3</td>\n",
       "    </tr>\n",
       "    <tr>\n",
       "      <th>2</th>\n",
       "      <td>21.01</td>\n",
       "      <td>3.50</td>\n",
       "      <td>Male</td>\n",
       "      <td>No</td>\n",
       "      <td>Sun</td>\n",
       "      <td>Dinner</td>\n",
       "      <td>3</td>\n",
       "    </tr>\n",
       "    <tr>\n",
       "      <th>3</th>\n",
       "      <td>23.68</td>\n",
       "      <td>3.31</td>\n",
       "      <td>Male</td>\n",
       "      <td>No</td>\n",
       "      <td>Sun</td>\n",
       "      <td>Dinner</td>\n",
       "      <td>2</td>\n",
       "    </tr>\n",
       "    <tr>\n",
       "      <th>4</th>\n",
       "      <td>24.59</td>\n",
       "      <td>3.61</td>\n",
       "      <td>Female</td>\n",
       "      <td>No</td>\n",
       "      <td>Sun</td>\n",
       "      <td>Dinner</td>\n",
       "      <td>4</td>\n",
       "    </tr>\n",
       "  </tbody>\n",
       "</table>\n",
       "</div>"
      ],
      "text/plain": [
       "   total_bill   tip     sex smoker  day    time  size\n",
       "0       16.99  1.01  Female     No  Sun  Dinner     2\n",
       "1       10.34  1.66    Male     No  Sun  Dinner     3\n",
       "2       21.01  3.50    Male     No  Sun  Dinner     3\n",
       "3       23.68  3.31    Male     No  Sun  Dinner     2\n",
       "4       24.59  3.61  Female     No  Sun  Dinner     4"
      ]
     },
     "execution_count": 16,
     "metadata": {},
     "output_type": "execute_result"
    }
   ],
   "source": [
    "# dados\n",
    "df.head()"
   ]
  },
  {
   "cell_type": "markdown",
   "metadata": {},
   "source": [
    "#### Histograma"
   ]
  },
  {
   "cell_type": "code",
   "execution_count": 17,
   "metadata": {},
   "outputs": [
    {
     "data": {
      "application/vnd.plotly.v1+json": {
       "config": {
        "plotlyServerURL": "https://plot.ly"
       },
       "data": [
        {
         "alignmentgroup": "True",
         "bingroup": "x",
         "histnorm": "probability density",
         "hovertemplate": "sex=Female<br>total_bill=%{x}<br>probability density=%{y}<extra></extra>",
         "legendgroup": "Female",
         "marker": {
          "color": "purple",
          "pattern": {
           "shape": ""
          }
         },
         "name": "Female",
         "nbinsx": 25,
         "offsetgroup": "Female",
         "orientation": "v",
         "showlegend": true,
         "type": "histogram",
         "x": [
          16.99,
          24.59,
          35.26,
          14.83,
          10.33,
          16.97,
          20.29,
          15.77,
          19.65,
          15.06,
          20.69,
          16.93,
          10.29,
          34.81,
          26.41,
          16.45,
          3.07,
          17.07,
          26.86,
          25.28,
          14.73,
          10.07,
          34.83,
          5.75,
          16.32,
          22.75,
          11.35,
          15.38,
          44.3,
          22.42,
          20.92,
          14.31,
          7.25,
          25.71,
          17.31,
          10.65,
          12.43,
          24.08,
          13.42,
          12.48,
          29.8,
          14.52,
          11.38,
          20.27,
          11.17,
          12.26,
          18.26,
          8.51,
          10.33,
          14.15,
          13.16,
          17.47,
          27.05,
          16.43,
          8.35,
          18.64,
          11.87,
          29.85,
          25,
          13.39,
          16.21,
          17.51,
          10.59,
          10.63,
          9.6,
          20.9,
          18.15,
          19.81,
          43.11,
          13,
          12.74,
          13,
          16.4,
          16.47,
          12.76,
          13.27,
          28.17,
          12.9,
          30.14,
          13.42,
          15.98,
          16.27,
          10.09,
          22.12,
          35.83,
          27.18,
          18.78
         ],
         "xaxis": "x",
         "yaxis": "y"
        },
        {
         "alignmentgroup": "True",
         "boxpoints": "all",
         "fillcolor": "rgba(255,255,255,0)",
         "hoveron": "points",
         "hovertemplate": "sex=Female<br>total_bill=%{x}<extra></extra>",
         "jitter": 0,
         "legendgroup": "Female",
         "line": {
          "color": "rgba(255,255,255,0)"
         },
         "marker": {
          "color": "purple",
          "symbol": "line-ns-open"
         },
         "name": "Female",
         "offsetgroup": "Female",
         "showlegend": false,
         "type": "box",
         "x": [
          16.99,
          24.59,
          35.26,
          14.83,
          10.33,
          16.97,
          20.29,
          15.77,
          19.65,
          15.06,
          20.69,
          16.93,
          10.29,
          34.81,
          26.41,
          16.45,
          3.07,
          17.07,
          26.86,
          25.28,
          14.73,
          10.07,
          34.83,
          5.75,
          16.32,
          22.75,
          11.35,
          15.38,
          44.3,
          22.42,
          20.92,
          14.31,
          7.25,
          25.71,
          17.31,
          10.65,
          12.43,
          24.08,
          13.42,
          12.48,
          29.8,
          14.52,
          11.38,
          20.27,
          11.17,
          12.26,
          18.26,
          8.51,
          10.33,
          14.15,
          13.16,
          17.47,
          27.05,
          16.43,
          8.35,
          18.64,
          11.87,
          29.85,
          25,
          13.39,
          16.21,
          17.51,
          10.59,
          10.63,
          9.6,
          20.9,
          18.15,
          19.81,
          43.11,
          13,
          12.74,
          13,
          16.4,
          16.47,
          12.76,
          13.27,
          28.17,
          12.9,
          30.14,
          13.42,
          15.98,
          16.27,
          10.09,
          22.12,
          35.83,
          27.18,
          18.78
         ],
         "xaxis": "x2",
         "yaxis": "y2"
        },
        {
         "alignmentgroup": "True",
         "bingroup": "x",
         "histnorm": "probability density",
         "hovertemplate": "sex=Male<br>total_bill=%{x}<br>probability density=%{y}<extra></extra>",
         "legendgroup": "Male",
         "marker": {
          "color": "cyan",
          "pattern": {
           "shape": ""
          }
         },
         "name": "Male",
         "nbinsx": 25,
         "offsetgroup": "Male",
         "orientation": "v",
         "showlegend": true,
         "type": "histogram",
         "x": [
          10.34,
          21.01,
          23.68,
          25.29,
          8.77,
          26.88,
          15.04,
          14.78,
          10.27,
          15.42,
          18.43,
          21.58,
          16.29,
          20.65,
          17.92,
          39.42,
          19.82,
          17.81,
          13.37,
          12.69,
          21.7,
          9.55,
          18.35,
          17.78,
          24.06,
          16.31,
          18.69,
          31.27,
          16.04,
          17.46,
          13.94,
          9.68,
          30.4,
          18.29,
          22.23,
          32.4,
          28.55,
          18.04,
          12.54,
          9.94,
          25.56,
          19.49,
          38.01,
          11.24,
          48.27,
          20.29,
          13.81,
          11.02,
          18.29,
          17.59,
          20.08,
          20.23,
          15.01,
          12.02,
          10.51,
          17.92,
          27.2,
          22.76,
          17.29,
          19.44,
          16.66,
          32.68,
          15.98,
          13.03,
          18.28,
          24.71,
          21.16,
          28.97,
          22.49,
          40.17,
          27.28,
          12.03,
          21.01,
          12.46,
          15.36,
          20.49,
          25.21,
          18.24,
          14,
          38.07,
          23.95,
          29.93,
          11.69,
          14.26,
          15.95,
          8.52,
          22.82,
          19.08,
          16,
          34.3,
          41.19,
          9.78,
          7.51,
          14.07,
          13.13,
          17.26,
          24.55,
          19.77,
          48.17,
          16.49,
          21.5,
          12.66,
          13.81,
          24.52,
          20.76,
          31.71,
          50.81,
          15.81,
          7.25,
          31.85,
          16.82,
          32.9,
          17.89,
          14.48,
          34.63,
          34.65,
          23.33,
          45.35,
          23.17,
          40.55,
          20.69,
          30.46,
          23.1,
          15.69,
          28.44,
          15.48,
          16.58,
          7.56,
          10.34,
          13.51,
          18.71,
          20.53,
          26.59,
          38.73,
          24.27,
          30.06,
          25.89,
          48.33,
          28.15,
          11.59,
          7.74,
          12.16,
          8.58,
          13.42,
          20.45,
          13.28,
          24.01,
          15.69,
          11.61,
          10.77,
          15.53,
          10.07,
          12.6,
          32.83,
          29.03,
          22.67,
          17.82
         ],
         "xaxis": "x",
         "yaxis": "y"
        },
        {
         "alignmentgroup": "True",
         "boxpoints": "all",
         "fillcolor": "rgba(255,255,255,0)",
         "hoveron": "points",
         "hovertemplate": "sex=Male<br>total_bill=%{x}<extra></extra>",
         "jitter": 0,
         "legendgroup": "Male",
         "line": {
          "color": "rgba(255,255,255,0)"
         },
         "marker": {
          "color": "cyan",
          "symbol": "line-ns-open"
         },
         "name": "Male",
         "offsetgroup": "Male",
         "showlegend": false,
         "type": "box",
         "x": [
          10.34,
          21.01,
          23.68,
          25.29,
          8.77,
          26.88,
          15.04,
          14.78,
          10.27,
          15.42,
          18.43,
          21.58,
          16.29,
          20.65,
          17.92,
          39.42,
          19.82,
          17.81,
          13.37,
          12.69,
          21.7,
          9.55,
          18.35,
          17.78,
          24.06,
          16.31,
          18.69,
          31.27,
          16.04,
          17.46,
          13.94,
          9.68,
          30.4,
          18.29,
          22.23,
          32.4,
          28.55,
          18.04,
          12.54,
          9.94,
          25.56,
          19.49,
          38.01,
          11.24,
          48.27,
          20.29,
          13.81,
          11.02,
          18.29,
          17.59,
          20.08,
          20.23,
          15.01,
          12.02,
          10.51,
          17.92,
          27.2,
          22.76,
          17.29,
          19.44,
          16.66,
          32.68,
          15.98,
          13.03,
          18.28,
          24.71,
          21.16,
          28.97,
          22.49,
          40.17,
          27.28,
          12.03,
          21.01,
          12.46,
          15.36,
          20.49,
          25.21,
          18.24,
          14,
          38.07,
          23.95,
          29.93,
          11.69,
          14.26,
          15.95,
          8.52,
          22.82,
          19.08,
          16,
          34.3,
          41.19,
          9.78,
          7.51,
          14.07,
          13.13,
          17.26,
          24.55,
          19.77,
          48.17,
          16.49,
          21.5,
          12.66,
          13.81,
          24.52,
          20.76,
          31.71,
          50.81,
          15.81,
          7.25,
          31.85,
          16.82,
          32.9,
          17.89,
          14.48,
          34.63,
          34.65,
          23.33,
          45.35,
          23.17,
          40.55,
          20.69,
          30.46,
          23.1,
          15.69,
          28.44,
          15.48,
          16.58,
          7.56,
          10.34,
          13.51,
          18.71,
          20.53,
          26.59,
          38.73,
          24.27,
          30.06,
          25.89,
          48.33,
          28.15,
          11.59,
          7.74,
          12.16,
          8.58,
          13.42,
          20.45,
          13.28,
          24.01,
          15.69,
          11.61,
          10.77,
          15.53,
          10.07,
          12.6,
          32.83,
          29.03,
          22.67,
          17.82
         ],
         "xaxis": "x2",
         "yaxis": "y2"
        }
       ],
       "layout": {
        "barmode": "relative",
        "legend": {
         "title": {
          "text": "sex"
         },
         "tracegroupgap": 0
        },
        "template": {
         "data": {
          "bar": [
           {
            "error_x": {
             "color": "#2a3f5f"
            },
            "error_y": {
             "color": "#2a3f5f"
            },
            "marker": {
             "line": {
              "color": "#E5ECF6",
              "width": 0.5
             },
             "pattern": {
              "fillmode": "overlay",
              "size": 10,
              "solidity": 0.2
             }
            },
            "type": "bar"
           }
          ],
          "barpolar": [
           {
            "marker": {
             "line": {
              "color": "#E5ECF6",
              "width": 0.5
             },
             "pattern": {
              "fillmode": "overlay",
              "size": 10,
              "solidity": 0.2
             }
            },
            "type": "barpolar"
           }
          ],
          "carpet": [
           {
            "aaxis": {
             "endlinecolor": "#2a3f5f",
             "gridcolor": "white",
             "linecolor": "white",
             "minorgridcolor": "white",
             "startlinecolor": "#2a3f5f"
            },
            "baxis": {
             "endlinecolor": "#2a3f5f",
             "gridcolor": "white",
             "linecolor": "white",
             "minorgridcolor": "white",
             "startlinecolor": "#2a3f5f"
            },
            "type": "carpet"
           }
          ],
          "choropleth": [
           {
            "colorbar": {
             "outlinewidth": 0,
             "ticks": ""
            },
            "type": "choropleth"
           }
          ],
          "contour": [
           {
            "colorbar": {
             "outlinewidth": 0,
             "ticks": ""
            },
            "colorscale": [
             [
              0,
              "#0d0887"
             ],
             [
              0.1111111111111111,
              "#46039f"
             ],
             [
              0.2222222222222222,
              "#7201a8"
             ],
             [
              0.3333333333333333,
              "#9c179e"
             ],
             [
              0.4444444444444444,
              "#bd3786"
             ],
             [
              0.5555555555555556,
              "#d8576b"
             ],
             [
              0.6666666666666666,
              "#ed7953"
             ],
             [
              0.7777777777777778,
              "#fb9f3a"
             ],
             [
              0.8888888888888888,
              "#fdca26"
             ],
             [
              1,
              "#f0f921"
             ]
            ],
            "type": "contour"
           }
          ],
          "contourcarpet": [
           {
            "colorbar": {
             "outlinewidth": 0,
             "ticks": ""
            },
            "type": "contourcarpet"
           }
          ],
          "heatmap": [
           {
            "colorbar": {
             "outlinewidth": 0,
             "ticks": ""
            },
            "colorscale": [
             [
              0,
              "#0d0887"
             ],
             [
              0.1111111111111111,
              "#46039f"
             ],
             [
              0.2222222222222222,
              "#7201a8"
             ],
             [
              0.3333333333333333,
              "#9c179e"
             ],
             [
              0.4444444444444444,
              "#bd3786"
             ],
             [
              0.5555555555555556,
              "#d8576b"
             ],
             [
              0.6666666666666666,
              "#ed7953"
             ],
             [
              0.7777777777777778,
              "#fb9f3a"
             ],
             [
              0.8888888888888888,
              "#fdca26"
             ],
             [
              1,
              "#f0f921"
             ]
            ],
            "type": "heatmap"
           }
          ],
          "heatmapgl": [
           {
            "colorbar": {
             "outlinewidth": 0,
             "ticks": ""
            },
            "colorscale": [
             [
              0,
              "#0d0887"
             ],
             [
              0.1111111111111111,
              "#46039f"
             ],
             [
              0.2222222222222222,
              "#7201a8"
             ],
             [
              0.3333333333333333,
              "#9c179e"
             ],
             [
              0.4444444444444444,
              "#bd3786"
             ],
             [
              0.5555555555555556,
              "#d8576b"
             ],
             [
              0.6666666666666666,
              "#ed7953"
             ],
             [
              0.7777777777777778,
              "#fb9f3a"
             ],
             [
              0.8888888888888888,
              "#fdca26"
             ],
             [
              1,
              "#f0f921"
             ]
            ],
            "type": "heatmapgl"
           }
          ],
          "histogram": [
           {
            "marker": {
             "pattern": {
              "fillmode": "overlay",
              "size": 10,
              "solidity": 0.2
             }
            },
            "type": "histogram"
           }
          ],
          "histogram2d": [
           {
            "colorbar": {
             "outlinewidth": 0,
             "ticks": ""
            },
            "colorscale": [
             [
              0,
              "#0d0887"
             ],
             [
              0.1111111111111111,
              "#46039f"
             ],
             [
              0.2222222222222222,
              "#7201a8"
             ],
             [
              0.3333333333333333,
              "#9c179e"
             ],
             [
              0.4444444444444444,
              "#bd3786"
             ],
             [
              0.5555555555555556,
              "#d8576b"
             ],
             [
              0.6666666666666666,
              "#ed7953"
             ],
             [
              0.7777777777777778,
              "#fb9f3a"
             ],
             [
              0.8888888888888888,
              "#fdca26"
             ],
             [
              1,
              "#f0f921"
             ]
            ],
            "type": "histogram2d"
           }
          ],
          "histogram2dcontour": [
           {
            "colorbar": {
             "outlinewidth": 0,
             "ticks": ""
            },
            "colorscale": [
             [
              0,
              "#0d0887"
             ],
             [
              0.1111111111111111,
              "#46039f"
             ],
             [
              0.2222222222222222,
              "#7201a8"
             ],
             [
              0.3333333333333333,
              "#9c179e"
             ],
             [
              0.4444444444444444,
              "#bd3786"
             ],
             [
              0.5555555555555556,
              "#d8576b"
             ],
             [
              0.6666666666666666,
              "#ed7953"
             ],
             [
              0.7777777777777778,
              "#fb9f3a"
             ],
             [
              0.8888888888888888,
              "#fdca26"
             ],
             [
              1,
              "#f0f921"
             ]
            ],
            "type": "histogram2dcontour"
           }
          ],
          "mesh3d": [
           {
            "colorbar": {
             "outlinewidth": 0,
             "ticks": ""
            },
            "type": "mesh3d"
           }
          ],
          "parcoords": [
           {
            "line": {
             "colorbar": {
              "outlinewidth": 0,
              "ticks": ""
             }
            },
            "type": "parcoords"
           }
          ],
          "pie": [
           {
            "automargin": true,
            "type": "pie"
           }
          ],
          "scatter": [
           {
            "fillpattern": {
             "fillmode": "overlay",
             "size": 10,
             "solidity": 0.2
            },
            "type": "scatter"
           }
          ],
          "scatter3d": [
           {
            "line": {
             "colorbar": {
              "outlinewidth": 0,
              "ticks": ""
             }
            },
            "marker": {
             "colorbar": {
              "outlinewidth": 0,
              "ticks": ""
             }
            },
            "type": "scatter3d"
           }
          ],
          "scattercarpet": [
           {
            "marker": {
             "colorbar": {
              "outlinewidth": 0,
              "ticks": ""
             }
            },
            "type": "scattercarpet"
           }
          ],
          "scattergeo": [
           {
            "marker": {
             "colorbar": {
              "outlinewidth": 0,
              "ticks": ""
             }
            },
            "type": "scattergeo"
           }
          ],
          "scattergl": [
           {
            "marker": {
             "colorbar": {
              "outlinewidth": 0,
              "ticks": ""
             }
            },
            "type": "scattergl"
           }
          ],
          "scattermapbox": [
           {
            "marker": {
             "colorbar": {
              "outlinewidth": 0,
              "ticks": ""
             }
            },
            "type": "scattermapbox"
           }
          ],
          "scatterpolar": [
           {
            "marker": {
             "colorbar": {
              "outlinewidth": 0,
              "ticks": ""
             }
            },
            "type": "scatterpolar"
           }
          ],
          "scatterpolargl": [
           {
            "marker": {
             "colorbar": {
              "outlinewidth": 0,
              "ticks": ""
             }
            },
            "type": "scatterpolargl"
           }
          ],
          "scatterternary": [
           {
            "marker": {
             "colorbar": {
              "outlinewidth": 0,
              "ticks": ""
             }
            },
            "type": "scatterternary"
           }
          ],
          "surface": [
           {
            "colorbar": {
             "outlinewidth": 0,
             "ticks": ""
            },
            "colorscale": [
             [
              0,
              "#0d0887"
             ],
             [
              0.1111111111111111,
              "#46039f"
             ],
             [
              0.2222222222222222,
              "#7201a8"
             ],
             [
              0.3333333333333333,
              "#9c179e"
             ],
             [
              0.4444444444444444,
              "#bd3786"
             ],
             [
              0.5555555555555556,
              "#d8576b"
             ],
             [
              0.6666666666666666,
              "#ed7953"
             ],
             [
              0.7777777777777778,
              "#fb9f3a"
             ],
             [
              0.8888888888888888,
              "#fdca26"
             ],
             [
              1,
              "#f0f921"
             ]
            ],
            "type": "surface"
           }
          ],
          "table": [
           {
            "cells": {
             "fill": {
              "color": "#EBF0F8"
             },
             "line": {
              "color": "white"
             }
            },
            "header": {
             "fill": {
              "color": "#C8D4E3"
             },
             "line": {
              "color": "white"
             }
            },
            "type": "table"
           }
          ]
         },
         "layout": {
          "annotationdefaults": {
           "arrowcolor": "#2a3f5f",
           "arrowhead": 0,
           "arrowwidth": 1
          },
          "autotypenumbers": "strict",
          "coloraxis": {
           "colorbar": {
            "outlinewidth": 0,
            "ticks": ""
           }
          },
          "colorscale": {
           "diverging": [
            [
             0,
             "#8e0152"
            ],
            [
             0.1,
             "#c51b7d"
            ],
            [
             0.2,
             "#de77ae"
            ],
            [
             0.3,
             "#f1b6da"
            ],
            [
             0.4,
             "#fde0ef"
            ],
            [
             0.5,
             "#f7f7f7"
            ],
            [
             0.6,
             "#e6f5d0"
            ],
            [
             0.7,
             "#b8e186"
            ],
            [
             0.8,
             "#7fbc41"
            ],
            [
             0.9,
             "#4d9221"
            ],
            [
             1,
             "#276419"
            ]
           ],
           "sequential": [
            [
             0,
             "#0d0887"
            ],
            [
             0.1111111111111111,
             "#46039f"
            ],
            [
             0.2222222222222222,
             "#7201a8"
            ],
            [
             0.3333333333333333,
             "#9c179e"
            ],
            [
             0.4444444444444444,
             "#bd3786"
            ],
            [
             0.5555555555555556,
             "#d8576b"
            ],
            [
             0.6666666666666666,
             "#ed7953"
            ],
            [
             0.7777777777777778,
             "#fb9f3a"
            ],
            [
             0.8888888888888888,
             "#fdca26"
            ],
            [
             1,
             "#f0f921"
            ]
           ],
           "sequentialminus": [
            [
             0,
             "#0d0887"
            ],
            [
             0.1111111111111111,
             "#46039f"
            ],
            [
             0.2222222222222222,
             "#7201a8"
            ],
            [
             0.3333333333333333,
             "#9c179e"
            ],
            [
             0.4444444444444444,
             "#bd3786"
            ],
            [
             0.5555555555555556,
             "#d8576b"
            ],
            [
             0.6666666666666666,
             "#ed7953"
            ],
            [
             0.7777777777777778,
             "#fb9f3a"
            ],
            [
             0.8888888888888888,
             "#fdca26"
            ],
            [
             1,
             "#f0f921"
            ]
           ]
          },
          "colorway": [
           "#636efa",
           "#EF553B",
           "#00cc96",
           "#ab63fa",
           "#FFA15A",
           "#19d3f3",
           "#FF6692",
           "#B6E880",
           "#FF97FF",
           "#FECB52"
          ],
          "font": {
           "color": "#2a3f5f"
          },
          "geo": {
           "bgcolor": "white",
           "lakecolor": "white",
           "landcolor": "#E5ECF6",
           "showlakes": true,
           "showland": true,
           "subunitcolor": "white"
          },
          "hoverlabel": {
           "align": "left"
          },
          "hovermode": "closest",
          "mapbox": {
           "style": "light"
          },
          "paper_bgcolor": "white",
          "plot_bgcolor": "#E5ECF6",
          "polar": {
           "angularaxis": {
            "gridcolor": "white",
            "linecolor": "white",
            "ticks": ""
           },
           "bgcolor": "#E5ECF6",
           "radialaxis": {
            "gridcolor": "white",
            "linecolor": "white",
            "ticks": ""
           }
          },
          "scene": {
           "xaxis": {
            "backgroundcolor": "#E5ECF6",
            "gridcolor": "white",
            "gridwidth": 2,
            "linecolor": "white",
            "showbackground": true,
            "ticks": "",
            "zerolinecolor": "white"
           },
           "yaxis": {
            "backgroundcolor": "#E5ECF6",
            "gridcolor": "white",
            "gridwidth": 2,
            "linecolor": "white",
            "showbackground": true,
            "ticks": "",
            "zerolinecolor": "white"
           },
           "zaxis": {
            "backgroundcolor": "#E5ECF6",
            "gridcolor": "white",
            "gridwidth": 2,
            "linecolor": "white",
            "showbackground": true,
            "ticks": "",
            "zerolinecolor": "white"
           }
          },
          "shapedefaults": {
           "line": {
            "color": "#2a3f5f"
           }
          },
          "ternary": {
           "aaxis": {
            "gridcolor": "white",
            "linecolor": "white",
            "ticks": ""
           },
           "baxis": {
            "gridcolor": "white",
            "linecolor": "white",
            "ticks": ""
           },
           "bgcolor": "#E5ECF6",
           "caxis": {
            "gridcolor": "white",
            "linecolor": "white",
            "ticks": ""
           }
          },
          "title": {
           "x": 0.05
          },
          "xaxis": {
           "automargin": true,
           "gridcolor": "white",
           "linecolor": "white",
           "ticks": "",
           "title": {
            "standoff": 15
           },
           "zerolinecolor": "white",
           "zerolinewidth": 2
          },
          "yaxis": {
           "automargin": true,
           "gridcolor": "white",
           "linecolor": "white",
           "ticks": "",
           "title": {
            "standoff": 15
           },
           "zerolinecolor": "white",
           "zerolinewidth": 2
          }
         }
        },
        "title": {
         "text": "Taxa pagas por sexo"
        },
        "xaxis": {
         "anchor": "y",
         "domain": [
          0,
          1
         ],
         "title": {
          "text": "total_bill"
         }
        },
        "xaxis2": {
         "anchor": "y2",
         "domain": [
          0,
          1
         ],
         "matches": "x",
         "showgrid": true,
         "showticklabels": false
        },
        "yaxis": {
         "anchor": "x",
         "domain": [
          0,
          0.7326
         ],
         "title": {
          "text": "probability density"
         }
        },
        "yaxis2": {
         "anchor": "x2",
         "domain": [
          0.7426,
          1
         ],
         "matches": "y2",
         "showgrid": false,
         "showline": false,
         "showticklabels": false,
         "ticks": ""
        }
       }
      }
     },
     "metadata": {},
     "output_type": "display_data"
    }
   ],
   "source": [
    "# Gráfico histograma \n",
    "px.histogram(\n",
    "    df, x='total_bill', color='sex', nbins=25,\n",
    "    histnorm='probability density', marginal='rug',\n",
    "    title='Taxa pagas por sexo', color_discrete_sequence=['purple','cyan']\n",
    ")"
   ]
  },
  {
   "cell_type": "markdown",
   "metadata": {},
   "source": [
    "#### Distribuição"
   ]
  },
  {
   "cell_type": "code",
   "execution_count": 18,
   "metadata": {},
   "outputs": [],
   "source": [
    "# Bibliotecas\n",
    "import plotly.figure_factory as ff"
   ]
  },
  {
   "cell_type": "code",
   "execution_count": 19,
   "metadata": {},
   "outputs": [],
   "source": [
    "# Variável x\n",
    "x1 = np.random.randn(1000)\n",
    "x2 = np.random.randn(1000) + 5"
   ]
  },
  {
   "cell_type": "code",
   "execution_count": 20,
   "metadata": {},
   "outputs": [
    {
     "data": {
      "application/vnd.plotly.v1+json": {
       "config": {
        "plotlyServerURL": "https://plot.ly"
       },
       "data": [
        {
         "autobinx": false,
         "histnorm": "probability density",
         "legendgroup": "Normal 1",
         "marker": {
          "color": "rgb(31, 119, 180)"
         },
         "name": "Normal 1",
         "opacity": 0.7,
         "type": "histogram",
         "x": [
          -0.11687538354266333,
          -1.0841464463445023,
          -0.3062437975418018,
          -0.7226453123941498,
          0.10762205001077141,
          0.7834313975687747,
          1.1744491156171817,
          -0.1302760171279734,
          1.29011416313047,
          0.5171866769146627,
          -1.9290396963960985,
          0.3828790853590859,
          0.7404248685363135,
          0.590178858473629,
          -0.7400487070531669,
          1.9653056435838214,
          -1.3217895501464698,
          -0.8061399043650028,
          0.6105777984057422,
          0.8029241679458925,
          0.5103387259852048,
          -0.4758049479701221,
          0.06881331447076504,
          -1.522280666050791,
          1.2189977170846473,
          -0.7650838768149606,
          0.22382376332709478,
          0.027590882846688747,
          -2.7387993538166295,
          1.105179824124137,
          -0.20741386797122405,
          -0.08940568940648395,
          -0.5944932972596607,
          0.28981790540420993,
          -0.14020449234494398,
          -0.13083095783389453,
          -0.8854436275824364,
          1.984143814197763,
          -0.998400525719784,
          0.3787953171542417,
          -0.8718537967724664,
          -0.4522154463311775,
          0.09369710579291826,
          -1.459756179568251,
          0.26654198500788934,
          1.5814306067784447,
          -2.0802522450081726,
          -0.4830556439799424,
          -0.08690417702473216,
          -0.9230193824838205,
          2.016034900655067,
          -0.8810098410235654,
          -0.7154029469423999,
          -0.5561313093492379,
          -0.46383781306175004,
          -1.287847211900494,
          0.4951029314001481,
          1.3586617132244463,
          0.6317059901014653,
          -0.21361539040748767,
          -1.2619451672908257,
          0.23111550795352195,
          -1.5285341993885206,
          0.34232191329826483,
          0.897070615375142,
          -0.03917508905990671,
          -1.091231579084362,
          -0.9745833024409389,
          0.932185509100784,
          1.1293922661987752,
          -0.3561541258200992,
          -0.9729529168962218,
          0.8437276813649576,
          -1.257932098215262,
          -0.597339708648992,
          1.2366842922607462,
          0.9289411432543478,
          1.2131015078091631,
          -0.39281291444717886,
          -1.42343238625331,
          0.7203122863057003,
          1.7388726533640504,
          0.1954454258998645,
          0.48583446074672904,
          -1.277788331163531,
          -0.42095088205032094,
          0.14505644919240562,
          -0.1918459053268268,
          0.8957716052691208,
          1.0758203643769082,
          -0.822621046029964,
          0.052158266436677175,
          -0.29695093380255067,
          -1.1450363414716298,
          1.1703139830592777,
          -0.78971214554565,
          0.20121694917076957,
          -0.553555064880596,
          -1.0290889908528242,
          0.8854897601134535,
          -1.1751252696173686,
          -3.0530073729406446,
          1.1232109004302773,
          1.0724921505297642,
          0.9701914513224628,
          -0.37999545027730197,
          2.252331821425845,
          -0.6954938931972177,
          0.9808291003439848,
          1.3739694801958122,
          -0.3719084484895817,
          0.24852187885249633,
          -0.42072574942571284,
          -0.5035412511044555,
          -0.8074071429785946,
          -0.4603250549742614,
          0.2749893086086254,
          -0.12874547443923026,
          -1.6251387900134127,
          0.05164555662476679,
          2.475729751827049,
          0.6999065241254053,
          0.4894803057897489,
          -0.13190220645510006,
          0.49750837162359807,
          0.30842612461849866,
          0.1711425449472097,
          0.21847829873290078,
          0.23116523281748877,
          -0.5251433215483876,
          1.0383957398355461,
          -0.05817055843611752,
          -0.2491618192613748,
          -0.8076780318204345,
          3.0170411081815818,
          1.7288319223599655,
          -1.7031421262745263,
          1.863696251269203,
          -1.7441507047700422,
          0.8042177278478743,
          0.19217470120430016,
          1.4221024773350002,
          0.860988249301013,
          -0.27426718524137406,
          -0.37040040002586627,
          0.7405018410522419,
          0.7854391216311459,
          -1.0120045540708575,
          0.8210571938122475,
          -1.1267063878635193,
          1.908934072241711,
          -0.019312294717010254,
          -1.8335086281362794,
          2.340520806882802,
          1.559836538156562,
          -0.6957573203695814,
          0.32779502640743174,
          -2.366402008857382,
          0.135158687943687,
          -0.03996368233288563,
          -1.0494688022894558,
          0.5050619434326166,
          -0.27347444531648313,
          1.6239367293460754,
          -1.888816944611281,
          1.928662522039562,
          -0.8208245881193694,
          1.4025896107541234,
          -1.7423625803100615,
          0.10178630263424865,
          0.472087370546679,
          -0.28688029673437687,
          -0.08519016355678619,
          0.003648440109995541,
          1.275138877164404,
          -1.2728362938226652,
          -1.8272492422737003,
          -1.1915947849966666,
          -0.20010447505155576,
          0.22441455388884166,
          1.9717724650470272,
          -0.45466937866807944,
          -1.0819612746518779,
          0.5603925193680362,
          -0.10260673405719099,
          -0.8228317580728507,
          0.16463131223861618,
          0.88395599935894,
          -0.8166691179741379,
          -2.3030241919243113,
          -0.08151006938961189,
          -0.44875722876923213,
          1.3473562558779042,
          0.4407578935931962,
          -0.8602565701295243,
          -0.6492671097299869,
          0.6745579243473601,
          -0.991546814670325,
          0.596652956731082,
          0.052189857336327763,
          -0.5115635479520771,
          -1.2756398886379514,
          0.619569652028644,
          -0.09961587498803862,
          -0.5090162411518162,
          -0.7431279167478044,
          -0.5848717268074968,
          0.5836733373856007,
          0.8059906673412696,
          -0.40411310104873055,
          -0.9821954873458033,
          -0.17015935472431165,
          -1.3441444896291304,
          -0.06030525846955994,
          1.4461928481393231,
          1.0283388123084958,
          -2.084471416991906,
          -1.5912906393276445,
          0.4510315937617731,
          -1.4430881569386573,
          -1.0415536051380412,
          -0.21602398712660348,
          1.1789551160445535,
          -0.15370319214534084,
          -1.1323266755813186,
          0.23055369432556663,
          -0.16726835893460681,
          2.1844103813582856,
          0.9570948065259234,
          -1.2873222226743528,
          1.2727375891431365,
          0.8025669707601797,
          0.9386805177214478,
          0.8644793415550642,
          -0.8597126330646813,
          1.7584575119524481,
          0.33473929097039556,
          0.4919453148911705,
          1.0215932658862947,
          -0.7288434439128725,
          -0.26019683719112485,
          -0.8587752951549671,
          0.13757640734572776,
          0.5509328027768206,
          0.075849964253682,
          0.8749088735328894,
          0.29548381989220956,
          -1.5450143963605887,
          -0.8443874426788232,
          -0.6552029149062178,
          0.2447388264507261,
          -0.5089869685661699,
          -0.3537720345105134,
          -0.12626431423212517,
          0.2873895739157625,
          1.121240408109102,
          -0.6835036497176971,
          -1.3352559250156992,
          1.4279539489353046,
          -0.2789712711849356,
          -0.599437279897964,
          1.3911224753119513,
          2.5386485333130104,
          0.5093451356371571,
          -0.4084787331604966,
          0.560592949509669,
          -0.32810129051857634,
          2.369147795897871,
          1.2202804017914841,
          0.44926920690851063,
          1.6407651347498022,
          -0.3308610956805007,
          -0.8382275477786965,
          -0.4734029468836843,
          1.9716003794074501,
          0.5672053812697456,
          -0.5377063246983729,
          -2.437883735806658,
          -0.11129419812587665,
          -1.093809394879852,
          1.3980463246170332,
          1.7997019019350178,
          -0.2567537674772145,
          0.8849423661195241,
          0.6776931079616765,
          0.2945351303780647,
          -0.24675171141773067,
          -0.7960747829630873,
          0.5115041451378213,
          -1.00512703581687,
          -2.2622312704621366,
          0.26544523933168573,
          0.2741313463657878,
          1.7491638826721247,
          -0.6759752039172281,
          -0.11268838446015057,
          -0.9768330115234024,
          -0.5969187337955346,
          0.3320346930414803,
          -0.05855070784026293,
          -0.027127777356433364,
          0.6479145996220131,
          0.16395100882694086,
          -0.22529860622984002,
          0.950401280055444,
          -0.9980519761338444,
          1.2751011626946729,
          -1.259140138975611,
          -0.7552945649215678,
          1.0186331744013473,
          0.15057827041332253,
          0.3385284745954504,
          0.019986555222100657,
          0.6125482298250955,
          -0.851899578471401,
          1.024527325861326,
          1.2508073691009922,
          0.11132398190558351,
          0.10909195620671423,
          -0.7067971267812991,
          0.35107841446506444,
          0.6278499541932525,
          -0.6699391519814198,
          -0.9852379160002708,
          -1.979701132988116,
          -0.6957211217526621,
          -0.1504853636660291,
          -0.4052770657435069,
          0.5621059428278443,
          -0.35805689224509063,
          -0.3253802724285087,
          -0.8253146798142399,
          -0.9186298918446064,
          1.1039071246067744,
          0.46458791794337007,
          -0.5708014639949128,
          -0.8975295345707157,
          0.8164620415131826,
          1.077593223643573,
          -0.3182355081103257,
          -0.7854419890180772,
          0.5184866246490022,
          -0.45535791197618775,
          1.748093706048981,
          -0.1303471654136087,
          1.019026290081118,
          -0.36630197587915525,
          0.5377616452470476,
          -0.5261066329470314,
          -1.370373612459042,
          0.7899940671469606,
          1.8205843596066078,
          -0.9344105400959527,
          1.085214779415606,
          -1.123782902351614,
          0.8854134643649757,
          0.9583922526300955,
          -0.11896049268104682,
          -1.4754698963453556,
          1.6977243984377564,
          -0.6520427465957898,
          0.23312745294218834,
          0.4671197358886417,
          0.9530696942867505,
          0.25636034030623467,
          -0.31773110524861564,
          1.1905929767871342,
          0.017338227862042126,
          -0.3892440034312094,
          -0.5293961022906337,
          0.030056002892224366,
          -1.9721097078649101,
          -0.21275085906035204,
          -1.089075395189547,
          -0.7145033333658142,
          1.4409471667121314,
          0.5973181001073673,
          0.045365276476750295,
          -0.9227189151293615,
          -0.2582948825837329,
          -0.780115538131735,
          0.21015262111116312,
          0.5042984630578978,
          0.14057733081059454,
          -0.023100977451727074,
          -1.1906116252788301,
          1.478209504451645,
          -0.4825258870989343,
          0.9358516922188814,
          1.066759349330207,
          -1.4861738653081638,
          0.7615270567446254,
          -0.7428875248447734,
          0.11469718991693932,
          1.8572552464144978,
          -0.33606167847709034,
          -0.5044404722897731,
          -0.6361716410008338,
          0.19694878449094186,
          0.5483216794450907,
          0.32975934104506427,
          -2.290545654060936,
          -0.15851616423042875,
          -1.8702011456835264,
          -2.536657645579643,
          -0.599882135059741,
          1.6854809595825908,
          1.4181255623535516,
          -0.09138975330562088,
          0.41550021042415447,
          1.3012183284675265,
          -0.6829980526489714,
          -0.4777035157751104,
          -0.5505510940603595,
          -1.0982831630153334,
          0.35621755077885153,
          -1.881145793203459,
          0.5846634226376791,
          0.35129480473913705,
          1.3929677539177394,
          0.6324044384886239,
          0.5080539580936675,
          -0.6468778221446861,
          0.34596785420956405,
          -0.3654638979643397,
          0.6037026150925026,
          0.06874891754853231,
          -0.5757125175853873,
          0.9901097306928063,
          -0.6934455104877292,
          -0.19414764742206678,
          0.7273950646022456,
          -0.07276523704070297,
          -0.8621739698798304,
          0.677701727222149,
          0.29419121681436516,
          1.0885994837388528,
          1.2160794562038313,
          0.531604386127214,
          1.4337515473670595,
          2.016753927309965,
          -0.9311879857046143,
          0.7385047838717139,
          -0.7268165729887601,
          0.5725573251013636,
          -0.2033996574135646,
          0.3657414387235441,
          0.8276144119392851,
          1.6678135760373856,
          0.47241439582379796,
          0.21934324332796107,
          -1.6573976570483577,
          -0.9149158114000145,
          -0.02785567707707554,
          1.2715098882268927,
          0.6191335333177282,
          0.8080023199868489,
          -0.32769440790237214,
          1.985312499822916,
          -1.1099175100205754,
          0.6790258560182258,
          1.7419163917290357,
          0.526317864049427,
          -0.7780330202141098,
          -2.000431585888905,
          -1.4835654824507531,
          0.17281810368372938,
          0.2924113182146168,
          0.4017395139568826,
          -2.3760981053609536,
          0.18479532105868696,
          0.10126238000038201,
          -0.3433278848426032,
          0.35633186042643183,
          0.28504900926593946,
          -1.6411297858204812,
          2.7738204180692394,
          0.5761058760366721,
          -0.8988577462977035,
          -1.3165132444599166,
          0.09184445269690936,
          -0.5084914884464212,
          0.3328205831306353,
          1.1587371258133152,
          -2.0794313541907705,
          -0.29087833452612893,
          -0.5119646682322354,
          0.15657629658645977,
          0.32305423761443947,
          0.8652926209370743,
          0.5317216442572753,
          -1.2305046181238233,
          1.048550082572051,
          -0.7737150245606943,
          -0.9875555062956402,
          -1.3899402471655702,
          -0.536638456498984,
          -0.3019921687792516,
          -0.44487418747161667,
          1.1020780893580246,
          -0.8106185052939573,
          1.2862202401404215,
          0.18741124800830206,
          -0.7217537697763741,
          -2.0139963384421278,
          0.18118393695338283,
          -1.811440114960942,
          -0.3773573419176421,
          0.4584056021379992,
          0.4500653781360808,
          -0.19194687849515832,
          1.5306934409504747,
          2.065577309809029,
          1.2022667159498328,
          0.05634151107732394,
          -0.037767718614007614,
          -1.3812514606848534,
          -0.22284345015136062,
          0.42404401867094255,
          -0.8304187532463907,
          0.8778517070598245,
          -0.9111890765626882,
          0.6888391467201723,
          0.2368992352128035,
          -0.25016136792062077,
          0.6513077494240828,
          1.0525576950456241,
          0.28771286806464774,
          0.1448333386843746,
          0.8990309259086223,
          2.1261634149834165,
          -1.1899205514434448,
          -0.5260435330201327,
          -0.14855848565756125,
          1.0751939706499116,
          -0.7373978701652808,
          0.803854508032891,
          -0.5514828313024993,
          1.4064665144833524,
          1.0396133829348335,
          -0.8403632334234676,
          -1.6762612551970435,
          1.0074464290064644,
          0.6861739509991733,
          -0.7468059192232079,
          0.49506259268416813,
          -0.34281693976390715,
          -0.33144688817420587,
          -0.9667773845756807,
          0.69873074150411,
          0.7258801658067308,
          0.08559811492112634,
          -0.15718983573611744,
          -0.016524499627328423,
          -1.5208168215135114,
          -0.4395016968067576,
          -0.717336627863091,
          0.2874208204937097,
          1.3453246776453618,
          1.6811639946912222,
          -0.13427079844222742,
          -1.0039836000420215,
          -0.8288726064242813,
          -0.9681716520090715,
          0.0809527957904534,
          -2.0390943438823923,
          -1.9978354616515408,
          -0.3676663747945979,
          -0.2866843963925259,
          0.5378748275293497,
          -1.1656059980617455,
          0.11754644154205758,
          0.7227998126858366,
          -0.46371862160825666,
          -0.5732690577453792,
          -0.903774223359752,
          2.1635190748729425,
          0.4819792039990591,
          -2.5953872291293956,
          1.4162673722787054,
          1.3371466674112167,
          1.5054892491349905,
          1.4881287658477607,
          -0.7232839704723135,
          -0.28398568412506553,
          -0.9283009292075656,
          0.2824274255572089,
          0.5692791830534578,
          -0.014786378083952056,
          -1.3966776916868815,
          -0.4611314705533151,
          -0.5876019041841711,
          0.27495363502997816,
          -1.5950148698236049,
          -1.053281569192157,
          1.8365166851520869,
          -0.3935389555426876,
          -0.025168733805898052,
          0.568577260453156,
          -0.5240821353024426,
          -1.3679423282002654,
          -1.5893128057192631,
          1.2398256691674705,
          0.7695387519867785,
          0.6888498995624923,
          -0.9185724315151246,
          0.629151717506493,
          -1.039573398204412,
          0.7959749061143931,
          -0.6036572522113395,
          0.1444755203945625,
          0.31539581702303715,
          -1.3195498516822486,
          -0.43982672620749774,
          0.007438958585782819,
          -0.28913847512398816,
          0.21754892134399592,
          -0.026878923932392627,
          -0.21194243999580314,
          -1.168889789739491,
          2.4224397731310723,
          -1.4287867067638247,
          1.304918912946674,
          0.7938875062479894,
          0.8803329522844671,
          -0.42602900153339984,
          -0.1837429598577197,
          -1.313118149435451,
          1.278442588058261,
          0.055283111126236725,
          0.6583911793971757,
          -0.1978713259218024,
          -1.0018461267461498,
          -0.03373059513528388,
          0.3679106492142654,
          1.5313624228078995,
          -0.19621519342772814,
          1.405183222251427,
          1.1128709666991548,
          -0.7973799094318306,
          1.0782543356056873,
          0.45636311569945404,
          -0.506425716617275,
          3.456562141866794,
          1.1739210536118643,
          0.7359008301414908,
          0.8613253578536992,
          0.02879397641540605,
          -0.7082469025416056,
          -0.6651136399960378,
          0.8242186835154676,
          -0.6043618667811682,
          -0.41886171276058126,
          0.4598435093410729,
          -4.011580166814692,
          -0.4270102854800126,
          1.291716677042108,
          -0.4794432681686409,
          0.5169664100600226,
          2.1234205731981612,
          -0.57053762439479,
          0.8319123295947047,
          1.0166627791088432,
          -0.9650616848734141,
          -1.9570232159954468,
          -1.5035369902643747,
          0.7091383161039305,
          0.2763687442569666,
          -0.43256036101436784,
          -1.515423982436522,
          0.43137003849106115,
          -1.6196749086493814,
          1.1419263283081416,
          0.868969464107574,
          -0.08318710576578169,
          0.47512144809042367,
          -1.1789869630680463,
          -1.2060083866343385,
          1.3459121006741397,
          -0.7558637003124656,
          -0.4590743864435043,
          -0.5296972557325739,
          1.2915479053556471,
          -1.0647810153652872,
          0.28560600059053454,
          -0.5911447995689505,
          -0.0551507376470496,
          -0.10923032335734707,
          -0.43734607078206167,
          -0.7490686261647294,
          -0.5448400984633773,
          -1.361275441589178,
          -0.5491013602700276,
          -0.042551472575936604,
          -0.1285053895929962,
          0.3682534228290298,
          -1.3253044443870576,
          -1.5767783039171661,
          -1.2322984047197865,
          0.6061482558104828,
          1.2049708115122588,
          0.8674065324490864,
          0.30606749911932835,
          0.5584944263034642,
          0.4787112638229639,
          -0.08076105656740801,
          0.301346565162586,
          -0.35936651402697495,
          0.19450823477956738,
          -0.4369594494808129,
          -0.2535693213955767,
          -0.4296795541317182,
          -0.5118301179218523,
          1.2260536836166687,
          1.4830045443148128,
          1.384319687754546,
          -1.3264703781410405,
          0.8591140320835099,
          -0.5292771612096612,
          -1.7572907133203919,
          0.15391974861163285,
          -0.19268820318843716,
          -2.0425656426275993,
          0.10870655251431295,
          0.05097349958515085,
          1.7558126073027653,
          -0.6621154956784828,
          -1.2606031780986047,
          -0.5158970496456002,
          -0.2442717044827282,
          -0.7859923354593426,
          -0.0014706343083345703,
          -0.6752262110969474,
          0.7059065163601439,
          -0.015746763464160735,
          0.27345602318146284,
          -0.25350762669327054,
          1.073436919339608,
          -1.3998598984645885,
          -0.25765292214104246,
          -0.9733521432987607,
          0.18767254195703179,
          0.8581265294914812,
          1.3196573332266222,
          0.09539528152302267,
          0.9048532875604574,
          -0.21392660815209566,
          1.0507361062971,
          -1.1069001699231025,
          0.13751099132264585,
          -1.0890553413910025,
          0.5278608519851506,
          0.08502621536295604,
          0.268081109282565,
          0.6605301075967015,
          0.24256135431470682,
          0.016294183334108495,
          -1.8001118791357795,
          0.03858792507430865,
          0.24462657265563842,
          0.32067734186766506,
          -0.49801465892243335,
          1.6072258224182001,
          0.9810468139331741,
          0.08760586262189556,
          -0.8546609804157533,
          0.5681241328086193,
          -0.8196510973889937,
          -0.8673758975118463,
          -1.162138816971342,
          -1.6012506708400267,
          1.0513607329480403,
          1.4239634276232198,
          -0.06700309556536964,
          -1.125886194876252,
          1.3484925685207958,
          -0.7365385601435375,
          1.0172489933287814,
          -1.0416788853990853,
          0.6702585758423345,
          -1.8040357241249496,
          -0.8114537137829068,
          0.45170484224241036,
          0.36178427240838085,
          -0.5046038457093271,
          -0.05966533954468048,
          -0.27881199816381647,
          0.1005342121828784,
          -0.2407331425193213,
          1.817551579667235,
          0.3755187510923831,
          0.11997085008034487,
          -1.4234253910593,
          -0.27115978346253583,
          0.059159587638958185,
          0.2904352224857174,
          -1.7085496230880037,
          0.8872008536513691,
          0.3233650032251922,
          0.3973841121316777,
          0.2416769246882582,
          0.7011337577340573,
          -0.21113062674283517,
          0.05241505356979514,
          -0.6638927178227965,
          1.4852528239394955,
          0.5282619798385783,
          1.2861738326780865,
          0.4506222437096767,
          -0.8254875856706972,
          0.18295244144406703,
          0.26222729220845525,
          -0.23342941118922553,
          -0.011877316966412428,
          0.6619570342348776,
          -0.6449686707140337,
          -0.25882413241650615,
          0.773755360144189,
          0.8016138317937893,
          -0.0991399019358386,
          -0.3301204919507817,
          -0.5567327975855754,
          -1.618314555512097,
          -0.9697533350585862,
          -0.22412669761062157,
          2.3255552435107867,
          -0.8445051033198618,
          0.8039139274706388,
          -0.9911533572653303,
          0.38359460168046067,
          0.5287693376332985,
          0.9711448458595484,
          0.779597138520137,
          1.944255174163546,
          -0.47342122327933833,
          0.5530994250974298,
          1.633254523386571,
          -1.1975900552302994,
          -0.879788042851581,
          0.4508403634429192,
          -0.13281316203348245,
          0.37609837557743997,
          -1.0945342304173415,
          -0.1724325436942977,
          -0.7046861324691669,
          0.9141173305469288,
          -0.3502061664878862,
          0.3661344016560665,
          0.5356761250980299,
          1.0421060498302563,
          -0.36522702961489584,
          -0.8380629409932258,
          0.29586592663801903,
          0.2441991138097221,
          -0.233700829622874,
          0.2966552212680291,
          0.6933272673892488,
          1.8117472908164747,
          -0.7781417652981297,
          -0.479892264582252,
          -0.8140151602543719,
          1.1774618639755496,
          0.221706074577412,
          0.9616110724000755,
          0.23693456182139264,
          1.4483348603312032,
          -0.24821228856782773,
          0.15235603245410784,
          0.33165841545363606,
          -0.5021110513824726,
          1.7269209617288745,
          1.5099840784313232,
          -0.5363670016320492,
          -0.24372148746835814,
          -0.09783217205092533,
          1.9243453503828756,
          0.7385617223578838,
          0.1032165530345415,
          1.0508007861535928,
          -2.152578468247517,
          -0.7252479647708948,
          -1.3977589099668413,
          -1.2060448650263371,
          -0.3280839486109007,
          -1.6204432003040508,
          -0.7738883256704668,
          2.100754549465622,
          -0.40200176008094524,
          -0.21466607219398207,
          -0.00019795718291201888,
          0.39092508200211257,
          1.290694761132238,
          -0.30392292025429224,
          1.4011919955124768,
          -0.35335083519127286,
          0.30323328097652275,
          0.2591180496942244,
          -0.3401999682089674,
          -0.5660300172196564,
          -0.7902898536729509,
          0.32032093588478794,
          -1.1332377948730603,
          0.3981968919589875,
          -0.6254798806262791,
          0.22127781873716335,
          0.5934445798666471,
          -0.4524685023277896,
          -0.14875578328251057,
          -2.0347736162630126,
          -0.5759999496595031,
          -0.3146048517772939,
          -0.36199859862333067,
          -0.8004290778022667,
          0.9656323735690253,
          0.5732750698166114,
          1.458836569345572,
          0.7470930787820339,
          -0.9860955321264908,
          -0.9940129636899201,
          0.26895987724170023,
          0.11158318930347691,
          0.05825055969999311,
          0.24967086325716192,
          1.5938602096463974,
          -2.056238773422095,
          -0.4933282211292599,
          -0.0075442806679147404,
          0.41896585618510096,
          0.9555109588014291,
          -0.12429965265988986,
          -0.06369731986871441,
          0.8339020431487099,
          -0.34858107441544456,
          -0.5646918977957956,
          -0.22971633737488192,
          -0.39647288214393644,
          -0.0213767255693471,
          0.7709518690376032,
          -1.0153063791209824,
          -0.13540921069669226,
          -1.1582788669765431,
          1.1835542443854723,
          1.4719057292647806,
          0.7788318607259627,
          -0.8471920306922289,
          -0.05575758754778211,
          0.022434612716920457,
          0.13328126861241518,
          -0.4288582698396567,
          0.947088670336809,
          0.2827298362824268,
          0.34554315294160604,
          1.6829130972684643,
          3.0441139720023034,
          0.0608223542954746,
          -0.5363712303423376,
          0.0008893825798081494,
          -0.264075190286576,
          0.6517476981988373,
          1.01886819528151,
          0.034251576179650224,
          1.2689761128431092,
          0.2607619447331805,
          2.137337973577979,
          0.4104088391659914,
          -0.12042511201003918,
          0.03716883244990576,
          0.650666172797132,
          1.0670543711536784,
          -1.0067322773452752,
          -0.8239162966650171,
          -0.9837828542157913,
          0.5982305347145693,
          -0.10699697563188214,
          -0.2822050175324087,
          -0.1753817294198011,
          1.0577581552067852,
          -1.1374707067064571,
          1.3386872677543897,
          0.09970467965737378,
          -0.29197052486012054,
          1.3319230048384625,
          1.9578171106660276,
          0.6996710560672493,
          1.3964319335564561,
          0.40918997003912244,
          2.4006348077361306,
          0.8647670168745196,
          2.414306185665205,
          -1.24365881999524,
          -1.2249296168882406,
          -1.1692196785130262,
          -1.134246378649384,
          -1.494621650228689,
          -0.8848188117314016,
          -0.7284690332074386,
          -0.3343845569412829,
          -0.9740680928655117,
          0.9201311551502527,
          0.9209839958460668
         ],
         "xaxis": "x",
         "xbins": {
          "end": 3.456562141866794,
          "size": 1,
          "start": -4.011580166814692
         },
         "yaxis": "y"
        },
        {
         "autobinx": false,
         "histnorm": "probability density",
         "legendgroup": "Normal 2",
         "marker": {
          "color": "rgb(255, 127, 14)"
         },
         "name": "Normal 2",
         "opacity": 0.7,
         "type": "histogram",
         "x": [
          4.554814401962062,
          4.553331175929594,
          4.28697878349352,
          3.9594699465065277,
          5.733650247213486,
          4.877748602001382,
          5.028229928193461,
          4.779997901979902,
          5.545395868680018,
          4.559429003504591,
          4.242780836843916,
          4.767317614275533,
          5.543678725257779,
          5.017469838750156,
          3.836984244879966,
          4.366966522169052,
          4.951439723714215,
          6.218113627004442,
          5.154114710101232,
          6.515873322989412,
          5.788540635314631,
          5.917377139420817,
          4.779980376854392,
          5.428542977985878,
          4.1377128423953655,
          5.9144629714677865,
          5.871241936293061,
          5.556710827321975,
          4.070768874617393,
          5.071544624674681,
          5.2829584566363215,
          4.770402294373678,
          4.579859938511395,
          4.261035477313383,
          4.710147673868973,
          4.199895177597565,
          4.222201676530461,
          5.045145342658656,
          3.920383557501456,
          8.920499559403604,
          4.962681972259783,
          5.1293496597194475,
          4.489107829208548,
          4.52064696910894,
          5.235022939121296,
          4.04846535361341,
          4.3104811288472344,
          5.0531246986244955,
          5.010736824758344,
          5.486140975707556,
          4.69694718500497,
          4.5402815418641636,
          4.962063837484797,
          4.572970097103723,
          5.289347961814031,
          5.954744469734838,
          6.876939676005648,
          2.879622605914267,
          6.82035941825461,
          4.079175318964266,
          5.416486407565644,
          4.202578795283674,
          4.711046227316533,
          6.493216206523215,
          4.002076709836457,
          2.504475130516056,
          4.731706742748504,
          5.0747248417847866,
          6.636045509048801,
          3.4396568496089013,
          6.084466364245296,
          5.406139744104257,
          4.631394539979874,
          5.437537595725849,
          5.733963506592573,
          4.502283581265178,
          4.734298255793588,
          4.824160580861254,
          6.614696567445392,
          4.383208848363646,
          5.893706888525136,
          4.430015008391706,
          5.9180626090709705,
          4.24508679116348,
          6.031622985422731,
          1.6047089953931861,
          4.67912669653022,
          4.516090204481275,
          5.235670876958697,
          4.978455551353119,
          3.7530310377858185,
          4.470067985531286,
          4.344440228467723,
          4.8940994663679165,
          3.8026117692088772,
          5.181426023042892,
          7.160110689776284,
          5.314018396636429,
          3.3931928426807114,
          5.440633056101101,
          5.911366004390068,
          5.635943300678523,
          4.806913051975768,
          5.284773546099376,
          4.137171195786554,
          4.718747274548103,
          3.8221381674860995,
          4.611464163708101,
          4.503107423143388,
          5.5281364628442,
          5.5883618318224215,
          5.372611333060636,
          5.463362323625331,
          2.82082757281042,
          4.769060825287472,
          4.577557855872561,
          5.29233917753469,
          3.6954476481374443,
          4.261052547567021,
          5.41631456303449,
          6.797417142573105,
          4.494220934585863,
          4.692564845547118,
          6.046743957922917,
          4.598505500246564,
          6.061037765064114,
          6.305961801836905,
          4.716982112938681,
          3.33952253617352,
          4.819043347841291,
          4.240111350634902,
          5.5865597984689535,
          5.610537789109532,
          4.870348679974491,
          3.8023695212847954,
          3.7604531218018735,
          5.156088288439537,
          3.3754231205056238,
          5.6805850962917965,
          4.69906511596781,
          6.244178403039453,
          4.310141537526582,
          3.8300797761427754,
          5.224492581956262,
          4.734900359599788,
          6.359370247304545,
          5.320236796716836,
          5.566050550905015,
          3.988556833442418,
          5.009736904110197,
          4.6540602834009,
          4.750692859797389,
          5.078574330205915,
          5.626626697764211,
          3.9840502009023044,
          2.8993658079427402,
          4.351217179787667,
          4.869175868781602,
          5.396251118485908,
          4.305705281788219,
          4.200089122664793,
          4.138547458444476,
          4.760204601072225,
          5.409573196292045,
          3.8672920297381297,
          5.373775007624717,
          3.056874348988081,
          6.853676232716497,
          5.35309899520873,
          4.718221790090035,
          5.946453627007134,
          5.302642034729791,
          3.1327244216224237,
          6.759415285956294,
          4.548073546021929,
          5.127215472141197,
          5.420183248670254,
          4.099131533528115,
          5.078103198866553,
          4.258313408190151,
          3.5094663107866024,
          4.1502568146526455,
          3.906278947781166,
          6.059913142519038,
          3.9171485258131082,
          2.955645137533008,
          4.834073243066378,
          4.574178139404484,
          5.706870798722672,
          6.0706767738914,
          7.903226168278271,
          4.4296663977562885,
          4.047194978017396,
          3.9874532353849093,
          4.4515015939865155,
          6.392778364086965,
          3.604650283404748,
          5.2575245098816525,
          4.771679625273742,
          6.219986422023385,
          4.980123196876694,
          5.105572686907418,
          5.027975247536343,
          6.509887601267116,
          6.07053501635717,
          5.228656090502624,
          4.0076670812038975,
          6.115104676540337,
          4.789590097886621,
          3.7554424752599314,
          3.8383267353265738,
          5.738484247120834,
          3.033371862737341,
          5.131743079828187,
          5.993222496826894,
          5.356053859337153,
          4.663414399701149,
          4.871988133721703,
          6.807970869926625,
          7.884065107166832,
          4.399837057441837,
          3.522971457102818,
          6.083778215465486,
          4.292171662789815,
          5.417462205541451,
          4.5133252192708655,
          5.054511045745199,
          4.492905159039607,
          5.191205848052166,
          6.542072540270636,
          4.710666826635547,
          5.001020545746692,
          6.390548510430158,
          5.831028320176008,
          5.50481696777107,
          4.2909908538852415,
          5.998838639797719,
          4.911253307669118,
          4.79687580118032,
          5.322995203463646,
          5.059030466600569,
          4.804620073625823,
          3.6939956718788007,
          3.35511458889322,
          7.24747832668125,
          5.041825940257462,
          5.583341501336089,
          5.267967992258045,
          5.1705252423761126,
          5.934285431413519,
          3.9410250945265393,
          6.104161975231319,
          6.936821776341427,
          5.811873075490804,
          7.122864974481693,
          4.716795042597789,
          4.385452137784847,
          4.906768654809112,
          4.881308365023002,
          6.3962387789772235,
          7.111741105024617,
          5.038793142603461,
          5.386643369495716,
          3.940928571213627,
          5.60373695435683,
          3.9185772147951496,
          3.1120917881312717,
          5.402583622306826,
          3.866104808249122,
          5.2508633154318405,
          5.833454406178286,
          4.470267360018464,
          5.094474717748497,
          5.3771300027197855,
          2.8033039073297417,
          3.9937425062185454,
          3.1226190337412043,
          2.8980818116555622,
          5.837482664412721,
          8.011809570077505,
          5.761336331101493,
          4.90780476767669,
          4.6600270477645,
          6.406890890456987,
          6.060690508814254,
          6.656684688651323,
          5.375510247996591,
          5.137645687543633,
          5.930775993341421,
          4.682739421273054,
          3.808496600150155,
          3.0793177992061005,
          5.565309112309461,
          4.959879688161712,
          3.529750878265446,
          4.958990736470589,
          5.445201847102712,
          6.1458113631405835,
          7.805732208126704,
          5.383791352779755,
          4.4519329932249265,
          5.109699364312898,
          3.949637263858577,
          4.932319467976474,
          4.037363496884161,
          4.2925016255691215,
          4.72201104842239,
          4.9006357478155005,
          3.852463144186422,
          6.0257360076978745,
          6.010422680882232,
          4.860603300580327,
          4.759709109472579,
          4.166375659666878,
          7.642210889734908,
          4.951147852530365,
          4.3208749082343365,
          6.283346615366393,
          2.554906343177324,
          6.762193818547777,
          4.01071114931147,
          3.577754921297103,
          4.4245480303529865,
          4.223492650590429,
          5.096033011634844,
          6.206707657348489,
          4.870782666269642,
          5.369333563542834,
          5.641169546417599,
          5.961150945088695,
          4.749849770256601,
          5.052313111353207,
          5.557203042534055,
          4.3864519475220005,
          5.600753757767797,
          4.867845374699175,
          4.815313201776808,
          6.588709390138948,
          4.73471332717988,
          4.722412818683334,
          5.821493342905288,
          3.3051709837427308,
          4.113332252136894,
          3.4807678684929546,
          4.8010897412796805,
          4.727245630873714,
          7.178476612494993,
          4.866328374485069,
          4.436957230431913,
          5.780739440354376,
          4.539661970921481,
          6.685896821180629,
          6.205528926388444,
          4.773068673398567,
          5.52323237869909,
          5.755541746117023,
          4.9258097924780575,
          4.408339959541502,
          6.3113336244749725,
          6.353921079378084,
          4.458294940526319,
          5.106558634093284,
          4.24433729406856,
          3.43773998852894,
          5.59406945445357,
          3.80519240336569,
          5.933226271824218,
          5.143619599953106,
          4.993796529806473,
          5.33386600096932,
          5.346036005136646,
          5.496044399566652,
          3.2969589827513133,
          6.537412276159229,
          5.094399868152065,
          4.012693756459268,
          2.4634262167831835,
          5.373384668066852,
          4.6612496708230085,
          5.343430297540067,
          4.418551647838549,
          6.847831971389654,
          5.124522154691334,
          4.811135744254398,
          5.185592364089941,
          3.8734749365123085,
          5.268879567624952,
          6.144393041143627,
          5.734598389799103,
          5.446593237922298,
          3.942522582337668,
          4.853809408756486,
          3.6940841911703295,
          5.750947808442342,
          5.13673898610099,
          8.250203044847176,
          4.497326292866996,
          5.2808062495390375,
          4.582348103974145,
          4.5648422087535305,
          6.2924414727364795,
          4.463787818553042,
          4.715279161564109,
          5.235941002241388,
          4.651584554800639,
          5.84983693216944,
          5.5464941802487,
          4.268740480096429,
          2.104191843458503,
          5.1652970736688495,
          4.914679008587075,
          6.1941333444614,
          5.2454576552352385,
          3.4376477389199174,
          5.4080118640733,
          5.412287953087276,
          4.514832451698122,
          4.957051635499903,
          6.903361059873731,
          7.44098257839458,
          4.13965208353778,
          6.258475099293166,
          4.374168146793418,
          3.7879778547153276,
          5.6707892346903375,
          4.604826154423034,
          4.107212711343129,
          5.299213058913136,
          5.4887329810681615,
          5.277529963284313,
          3.9305379708604455,
          5.251001999822526,
          5.953021219352121,
          3.1040104020700743,
          5.434895024127084,
          6.9243912270700045,
          7.8861038454977255,
          4.908128699238947,
          3.671880666939417,
          4.223013744012871,
          5.486526269437105,
          6.828730686921881,
          5.353103875301352,
          4.343459293829225,
          5.220550177845779,
          5.615656070955884,
          4.6638461889163825,
          4.78192307360784,
          3.7298862969761464,
          5.166622884426591,
          4.359475340494412,
          2.432866248684677,
          4.703924893647489,
          4.907530981332714,
          3.839869922154373,
          5.0922386881690755,
          6.258418203965059,
          3.7625820184897387,
          6.610000722206019,
          5.577324376978051,
          5.398306203272471,
          5.164688131681989,
          2.5760214842431983,
          5.043880305848095,
          3.4385744622009264,
          5.289082265121318,
          6.034464270140315,
          6.247337072294045,
          3.569569682211044,
          6.089488891062714,
          6.003140343672088,
          5.535373218734372,
          5.277887884005798,
          4.67072848888006,
          5.350876265354943,
          4.039247719269772,
          4.6508363216610284,
          6.76057974679659,
          4.446922022553692,
          5.432546392265737,
          4.872878033427306,
          4.583868903578116,
          5.268469558518012,
          5.293343266136039,
          4.554526384370365,
          5.137958877814727,
          5.12742583254502,
          5.476234519095197,
          3.0915291889194396,
          5.6518342530975385,
          4.862595006118959,
          4.27808891623379,
          4.594975274839821,
          4.491417820582404,
          4.903801193204,
          4.021543797081361,
          5.055357453849992,
          5.7993765747355575,
          5.9078470200448505,
          3.637824052764996,
          5.4885445418874115,
          5.787490240362817,
          4.196271322515589,
          6.222213081801538,
          7.01153716490956,
          5.56841016922647,
          4.446528448283894,
          4.846030599855205,
          5.351572968841275,
          5.811137990014162,
          6.834321152931221,
          3.975495083049073,
          4.417157073199888,
          5.0678617923399605,
          4.545893305198457,
          4.490247175643482,
          4.729069143551785,
          3.7226895730926364,
          4.093853124302085,
          5.90970899103811,
          5.34498927356392,
          5.404284761619442,
          5.004350123207055,
          5.779205210381427,
          4.420830914612889,
          4.001537837663606,
          4.214976414342123,
          6.2066899602702605,
          4.061248078245985,
          5.088037784116727,
          4.182361731115643,
          5.016007132326489,
          4.710954815752354,
          3.718173607755094,
          3.1330886585302657,
          5.219066938774839,
          3.1756662971585436,
          6.2150559124142655,
          4.730752094724315,
          5.301251001170716,
          5.476323209266482,
          4.288603181905613,
          7.04120708247466,
          5.200026661341767,
          5.857630889813774,
          4.1768054969640795,
          3.675240901182094,
          4.92269959340758,
          6.210088883321474,
          6.118805129869856,
          5.543103031552881,
          5.370493965861435,
          4.688841501665823,
          4.512046992924784,
          6.453005541320946,
          3.578942149878821,
          4.051056766318786,
          6.09420503304775,
          3.2338003255717895,
          4.0277613566908865,
          6.119816662757353,
          3.7803710303385096,
          5.029967451959427,
          5.155335080061171,
          4.727696149021889,
          5.1647789231416334,
          3.9084294128008485,
          5.260944892204005,
          5.288862672410762,
          5.577531872251866,
          5.115000535304669,
          7.065328071485995,
          2.7451764874378033,
          3.6033455449097826,
          5.069739053232175,
          4.854621152559332,
          5.48311647363646,
          5.176273570041595,
          5.252070337411184,
          4.903586913246825,
          5.329411816247914,
          6.758893352584625,
          6.070929982544987,
          4.257096816050631,
          5.94111253678783,
          5.796033685734867,
          4.168854117146317,
          4.194809644922505,
          2.69890768274228,
          4.705729958575871,
          4.698663368574104,
          5.134136388438518,
          4.1537473310836255,
          3.139961005284255,
          4.653895347787246,
          4.586877414678369,
          4.559255037850441,
          5.05807761679569,
          5.7177666849298925,
          5.933120520814453,
          5.6038797159701765,
          4.146046165022713,
          4.8863647445947445,
          5.415631532121168,
          4.904453546775548,
          5.262813038122322,
          4.0846471692296245,
          4.827828666806178,
          3.503791870752758,
          3.8111924522406952,
          5.802431477437409,
          5.284546946077883,
          7.436949106703029,
          3.5798553121102534,
          4.325185677958407,
          5.45902647665347,
          5.607214107694016,
          4.065969818525911,
          4.066927875831044,
          4.886193617003021,
          5.512442759233502,
          5.787904817675699,
          6.069742781202019,
          4.89958098516713,
          6.716563122990573,
          4.8014777675345695,
          5.275208057625112,
          3.1677917763992016,
          5.811799721116048,
          2.172603264277546,
          4.117634173979385,
          6.427716576241295,
          4.0526064786273235,
          4.6396765070223385,
          4.605991424280823,
          4.162092789857817,
          4.776325816747826,
          4.906316682684843,
          5.449798706086732,
          6.678596166713218,
          4.839284597577042,
          4.966478684148381,
          5.3865134236887515,
          5.77920636646884,
          6.2908899318490565,
          6.72675732656826,
          5.244808151391932,
          6.809967114110112,
          5.448069614702436,
          5.084380170035626,
          6.393715098201995,
          3.172173001006805,
          6.509246827869712,
          3.5373020085322198,
          5.068870873560998,
          6.489440522617928,
          6.337776091430038,
          6.715987541471481,
          4.65373828138776,
          3.2832258496148277,
          5.818091442837022,
          4.214244908276036,
          5.447180464472772,
          4.256246769387933,
          5.558789822491726,
          5.019067751561658,
          5.689700564515555,
          4.343226008288067,
          5.587810387239234,
          5.021984178766869,
          5.113889994664142,
          5.793376051996523,
          5.206443870186847,
          5.106013505699543,
          4.202957521666042,
          4.626822284500638,
          3.992786398315757,
          3.8680362864408497,
          3.6619272205543165,
          4.806732301429791,
          2.9917286506730063,
          5.481712919166709,
          5.87681599427342,
          4.634782688358471,
          4.068831085882626,
          5.108032168470138,
          4.735603960996411,
          4.953148447580291,
          6.142901561892666,
          4.834679985077669,
          5.721470316995401,
          3.5710134199211767,
          4.838572890383189,
          3.5057024698067725,
          6.638084968121618,
          5.293154805536762,
          5.194294813865509,
          5.536726619832393,
          3.947648700430781,
          5.055908060396141,
          4.897687130507513,
          3.0708238769775145,
          5.671039085741156,
          4.577700421732886,
          6.39532923584134,
          4.141549829027204,
          4.086326872457838,
          6.381731568849245,
          4.281940866606972,
          6.010532363042731,
          5.705822259669864,
          6.223343862619941,
          5.134388976682865,
          4.7908353343644725,
          5.470011939745445,
          4.495040217079787,
          4.337158590841035,
          5.262869789175637,
          4.4061711684549305,
          3.5883615793190424,
          3.3003670136317735,
          6.638684533028361,
          5.404979745836648,
          5.148576882401216,
          5.495334706916218,
          4.932546694212642,
          3.374610459141142,
          4.9159545907728095,
          5.193531404896101,
          5.880055518791706,
          5.748443158420681,
          3.2182537688071564,
          4.362582043363212,
          5.085159699871359,
          4.298562887112591,
          4.908192043458315,
          5.691319660653516,
          4.252756938401614,
          7.99310850014535,
          4.996238697773655,
          5.054249093432654,
          5.644865762544042,
          6.548496039450114,
          5.854251153551666,
          4.828003410882426,
          4.066671029152925,
          4.44748912029065,
          5.2717698691959205,
          5.731328112843783,
          3.732863878068706,
          4.2945812254978755,
          5.008457962948904,
          5.372842277782074,
          5.09635435114408,
          5.49375303151008,
          5.217712786247069,
          5.721371875501463,
          5.6230897874796115,
          5.095212538687234,
          3.888321586872012,
          4.8295083576756825,
          5.937085295876098,
          5.541405761593029,
          6.290222616669326,
          4.255389926003867,
          6.039104567445727,
          6.25280639283851,
          3.611169648703903,
          5.398107140335602,
          4.842830304144853,
          5.2437767336896695,
          3.817768821908055,
          5.896820155421493,
          5.267009997465169,
          6.664180413934129,
          4.733519286083495,
          6.6466313451674015,
          5.089974024190405,
          5.722264197878318,
          6.57771873223866,
          2.5430335506028783,
          4.619855633965308,
          3.537663666594465,
          5.004181324822292,
          6.877185527980292,
          4.589274679043771,
          5.377600555279333,
          4.668677085776653,
          6.2290621200726015,
          7.205831968254081,
          4.469961543619292,
          3.4269673211659604,
          4.732945183588419,
          5.889705960563615,
          4.072482579510167,
          5.469561948516224,
          4.400683435860501,
          3.1723981913599504,
          4.2714980701209555,
          3.782597003363512,
          5.997110577790203,
          5.236703544174428,
          4.867934294637366,
          4.291902085983546,
          2.7838967002486865,
          5.741603379113292,
          3.9251748643170337,
          5.133051457099642,
          4.586662498837587,
          4.132793237389081,
          6.615094177248522,
          5.8210366826959845,
          4.860498061358328,
          5.473752047052306,
          5.765414592149282,
          4.648398222053995,
          6.2136763121900715,
          4.565587630365473,
          4.752198185102335,
          4.200514620368899,
          4.95810931233035,
          5.681899892499353,
          5.126479136134404,
          3.8146091437299607,
          4.86687135874183,
          4.0238378176221685,
          5.378888824871401,
          4.198477692478353,
          5.188859311422483,
          6.234702606197766,
          5.964136511214122,
          4.613369460139737,
          6.196161034084019,
          4.678842678833155,
          5.553745489538559,
          4.119247866391859,
          6.588267020710463,
          5.273231952308342,
          5.603486037726444,
          4.261899238867313,
          3.3351159436321107,
          5.846517903026124,
          5.8255526835059275,
          5.868781169964771,
          6.421619535370862,
          4.7181094754096655,
          5.318496472268338,
          4.527719687834316,
          5.60904170825669,
          5.7336490003864045,
          5.250184875281792,
          4.924803009747735,
          5.30107768065549,
          2.712340201911926,
          4.292452309909201,
          4.821906016125347,
          4.197110802288867,
          6.380547358887489,
          3.8199632280396743,
          5.349218385180111,
          4.184749142000036,
          2.9912886866816986,
          4.957578767071464,
          5.922948791169145,
          5.658208431194311,
          5.403440452401495,
          4.305570394996396,
          4.460755932609501,
          6.239424318355795,
          3.3004399761908307,
          7.181360565294693,
          6.163293053727563,
          6.077252625952782,
          5.228577692790597,
          5.950583698171929,
          5.051405615475321,
          4.226308691991721,
          3.8014332031420013,
          4.767465267789844,
          3.9825665614446564,
          5.197414033705014,
          3.9849712850564805,
          6.2253089457109345,
          3.824491945864952,
          6.06527413094343,
          4.726884772063217,
          5.543048591895254,
          3.94263185715134,
          4.56440541697573,
          4.526943938493448,
          4.355231116489965,
          4.7022081468705,
          3.972597062978207,
          4.762286506987424,
          3.5796006155737468,
          3.279924698892601,
          5.791669063080005,
          5.5059222123630445,
          5.000829913975161,
          5.27255230660131,
          5.219476559199749,
          5.686348083087227,
          4.981823019898293,
          4.838526922081254,
          5.001922552270646,
          5.103664824045673,
          4.944657836552804,
          4.851008138251939,
          3.7376398348696735,
          5.5571562433129476,
          5.415807792924904,
          3.7884546871452534,
          4.948843933003402,
          4.155571750787528,
          6.037943452888377,
          4.4354788776757506,
          3.2467383505738336,
          5.671338159856043,
          5.246125781803637,
          4.492941067215979,
          5.181701276006181,
          5.615873023669893,
          3.5076518815407436,
          5.08395855959821,
          5.739145936017436,
          2.670349597556893,
          5.586100458001251,
          6.389485521907396,
          3.948203618966538,
          5.732600125455348,
          6.637120988893116,
          3.177586626458976,
          5.71494009685901,
          5.052724947870029,
          4.284542399557963,
          5.48480664387309,
          4.953640294277802,
          4.01796111634181,
          4.6817846366200575,
          4.62910866762813,
          5.082265069841069,
          6.139313593252412,
          5.202535701248916,
          4.474414565975798,
          2.888396837354795,
          6.211879253932545,
          6.649927611193907,
          4.415300761874863,
          3.807972524650821,
          3.57751193205042,
          6.546839687272137,
          4.977927346547328,
          3.9055219149042903,
          4.393148195067696,
          4.510171387805705,
          5.394728082099475,
          5.74532062118519,
          7.266925902098232,
          5.479222231599451,
          4.947365710789021,
          5.310107694817611,
          4.990934516036577,
          2.655459450319446,
          6.149342545726462,
          4.727361777514017,
          5.339493429893524,
          4.411856444379737,
          6.08751850923165,
          5.308358374188272,
          6.556641658819582,
          7.787143148473894,
          6.491252449149436,
          3.6867332476093484,
          4.340245168409296,
          5.840723888001939,
          3.5911518705974466,
          4.666130662325786,
          6.573805844638442,
          7.342902081059828,
          5.528230418055307,
          4.61102593578497,
          4.654019809936917,
          3.6202858077111975,
          4.827958044460572,
          5.017334992417092,
          4.529286603529899,
          4.59327931795015,
          4.667212464099432,
          6.120937333461356,
          5.22347280933803,
          3.5668774399005834,
          3.6001779210708253,
          4.854950001683419,
          6.5864134905855884,
          4.403805604380423,
          6.081812809954511,
          4.50194956289139,
          5.646238510667408,
          4.397251841014438,
          6.690638715643008
         ],
         "xaxis": "x",
         "xbins": {
          "end": 8.920499559403604,
          "size": 1,
          "start": 1.6047089953931861
         },
         "yaxis": "y"
        },
        {
         "legendgroup": "Normal 1",
         "marker": {
          "color": "rgb(31, 119, 180)"
         },
         "mode": "lines",
         "name": "Normal 1",
         "showlegend": false,
         "type": "scatter",
         "x": [
          -4.011580166814692,
          -3.996643882197329,
          -3.981707597579966,
          -3.9667713129626034,
          -3.9518350283452404,
          -3.9368987437278773,
          -3.921962459110514,
          -3.9070261744931516,
          -3.8920898898757885,
          -3.8771536052584255,
          -3.8622173206410624,
          -3.8472810360236993,
          -3.8323447514063367,
          -3.8174084667889736,
          -3.8024721821716105,
          -3.7875358975542475,
          -3.772599612936885,
          -3.7576633283195218,
          -3.7427270437021587,
          -3.7277907590847956,
          -3.7128544744674326,
          -3.69791818985007,
          -3.682981905232707,
          -3.668045620615344,
          -3.6531093359979807,
          -3.638173051380618,
          -3.623236766763255,
          -3.608300482145892,
          -3.593364197528529,
          -3.578427912911166,
          -3.563491628293803,
          -3.54855534367644,
          -3.533619059059077,
          -3.518682774441714,
          -3.5037464898243513,
          -3.4888102052069883,
          -3.473873920589625,
          -3.458937635972262,
          -3.444001351354899,
          -3.4290650667375364,
          -3.4141287821201733,
          -3.3991924975028103,
          -3.3842562128854476,
          -3.3693199282680846,
          -3.3543836436507215,
          -3.3394473590333584,
          -3.3245110744159954,
          -3.3095747897986323,
          -3.2946385051812697,
          -3.2797022205639066,
          -3.2647659359465435,
          -3.249829651329181,
          -3.234893366711818,
          -3.2199570820944547,
          -3.2050207974770917,
          -3.1900845128597286,
          -3.1751482282423655,
          -3.160211943625003,
          -3.14527565900764,
          -3.1303393743902768,
          -3.1154030897729137,
          -3.100466805155551,
          -3.085530520538188,
          -3.070594235920825,
          -3.055657951303462,
          -3.040721666686099,
          -3.025785382068736,
          -3.010849097451373,
          -2.9959128128340105,
          -2.9809765282166474,
          -2.9660402435992843,
          -2.9511039589819212,
          -2.936167674364558,
          -2.921231389747195,
          -2.906295105129832,
          -2.8913588205124694,
          -2.8764225358951063,
          -2.8614862512777437,
          -2.8465499666603806,
          -2.8316136820430176,
          -2.8166773974256545,
          -2.8017411128082914,
          -2.7868048281909283,
          -2.7718685435735653,
          -2.7569322589562026,
          -2.7419959743388396,
          -2.727059689721477,
          -2.712123405104114,
          -2.697187120486751,
          -2.6822508358693877,
          -2.6673145512520247,
          -2.6523782666346616,
          -2.6374419820172985,
          -2.622505697399936,
          -2.607569412782573,
          -2.59263312816521,
          -2.577696843547847,
          -2.562760558930484,
          -2.547824274313121,
          -2.532887989695758,
          -2.517951705078395,
          -2.5030154204610318,
          -2.488079135843669,
          -2.473142851226306,
          -2.4582065666089434,
          -2.4432702819915804,
          -2.4283339973742173,
          -2.413397712756854,
          -2.398461428139491,
          -2.383525143522128,
          -2.368588858904765,
          -2.3536525742874024,
          -2.3387162896700393,
          -2.3237800050526762,
          -2.3088437204353136,
          -2.2939074358179505,
          -2.2789711512005875,
          -2.2640348665832244,
          -2.2490985819658613,
          -2.2341622973484982,
          -2.219226012731135,
          -2.2042897281137726,
          -2.1893534434964095,
          -2.174417158879047,
          -2.159480874261684,
          -2.1445445896443207,
          -2.1296083050269576,
          -2.1146720204095946,
          -2.0997357357922315,
          -2.0847994511748684,
          -2.069863166557506,
          -2.0549268819401427,
          -2.03999059732278,
          -2.025054312705417,
          -2.010118028088054,
          -1.9951817434706909,
          -1.9802454588533283,
          -1.9653091742359652,
          -1.9503728896186021,
          -1.935436605001239,
          -1.9205003203838764,
          -1.9055640357665133,
          -1.8906277511491503,
          -1.8756914665317872,
          -1.8607551819144246,
          -1.8458188972970615,
          -1.8308826126796984,
          -1.8159463280623354,
          -1.8010100434449723,
          -1.7860737588276097,
          -1.7711374742102466,
          -1.7562011895928835,
          -1.7412649049755204,
          -1.7263286203581574,
          -1.7113923357407947,
          -1.6964560511234317,
          -1.6815197665060686,
          -1.6665834818887055,
          -1.651647197271343,
          -1.6367109126539798,
          -1.6217746280366168,
          -1.6068383434192537,
          -1.5919020588018906,
          -1.576965774184528,
          -1.562029489567165,
          -1.5470932049498018,
          -1.5321569203324388,
          -1.5172206357150761,
          -1.502284351097713,
          -1.48734806648035,
          -1.472411781862987,
          -1.4574754972456239,
          -1.4425392126282612,
          -1.4276029280108982,
          -1.412666643393535,
          -1.397730358776172,
          -1.382794074158809,
          -1.3678577895414463,
          -1.3529215049240833,
          -1.3379852203067202,
          -1.323048935689357,
          -1.3081126510719945,
          -1.2931763664546314,
          -1.2782400818372683,
          -1.2633037972199053,
          -1.2483675126025422,
          -1.2334312279851796,
          -1.2184949433678165,
          -1.2035586587504534,
          -1.1886223741330904,
          -1.1736860895157277,
          -1.1587498048983647,
          -1.1438135202810016,
          -1.1288772356636385,
          -1.1139409510462754,
          -1.0990046664289128,
          -1.0840683818115497,
          -1.0691320971941867,
          -1.0541958125768236,
          -1.039259527959461,
          -1.024323243342098,
          -1.0093869587247348,
          -0.9944506741073718,
          -0.9795143894900087,
          -0.9645781048726461,
          -0.949641820255283,
          -0.9347055356379199,
          -0.9197692510205568,
          -0.9048329664031942,
          -0.8898966817858311,
          -0.8749603971684681,
          -0.860024112551105,
          -0.8450878279337419,
          -0.8301515433163793,
          -0.8152152586990162,
          -0.8002789740816532,
          -0.7853426894642901,
          -0.770406404846927,
          -0.7554701202295644,
          -0.7405338356122013,
          -0.7255975509948382,
          -0.7106612663774752,
          -0.6957249817601125,
          -0.6807886971427495,
          -0.6658524125253864,
          -0.6509161279080233,
          -0.6359798432906603,
          -0.6210435586732976,
          -0.6061072740559346,
          -0.5911709894385715,
          -0.5762347048212084,
          -0.5612984202038458,
          -0.5463621355864827,
          -0.5314258509691197,
          -0.5164895663517566,
          -0.5015532817343935,
          -0.4866169971170309,
          -0.4716807124996678,
          -0.45674442788230474,
          -0.44180814326494167,
          -0.4268718586475786,
          -0.41193557403021597,
          -0.3969992894128529,
          -0.3820630047954898,
          -0.36712672017812675,
          -0.3521904355607641,
          -0.33725415094340105,
          -0.322317866326038,
          -0.3073815817086749,
          -0.29244529709131184,
          -0.2775090124739492,
          -0.26257272785658614,
          -0.24763644323922307,
          -0.23270015862186,
          -0.21776387400449737,
          -0.2028275893871343,
          -0.18789130476977123,
          -0.17295502015240816,
          -0.15801873553504509,
          -0.14308245091768246,
          -0.1281461663003194,
          -0.11320988168295631,
          -0.09827359706559324,
          -0.08333731244823062,
          -0.06840102783086754,
          -0.05346474321350447,
          -0.0385284585961414,
          -0.02359217397877833,
          -0.008655889361415703,
          0.006280395255947369,
          0.02121667987331044,
          0.03615296449067351,
          0.051089249108035695,
          0.06602553372539877,
          0.08096181834276184,
          0.09589810296012491,
          0.11083438757748798,
          0.12577067219485105,
          0.14070695681221412,
          0.1556432414295772,
          0.17057952604693938,
          0.18551581066430334,
          0.20045209528166552,
          0.21538837989902948,
          0.23032466451639166,
          0.24526094913375474,
          0.2601972337511178,
          0.2751335183684809,
          0.29006980298584306,
          0.305006087603207,
          0.3199423722205692,
          0.33487865683793316,
          0.34981494145529535,
          0.3647512260726584,
          0.3796875106900215,
          0.39462379530738456,
          0.40956007992474763,
          0.4244963645421107,
          0.4394326491594729,
          0.45436893377683685,
          0.46930521839419903,
          0.484241503011563,
          0.4991777876289252,
          0.5141140722462882,
          0.5290503568636513,
          0.5439866414810144,
          0.5589229260983775,
          0.5738592107157405,
          0.5887954953331027,
          0.6037317799504667,
          0.6186680645678289,
          0.6336043491851919,
          0.648540633802555,
          0.6634769184199181,
          0.6784132030372811,
          0.6933494876546442,
          0.7082857722720064,
          0.7232220568893704,
          0.7381583415067325,
          0.7530946261240965,
          0.7680309107414587,
          0.7829671953588218,
          0.7979034799761848,
          0.8128397645935479,
          0.827776049210911,
          0.842712333828274,
          0.8576486184456362,
          0.8725849030630002,
          0.8875211876803624,
          0.9024574722977263,
          0.9173937569150885,
          0.9323300415324516,
          0.9472663261498147,
          0.9622026107671777,
          0.9771388953845399,
          0.9920751800019039,
          1.007011464619266,
          1.02194774923663,
          1.0368840338539922,
          1.0518203184713553,
          1.0667566030887183,
          1.0816928877060814,
          1.0966291723234445,
          1.1115654569408076,
          1.1265017415581697,
          1.1414380261755337,
          1.1563743107928959,
          1.1713105954102598,
          1.186246880027622,
          1.201183164644985,
          1.2161194492623482,
          1.2310557338797112,
          1.2459920184970743,
          1.2609283031144374,
          1.2758645877317996,
          1.2908008723491635,
          1.3057371569665257,
          1.3206734415838888,
          1.3356097262012518,
          1.350546010818615,
          1.365482295435978,
          1.380418580053341,
          1.3953548646707032,
          1.4102911492880672,
          1.4252274339054294,
          1.4401637185227933,
          1.4551000031401555,
          1.4700362877575186,
          1.4849725723748817,
          1.4999088569922447,
          1.5148451416096078,
          1.5297814262269709,
          1.544717710844333,
          1.559653995461697,
          1.5745902800790592,
          1.5895265646964223,
          1.6044628493137854,
          1.6193991339311484,
          1.6343354185485115,
          1.6492717031658746,
          1.6642079877832368,
          1.6791442724006007,
          1.694080557017963,
          1.7090168416353269,
          1.723953126252689,
          1.7388894108700512,
          1.7538256954874152,
          1.7687619801047774,
          1.7836982647221413,
          1.7986345493395035,
          1.8135708339568666,
          1.8285071185742297,
          1.8434434031915927,
          1.8583796878089558,
          1.8733159724263189,
          1.888252257043681,
          1.903188541661045,
          1.9181248262784072,
          1.9330611108957703,
          1.9479973955131333,
          1.9629336801304964,
          1.9778699647478595,
          1.9928062493652225,
          2.0077425339825847,
          2.0226788185999487,
          2.037615103217311,
          2.052551387834675,
          2.067487672452037,
          2.0824239570694,
          2.097360241686763,
          2.1122965263041262,
          2.1272328109214893,
          2.1421690955388524,
          2.1571053801562146,
          2.1720416647735785,
          2.1869779493909407,
          2.2019142340083038,
          2.216850518625667,
          2.23178680324303,
          2.246723087860393,
          2.261659372477756,
          2.2765956570951182,
          2.291531941712482,
          2.3064682263298444,
          2.3214045109472083,
          2.3363407955645705,
          2.3512770801819336,
          2.3662133647992967,
          2.3811496494166597,
          2.396085934034023,
          2.411022218651386,
          2.425958503268748,
          2.440894787886112,
          2.455831072503474,
          2.470767357120838,
          2.4857036417382004,
          2.5006399263555634,
          2.5155762109729265,
          2.5305124955902896,
          2.5454487802076518,
          2.5603850648250157,
          2.575321349442378,
          2.590257634059742,
          2.605193918677104,
          2.620130203294467,
          2.63506648791183,
          2.6500027725291933,
          2.6649390571465563,
          2.6798753417639194,
          2.6948116263812816,
          2.7097479109986455,
          2.7246841956160077,
          2.7396204802333717,
          2.754556764850734,
          2.769493049468097,
          2.78442933408546,
          2.799365618702823,
          2.814301903320186,
          2.829238187937549,
          2.8441744725549114,
          2.8591107571722754,
          2.8740470417896375,
          2.8889833264070006,
          2.9039196110243637,
          2.9188558956417268,
          2.93379218025909,
          2.948728464876453,
          2.963664749493815,
          2.978601034111179,
          2.9935373187285412,
          3.008473603345905,
          3.0234098879632674,
          3.0383461725806304,
          3.0532824571979935,
          3.0682187418153566,
          3.0831550264327197,
          3.0980913110500827,
          3.113027595667445,
          3.127963880284809,
          3.142900164902171,
          3.157836449519535,
          3.172772734136897,
          3.1877090187542603,
          3.2026453033716233,
          3.2175815879889864,
          3.2325178726063486,
          3.2474541572237126,
          3.2623904418410747,
          3.2773267264584387,
          3.292263011075801,
          3.307199295693164,
          3.322135580310527,
          3.33707186492789,
          3.352008149545253,
          3.3669444341626162,
          3.3818807187799784,
          3.3968170033973424,
          3.4117532880147046,
          3.4266895726320685,
          3.4416258572494307
         ],
         "xaxis": "x",
         "y": [
          0.0016106712746955657,
          0.0016079877721016345,
          0.0015995507926911297,
          0.0015854671704384404,
          0.0015659072214018585,
          0.0015411022744260443,
          0.001511341211804491,
          0.0014769661145128058,
          0.0014383671275352426,
          0.0013959766778316224,
          0.0013502631901136904,
          0.0013017244534734552,
          0.0012508807948658463,
          0.0011982682135148028,
          0.0011444316236875437,
          0.0010899183423387366,
          0.0010352719433894847,
          0.000981026582528955,
          0.000927701876162669,
          0.000875798396302845,
          0.0008257938206591175,
          0.0007781397547994394,
          0.0007332592218349343,
          0.000691544795399623,
          0.0006533573344154829,
          0.0006190252638104143,
          0.0005888443344137504,
          0.0005630777879686057,
          0.0005419568496976526,
          0.0005256814711112638,
          0.000514421249577427,
          0.0005083164582657919,
          0.000507479129993099,
          0.0005119941506875536,
          0.0005219203320248438,
          0.0005372914475785512,
          0.0005581172318500665,
          0.000584384356070211,
          0.0006160574079916509,
          0.0006530799143630581,
          0.0006953754538134617,
          0.0007428489139976759,
          0.0007953879496995637,
          0.0008528646979319858,
          0.0009151378018304566,
          0.000982054787383709,
          0.00105345482600419,
          0.0011291719019885524,
          0.0012090383875631768,
          0.0012928890100831535,
          0.0013805651767835312,
          0.0014719196030676433,
          0.0015668211714979317,
          0.0016651599312740887,
          0.0017668521328575734,
          0.0018718451802817236,
          0.0019801223752271874,
          0.0020917073226692784,
          0.002206667868190463,
          0.0023251194420970465,
          0.0024472276952991145,
          0.0025732103263300223,
          0.0027033380175334894,
          0.002837934420793147,
          0.002977375158526463,
          0.0031220858331867645,
          0.0032725390672914308,
          0.003429250625035558,
          0.003592774694852928,
          0.003763698438857728,
          0.003942635939006582,
          0.004130221690214163,
          0.004327103806810848,
          0.004533937120065603,
          0.004751376350590749,
          0.00498006954004788,
          0.005220651921611688,
          0.0054737403982132666,
          0.005739928781931473,
          0.006019783927424357,
          0.006313842867515747,
          0.006622611030595501,
          0.006946561588065399,
          0.007286135946429441,
          0.007641745363601678,
          0.008013773633420764,
          0.008402580747075011,
          0.008808507406011976,
          0.009231880228792403,
          0.009673017465105812,
          0.01013223500463656,
          0.010609852447486343,
          0.011106198987226928,
          0.01162161884814579,
          0.012156476015572659,
          0.012711158002973426,
          0.013286078412302183,
          0.01388167806529372,
          0.014498424513165943,
          0.015136809770557211,
          0.015797346166163795,
          0.016480560256870672,
          0.017186984813262713,
          0.017917148950981274,
          0.01867156655281718,
          0.019450723198729314,
          0.02025506189285121,
          0.0210849679454593,
          0.021940753431091916,
          0.022822641698727227,
          0.023730752453361873,
          0.02466508795786604,
          0.025625520917277867,
          0.0266117846028384,
          0.027623465748683403,
          0.028660000709510754,
          0.029720675302776535,
          0.03080462867492386,
          0.03191086142952108,
          0.03303824813854814,
          0.034185554229749726,
          0.03535145710699984,
          0.036534571221586,
          0.037733476675183356,
          0.03894675080522497,
          0.04017300208551786,
          0.041410905574195654,
          0.04265923906185015,
          0.043916919018670356,
          0.04518303541348273,
          0.04645688448154864,
          0.047737998552502464,
          0.049026172114384634,
          0.05032148338259199,
          0.05162431076083453,
          0.052935343720915504,
          0.0542555877844563,
          0.05558636345704924,
          0.05692929913768066,
          0.058286318197401515,
          0.059659620584926895,
          0.061051659467245445,
          0.0624651135450853,
          0.0639028557916867,
          0.06536791944518053,
          0.06686346213751113,
          0.06839272906496874,
          0.0699590160969549,
          0.0715656336817082,
          0.07321587234260586,
          0.07491297046956544,
          0.0766600850010211,
          0.07846026546763515,
          0.08031643173438001,
          0.08223135563813995,
          0.08420764657873707,
          0.08624774098720239,
          0.08835389547068023,
          0.09052818332242867,
          0.09277249399109276,
          0.09508853502809193,
          0.09747783597705936,
          0.09994175363536763,
          0.10248147810475314,
          0.10509803905492866,
          0.10779231164937854,
          0.11056502162422518,
          0.11341674906677254,
          0.11634793050752049,
          0.11935885901544865,
          0.12244968206861388,
          0.12562039705814976,
          0.12887084437141352,
          0.13220069808737694,
          0.1356094544028002,
          0.13909641798992645,
          0.14266068656438677,
          0.14630113401479977,
          0.15001639251255064,
          0.15380483408072482,
          0.15766455215453448,
          0.16159334371099357,
          0.16558869258219874,
          0.16964775459318412,
          0.17376734518071596,
          0.1779439301519959,
          0.18217362023051994,
          0.18645217000861544,
          0.19077498188084466,
          0.19513711546823354,
          0.19953330295906907,
          0.2039579706873869,
          0.20840526714539329,
          0.2128690974819668,
          0.2173431643779227,
          0.22182101501290774,
          0.2262960936524363,
          0.23076179919172532,
          0.2352115468013654,
          0.23963883263508676,
          0.2440373003890778,
          0.24840080835283312,
          0.25272349547072687,
          0.25699984484843,
          0.26122474309514476,
          0.2653935338966031,
          0.2695020642686699,
          0.27354672204921887,
          0.2775244633468848,
          0.28143282887735976,
          0.2852699483769949,
          0.2890345325833201,
          0.2927258526045223,
          0.29634370685491096,
          0.29988837609955066,
          0.30336056751616974,
          0.3067613490332479,
          0.3100920755268607,
          0.3133543087431503,
          0.31654973304684203,
          0.31968006926938153,
          0.3227469890354319,
          0.32575203197831537,
          0.3286965282110467,
          0.33158152830000265,
          0.334407742796157,
          0.33717549311984574,
          0.3398846752775239,
          0.34253473752328023,
          0.3451246726760813,
          0.34765302537915704,
          0.35011791415455973,
          0.3525170676778039,
          0.35484787428831116,
          0.3571074433737837,
          0.3592926769318833,
          0.3614003493302622,
          0.36342719306346927,
          0.3653699881477637,
          0.36722565270534535,
          0.3689913322685942,
          0.3706644853810722,
          0.3722429631818435,
          0.3737250808279893,
          0.37510967883050544,
          0.3763961726434954,
          0.3775845891474996,
          0.3786755889962185,
          0.379670474143061,
          0.38057118022126374,
          0.3813802538105777,
          0.38210081497685033,
          0.38273650581126667,
          0.38329142601693905,
          0.3837700568862523,
          0.3841771752777027,
          0.38451775943147687,
          0.38479688865479933,
          0.38501963905779785,
          0.38519097762567045,
          0.38531565697087355,
          0.3853981131186166,
          0.38544236863881565,
          0.3854519433479333,
          0.385429774665136,
          0.3853781495205571,
          0.38529864948156245,
          0.3851921104893721,
          0.38505859828794187,
          0.3848974002853577,
          0.3847070342223637,
          0.384485273640826,
          0.3842291897560051,
          0.3839352089500076,
          0.38359918472983273,
          0.3832164826421181,
          0.38278207631812966,
          0.3822906525459986,
          0.38173672304131895,
          0.3811147404190463,
          0.38041921576486865,
          0.3796448351665256,
          0.3787865725966591,
          0.3778397966381003,
          0.376800368707375,
          0.3756647306577732,
          0.3744299799226782,
          0.3730939306844794,
          0.37165515991428305,
          0.3701130375117009,
          0.36846774017073197,
          0.3667202489952196,
          0.3648723312741918,
          0.36292650719266767,
          0.3608860025875645,
          0.35875468915290526,
          0.3565370137467601,
          0.3542379186496303,
          0.35186275476702694,
          0.349417189856911,
          0.3469071138958534,
          0.3443385436786326,
          0.34171752867792654,
          0.33905006007861366,
          0.3363419847504381,
          0.33359892573944294,
          0.3308262106490961,
          0.32802880905269527,
          0.32521127983570197,
          0.32237772911598717,
          0.3195317791369944,
          0.31667654827847985,
          0.31381464208622395,
          0.31094815498984074,
          0.30807868216005896,
          0.3052073407567673,
          0.302334799639517,
          0.2994613164557227,
          0.2965867808908316,
          0.2937107627615282,
          0.2908325635596828,
          0.2879512700128849,
          0.2850658082186964,
          0.28217499693509235,
          0.27927759866947494,
          0.276372367302945,
          0.27345809111413427,
          0.2705336302258717,
          0.26759794768531814,
          0.2646501335998407,
          0.26168942198176753,
          0.2587152001990408,
          0.25572701117879226,
          0.25272454875916256,
          0.2497076468232224,
          0.24667626306915624,
          0.24363045846485085,
          0.2405703735947848,
          0.23749620322592602,
          0.23440817049126828,
          0.23130650211062506,
          0.2281914060356662,
          0.22506305281950825,
          0.22192156187191892,
          0.21876699357306556,
          0.21559934798741304,
          0.21241857065259143,
          0.20922456562508465,
          0.20601721565620879,
          0.20279640905967855,
          0.19956207252839123,
          0.1963142088749213,
          0.19305293841951646,
          0.1897785425416346,
          0.18649150775557147,
          0.18319256857476549,
          0.17988274739795684,
          0.17656338968609137,
          0.17323619280153005,
          0.16990322704795843,
          0.16656694767493035,
          0.16323019688738885,
          0.15989619521788187,
          0.1565685219657939,
          0.15325108477103072,
          0.14994807875554136,
          0.14666393602130617,
          0.14340326662464167,
          0.140170792441759,
          0.13697127558861308,
          0.1338094432504572,
          0.13068991090651866,
          0.12761710599874512,
          0.12459519408908958,
          0.12162800947840169,
          0.11871899212515967,
          0.11587113250993006,
          0.11308692584928363,
          0.1103683367804121,
          0.10771677532539059,
          0.10513308461326416,
          0.10261754050038446,
          0.10016986289608237,
          0.09778923828249322,
          0.09547435262390876,
          0.09322343360079281,
          0.09103430088348509,
          0.08890442298575056,
          0.08683097911217864,
          0.08481092433758464,
          0.0828410564309462,
          0.08091808265936666,
          0.0790386849759986,
          0.07719958210552702,
          0.07539758718642689,
          0.07362965980483736,
          0.0718929514540275,
          0.07018484366939452,
          0.06850297831494374,
          0.06684527972666691,
          0.06520996864484462,
          0.06359556808521394,
          0.06200090150285367,
          0.060425083787893796,
          0.058867505794777814,
          0.057327813243571835,
          0.05580588094024365,
          0.054301783341239564,
          0.05281576253512025,
          0.05134819473034369,
          0.04989955632405258,
          0.04847039058328014,
          0.0470612758992997,
          0.045672796480569045,
          0.04430551623307544,
          0.042959956442633646,
          0.04163657772597585,
          0.040335766560843436,
          0.039057826544430345,
          0.037802974369292384,
          0.03657134035096652,
          0.035362973196648946,
          0.0341778485736067,
          0.03301588092334646,
          0.0318769378761348,
          0.030760856552770333,
          0.029667460998242676,
          0.02859657997596658,
          0.027548064361603102,
          0.026521803411198426,
          0.025517739237723373,
          0.02453587891057345,
          0.02357630369097791,
          0.022639175028829166,
          0.021724737068995185,
          0.02083331554333115,
          0.01996531305384122,
          0.019121200878371807,
          0.018301507548659297,
          0.017506804557750864,
          0.01673768964649509,
          0.0159947681943292,
          0.015278633296006499,
          0.014589845142002483,
          0.013928910335607942,
          0.013296261774425704,
          0.012692239699024756,
          0.012117074468418757,
          0.01157087156285198,
          0.011053599241569907,
          0.010565079199591317,
          0.01010498047596302,
          0.009672816769619348,
          0.009267947220844295,
          0.008889580619366944,
          0.008536782907072014,
          0.00820848775665238,
          0.007903509929458645,
          0.007620561048137487,
          0.0073582673638575005,
          0.0071151890550738865,
          0.0068898405655745615,
          0.006680711474293009,
          0.006486287388024578,
          0.006305070360350945,
          0.006135598365061293,
          0.005976463389160112,
          0.005826327757918129,
          0.005683938360870631,
          0.005548138511521007,
          0.005417877242934218,
          0.005292215914457751,
          0.005170332079462275,
          0.005051520638206087,
          0.004935192371665917,
          0.004820870019492733,
          0.004708182126315695,
          0.004596854933783362,
          0.00448670263957889,
          0.004377616378030973,
          0.004269552299034725,
          0.004162519132315399,
          0.004056565622496233,
          0.0039517682072349085,
          0.0038482192865052483,
          0.0037460163969153045,
          0.003645252562083848,
          0.0035460080401399125,
          0.003448343634179978,
          0.003352295672988464,
          0.003257872709553309,
          0.0031650539259535696,
          0.0030737891770477475,
          0.0029840005538961135,
          0.002895585302636152,
          0.002808419896954076,
          0.0027223650333934035,
          0.002637271299196484,
          0.0025529852524982877,
          0.0024693556544238254
         ],
         "yaxis": "y"
        },
        {
         "legendgroup": "Normal 2",
         "marker": {
          "color": "rgb(255, 127, 14)"
         },
         "mode": "lines",
         "name": "Normal 2",
         "showlegend": false,
         "type": "scatter",
         "x": [
          1.6047089953931861,
          1.619340576521207,
          1.6339721576492279,
          1.6486037387772485,
          1.6632353199052694,
          1.6778669010332903,
          1.6924984821613112,
          1.707130063289332,
          1.7217616444173527,
          1.7363932255453736,
          1.7510248066733944,
          1.7656563878014153,
          1.7802879689294362,
          1.794919550057457,
          1.8095511311854777,
          1.8241827123134986,
          1.8388142934415195,
          1.8534458745695404,
          1.8680774556975612,
          1.8827090368255819,
          1.8973406179536028,
          1.9119721990816236,
          1.9266037802096445,
          1.9412353613376654,
          1.9558669424656863,
          1.970498523593707,
          1.9851301047217278,
          1.9997616858497487,
          2.0143932669777693,
          2.02902484810579,
          2.043656429233811,
          2.058288010361832,
          2.072919591489853,
          2.0875511726178737,
          2.1021827537458946,
          2.1168143348739155,
          2.1314459160019363,
          2.1460774971299568,
          2.1607090782579776,
          2.1753406593859985,
          2.1899722405140194,
          2.2046038216420403,
          2.219235402770061,
          2.233866983898082,
          2.248498565026103,
          2.263130146154124,
          2.2777617272821447,
          2.2923933084101655,
          2.3070248895381864,
          2.3216564706662073,
          2.3362880517942277,
          2.350919632922249,
          2.3655512140502695,
          2.3801827951782903,
          2.394814376306311,
          2.409445957434332,
          2.424077538562353,
          2.438709119690374,
          2.4533407008183947,
          2.467972281946415,
          2.482603863074436,
          2.497235444202457,
          2.511867025330478,
          2.5264986064584987,
          2.5411301875865195,
          2.5557617687145404,
          2.5703933498425613,
          2.585024930970582,
          2.599656512098603,
          2.614288093226624,
          2.628919674354645,
          2.6435512554826657,
          2.6581828366106866,
          2.6728144177387074,
          2.687445998866728,
          2.7020775799947487,
          2.7167091611227696,
          2.7313407422507905,
          2.7459723233788114,
          2.7606039045068322,
          2.7752354856348527,
          2.7898670667628735,
          2.8044986478908944,
          2.8191302290189153,
          2.833761810146936,
          2.848393391274957,
          2.863024972402978,
          2.877656553530999,
          2.8922881346590197,
          2.9069197157870406,
          2.9215512969150614,
          2.9361828780430823,
          2.950814459171103,
          2.965446040299124,
          2.9800776214271445,
          2.994709202555166,
          3.0093407836831867,
          3.023972364811207,
          3.038603945939228,
          3.053235527067249,
          3.0678671081952693,
          3.0824986893232906,
          3.0971302704513115,
          3.111761851579332,
          3.126393432707353,
          3.1410250138353737,
          3.1556565949633946,
          3.1702881760914154,
          3.1849197572194363,
          3.199551338347457,
          3.214182919475478,
          3.228814500603499,
          3.24344608173152,
          3.2580776628595407,
          3.2727092439875616,
          3.2873408251155825,
          3.3019724062436033,
          3.3166039873716238,
          3.3312355684996446,
          3.345867149627666,
          3.3604987307556864,
          3.3751303118837073,
          3.389761893011728,
          3.4043934741397486,
          3.4190250552677695,
          3.4336566363957908,
          3.448288217523811,
          3.462919798651832,
          3.477551379779853,
          3.492182960907874,
          3.5068145420358947,
          3.5214461231639156,
          3.5360777042919365,
          3.5507092854199573,
          3.565340866547978,
          3.579972447675999,
          3.59460402880402,
          3.6092356099320404,
          3.6238671910600613,
          3.638498772188082,
          3.653130353316103,
          3.667761934444124,
          3.682393515572145,
          3.6970250967001657,
          3.7116566778281865,
          3.726288258956207,
          3.7409198400842283,
          3.755551421212249,
          3.7701830023402696,
          3.784814583468291,
          3.7994461645963113,
          3.8140777457243322,
          3.828709326852353,
          3.843340907980374,
          3.857972489108395,
          3.8726040702364157,
          3.8872356513644366,
          3.901867232492457,
          3.9164988136204784,
          3.9311303947484992,
          3.9457619758765197,
          3.9603935570045405,
          3.9750251381325614,
          3.9896567192605823,
          4.004288300388603,
          4.018919881516624,
          4.033551462644645,
          4.048183043772665,
          4.062814624900687,
          4.077446206028707,
          4.092077787156728,
          4.106709368284749,
          4.12134094941277,
          4.135972530540791,
          4.1506041116688115,
          4.165235692796832,
          4.179867273924852,
          4.194498855052874,
          4.209130436180895,
          4.223762017308916,
          4.238393598436937,
          4.253025179564958,
          4.267656760692978,
          4.282288341820999,
          4.296919922949019,
          4.311551504077041,
          4.326183085205061,
          4.340814666333083,
          4.355446247461103,
          4.370077828589125,
          4.384709409717145,
          4.3993409908451655,
          4.413972571973186,
          4.428604153101207,
          4.443235734229228,
          4.457867315357249,
          4.47249889648527,
          4.487130477613291,
          4.501762058741312,
          4.5163936398693325,
          4.531025220997353,
          4.545656802125374,
          4.560288383253395,
          4.574919964381415,
          4.589551545509437,
          4.604183126637457,
          4.618814707765479,
          4.633446288893499,
          4.64807787002152,
          4.66270945114954,
          4.677341032277561,
          4.691972613405582,
          4.706604194533603,
          4.721235775661624,
          4.735867356789646,
          4.750498937917666,
          4.7651305190456865,
          4.779762100173707,
          4.794393681301728,
          4.809025262429749,
          4.82365684355777,
          4.838288424685791,
          4.852920005813811,
          4.867551586941833,
          4.882183168069853,
          4.896814749197874,
          4.911446330325895,
          4.926077911453916,
          4.940709492581936,
          4.955341073709958,
          4.969972654837978,
          4.984604235965999,
          4.99923581709402,
          5.013867398222041,
          5.028498979350061,
          5.043130560478083,
          5.057762141606103,
          5.072393722734124,
          5.087025303862145,
          5.101656884990166,
          5.116288466118187,
          5.1309200472462075,
          5.145551628374228,
          5.160183209502248,
          5.17481479063027,
          5.189446371758291,
          5.204077952886312,
          5.218709534014333,
          5.233341115142354,
          5.247972696270374,
          5.262604277398395,
          5.277235858526415,
          5.291867439654437,
          5.306499020782457,
          5.321130601910479,
          5.335762183038499,
          5.35039376416652,
          5.365025345294541,
          5.3796569264225615,
          5.394288507550582,
          5.408920088678603,
          5.423551669806624,
          5.438183250934644,
          5.452814832062666,
          5.467446413190687,
          5.482077994318708,
          5.496709575446729,
          5.511341156574749,
          5.525972737702769,
          5.540604318830791,
          5.555235899958811,
          5.569867481086833,
          5.584499062214853,
          5.599130643342875,
          5.613762224470895,
          5.6283938055989156,
          5.643025386726936,
          5.657656967854957,
          5.672288548982978,
          5.686920130110999,
          5.70155171123902,
          5.716183292367041,
          5.730814873495062,
          5.745446454623083,
          5.760078035751103,
          5.774709616879123,
          5.789341198007145,
          5.803972779135166,
          5.818604360263187,
          5.833235941391208,
          5.847867522519228,
          5.862499103647249,
          5.8771306847752705,
          5.891762265903291,
          5.906393847031312,
          5.921025428159332,
          5.935657009287353,
          5.950288590415374,
          5.964920171543396,
          5.979551752671417,
          5.994183333799437,
          6.0088149149274575,
          6.023446496055478,
          6.038078077183499,
          6.05270965831152,
          6.067341239439541,
          6.081972820567562,
          6.096604401695583,
          6.111235982823604,
          6.125867563951624,
          6.140499145079645,
          6.155130726207666,
          6.169762307335687,
          6.184393888463708,
          6.199025469591728,
          6.213657050719749,
          6.228288631847771,
          6.2429202129757915,
          6.257551794103812,
          6.272183375231832,
          6.286814956359853,
          6.301446537487874,
          6.316078118615895,
          6.330709699743916,
          6.345341280871937,
          6.359972861999958,
          6.3746044431279785,
          6.389236024255999,
          6.403867605384019,
          6.418499186512041,
          6.433130767640062,
          6.447762348768083,
          6.462393929896104,
          6.477025511024124,
          6.491657092152145,
          6.506288673280166,
          6.520920254408187,
          6.535551835536208,
          6.550183416664228,
          6.564814997792249,
          6.57944657892027,
          6.594078160048292,
          6.6087097411763125,
          6.6233413223043325,
          6.637972903432353,
          6.652604484560374,
          6.667236065688395,
          6.681867646816416,
          6.696499227944437,
          6.711130809072458,
          6.725762390200479,
          6.7403939713284995,
          6.7550255524565195,
          6.769657133584541,
          6.784288714712562,
          6.798920295840583,
          6.813551876968604,
          6.828183458096624,
          6.842815039224645,
          6.8574466203526665,
          6.872078201480687,
          6.886709782608708,
          6.901341363736728,
          6.915972944864749,
          6.93060452599277,
          6.945236107120791,
          6.959867688248813,
          6.974499269376833,
          6.9891308505048535,
          7.003762431632874,
          7.018394012760895,
          7.033025593888915,
          7.047657175016937,
          7.062288756144958,
          7.076920337272979,
          7.091551918401,
          7.10618349952902,
          7.1208150806570405,
          7.135446661785062,
          7.150078242913083,
          7.164709824041104,
          7.179341405169124,
          7.193972986297145,
          7.208604567425166,
          7.2232361485531875,
          7.237867729681208,
          7.252499310809228,
          7.267130891937249,
          7.28176247306527,
          7.296394054193291,
          7.311025635321312,
          7.325657216449333,
          7.340288797577354,
          7.3549203787053745,
          7.369551959833395,
          7.384183540961415,
          7.398815122089437,
          7.413446703217458,
          7.428078284345479,
          7.4427098654735,
          7.45734144660152,
          7.471973027729541,
          7.486604608857562,
          7.501236189985583,
          7.515867771113604,
          7.530499352241624,
          7.545130933369645,
          7.559762514497666,
          7.574394095625688,
          7.5890256767537085,
          7.6036572578817285,
          7.618288839009749,
          7.63292042013777,
          7.647552001265791,
          7.662183582393811,
          7.676815163521833,
          7.691446744649854,
          7.706078325777875,
          7.7207099069058955,
          7.7353414880339155,
          7.749973069161936,
          7.764604650289958,
          7.779236231417979,
          7.793867812546,
          7.80849939367402,
          7.823130974802041,
          7.837762555930062,
          7.852394137058083,
          7.867025718186104,
          7.881657299314124,
          7.896288880442145,
          7.910920461570166,
          7.925552042698187,
          7.940183623826209,
          7.954815204954229,
          7.9694467860822495,
          7.98407836721027,
          7.998709948338291,
          8.013341529466311,
          8.027973110594333,
          8.042604691722353,
          8.057236272850375,
          8.071867853978397,
          8.086499435106415,
          8.101131016234437,
          8.115762597362458,
          8.13039417849048,
          8.1450257596185,
          8.15965734074652,
          8.174288921874542,
          8.188920503002562,
          8.203552084130584,
          8.218183665258604,
          8.232815246386625,
          8.247446827514645,
          8.262078408642665,
          8.276709989770687,
          8.291341570898707,
          8.305973152026729,
          8.320604733154749,
          8.33523631428277,
          8.349867895410792,
          8.36449947653881,
          8.379131057666832,
          8.393762638794854,
          8.408394219922876,
          8.423025801050896,
          8.437657382178916,
          8.452288963306938,
          8.466920544434958,
          8.48155212556298,
          8.496183706691,
          8.510815287819021,
          8.525446868947041,
          8.540078450075061,
          8.554710031203083,
          8.569341612331105,
          8.583973193459125,
          8.598604774587145,
          8.613236355715166,
          8.627867936843188,
          8.642499517971206,
          8.657131099099228,
          8.67176268022725,
          8.686394261355272,
          8.701025842483292,
          8.715657423611312,
          8.730289004739333,
          8.744920585867355,
          8.759552166995375,
          8.774183748123395,
          8.788815329251417,
          8.803446910379437,
          8.818078491507457,
          8.832710072635479,
          8.8473416537635,
          8.86197323489152,
          8.87660481601954,
          8.891236397147562,
          8.905867978275584
         ],
         "xaxis": "x",
         "y": [
          0.0019506329518849063,
          0.0019955300309069408,
          0.0020399865569827773,
          0.0020844098625418775,
          0.0021292592719060533,
          0.0021750413485827178,
          0.0022223043572015167,
          0.0022716320899113973,
          0.0023236372282443045,
          0.002378954427554093,
          0.0024382333213980017,
          0.0025021316470651787,
          0.002571308690499317,
          0.0026464192389689303,
          0.0027281082131124603,
          0.002817006126783136,
          0.002913725494047513,
          0.0030188582686000017,
          0.0031329743628091644,
          0.0032566212528654342,
          0.0033903246344594816,
          0.0035345900515944065,
          0.0036899053810849954,
          0.003856744018578695,
          0.004035568580039453,
          0.004226834906935632,
          0.004430996145058096,
          0.004648506656920356,
          0.004879825526739954,
          0.005125419425432233,
          0.005385764620887504,
          0.005661347945718709,
          0.005952666569970885,
          0.0062602264689473625,
          0.006584539524987725,
          0.006926119255112533,
          0.007285475212094356,
          0.007663106162731774,
          0.008059492201816539,
          0.008475086011411581,
          0.008910303520587389,
          0.009365514258838688,
          0.009841031725385953,
          0.010337104115118059,
          0.010853905749058552,
          0.011391529552340523,
          0.011949980905574066,
          0.012529173166446955,
          0.013128925118095701,
          0.01374896055032695,
          0.014388910120625558,
          0.015048315575859261,
          0.015726636344738042,
          0.016423258437662878,
          0.01713750551696468,
          0.01786865192908882,
          0.01861593742336452,
          0.01937858322183209,
          0.020155809053200035,
          0.020946850723120043,
          0.02175097776403939,
          0.022567510691988056,
          0.023395837395478104,
          0.02423542819350941,
          0.0250858491253712,
          0.025946773073974097,
          0.026817988375936675,
          0.027699404634322168,
          0.028591055522196027,
          0.02949309844520459,
          0.030405811017069767,
          0.03132958439100269,
          0.03226491358017902,
          0.03321238498913637,
          0.03417266146279695,
          0.03514646523836927,
          0.03613455925532804,
          0.03713772733786773,
          0.03815675381072842,
          0.039192403141436995,
          0.040245400218455026,
          0.0413164118744839,
          0.042406030246694586,
          0.04351475853080644,
          0.04464299963408011,
          0.045791048164290984,
          0.04695908610893578,
          0.048147182463157294,
          0.04935529695843768,
          0.05058328792974461,
          0.05183092423959675,
          0.05309790105681693,
          0.054383859169134734,
          0.055688407395920625,
          0.05701114756381551,
          0.05835170141731718,
          0.05970973876167797,
          0.06108500607954847,
          0.06247735482789585,
          0.06388676860949188,
          0.06531338842460767,
          0.0667575352436277,
          0.06821972919946166,
          0.06970070477844731,
          0.07120142148766073,
          0.072723069592286,
          0.07426707064537064,
          0.07583507266988437,
          0.07742893999511108,
          0.07905073789146237,
          0.0807027122851954,
          0.08238726496284875,
          0.08410692479032321,
          0.08586431556988257,
          0.0876621212369049,
          0.08950304915477923,
          0.09138979229952217,
          0.09332499113493231,
          0.09531119596482128,
          0.09735083051224354,
          0.09944615741873092,
          0.10159924628203021,
          0.10381194476200559,
          0.10608585318491816,
          0.10842230297012621,
          0.11082233909443259,
          0.1132867067017159,
          0.11581584186281278,
          0.11840986639613127,
          0.12106858657594541,
          0.12379149548483187,
          0.12657777871083725,
          0.1294263230493747,
          0.13233572784473624,
          0.13530431859586622,
          0.13833016245456228,
          0.1414110852599542,
          0.14454468977896745,
          0.14772837485625767,
          0.1509593552164651,
          0.15423468170416804,
          0.15755126179037615,
          0.16090588021667018,
          0.16429521968739852,
          0.16771588155518016,
          0.17116440647421854,
          0.17463729501887232,
          0.17813102828112556,
          0.18164208847002203,
          0.18516697953894468,
          0.1887022478632624,
          0.19224450298196982,
          0.19579043840307275,
          0.19933685245452926,
          0.2028806691410703,
          0.20641895894303722,
          0.209948959467023,
          0.21346809583017567,
          0.21697400063102049,
          0.22046453333003216,
          0.22393779883344256,
          0.22739216504431772,
          0.2308262791164455,
          0.23423908211960315,
          0.23762982180021608,
          0.24099806310015054,
          0.24434369607957984,
          0.24766694087869356,
          0.2509683493489246,
          0.25424880298867164,
          0.257509506832682,
          0.26075197896958313,
          0.2639780353997088,
          0.2671897699961942,
          0.2703895293968499,
          0.27357988273264966,
          0.2767635861903012,
          0.2799435425102911,
          0.28312275563643585,
          0.28630428085596865,
          0.2894911708978388,
          0.29268641858770783,
          0.2958928967873574,
          0.29911329646965323,
          0.30235006389343155,
          0.3056053379413864,
          0.30888088876366887,
          0.31217805892674994,
          0.3154977082972392,
          0.31884016389116326,
          0.32220517588825015,
          0.3255918809470109,
          0.3289987738594424,
          0.33242368845489445,
          0.33586378850290566,
          0.3393155691776537,
          0.342774869436035,
          0.3462368954322144,
          0.3496962548495831,
          0.3531470017826104,
          0.3565826915530558,
          0.35999644460421854,
          0.3633810183905015,
          0.36672888597419395,
          0.3700323198634043,
          0.37328347947997037,
          0.3764745005388942,
          0.37959758455476833,
          0.3826450866686325,
          0.3856096000116463,
          0.38848403489009675,
          0.3912616911879365,
          0.39393632253583444,
          0.39650219098553163,
          0.39895411115032525,
          0.40128748302084005,
          0.40349831293327043,
          0.4055832224478922,
          0.4075394451814218,
          0.4093648119202446,
          0.4110577246152438,
          0.4126171201160666,
          0.41404242473658665,
          0.4153335009484717,
          0.4164905876712958,
          0.4175142357616889,
          0.41840524039776256,
          0.4191645721069365,
          0.4197933081945811,
          0.420292566298119,
          0.4206634417179379,
          0.420906950065074,
          0.4210239766192971,
          0.4210152336141646,
          0.4208812264621696,
          0.4206222297085387,
          0.420238273261796,
          0.4197291391985643,
          0.4190943691849304,
          0.41833328230270195,
          0.4174450028216105,
          0.41642849722327524,
          0.41528261956457146,
          0.41400616407159807,
          0.4125979236848233,
          0.4110567531349198,
          0.40938163502025204,
          0.4075717472833847,
          0.40562653044698915,
          0.40354575297010364,
          0.40132957312386164,
          0.3989785958610539,
          0.39649392326442295,
          0.3938771973023102,
          0.39113063379372914,
          0.3882570466843977,
          0.3852598619558125,
          0.38214312072602663,
          0.37891147134734815,
          0.37557015055681103,
          0.37212495398337014,
          0.3685821965551229,
          0.3649486635741746,
          0.3612315534301694,
          0.3574384131007335,
          0.3535770677335108,
          0.34965554571654395,
          0.34568200071863936,
          0.34166463221781995,
          0.3376116060335177,
          0.33353097633782064,
          0.3294306105450249,
          0.32531811837015373,
          0.32120078621027054,
          0.3170855178424949,
          0.3129787822552099,
          0.30888656924040625,
          0.30481435318150324,
          0.3007670652787997,
          0.29674907426964287,
          0.2927641755279488,
          0.28881558827233333,
          0.28490596047751876,
          0.2810373809724193,
          0.27721139812177603,
          0.27342904442678334,
          0.26969086634287726,
          0.26599695859795514,
          0.26234700229897817,
          0.2587403061357108,
          0.255175850023333,
          0.251652330566551,
          0.24816820777249868,
          0.24472175248401268,
          0.24131109404539372,
          0.23793426774645965,
          0.23458926161561858,
          0.23127406214752708,
          0.227986698555586,
          0.22472528513477613,
          0.22148806130793117,
          0.21827342891104898,
          0.21507998625386113,
          0.21190655847440576,
          0.20875222369467586,
          0.20561633448262395,
          0.20249853413756397,
          0.19939876734467876,
          0.1963172847924146,
          0.19325464141577353,
          0.19021168801949426,
          0.1871895561473841,
          0.18418963619592085,
          0.18121354891890842,
          0.17826311063147285,
          0.17534029259119374,
          0.17244717520607067,
          0.1695858978870719,
          0.16675860552084673,
          0.1639673926792633,
          0.16121424680057755,
          0.15850099166664053,
          0.15582923255673498,
          0.15320030447764757,
          0.15061522484886372,
          0.1480746519601081,
          0.14557885041613883,
          0.14312766464244875,
          0.1407205013484916,
          0.1383563216367774,
          0.1360336432123345,
          0.13375055289429344,
          0.13150472936722604,
          0.12929347584218334,
          0.12711376203438168,
          0.12496227461415237,
          0.1228354750578376,
          0.12072966362280386,
          0.11864104800188101,
          0.11656581508238441,
          0.11450020414733818,
          0.11244057981409275,
          0.1103835030093238,
          0.10832579832906343,
          0.10626461622625141,
          0.10419748860320938,
          0.10212237655824588,
          0.10003770923900776,
          0.09794241298408018,
          0.09583593018198891,
          0.09371822753599181,
          0.09158979368652694,
          0.08945162640360609,
          0.08730520981175482,
          0.08515248234370566,
          0.08299579632997134,
          0.08083787031450364,
          0.07868173533757913,
          0.07653067654259761,
          0.0743881715414228,
          0.07225782701212788,
          0.0701433150035178,
          0.06804831038363274,
          0.06597643079663462,
          0.0639311803869979,
          0.06191589841552771,
          0.05993371373285783,
          0.05798750589768602,
          0.05607987353445265,
          0.05421311032400881,
          0.05238918881666975,
          0.05060975205544048,
          0.04887611280335844,
          0.04718925998772382,
          0.04554987180977347,
          0.04395833482486328,
          0.042414768178404706,
          0.040919052088920264,
          0.0394708596030413,
          0.03806969060868133,
          0.036714907081797046,
          0.03540576855814211,
          0.034141466862593464,
          0.03292115919274603,
          0.03174399873775702,
          0.030609162114734443,
          0.029515873019848402,
          0.02846342161618685,
          0.027451179311524545,
          0.026478608712998866,
          0.02554526867876336,
          0.024650814515786185,
          0.023794993495197776,
          0.022977635969434057,
          0.022198642476741637,
          0.021457967306710703,
          0.020755599074095223,
          0.02009153890641223,
          0.019465776893204383,
          0.018878267471306515,
          0.018328904431181504,
          0.017817496224897842,
          0.01734374223734692,
          0.01690721064979868,
          0.016507318479980805,
          0.016143314326799663,
          0.015814264281957768,
          0.015519041396518494,
          0.015256319009448146,
          0.01502456815891184,
          0.014822059207247128,
          0.014646867718761617,
          0.014496884537501637,
          0.014369829921639193,
          0.014263271503846967,
          0.01417464576467966,
          0.014101282630214027,
          0.014040432737603196,
          0.013989296854248162,
          0.013945056889306555,
          0.013904907901379984,
          0.013866090484356093,
          0.013825922905163032,
          0.013781832372961388,
          0.01373138483904939,
          0.013672312760150051,
          0.013602540304075292,
          0.013520205534961754,
          0.013423679183949867,
          0.013311579688620458,
          0.013182784268738666,
          0.01303643589469468,
          0.012871946096136514,
          0.012688993649246742,
          0.01248751926950481,
          0.012267716520260036,
          0.012030019223831663,
          0.011775085729190579,
          0.011503780446899757,
          0.011217153106571934,
          0.010916416223717359,
          0.010602921280982324,
          0.010278134133340026,
          0.009943610138117813,
          0.009600969489579992,
          0.009251873205236846,
          0.008898000168548477,
          0.008541025581936906,
          0.008182601126889875,
          0.007824337066452126,
          0.007467786461609,
          0.007114431609004445,
          0.0067656727450432245,
          0.006422819002471901,
          0.006087081551597155,
          0.0057595688106769505,
          0.005441283569748364,
          0.005133121839944226,
          0.004835873216611017,
          0.004550222529375501,
          0.004276752545525302,
          0.004015947494227961,
          0.0037681971875302978,
          0.003533801528894777,
          0.0033129752202338356,
          0.003105852502882967,
          0.00291249179555484,
          0.002732880121857544,
          0.0025669372502990957,
          0.0024145194997504177,
          0.002275423192107988,
          0.0021493877605077327,
          0.0020360985451450607,
          0.0019351893289518748,
          0.0018462446816147572,
          0.001768802192388326,
          0.0017023546797075228,
          0.001646352468719693,
          0.0016002058266590077,
          0.00156328764070972,
          0.001534936413995856,
          0.001514459643030634,
          0.001501137624874172,
          0.0014942277249596506,
          0.0014929691176792203,
          0.0014965879920246694,
          0.0015043031945201361,
          0.0015153322620286953,
          0.0015288977784051392,
          0.0015442339720119558,
          0.0015605934563707967,
          0.0015772540041773685,
          0.0015935252359729009,
          0.0016087550992559658,
          0.00162233601194722,
          0.0016337105459882431,
          0.0016423765324500217,
          0.0016478914787158804,
          0.0016498762008427131,
          0.001648017589740063
         ],
         "yaxis": "y"
        },
        {
         "legendgroup": "Normal 1",
         "marker": {
          "color": "rgb(31, 119, 180)",
          "symbol": "line-ns-open"
         },
         "mode": "markers",
         "name": "Normal 1",
         "showlegend": false,
         "type": "scatter",
         "x": [
          -0.11687538354266333,
          -1.0841464463445023,
          -0.3062437975418018,
          -0.7226453123941498,
          0.10762205001077141,
          0.7834313975687747,
          1.1744491156171817,
          -0.1302760171279734,
          1.29011416313047,
          0.5171866769146627,
          -1.9290396963960985,
          0.3828790853590859,
          0.7404248685363135,
          0.590178858473629,
          -0.7400487070531669,
          1.9653056435838214,
          -1.3217895501464698,
          -0.8061399043650028,
          0.6105777984057422,
          0.8029241679458925,
          0.5103387259852048,
          -0.4758049479701221,
          0.06881331447076504,
          -1.522280666050791,
          1.2189977170846473,
          -0.7650838768149606,
          0.22382376332709478,
          0.027590882846688747,
          -2.7387993538166295,
          1.105179824124137,
          -0.20741386797122405,
          -0.08940568940648395,
          -0.5944932972596607,
          0.28981790540420993,
          -0.14020449234494398,
          -0.13083095783389453,
          -0.8854436275824364,
          1.984143814197763,
          -0.998400525719784,
          0.3787953171542417,
          -0.8718537967724664,
          -0.4522154463311775,
          0.09369710579291826,
          -1.459756179568251,
          0.26654198500788934,
          1.5814306067784447,
          -2.0802522450081726,
          -0.4830556439799424,
          -0.08690417702473216,
          -0.9230193824838205,
          2.016034900655067,
          -0.8810098410235654,
          -0.7154029469423999,
          -0.5561313093492379,
          -0.46383781306175004,
          -1.287847211900494,
          0.4951029314001481,
          1.3586617132244463,
          0.6317059901014653,
          -0.21361539040748767,
          -1.2619451672908257,
          0.23111550795352195,
          -1.5285341993885206,
          0.34232191329826483,
          0.897070615375142,
          -0.03917508905990671,
          -1.091231579084362,
          -0.9745833024409389,
          0.932185509100784,
          1.1293922661987752,
          -0.3561541258200992,
          -0.9729529168962218,
          0.8437276813649576,
          -1.257932098215262,
          -0.597339708648992,
          1.2366842922607462,
          0.9289411432543478,
          1.2131015078091631,
          -0.39281291444717886,
          -1.42343238625331,
          0.7203122863057003,
          1.7388726533640504,
          0.1954454258998645,
          0.48583446074672904,
          -1.277788331163531,
          -0.42095088205032094,
          0.14505644919240562,
          -0.1918459053268268,
          0.8957716052691208,
          1.0758203643769082,
          -0.822621046029964,
          0.052158266436677175,
          -0.29695093380255067,
          -1.1450363414716298,
          1.1703139830592777,
          -0.78971214554565,
          0.20121694917076957,
          -0.553555064880596,
          -1.0290889908528242,
          0.8854897601134535,
          -1.1751252696173686,
          -3.0530073729406446,
          1.1232109004302773,
          1.0724921505297642,
          0.9701914513224628,
          -0.37999545027730197,
          2.252331821425845,
          -0.6954938931972177,
          0.9808291003439848,
          1.3739694801958122,
          -0.3719084484895817,
          0.24852187885249633,
          -0.42072574942571284,
          -0.5035412511044555,
          -0.8074071429785946,
          -0.4603250549742614,
          0.2749893086086254,
          -0.12874547443923026,
          -1.6251387900134127,
          0.05164555662476679,
          2.475729751827049,
          0.6999065241254053,
          0.4894803057897489,
          -0.13190220645510006,
          0.49750837162359807,
          0.30842612461849866,
          0.1711425449472097,
          0.21847829873290078,
          0.23116523281748877,
          -0.5251433215483876,
          1.0383957398355461,
          -0.05817055843611752,
          -0.2491618192613748,
          -0.8076780318204345,
          3.0170411081815818,
          1.7288319223599655,
          -1.7031421262745263,
          1.863696251269203,
          -1.7441507047700422,
          0.8042177278478743,
          0.19217470120430016,
          1.4221024773350002,
          0.860988249301013,
          -0.27426718524137406,
          -0.37040040002586627,
          0.7405018410522419,
          0.7854391216311459,
          -1.0120045540708575,
          0.8210571938122475,
          -1.1267063878635193,
          1.908934072241711,
          -0.019312294717010254,
          -1.8335086281362794,
          2.340520806882802,
          1.559836538156562,
          -0.6957573203695814,
          0.32779502640743174,
          -2.366402008857382,
          0.135158687943687,
          -0.03996368233288563,
          -1.0494688022894558,
          0.5050619434326166,
          -0.27347444531648313,
          1.6239367293460754,
          -1.888816944611281,
          1.928662522039562,
          -0.8208245881193694,
          1.4025896107541234,
          -1.7423625803100615,
          0.10178630263424865,
          0.472087370546679,
          -0.28688029673437687,
          -0.08519016355678619,
          0.003648440109995541,
          1.275138877164404,
          -1.2728362938226652,
          -1.8272492422737003,
          -1.1915947849966666,
          -0.20010447505155576,
          0.22441455388884166,
          1.9717724650470272,
          -0.45466937866807944,
          -1.0819612746518779,
          0.5603925193680362,
          -0.10260673405719099,
          -0.8228317580728507,
          0.16463131223861618,
          0.88395599935894,
          -0.8166691179741379,
          -2.3030241919243113,
          -0.08151006938961189,
          -0.44875722876923213,
          1.3473562558779042,
          0.4407578935931962,
          -0.8602565701295243,
          -0.6492671097299869,
          0.6745579243473601,
          -0.991546814670325,
          0.596652956731082,
          0.052189857336327763,
          -0.5115635479520771,
          -1.2756398886379514,
          0.619569652028644,
          -0.09961587498803862,
          -0.5090162411518162,
          -0.7431279167478044,
          -0.5848717268074968,
          0.5836733373856007,
          0.8059906673412696,
          -0.40411310104873055,
          -0.9821954873458033,
          -0.17015935472431165,
          -1.3441444896291304,
          -0.06030525846955994,
          1.4461928481393231,
          1.0283388123084958,
          -2.084471416991906,
          -1.5912906393276445,
          0.4510315937617731,
          -1.4430881569386573,
          -1.0415536051380412,
          -0.21602398712660348,
          1.1789551160445535,
          -0.15370319214534084,
          -1.1323266755813186,
          0.23055369432556663,
          -0.16726835893460681,
          2.1844103813582856,
          0.9570948065259234,
          -1.2873222226743528,
          1.2727375891431365,
          0.8025669707601797,
          0.9386805177214478,
          0.8644793415550642,
          -0.8597126330646813,
          1.7584575119524481,
          0.33473929097039556,
          0.4919453148911705,
          1.0215932658862947,
          -0.7288434439128725,
          -0.26019683719112485,
          -0.8587752951549671,
          0.13757640734572776,
          0.5509328027768206,
          0.075849964253682,
          0.8749088735328894,
          0.29548381989220956,
          -1.5450143963605887,
          -0.8443874426788232,
          -0.6552029149062178,
          0.2447388264507261,
          -0.5089869685661699,
          -0.3537720345105134,
          -0.12626431423212517,
          0.2873895739157625,
          1.121240408109102,
          -0.6835036497176971,
          -1.3352559250156992,
          1.4279539489353046,
          -0.2789712711849356,
          -0.599437279897964,
          1.3911224753119513,
          2.5386485333130104,
          0.5093451356371571,
          -0.4084787331604966,
          0.560592949509669,
          -0.32810129051857634,
          2.369147795897871,
          1.2202804017914841,
          0.44926920690851063,
          1.6407651347498022,
          -0.3308610956805007,
          -0.8382275477786965,
          -0.4734029468836843,
          1.9716003794074501,
          0.5672053812697456,
          -0.5377063246983729,
          -2.437883735806658,
          -0.11129419812587665,
          -1.093809394879852,
          1.3980463246170332,
          1.7997019019350178,
          -0.2567537674772145,
          0.8849423661195241,
          0.6776931079616765,
          0.2945351303780647,
          -0.24675171141773067,
          -0.7960747829630873,
          0.5115041451378213,
          -1.00512703581687,
          -2.2622312704621366,
          0.26544523933168573,
          0.2741313463657878,
          1.7491638826721247,
          -0.6759752039172281,
          -0.11268838446015057,
          -0.9768330115234024,
          -0.5969187337955346,
          0.3320346930414803,
          -0.05855070784026293,
          -0.027127777356433364,
          0.6479145996220131,
          0.16395100882694086,
          -0.22529860622984002,
          0.950401280055444,
          -0.9980519761338444,
          1.2751011626946729,
          -1.259140138975611,
          -0.7552945649215678,
          1.0186331744013473,
          0.15057827041332253,
          0.3385284745954504,
          0.019986555222100657,
          0.6125482298250955,
          -0.851899578471401,
          1.024527325861326,
          1.2508073691009922,
          0.11132398190558351,
          0.10909195620671423,
          -0.7067971267812991,
          0.35107841446506444,
          0.6278499541932525,
          -0.6699391519814198,
          -0.9852379160002708,
          -1.979701132988116,
          -0.6957211217526621,
          -0.1504853636660291,
          -0.4052770657435069,
          0.5621059428278443,
          -0.35805689224509063,
          -0.3253802724285087,
          -0.8253146798142399,
          -0.9186298918446064,
          1.1039071246067744,
          0.46458791794337007,
          -0.5708014639949128,
          -0.8975295345707157,
          0.8164620415131826,
          1.077593223643573,
          -0.3182355081103257,
          -0.7854419890180772,
          0.5184866246490022,
          -0.45535791197618775,
          1.748093706048981,
          -0.1303471654136087,
          1.019026290081118,
          -0.36630197587915525,
          0.5377616452470476,
          -0.5261066329470314,
          -1.370373612459042,
          0.7899940671469606,
          1.8205843596066078,
          -0.9344105400959527,
          1.085214779415606,
          -1.123782902351614,
          0.8854134643649757,
          0.9583922526300955,
          -0.11896049268104682,
          -1.4754698963453556,
          1.6977243984377564,
          -0.6520427465957898,
          0.23312745294218834,
          0.4671197358886417,
          0.9530696942867505,
          0.25636034030623467,
          -0.31773110524861564,
          1.1905929767871342,
          0.017338227862042126,
          -0.3892440034312094,
          -0.5293961022906337,
          0.030056002892224366,
          -1.9721097078649101,
          -0.21275085906035204,
          -1.089075395189547,
          -0.7145033333658142,
          1.4409471667121314,
          0.5973181001073673,
          0.045365276476750295,
          -0.9227189151293615,
          -0.2582948825837329,
          -0.780115538131735,
          0.21015262111116312,
          0.5042984630578978,
          0.14057733081059454,
          -0.023100977451727074,
          -1.1906116252788301,
          1.478209504451645,
          -0.4825258870989343,
          0.9358516922188814,
          1.066759349330207,
          -1.4861738653081638,
          0.7615270567446254,
          -0.7428875248447734,
          0.11469718991693932,
          1.8572552464144978,
          -0.33606167847709034,
          -0.5044404722897731,
          -0.6361716410008338,
          0.19694878449094186,
          0.5483216794450907,
          0.32975934104506427,
          -2.290545654060936,
          -0.15851616423042875,
          -1.8702011456835264,
          -2.536657645579643,
          -0.599882135059741,
          1.6854809595825908,
          1.4181255623535516,
          -0.09138975330562088,
          0.41550021042415447,
          1.3012183284675265,
          -0.6829980526489714,
          -0.4777035157751104,
          -0.5505510940603595,
          -1.0982831630153334,
          0.35621755077885153,
          -1.881145793203459,
          0.5846634226376791,
          0.35129480473913705,
          1.3929677539177394,
          0.6324044384886239,
          0.5080539580936675,
          -0.6468778221446861,
          0.34596785420956405,
          -0.3654638979643397,
          0.6037026150925026,
          0.06874891754853231,
          -0.5757125175853873,
          0.9901097306928063,
          -0.6934455104877292,
          -0.19414764742206678,
          0.7273950646022456,
          -0.07276523704070297,
          -0.8621739698798304,
          0.677701727222149,
          0.29419121681436516,
          1.0885994837388528,
          1.2160794562038313,
          0.531604386127214,
          1.4337515473670595,
          2.016753927309965,
          -0.9311879857046143,
          0.7385047838717139,
          -0.7268165729887601,
          0.5725573251013636,
          -0.2033996574135646,
          0.3657414387235441,
          0.8276144119392851,
          1.6678135760373856,
          0.47241439582379796,
          0.21934324332796107,
          -1.6573976570483577,
          -0.9149158114000145,
          -0.02785567707707554,
          1.2715098882268927,
          0.6191335333177282,
          0.8080023199868489,
          -0.32769440790237214,
          1.985312499822916,
          -1.1099175100205754,
          0.6790258560182258,
          1.7419163917290357,
          0.526317864049427,
          -0.7780330202141098,
          -2.000431585888905,
          -1.4835654824507531,
          0.17281810368372938,
          0.2924113182146168,
          0.4017395139568826,
          -2.3760981053609536,
          0.18479532105868696,
          0.10126238000038201,
          -0.3433278848426032,
          0.35633186042643183,
          0.28504900926593946,
          -1.6411297858204812,
          2.7738204180692394,
          0.5761058760366721,
          -0.8988577462977035,
          -1.3165132444599166,
          0.09184445269690936,
          -0.5084914884464212,
          0.3328205831306353,
          1.1587371258133152,
          -2.0794313541907705,
          -0.29087833452612893,
          -0.5119646682322354,
          0.15657629658645977,
          0.32305423761443947,
          0.8652926209370743,
          0.5317216442572753,
          -1.2305046181238233,
          1.048550082572051,
          -0.7737150245606943,
          -0.9875555062956402,
          -1.3899402471655702,
          -0.536638456498984,
          -0.3019921687792516,
          -0.44487418747161667,
          1.1020780893580246,
          -0.8106185052939573,
          1.2862202401404215,
          0.18741124800830206,
          -0.7217537697763741,
          -2.0139963384421278,
          0.18118393695338283,
          -1.811440114960942,
          -0.3773573419176421,
          0.4584056021379992,
          0.4500653781360808,
          -0.19194687849515832,
          1.5306934409504747,
          2.065577309809029,
          1.2022667159498328,
          0.05634151107732394,
          -0.037767718614007614,
          -1.3812514606848534,
          -0.22284345015136062,
          0.42404401867094255,
          -0.8304187532463907,
          0.8778517070598245,
          -0.9111890765626882,
          0.6888391467201723,
          0.2368992352128035,
          -0.25016136792062077,
          0.6513077494240828,
          1.0525576950456241,
          0.28771286806464774,
          0.1448333386843746,
          0.8990309259086223,
          2.1261634149834165,
          -1.1899205514434448,
          -0.5260435330201327,
          -0.14855848565756125,
          1.0751939706499116,
          -0.7373978701652808,
          0.803854508032891,
          -0.5514828313024993,
          1.4064665144833524,
          1.0396133829348335,
          -0.8403632334234676,
          -1.6762612551970435,
          1.0074464290064644,
          0.6861739509991733,
          -0.7468059192232079,
          0.49506259268416813,
          -0.34281693976390715,
          -0.33144688817420587,
          -0.9667773845756807,
          0.69873074150411,
          0.7258801658067308,
          0.08559811492112634,
          -0.15718983573611744,
          -0.016524499627328423,
          -1.5208168215135114,
          -0.4395016968067576,
          -0.717336627863091,
          0.2874208204937097,
          1.3453246776453618,
          1.6811639946912222,
          -0.13427079844222742,
          -1.0039836000420215,
          -0.8288726064242813,
          -0.9681716520090715,
          0.0809527957904534,
          -2.0390943438823923,
          -1.9978354616515408,
          -0.3676663747945979,
          -0.2866843963925259,
          0.5378748275293497,
          -1.1656059980617455,
          0.11754644154205758,
          0.7227998126858366,
          -0.46371862160825666,
          -0.5732690577453792,
          -0.903774223359752,
          2.1635190748729425,
          0.4819792039990591,
          -2.5953872291293956,
          1.4162673722787054,
          1.3371466674112167,
          1.5054892491349905,
          1.4881287658477607,
          -0.7232839704723135,
          -0.28398568412506553,
          -0.9283009292075656,
          0.2824274255572089,
          0.5692791830534578,
          -0.014786378083952056,
          -1.3966776916868815,
          -0.4611314705533151,
          -0.5876019041841711,
          0.27495363502997816,
          -1.5950148698236049,
          -1.053281569192157,
          1.8365166851520869,
          -0.3935389555426876,
          -0.025168733805898052,
          0.568577260453156,
          -0.5240821353024426,
          -1.3679423282002654,
          -1.5893128057192631,
          1.2398256691674705,
          0.7695387519867785,
          0.6888498995624923,
          -0.9185724315151246,
          0.629151717506493,
          -1.039573398204412,
          0.7959749061143931,
          -0.6036572522113395,
          0.1444755203945625,
          0.31539581702303715,
          -1.3195498516822486,
          -0.43982672620749774,
          0.007438958585782819,
          -0.28913847512398816,
          0.21754892134399592,
          -0.026878923932392627,
          -0.21194243999580314,
          -1.168889789739491,
          2.4224397731310723,
          -1.4287867067638247,
          1.304918912946674,
          0.7938875062479894,
          0.8803329522844671,
          -0.42602900153339984,
          -0.1837429598577197,
          -1.313118149435451,
          1.278442588058261,
          0.055283111126236725,
          0.6583911793971757,
          -0.1978713259218024,
          -1.0018461267461498,
          -0.03373059513528388,
          0.3679106492142654,
          1.5313624228078995,
          -0.19621519342772814,
          1.405183222251427,
          1.1128709666991548,
          -0.7973799094318306,
          1.0782543356056873,
          0.45636311569945404,
          -0.506425716617275,
          3.456562141866794,
          1.1739210536118643,
          0.7359008301414908,
          0.8613253578536992,
          0.02879397641540605,
          -0.7082469025416056,
          -0.6651136399960378,
          0.8242186835154676,
          -0.6043618667811682,
          -0.41886171276058126,
          0.4598435093410729,
          -4.011580166814692,
          -0.4270102854800126,
          1.291716677042108,
          -0.4794432681686409,
          0.5169664100600226,
          2.1234205731981612,
          -0.57053762439479,
          0.8319123295947047,
          1.0166627791088432,
          -0.9650616848734141,
          -1.9570232159954468,
          -1.5035369902643747,
          0.7091383161039305,
          0.2763687442569666,
          -0.43256036101436784,
          -1.515423982436522,
          0.43137003849106115,
          -1.6196749086493814,
          1.1419263283081416,
          0.868969464107574,
          -0.08318710576578169,
          0.47512144809042367,
          -1.1789869630680463,
          -1.2060083866343385,
          1.3459121006741397,
          -0.7558637003124656,
          -0.4590743864435043,
          -0.5296972557325739,
          1.2915479053556471,
          -1.0647810153652872,
          0.28560600059053454,
          -0.5911447995689505,
          -0.0551507376470496,
          -0.10923032335734707,
          -0.43734607078206167,
          -0.7490686261647294,
          -0.5448400984633773,
          -1.361275441589178,
          -0.5491013602700276,
          -0.042551472575936604,
          -0.1285053895929962,
          0.3682534228290298,
          -1.3253044443870576,
          -1.5767783039171661,
          -1.2322984047197865,
          0.6061482558104828,
          1.2049708115122588,
          0.8674065324490864,
          0.30606749911932835,
          0.5584944263034642,
          0.4787112638229639,
          -0.08076105656740801,
          0.301346565162586,
          -0.35936651402697495,
          0.19450823477956738,
          -0.4369594494808129,
          -0.2535693213955767,
          -0.4296795541317182,
          -0.5118301179218523,
          1.2260536836166687,
          1.4830045443148128,
          1.384319687754546,
          -1.3264703781410405,
          0.8591140320835099,
          -0.5292771612096612,
          -1.7572907133203919,
          0.15391974861163285,
          -0.19268820318843716,
          -2.0425656426275993,
          0.10870655251431295,
          0.05097349958515085,
          1.7558126073027653,
          -0.6621154956784828,
          -1.2606031780986047,
          -0.5158970496456002,
          -0.2442717044827282,
          -0.7859923354593426,
          -0.0014706343083345703,
          -0.6752262110969474,
          0.7059065163601439,
          -0.015746763464160735,
          0.27345602318146284,
          -0.25350762669327054,
          1.073436919339608,
          -1.3998598984645885,
          -0.25765292214104246,
          -0.9733521432987607,
          0.18767254195703179,
          0.8581265294914812,
          1.3196573332266222,
          0.09539528152302267,
          0.9048532875604574,
          -0.21392660815209566,
          1.0507361062971,
          -1.1069001699231025,
          0.13751099132264585,
          -1.0890553413910025,
          0.5278608519851506,
          0.08502621536295604,
          0.268081109282565,
          0.6605301075967015,
          0.24256135431470682,
          0.016294183334108495,
          -1.8001118791357795,
          0.03858792507430865,
          0.24462657265563842,
          0.32067734186766506,
          -0.49801465892243335,
          1.6072258224182001,
          0.9810468139331741,
          0.08760586262189556,
          -0.8546609804157533,
          0.5681241328086193,
          -0.8196510973889937,
          -0.8673758975118463,
          -1.162138816971342,
          -1.6012506708400267,
          1.0513607329480403,
          1.4239634276232198,
          -0.06700309556536964,
          -1.125886194876252,
          1.3484925685207958,
          -0.7365385601435375,
          1.0172489933287814,
          -1.0416788853990853,
          0.6702585758423345,
          -1.8040357241249496,
          -0.8114537137829068,
          0.45170484224241036,
          0.36178427240838085,
          -0.5046038457093271,
          -0.05966533954468048,
          -0.27881199816381647,
          0.1005342121828784,
          -0.2407331425193213,
          1.817551579667235,
          0.3755187510923831,
          0.11997085008034487,
          -1.4234253910593,
          -0.27115978346253583,
          0.059159587638958185,
          0.2904352224857174,
          -1.7085496230880037,
          0.8872008536513691,
          0.3233650032251922,
          0.3973841121316777,
          0.2416769246882582,
          0.7011337577340573,
          -0.21113062674283517,
          0.05241505356979514,
          -0.6638927178227965,
          1.4852528239394955,
          0.5282619798385783,
          1.2861738326780865,
          0.4506222437096767,
          -0.8254875856706972,
          0.18295244144406703,
          0.26222729220845525,
          -0.23342941118922553,
          -0.011877316966412428,
          0.6619570342348776,
          -0.6449686707140337,
          -0.25882413241650615,
          0.773755360144189,
          0.8016138317937893,
          -0.0991399019358386,
          -0.3301204919507817,
          -0.5567327975855754,
          -1.618314555512097,
          -0.9697533350585862,
          -0.22412669761062157,
          2.3255552435107867,
          -0.8445051033198618,
          0.8039139274706388,
          -0.9911533572653303,
          0.38359460168046067,
          0.5287693376332985,
          0.9711448458595484,
          0.779597138520137,
          1.944255174163546,
          -0.47342122327933833,
          0.5530994250974298,
          1.633254523386571,
          -1.1975900552302994,
          -0.879788042851581,
          0.4508403634429192,
          -0.13281316203348245,
          0.37609837557743997,
          -1.0945342304173415,
          -0.1724325436942977,
          -0.7046861324691669,
          0.9141173305469288,
          -0.3502061664878862,
          0.3661344016560665,
          0.5356761250980299,
          1.0421060498302563,
          -0.36522702961489584,
          -0.8380629409932258,
          0.29586592663801903,
          0.2441991138097221,
          -0.233700829622874,
          0.2966552212680291,
          0.6933272673892488,
          1.8117472908164747,
          -0.7781417652981297,
          -0.479892264582252,
          -0.8140151602543719,
          1.1774618639755496,
          0.221706074577412,
          0.9616110724000755,
          0.23693456182139264,
          1.4483348603312032,
          -0.24821228856782773,
          0.15235603245410784,
          0.33165841545363606,
          -0.5021110513824726,
          1.7269209617288745,
          1.5099840784313232,
          -0.5363670016320492,
          -0.24372148746835814,
          -0.09783217205092533,
          1.9243453503828756,
          0.7385617223578838,
          0.1032165530345415,
          1.0508007861535928,
          -2.152578468247517,
          -0.7252479647708948,
          -1.3977589099668413,
          -1.2060448650263371,
          -0.3280839486109007,
          -1.6204432003040508,
          -0.7738883256704668,
          2.100754549465622,
          -0.40200176008094524,
          -0.21466607219398207,
          -0.00019795718291201888,
          0.39092508200211257,
          1.290694761132238,
          -0.30392292025429224,
          1.4011919955124768,
          -0.35335083519127286,
          0.30323328097652275,
          0.2591180496942244,
          -0.3401999682089674,
          -0.5660300172196564,
          -0.7902898536729509,
          0.32032093588478794,
          -1.1332377948730603,
          0.3981968919589875,
          -0.6254798806262791,
          0.22127781873716335,
          0.5934445798666471,
          -0.4524685023277896,
          -0.14875578328251057,
          -2.0347736162630126,
          -0.5759999496595031,
          -0.3146048517772939,
          -0.36199859862333067,
          -0.8004290778022667,
          0.9656323735690253,
          0.5732750698166114,
          1.458836569345572,
          0.7470930787820339,
          -0.9860955321264908,
          -0.9940129636899201,
          0.26895987724170023,
          0.11158318930347691,
          0.05825055969999311,
          0.24967086325716192,
          1.5938602096463974,
          -2.056238773422095,
          -0.4933282211292599,
          -0.0075442806679147404,
          0.41896585618510096,
          0.9555109588014291,
          -0.12429965265988986,
          -0.06369731986871441,
          0.8339020431487099,
          -0.34858107441544456,
          -0.5646918977957956,
          -0.22971633737488192,
          -0.39647288214393644,
          -0.0213767255693471,
          0.7709518690376032,
          -1.0153063791209824,
          -0.13540921069669226,
          -1.1582788669765431,
          1.1835542443854723,
          1.4719057292647806,
          0.7788318607259627,
          -0.8471920306922289,
          -0.05575758754778211,
          0.022434612716920457,
          0.13328126861241518,
          -0.4288582698396567,
          0.947088670336809,
          0.2827298362824268,
          0.34554315294160604,
          1.6829130972684643,
          3.0441139720023034,
          0.0608223542954746,
          -0.5363712303423376,
          0.0008893825798081494,
          -0.264075190286576,
          0.6517476981988373,
          1.01886819528151,
          0.034251576179650224,
          1.2689761128431092,
          0.2607619447331805,
          2.137337973577979,
          0.4104088391659914,
          -0.12042511201003918,
          0.03716883244990576,
          0.650666172797132,
          1.0670543711536784,
          -1.0067322773452752,
          -0.8239162966650171,
          -0.9837828542157913,
          0.5982305347145693,
          -0.10699697563188214,
          -0.2822050175324087,
          -0.1753817294198011,
          1.0577581552067852,
          -1.1374707067064571,
          1.3386872677543897,
          0.09970467965737378,
          -0.29197052486012054,
          1.3319230048384625,
          1.9578171106660276,
          0.6996710560672493,
          1.3964319335564561,
          0.40918997003912244,
          2.4006348077361306,
          0.8647670168745196,
          2.414306185665205,
          -1.24365881999524,
          -1.2249296168882406,
          -1.1692196785130262,
          -1.134246378649384,
          -1.494621650228689,
          -0.8848188117314016,
          -0.7284690332074386,
          -0.3343845569412829,
          -0.9740680928655117,
          0.9201311551502527,
          0.9209839958460668
         ],
         "xaxis": "x",
         "y": [
          "Normal 1",
          "Normal 1",
          "Normal 1",
          "Normal 1",
          "Normal 1",
          "Normal 1",
          "Normal 1",
          "Normal 1",
          "Normal 1",
          "Normal 1",
          "Normal 1",
          "Normal 1",
          "Normal 1",
          "Normal 1",
          "Normal 1",
          "Normal 1",
          "Normal 1",
          "Normal 1",
          "Normal 1",
          "Normal 1",
          "Normal 1",
          "Normal 1",
          "Normal 1",
          "Normal 1",
          "Normal 1",
          "Normal 1",
          "Normal 1",
          "Normal 1",
          "Normal 1",
          "Normal 1",
          "Normal 1",
          "Normal 1",
          "Normal 1",
          "Normal 1",
          "Normal 1",
          "Normal 1",
          "Normal 1",
          "Normal 1",
          "Normal 1",
          "Normal 1",
          "Normal 1",
          "Normal 1",
          "Normal 1",
          "Normal 1",
          "Normal 1",
          "Normal 1",
          "Normal 1",
          "Normal 1",
          "Normal 1",
          "Normal 1",
          "Normal 1",
          "Normal 1",
          "Normal 1",
          "Normal 1",
          "Normal 1",
          "Normal 1",
          "Normal 1",
          "Normal 1",
          "Normal 1",
          "Normal 1",
          "Normal 1",
          "Normal 1",
          "Normal 1",
          "Normal 1",
          "Normal 1",
          "Normal 1",
          "Normal 1",
          "Normal 1",
          "Normal 1",
          "Normal 1",
          "Normal 1",
          "Normal 1",
          "Normal 1",
          "Normal 1",
          "Normal 1",
          "Normal 1",
          "Normal 1",
          "Normal 1",
          "Normal 1",
          "Normal 1",
          "Normal 1",
          "Normal 1",
          "Normal 1",
          "Normal 1",
          "Normal 1",
          "Normal 1",
          "Normal 1",
          "Normal 1",
          "Normal 1",
          "Normal 1",
          "Normal 1",
          "Normal 1",
          "Normal 1",
          "Normal 1",
          "Normal 1",
          "Normal 1",
          "Normal 1",
          "Normal 1",
          "Normal 1",
          "Normal 1",
          "Normal 1",
          "Normal 1",
          "Normal 1",
          "Normal 1",
          "Normal 1",
          "Normal 1",
          "Normal 1",
          "Normal 1",
          "Normal 1",
          "Normal 1",
          "Normal 1",
          "Normal 1",
          "Normal 1",
          "Normal 1",
          "Normal 1",
          "Normal 1",
          "Normal 1",
          "Normal 1",
          "Normal 1",
          "Normal 1",
          "Normal 1",
          "Normal 1",
          "Normal 1",
          "Normal 1",
          "Normal 1",
          "Normal 1",
          "Normal 1",
          "Normal 1",
          "Normal 1",
          "Normal 1",
          "Normal 1",
          "Normal 1",
          "Normal 1",
          "Normal 1",
          "Normal 1",
          "Normal 1",
          "Normal 1",
          "Normal 1",
          "Normal 1",
          "Normal 1",
          "Normal 1",
          "Normal 1",
          "Normal 1",
          "Normal 1",
          "Normal 1",
          "Normal 1",
          "Normal 1",
          "Normal 1",
          "Normal 1",
          "Normal 1",
          "Normal 1",
          "Normal 1",
          "Normal 1",
          "Normal 1",
          "Normal 1",
          "Normal 1",
          "Normal 1",
          "Normal 1",
          "Normal 1",
          "Normal 1",
          "Normal 1",
          "Normal 1",
          "Normal 1",
          "Normal 1",
          "Normal 1",
          "Normal 1",
          "Normal 1",
          "Normal 1",
          "Normal 1",
          "Normal 1",
          "Normal 1",
          "Normal 1",
          "Normal 1",
          "Normal 1",
          "Normal 1",
          "Normal 1",
          "Normal 1",
          "Normal 1",
          "Normal 1",
          "Normal 1",
          "Normal 1",
          "Normal 1",
          "Normal 1",
          "Normal 1",
          "Normal 1",
          "Normal 1",
          "Normal 1",
          "Normal 1",
          "Normal 1",
          "Normal 1",
          "Normal 1",
          "Normal 1",
          "Normal 1",
          "Normal 1",
          "Normal 1",
          "Normal 1",
          "Normal 1",
          "Normal 1",
          "Normal 1",
          "Normal 1",
          "Normal 1",
          "Normal 1",
          "Normal 1",
          "Normal 1",
          "Normal 1",
          "Normal 1",
          "Normal 1",
          "Normal 1",
          "Normal 1",
          "Normal 1",
          "Normal 1",
          "Normal 1",
          "Normal 1",
          "Normal 1",
          "Normal 1",
          "Normal 1",
          "Normal 1",
          "Normal 1",
          "Normal 1",
          "Normal 1",
          "Normal 1",
          "Normal 1",
          "Normal 1",
          "Normal 1",
          "Normal 1",
          "Normal 1",
          "Normal 1",
          "Normal 1",
          "Normal 1",
          "Normal 1",
          "Normal 1",
          "Normal 1",
          "Normal 1",
          "Normal 1",
          "Normal 1",
          "Normal 1",
          "Normal 1",
          "Normal 1",
          "Normal 1",
          "Normal 1",
          "Normal 1",
          "Normal 1",
          "Normal 1",
          "Normal 1",
          "Normal 1",
          "Normal 1",
          "Normal 1",
          "Normal 1",
          "Normal 1",
          "Normal 1",
          "Normal 1",
          "Normal 1",
          "Normal 1",
          "Normal 1",
          "Normal 1",
          "Normal 1",
          "Normal 1",
          "Normal 1",
          "Normal 1",
          "Normal 1",
          "Normal 1",
          "Normal 1",
          "Normal 1",
          "Normal 1",
          "Normal 1",
          "Normal 1",
          "Normal 1",
          "Normal 1",
          "Normal 1",
          "Normal 1",
          "Normal 1",
          "Normal 1",
          "Normal 1",
          "Normal 1",
          "Normal 1",
          "Normal 1",
          "Normal 1",
          "Normal 1",
          "Normal 1",
          "Normal 1",
          "Normal 1",
          "Normal 1",
          "Normal 1",
          "Normal 1",
          "Normal 1",
          "Normal 1",
          "Normal 1",
          "Normal 1",
          "Normal 1",
          "Normal 1",
          "Normal 1",
          "Normal 1",
          "Normal 1",
          "Normal 1",
          "Normal 1",
          "Normal 1",
          "Normal 1",
          "Normal 1",
          "Normal 1",
          "Normal 1",
          "Normal 1",
          "Normal 1",
          "Normal 1",
          "Normal 1",
          "Normal 1",
          "Normal 1",
          "Normal 1",
          "Normal 1",
          "Normal 1",
          "Normal 1",
          "Normal 1",
          "Normal 1",
          "Normal 1",
          "Normal 1",
          "Normal 1",
          "Normal 1",
          "Normal 1",
          "Normal 1",
          "Normal 1",
          "Normal 1",
          "Normal 1",
          "Normal 1",
          "Normal 1",
          "Normal 1",
          "Normal 1",
          "Normal 1",
          "Normal 1",
          "Normal 1",
          "Normal 1",
          "Normal 1",
          "Normal 1",
          "Normal 1",
          "Normal 1",
          "Normal 1",
          "Normal 1",
          "Normal 1",
          "Normal 1",
          "Normal 1",
          "Normal 1",
          "Normal 1",
          "Normal 1",
          "Normal 1",
          "Normal 1",
          "Normal 1",
          "Normal 1",
          "Normal 1",
          "Normal 1",
          "Normal 1",
          "Normal 1",
          "Normal 1",
          "Normal 1",
          "Normal 1",
          "Normal 1",
          "Normal 1",
          "Normal 1",
          "Normal 1",
          "Normal 1",
          "Normal 1",
          "Normal 1",
          "Normal 1",
          "Normal 1",
          "Normal 1",
          "Normal 1",
          "Normal 1",
          "Normal 1",
          "Normal 1",
          "Normal 1",
          "Normal 1",
          "Normal 1",
          "Normal 1",
          "Normal 1",
          "Normal 1",
          "Normal 1",
          "Normal 1",
          "Normal 1",
          "Normal 1",
          "Normal 1",
          "Normal 1",
          "Normal 1",
          "Normal 1",
          "Normal 1",
          "Normal 1",
          "Normal 1",
          "Normal 1",
          "Normal 1",
          "Normal 1",
          "Normal 1",
          "Normal 1",
          "Normal 1",
          "Normal 1",
          "Normal 1",
          "Normal 1",
          "Normal 1",
          "Normal 1",
          "Normal 1",
          "Normal 1",
          "Normal 1",
          "Normal 1",
          "Normal 1",
          "Normal 1",
          "Normal 1",
          "Normal 1",
          "Normal 1",
          "Normal 1",
          "Normal 1",
          "Normal 1",
          "Normal 1",
          "Normal 1",
          "Normal 1",
          "Normal 1",
          "Normal 1",
          "Normal 1",
          "Normal 1",
          "Normal 1",
          "Normal 1",
          "Normal 1",
          "Normal 1",
          "Normal 1",
          "Normal 1",
          "Normal 1",
          "Normal 1",
          "Normal 1",
          "Normal 1",
          "Normal 1",
          "Normal 1",
          "Normal 1",
          "Normal 1",
          "Normal 1",
          "Normal 1",
          "Normal 1",
          "Normal 1",
          "Normal 1",
          "Normal 1",
          "Normal 1",
          "Normal 1",
          "Normal 1",
          "Normal 1",
          "Normal 1",
          "Normal 1",
          "Normal 1",
          "Normal 1",
          "Normal 1",
          "Normal 1",
          "Normal 1",
          "Normal 1",
          "Normal 1",
          "Normal 1",
          "Normal 1",
          "Normal 1",
          "Normal 1",
          "Normal 1",
          "Normal 1",
          "Normal 1",
          "Normal 1",
          "Normal 1",
          "Normal 1",
          "Normal 1",
          "Normal 1",
          "Normal 1",
          "Normal 1",
          "Normal 1",
          "Normal 1",
          "Normal 1",
          "Normal 1",
          "Normal 1",
          "Normal 1",
          "Normal 1",
          "Normal 1",
          "Normal 1",
          "Normal 1",
          "Normal 1",
          "Normal 1",
          "Normal 1",
          "Normal 1",
          "Normal 1",
          "Normal 1",
          "Normal 1",
          "Normal 1",
          "Normal 1",
          "Normal 1",
          "Normal 1",
          "Normal 1",
          "Normal 1",
          "Normal 1",
          "Normal 1",
          "Normal 1",
          "Normal 1",
          "Normal 1",
          "Normal 1",
          "Normal 1",
          "Normal 1",
          "Normal 1",
          "Normal 1",
          "Normal 1",
          "Normal 1",
          "Normal 1",
          "Normal 1",
          "Normal 1",
          "Normal 1",
          "Normal 1",
          "Normal 1",
          "Normal 1",
          "Normal 1",
          "Normal 1",
          "Normal 1",
          "Normal 1",
          "Normal 1",
          "Normal 1",
          "Normal 1",
          "Normal 1",
          "Normal 1",
          "Normal 1",
          "Normal 1",
          "Normal 1",
          "Normal 1",
          "Normal 1",
          "Normal 1",
          "Normal 1",
          "Normal 1",
          "Normal 1",
          "Normal 1",
          "Normal 1",
          "Normal 1",
          "Normal 1",
          "Normal 1",
          "Normal 1",
          "Normal 1",
          "Normal 1",
          "Normal 1",
          "Normal 1",
          "Normal 1",
          "Normal 1",
          "Normal 1",
          "Normal 1",
          "Normal 1",
          "Normal 1",
          "Normal 1",
          "Normal 1",
          "Normal 1",
          "Normal 1",
          "Normal 1",
          "Normal 1",
          "Normal 1",
          "Normal 1",
          "Normal 1",
          "Normal 1",
          "Normal 1",
          "Normal 1",
          "Normal 1",
          "Normal 1",
          "Normal 1",
          "Normal 1",
          "Normal 1",
          "Normal 1",
          "Normal 1",
          "Normal 1",
          "Normal 1",
          "Normal 1",
          "Normal 1",
          "Normal 1",
          "Normal 1",
          "Normal 1",
          "Normal 1",
          "Normal 1",
          "Normal 1",
          "Normal 1",
          "Normal 1",
          "Normal 1",
          "Normal 1",
          "Normal 1",
          "Normal 1",
          "Normal 1",
          "Normal 1",
          "Normal 1",
          "Normal 1",
          "Normal 1",
          "Normal 1",
          "Normal 1",
          "Normal 1",
          "Normal 1",
          "Normal 1",
          "Normal 1",
          "Normal 1",
          "Normal 1",
          "Normal 1",
          "Normal 1",
          "Normal 1",
          "Normal 1",
          "Normal 1",
          "Normal 1",
          "Normal 1",
          "Normal 1",
          "Normal 1",
          "Normal 1",
          "Normal 1",
          "Normal 1",
          "Normal 1",
          "Normal 1",
          "Normal 1",
          "Normal 1",
          "Normal 1",
          "Normal 1",
          "Normal 1",
          "Normal 1",
          "Normal 1",
          "Normal 1",
          "Normal 1",
          "Normal 1",
          "Normal 1",
          "Normal 1",
          "Normal 1",
          "Normal 1",
          "Normal 1",
          "Normal 1",
          "Normal 1",
          "Normal 1",
          "Normal 1",
          "Normal 1",
          "Normal 1",
          "Normal 1",
          "Normal 1",
          "Normal 1",
          "Normal 1",
          "Normal 1",
          "Normal 1",
          "Normal 1",
          "Normal 1",
          "Normal 1",
          "Normal 1",
          "Normal 1",
          "Normal 1",
          "Normal 1",
          "Normal 1",
          "Normal 1",
          "Normal 1",
          "Normal 1",
          "Normal 1",
          "Normal 1",
          "Normal 1",
          "Normal 1",
          "Normal 1",
          "Normal 1",
          "Normal 1",
          "Normal 1",
          "Normal 1",
          "Normal 1",
          "Normal 1",
          "Normal 1",
          "Normal 1",
          "Normal 1",
          "Normal 1",
          "Normal 1",
          "Normal 1",
          "Normal 1",
          "Normal 1",
          "Normal 1",
          "Normal 1",
          "Normal 1",
          "Normal 1",
          "Normal 1",
          "Normal 1",
          "Normal 1",
          "Normal 1",
          "Normal 1",
          "Normal 1",
          "Normal 1",
          "Normal 1",
          "Normal 1",
          "Normal 1",
          "Normal 1",
          "Normal 1",
          "Normal 1",
          "Normal 1",
          "Normal 1",
          "Normal 1",
          "Normal 1",
          "Normal 1",
          "Normal 1",
          "Normal 1",
          "Normal 1",
          "Normal 1",
          "Normal 1",
          "Normal 1",
          "Normal 1",
          "Normal 1",
          "Normal 1",
          "Normal 1",
          "Normal 1",
          "Normal 1",
          "Normal 1",
          "Normal 1",
          "Normal 1",
          "Normal 1",
          "Normal 1",
          "Normal 1",
          "Normal 1",
          "Normal 1",
          "Normal 1",
          "Normal 1",
          "Normal 1",
          "Normal 1",
          "Normal 1",
          "Normal 1",
          "Normal 1",
          "Normal 1",
          "Normal 1",
          "Normal 1",
          "Normal 1",
          "Normal 1",
          "Normal 1",
          "Normal 1",
          "Normal 1",
          "Normal 1",
          "Normal 1",
          "Normal 1",
          "Normal 1",
          "Normal 1",
          "Normal 1",
          "Normal 1",
          "Normal 1",
          "Normal 1",
          "Normal 1",
          "Normal 1",
          "Normal 1",
          "Normal 1",
          "Normal 1",
          "Normal 1",
          "Normal 1",
          "Normal 1",
          "Normal 1",
          "Normal 1",
          "Normal 1",
          "Normal 1",
          "Normal 1",
          "Normal 1",
          "Normal 1",
          "Normal 1",
          "Normal 1",
          "Normal 1",
          "Normal 1",
          "Normal 1",
          "Normal 1",
          "Normal 1",
          "Normal 1",
          "Normal 1",
          "Normal 1",
          "Normal 1",
          "Normal 1",
          "Normal 1",
          "Normal 1",
          "Normal 1",
          "Normal 1",
          "Normal 1",
          "Normal 1",
          "Normal 1",
          "Normal 1",
          "Normal 1",
          "Normal 1",
          "Normal 1",
          "Normal 1",
          "Normal 1",
          "Normal 1",
          "Normal 1",
          "Normal 1",
          "Normal 1",
          "Normal 1",
          "Normal 1",
          "Normal 1",
          "Normal 1",
          "Normal 1",
          "Normal 1",
          "Normal 1",
          "Normal 1",
          "Normal 1",
          "Normal 1",
          "Normal 1",
          "Normal 1",
          "Normal 1",
          "Normal 1",
          "Normal 1",
          "Normal 1",
          "Normal 1",
          "Normal 1",
          "Normal 1",
          "Normal 1",
          "Normal 1",
          "Normal 1",
          "Normal 1",
          "Normal 1",
          "Normal 1",
          "Normal 1",
          "Normal 1",
          "Normal 1",
          "Normal 1",
          "Normal 1",
          "Normal 1",
          "Normal 1",
          "Normal 1",
          "Normal 1",
          "Normal 1",
          "Normal 1",
          "Normal 1",
          "Normal 1",
          "Normal 1",
          "Normal 1",
          "Normal 1",
          "Normal 1",
          "Normal 1",
          "Normal 1",
          "Normal 1",
          "Normal 1",
          "Normal 1",
          "Normal 1",
          "Normal 1",
          "Normal 1",
          "Normal 1",
          "Normal 1",
          "Normal 1",
          "Normal 1",
          "Normal 1",
          "Normal 1",
          "Normal 1",
          "Normal 1",
          "Normal 1",
          "Normal 1",
          "Normal 1",
          "Normal 1",
          "Normal 1",
          "Normal 1",
          "Normal 1",
          "Normal 1",
          "Normal 1",
          "Normal 1",
          "Normal 1",
          "Normal 1",
          "Normal 1",
          "Normal 1",
          "Normal 1",
          "Normal 1",
          "Normal 1",
          "Normal 1",
          "Normal 1",
          "Normal 1",
          "Normal 1",
          "Normal 1",
          "Normal 1",
          "Normal 1",
          "Normal 1",
          "Normal 1",
          "Normal 1",
          "Normal 1",
          "Normal 1",
          "Normal 1",
          "Normal 1",
          "Normal 1",
          "Normal 1",
          "Normal 1",
          "Normal 1",
          "Normal 1",
          "Normal 1",
          "Normal 1",
          "Normal 1",
          "Normal 1",
          "Normal 1",
          "Normal 1",
          "Normal 1",
          "Normal 1",
          "Normal 1",
          "Normal 1",
          "Normal 1",
          "Normal 1",
          "Normal 1",
          "Normal 1",
          "Normal 1",
          "Normal 1",
          "Normal 1",
          "Normal 1",
          "Normal 1",
          "Normal 1",
          "Normal 1",
          "Normal 1",
          "Normal 1",
          "Normal 1",
          "Normal 1",
          "Normal 1",
          "Normal 1",
          "Normal 1",
          "Normal 1",
          "Normal 1",
          "Normal 1",
          "Normal 1",
          "Normal 1",
          "Normal 1",
          "Normal 1",
          "Normal 1",
          "Normal 1",
          "Normal 1",
          "Normal 1",
          "Normal 1",
          "Normal 1",
          "Normal 1",
          "Normal 1",
          "Normal 1",
          "Normal 1",
          "Normal 1",
          "Normal 1",
          "Normal 1",
          "Normal 1",
          "Normal 1",
          "Normal 1",
          "Normal 1",
          "Normal 1",
          "Normal 1",
          "Normal 1",
          "Normal 1",
          "Normal 1",
          "Normal 1",
          "Normal 1",
          "Normal 1",
          "Normal 1",
          "Normal 1",
          "Normal 1",
          "Normal 1",
          "Normal 1",
          "Normal 1",
          "Normal 1",
          "Normal 1",
          "Normal 1",
          "Normal 1",
          "Normal 1",
          "Normal 1",
          "Normal 1",
          "Normal 1",
          "Normal 1",
          "Normal 1",
          "Normal 1",
          "Normal 1",
          "Normal 1",
          "Normal 1",
          "Normal 1",
          "Normal 1",
          "Normal 1",
          "Normal 1",
          "Normal 1",
          "Normal 1",
          "Normal 1",
          "Normal 1",
          "Normal 1",
          "Normal 1",
          "Normal 1",
          "Normal 1",
          "Normal 1",
          "Normal 1",
          "Normal 1",
          "Normal 1",
          "Normal 1",
          "Normal 1",
          "Normal 1",
          "Normal 1",
          "Normal 1",
          "Normal 1",
          "Normal 1",
          "Normal 1",
          "Normal 1",
          "Normal 1",
          "Normal 1",
          "Normal 1",
          "Normal 1",
          "Normal 1",
          "Normal 1",
          "Normal 1",
          "Normal 1",
          "Normal 1",
          "Normal 1",
          "Normal 1",
          "Normal 1",
          "Normal 1",
          "Normal 1",
          "Normal 1",
          "Normal 1",
          "Normal 1",
          "Normal 1",
          "Normal 1",
          "Normal 1",
          "Normal 1",
          "Normal 1",
          "Normal 1",
          "Normal 1",
          "Normal 1",
          "Normal 1",
          "Normal 1",
          "Normal 1",
          "Normal 1",
          "Normal 1",
          "Normal 1",
          "Normal 1",
          "Normal 1",
          "Normal 1",
          "Normal 1",
          "Normal 1"
         ],
         "yaxis": "y2"
        },
        {
         "legendgroup": "Normal 2",
         "marker": {
          "color": "rgb(255, 127, 14)",
          "symbol": "line-ns-open"
         },
         "mode": "markers",
         "name": "Normal 2",
         "showlegend": false,
         "type": "scatter",
         "x": [
          4.554814401962062,
          4.553331175929594,
          4.28697878349352,
          3.9594699465065277,
          5.733650247213486,
          4.877748602001382,
          5.028229928193461,
          4.779997901979902,
          5.545395868680018,
          4.559429003504591,
          4.242780836843916,
          4.767317614275533,
          5.543678725257779,
          5.017469838750156,
          3.836984244879966,
          4.366966522169052,
          4.951439723714215,
          6.218113627004442,
          5.154114710101232,
          6.515873322989412,
          5.788540635314631,
          5.917377139420817,
          4.779980376854392,
          5.428542977985878,
          4.1377128423953655,
          5.9144629714677865,
          5.871241936293061,
          5.556710827321975,
          4.070768874617393,
          5.071544624674681,
          5.2829584566363215,
          4.770402294373678,
          4.579859938511395,
          4.261035477313383,
          4.710147673868973,
          4.199895177597565,
          4.222201676530461,
          5.045145342658656,
          3.920383557501456,
          8.920499559403604,
          4.962681972259783,
          5.1293496597194475,
          4.489107829208548,
          4.52064696910894,
          5.235022939121296,
          4.04846535361341,
          4.3104811288472344,
          5.0531246986244955,
          5.010736824758344,
          5.486140975707556,
          4.69694718500497,
          4.5402815418641636,
          4.962063837484797,
          4.572970097103723,
          5.289347961814031,
          5.954744469734838,
          6.876939676005648,
          2.879622605914267,
          6.82035941825461,
          4.079175318964266,
          5.416486407565644,
          4.202578795283674,
          4.711046227316533,
          6.493216206523215,
          4.002076709836457,
          2.504475130516056,
          4.731706742748504,
          5.0747248417847866,
          6.636045509048801,
          3.4396568496089013,
          6.084466364245296,
          5.406139744104257,
          4.631394539979874,
          5.437537595725849,
          5.733963506592573,
          4.502283581265178,
          4.734298255793588,
          4.824160580861254,
          6.614696567445392,
          4.383208848363646,
          5.893706888525136,
          4.430015008391706,
          5.9180626090709705,
          4.24508679116348,
          6.031622985422731,
          1.6047089953931861,
          4.67912669653022,
          4.516090204481275,
          5.235670876958697,
          4.978455551353119,
          3.7530310377858185,
          4.470067985531286,
          4.344440228467723,
          4.8940994663679165,
          3.8026117692088772,
          5.181426023042892,
          7.160110689776284,
          5.314018396636429,
          3.3931928426807114,
          5.440633056101101,
          5.911366004390068,
          5.635943300678523,
          4.806913051975768,
          5.284773546099376,
          4.137171195786554,
          4.718747274548103,
          3.8221381674860995,
          4.611464163708101,
          4.503107423143388,
          5.5281364628442,
          5.5883618318224215,
          5.372611333060636,
          5.463362323625331,
          2.82082757281042,
          4.769060825287472,
          4.577557855872561,
          5.29233917753469,
          3.6954476481374443,
          4.261052547567021,
          5.41631456303449,
          6.797417142573105,
          4.494220934585863,
          4.692564845547118,
          6.046743957922917,
          4.598505500246564,
          6.061037765064114,
          6.305961801836905,
          4.716982112938681,
          3.33952253617352,
          4.819043347841291,
          4.240111350634902,
          5.5865597984689535,
          5.610537789109532,
          4.870348679974491,
          3.8023695212847954,
          3.7604531218018735,
          5.156088288439537,
          3.3754231205056238,
          5.6805850962917965,
          4.69906511596781,
          6.244178403039453,
          4.310141537526582,
          3.8300797761427754,
          5.224492581956262,
          4.734900359599788,
          6.359370247304545,
          5.320236796716836,
          5.566050550905015,
          3.988556833442418,
          5.009736904110197,
          4.6540602834009,
          4.750692859797389,
          5.078574330205915,
          5.626626697764211,
          3.9840502009023044,
          2.8993658079427402,
          4.351217179787667,
          4.869175868781602,
          5.396251118485908,
          4.305705281788219,
          4.200089122664793,
          4.138547458444476,
          4.760204601072225,
          5.409573196292045,
          3.8672920297381297,
          5.373775007624717,
          3.056874348988081,
          6.853676232716497,
          5.35309899520873,
          4.718221790090035,
          5.946453627007134,
          5.302642034729791,
          3.1327244216224237,
          6.759415285956294,
          4.548073546021929,
          5.127215472141197,
          5.420183248670254,
          4.099131533528115,
          5.078103198866553,
          4.258313408190151,
          3.5094663107866024,
          4.1502568146526455,
          3.906278947781166,
          6.059913142519038,
          3.9171485258131082,
          2.955645137533008,
          4.834073243066378,
          4.574178139404484,
          5.706870798722672,
          6.0706767738914,
          7.903226168278271,
          4.4296663977562885,
          4.047194978017396,
          3.9874532353849093,
          4.4515015939865155,
          6.392778364086965,
          3.604650283404748,
          5.2575245098816525,
          4.771679625273742,
          6.219986422023385,
          4.980123196876694,
          5.105572686907418,
          5.027975247536343,
          6.509887601267116,
          6.07053501635717,
          5.228656090502624,
          4.0076670812038975,
          6.115104676540337,
          4.789590097886621,
          3.7554424752599314,
          3.8383267353265738,
          5.738484247120834,
          3.033371862737341,
          5.131743079828187,
          5.993222496826894,
          5.356053859337153,
          4.663414399701149,
          4.871988133721703,
          6.807970869926625,
          7.884065107166832,
          4.399837057441837,
          3.522971457102818,
          6.083778215465486,
          4.292171662789815,
          5.417462205541451,
          4.5133252192708655,
          5.054511045745199,
          4.492905159039607,
          5.191205848052166,
          6.542072540270636,
          4.710666826635547,
          5.001020545746692,
          6.390548510430158,
          5.831028320176008,
          5.50481696777107,
          4.2909908538852415,
          5.998838639797719,
          4.911253307669118,
          4.79687580118032,
          5.322995203463646,
          5.059030466600569,
          4.804620073625823,
          3.6939956718788007,
          3.35511458889322,
          7.24747832668125,
          5.041825940257462,
          5.583341501336089,
          5.267967992258045,
          5.1705252423761126,
          5.934285431413519,
          3.9410250945265393,
          6.104161975231319,
          6.936821776341427,
          5.811873075490804,
          7.122864974481693,
          4.716795042597789,
          4.385452137784847,
          4.906768654809112,
          4.881308365023002,
          6.3962387789772235,
          7.111741105024617,
          5.038793142603461,
          5.386643369495716,
          3.940928571213627,
          5.60373695435683,
          3.9185772147951496,
          3.1120917881312717,
          5.402583622306826,
          3.866104808249122,
          5.2508633154318405,
          5.833454406178286,
          4.470267360018464,
          5.094474717748497,
          5.3771300027197855,
          2.8033039073297417,
          3.9937425062185454,
          3.1226190337412043,
          2.8980818116555622,
          5.837482664412721,
          8.011809570077505,
          5.761336331101493,
          4.90780476767669,
          4.6600270477645,
          6.406890890456987,
          6.060690508814254,
          6.656684688651323,
          5.375510247996591,
          5.137645687543633,
          5.930775993341421,
          4.682739421273054,
          3.808496600150155,
          3.0793177992061005,
          5.565309112309461,
          4.959879688161712,
          3.529750878265446,
          4.958990736470589,
          5.445201847102712,
          6.1458113631405835,
          7.805732208126704,
          5.383791352779755,
          4.4519329932249265,
          5.109699364312898,
          3.949637263858577,
          4.932319467976474,
          4.037363496884161,
          4.2925016255691215,
          4.72201104842239,
          4.9006357478155005,
          3.852463144186422,
          6.0257360076978745,
          6.010422680882232,
          4.860603300580327,
          4.759709109472579,
          4.166375659666878,
          7.642210889734908,
          4.951147852530365,
          4.3208749082343365,
          6.283346615366393,
          2.554906343177324,
          6.762193818547777,
          4.01071114931147,
          3.577754921297103,
          4.4245480303529865,
          4.223492650590429,
          5.096033011634844,
          6.206707657348489,
          4.870782666269642,
          5.369333563542834,
          5.641169546417599,
          5.961150945088695,
          4.749849770256601,
          5.052313111353207,
          5.557203042534055,
          4.3864519475220005,
          5.600753757767797,
          4.867845374699175,
          4.815313201776808,
          6.588709390138948,
          4.73471332717988,
          4.722412818683334,
          5.821493342905288,
          3.3051709837427308,
          4.113332252136894,
          3.4807678684929546,
          4.8010897412796805,
          4.727245630873714,
          7.178476612494993,
          4.866328374485069,
          4.436957230431913,
          5.780739440354376,
          4.539661970921481,
          6.685896821180629,
          6.205528926388444,
          4.773068673398567,
          5.52323237869909,
          5.755541746117023,
          4.9258097924780575,
          4.408339959541502,
          6.3113336244749725,
          6.353921079378084,
          4.458294940526319,
          5.106558634093284,
          4.24433729406856,
          3.43773998852894,
          5.59406945445357,
          3.80519240336569,
          5.933226271824218,
          5.143619599953106,
          4.993796529806473,
          5.33386600096932,
          5.346036005136646,
          5.496044399566652,
          3.2969589827513133,
          6.537412276159229,
          5.094399868152065,
          4.012693756459268,
          2.4634262167831835,
          5.373384668066852,
          4.6612496708230085,
          5.343430297540067,
          4.418551647838549,
          6.847831971389654,
          5.124522154691334,
          4.811135744254398,
          5.185592364089941,
          3.8734749365123085,
          5.268879567624952,
          6.144393041143627,
          5.734598389799103,
          5.446593237922298,
          3.942522582337668,
          4.853809408756486,
          3.6940841911703295,
          5.750947808442342,
          5.13673898610099,
          8.250203044847176,
          4.497326292866996,
          5.2808062495390375,
          4.582348103974145,
          4.5648422087535305,
          6.2924414727364795,
          4.463787818553042,
          4.715279161564109,
          5.235941002241388,
          4.651584554800639,
          5.84983693216944,
          5.5464941802487,
          4.268740480096429,
          2.104191843458503,
          5.1652970736688495,
          4.914679008587075,
          6.1941333444614,
          5.2454576552352385,
          3.4376477389199174,
          5.4080118640733,
          5.412287953087276,
          4.514832451698122,
          4.957051635499903,
          6.903361059873731,
          7.44098257839458,
          4.13965208353778,
          6.258475099293166,
          4.374168146793418,
          3.7879778547153276,
          5.6707892346903375,
          4.604826154423034,
          4.107212711343129,
          5.299213058913136,
          5.4887329810681615,
          5.277529963284313,
          3.9305379708604455,
          5.251001999822526,
          5.953021219352121,
          3.1040104020700743,
          5.434895024127084,
          6.9243912270700045,
          7.8861038454977255,
          4.908128699238947,
          3.671880666939417,
          4.223013744012871,
          5.486526269437105,
          6.828730686921881,
          5.353103875301352,
          4.343459293829225,
          5.220550177845779,
          5.615656070955884,
          4.6638461889163825,
          4.78192307360784,
          3.7298862969761464,
          5.166622884426591,
          4.359475340494412,
          2.432866248684677,
          4.703924893647489,
          4.907530981332714,
          3.839869922154373,
          5.0922386881690755,
          6.258418203965059,
          3.7625820184897387,
          6.610000722206019,
          5.577324376978051,
          5.398306203272471,
          5.164688131681989,
          2.5760214842431983,
          5.043880305848095,
          3.4385744622009264,
          5.289082265121318,
          6.034464270140315,
          6.247337072294045,
          3.569569682211044,
          6.089488891062714,
          6.003140343672088,
          5.535373218734372,
          5.277887884005798,
          4.67072848888006,
          5.350876265354943,
          4.039247719269772,
          4.6508363216610284,
          6.76057974679659,
          4.446922022553692,
          5.432546392265737,
          4.872878033427306,
          4.583868903578116,
          5.268469558518012,
          5.293343266136039,
          4.554526384370365,
          5.137958877814727,
          5.12742583254502,
          5.476234519095197,
          3.0915291889194396,
          5.6518342530975385,
          4.862595006118959,
          4.27808891623379,
          4.594975274839821,
          4.491417820582404,
          4.903801193204,
          4.021543797081361,
          5.055357453849992,
          5.7993765747355575,
          5.9078470200448505,
          3.637824052764996,
          5.4885445418874115,
          5.787490240362817,
          4.196271322515589,
          6.222213081801538,
          7.01153716490956,
          5.56841016922647,
          4.446528448283894,
          4.846030599855205,
          5.351572968841275,
          5.811137990014162,
          6.834321152931221,
          3.975495083049073,
          4.417157073199888,
          5.0678617923399605,
          4.545893305198457,
          4.490247175643482,
          4.729069143551785,
          3.7226895730926364,
          4.093853124302085,
          5.90970899103811,
          5.34498927356392,
          5.404284761619442,
          5.004350123207055,
          5.779205210381427,
          4.420830914612889,
          4.001537837663606,
          4.214976414342123,
          6.2066899602702605,
          4.061248078245985,
          5.088037784116727,
          4.182361731115643,
          5.016007132326489,
          4.710954815752354,
          3.718173607755094,
          3.1330886585302657,
          5.219066938774839,
          3.1756662971585436,
          6.2150559124142655,
          4.730752094724315,
          5.301251001170716,
          5.476323209266482,
          4.288603181905613,
          7.04120708247466,
          5.200026661341767,
          5.857630889813774,
          4.1768054969640795,
          3.675240901182094,
          4.92269959340758,
          6.210088883321474,
          6.118805129869856,
          5.543103031552881,
          5.370493965861435,
          4.688841501665823,
          4.512046992924784,
          6.453005541320946,
          3.578942149878821,
          4.051056766318786,
          6.09420503304775,
          3.2338003255717895,
          4.0277613566908865,
          6.119816662757353,
          3.7803710303385096,
          5.029967451959427,
          5.155335080061171,
          4.727696149021889,
          5.1647789231416334,
          3.9084294128008485,
          5.260944892204005,
          5.288862672410762,
          5.577531872251866,
          5.115000535304669,
          7.065328071485995,
          2.7451764874378033,
          3.6033455449097826,
          5.069739053232175,
          4.854621152559332,
          5.48311647363646,
          5.176273570041595,
          5.252070337411184,
          4.903586913246825,
          5.329411816247914,
          6.758893352584625,
          6.070929982544987,
          4.257096816050631,
          5.94111253678783,
          5.796033685734867,
          4.168854117146317,
          4.194809644922505,
          2.69890768274228,
          4.705729958575871,
          4.698663368574104,
          5.134136388438518,
          4.1537473310836255,
          3.139961005284255,
          4.653895347787246,
          4.586877414678369,
          4.559255037850441,
          5.05807761679569,
          5.7177666849298925,
          5.933120520814453,
          5.6038797159701765,
          4.146046165022713,
          4.8863647445947445,
          5.415631532121168,
          4.904453546775548,
          5.262813038122322,
          4.0846471692296245,
          4.827828666806178,
          3.503791870752758,
          3.8111924522406952,
          5.802431477437409,
          5.284546946077883,
          7.436949106703029,
          3.5798553121102534,
          4.325185677958407,
          5.45902647665347,
          5.607214107694016,
          4.065969818525911,
          4.066927875831044,
          4.886193617003021,
          5.512442759233502,
          5.787904817675699,
          6.069742781202019,
          4.89958098516713,
          6.716563122990573,
          4.8014777675345695,
          5.275208057625112,
          3.1677917763992016,
          5.811799721116048,
          2.172603264277546,
          4.117634173979385,
          6.427716576241295,
          4.0526064786273235,
          4.6396765070223385,
          4.605991424280823,
          4.162092789857817,
          4.776325816747826,
          4.906316682684843,
          5.449798706086732,
          6.678596166713218,
          4.839284597577042,
          4.966478684148381,
          5.3865134236887515,
          5.77920636646884,
          6.2908899318490565,
          6.72675732656826,
          5.244808151391932,
          6.809967114110112,
          5.448069614702436,
          5.084380170035626,
          6.393715098201995,
          3.172173001006805,
          6.509246827869712,
          3.5373020085322198,
          5.068870873560998,
          6.489440522617928,
          6.337776091430038,
          6.715987541471481,
          4.65373828138776,
          3.2832258496148277,
          5.818091442837022,
          4.214244908276036,
          5.447180464472772,
          4.256246769387933,
          5.558789822491726,
          5.019067751561658,
          5.689700564515555,
          4.343226008288067,
          5.587810387239234,
          5.021984178766869,
          5.113889994664142,
          5.793376051996523,
          5.206443870186847,
          5.106013505699543,
          4.202957521666042,
          4.626822284500638,
          3.992786398315757,
          3.8680362864408497,
          3.6619272205543165,
          4.806732301429791,
          2.9917286506730063,
          5.481712919166709,
          5.87681599427342,
          4.634782688358471,
          4.068831085882626,
          5.108032168470138,
          4.735603960996411,
          4.953148447580291,
          6.142901561892666,
          4.834679985077669,
          5.721470316995401,
          3.5710134199211767,
          4.838572890383189,
          3.5057024698067725,
          6.638084968121618,
          5.293154805536762,
          5.194294813865509,
          5.536726619832393,
          3.947648700430781,
          5.055908060396141,
          4.897687130507513,
          3.0708238769775145,
          5.671039085741156,
          4.577700421732886,
          6.39532923584134,
          4.141549829027204,
          4.086326872457838,
          6.381731568849245,
          4.281940866606972,
          6.010532363042731,
          5.705822259669864,
          6.223343862619941,
          5.134388976682865,
          4.7908353343644725,
          5.470011939745445,
          4.495040217079787,
          4.337158590841035,
          5.262869789175637,
          4.4061711684549305,
          3.5883615793190424,
          3.3003670136317735,
          6.638684533028361,
          5.404979745836648,
          5.148576882401216,
          5.495334706916218,
          4.932546694212642,
          3.374610459141142,
          4.9159545907728095,
          5.193531404896101,
          5.880055518791706,
          5.748443158420681,
          3.2182537688071564,
          4.362582043363212,
          5.085159699871359,
          4.298562887112591,
          4.908192043458315,
          5.691319660653516,
          4.252756938401614,
          7.99310850014535,
          4.996238697773655,
          5.054249093432654,
          5.644865762544042,
          6.548496039450114,
          5.854251153551666,
          4.828003410882426,
          4.066671029152925,
          4.44748912029065,
          5.2717698691959205,
          5.731328112843783,
          3.732863878068706,
          4.2945812254978755,
          5.008457962948904,
          5.372842277782074,
          5.09635435114408,
          5.49375303151008,
          5.217712786247069,
          5.721371875501463,
          5.6230897874796115,
          5.095212538687234,
          3.888321586872012,
          4.8295083576756825,
          5.937085295876098,
          5.541405761593029,
          6.290222616669326,
          4.255389926003867,
          6.039104567445727,
          6.25280639283851,
          3.611169648703903,
          5.398107140335602,
          4.842830304144853,
          5.2437767336896695,
          3.817768821908055,
          5.896820155421493,
          5.267009997465169,
          6.664180413934129,
          4.733519286083495,
          6.6466313451674015,
          5.089974024190405,
          5.722264197878318,
          6.57771873223866,
          2.5430335506028783,
          4.619855633965308,
          3.537663666594465,
          5.004181324822292,
          6.877185527980292,
          4.589274679043771,
          5.377600555279333,
          4.668677085776653,
          6.2290621200726015,
          7.205831968254081,
          4.469961543619292,
          3.4269673211659604,
          4.732945183588419,
          5.889705960563615,
          4.072482579510167,
          5.469561948516224,
          4.400683435860501,
          3.1723981913599504,
          4.2714980701209555,
          3.782597003363512,
          5.997110577790203,
          5.236703544174428,
          4.867934294637366,
          4.291902085983546,
          2.7838967002486865,
          5.741603379113292,
          3.9251748643170337,
          5.133051457099642,
          4.586662498837587,
          4.132793237389081,
          6.615094177248522,
          5.8210366826959845,
          4.860498061358328,
          5.473752047052306,
          5.765414592149282,
          4.648398222053995,
          6.2136763121900715,
          4.565587630365473,
          4.752198185102335,
          4.200514620368899,
          4.95810931233035,
          5.681899892499353,
          5.126479136134404,
          3.8146091437299607,
          4.86687135874183,
          4.0238378176221685,
          5.378888824871401,
          4.198477692478353,
          5.188859311422483,
          6.234702606197766,
          5.964136511214122,
          4.613369460139737,
          6.196161034084019,
          4.678842678833155,
          5.553745489538559,
          4.119247866391859,
          6.588267020710463,
          5.273231952308342,
          5.603486037726444,
          4.261899238867313,
          3.3351159436321107,
          5.846517903026124,
          5.8255526835059275,
          5.868781169964771,
          6.421619535370862,
          4.7181094754096655,
          5.318496472268338,
          4.527719687834316,
          5.60904170825669,
          5.7336490003864045,
          5.250184875281792,
          4.924803009747735,
          5.30107768065549,
          2.712340201911926,
          4.292452309909201,
          4.821906016125347,
          4.197110802288867,
          6.380547358887489,
          3.8199632280396743,
          5.349218385180111,
          4.184749142000036,
          2.9912886866816986,
          4.957578767071464,
          5.922948791169145,
          5.658208431194311,
          5.403440452401495,
          4.305570394996396,
          4.460755932609501,
          6.239424318355795,
          3.3004399761908307,
          7.181360565294693,
          6.163293053727563,
          6.077252625952782,
          5.228577692790597,
          5.950583698171929,
          5.051405615475321,
          4.226308691991721,
          3.8014332031420013,
          4.767465267789844,
          3.9825665614446564,
          5.197414033705014,
          3.9849712850564805,
          6.2253089457109345,
          3.824491945864952,
          6.06527413094343,
          4.726884772063217,
          5.543048591895254,
          3.94263185715134,
          4.56440541697573,
          4.526943938493448,
          4.355231116489965,
          4.7022081468705,
          3.972597062978207,
          4.762286506987424,
          3.5796006155737468,
          3.279924698892601,
          5.791669063080005,
          5.5059222123630445,
          5.000829913975161,
          5.27255230660131,
          5.219476559199749,
          5.686348083087227,
          4.981823019898293,
          4.838526922081254,
          5.001922552270646,
          5.103664824045673,
          4.944657836552804,
          4.851008138251939,
          3.7376398348696735,
          5.5571562433129476,
          5.415807792924904,
          3.7884546871452534,
          4.948843933003402,
          4.155571750787528,
          6.037943452888377,
          4.4354788776757506,
          3.2467383505738336,
          5.671338159856043,
          5.246125781803637,
          4.492941067215979,
          5.181701276006181,
          5.615873023669893,
          3.5076518815407436,
          5.08395855959821,
          5.739145936017436,
          2.670349597556893,
          5.586100458001251,
          6.389485521907396,
          3.948203618966538,
          5.732600125455348,
          6.637120988893116,
          3.177586626458976,
          5.71494009685901,
          5.052724947870029,
          4.284542399557963,
          5.48480664387309,
          4.953640294277802,
          4.01796111634181,
          4.6817846366200575,
          4.62910866762813,
          5.082265069841069,
          6.139313593252412,
          5.202535701248916,
          4.474414565975798,
          2.888396837354795,
          6.211879253932545,
          6.649927611193907,
          4.415300761874863,
          3.807972524650821,
          3.57751193205042,
          6.546839687272137,
          4.977927346547328,
          3.9055219149042903,
          4.393148195067696,
          4.510171387805705,
          5.394728082099475,
          5.74532062118519,
          7.266925902098232,
          5.479222231599451,
          4.947365710789021,
          5.310107694817611,
          4.990934516036577,
          2.655459450319446,
          6.149342545726462,
          4.727361777514017,
          5.339493429893524,
          4.411856444379737,
          6.08751850923165,
          5.308358374188272,
          6.556641658819582,
          7.787143148473894,
          6.491252449149436,
          3.6867332476093484,
          4.340245168409296,
          5.840723888001939,
          3.5911518705974466,
          4.666130662325786,
          6.573805844638442,
          7.342902081059828,
          5.528230418055307,
          4.61102593578497,
          4.654019809936917,
          3.6202858077111975,
          4.827958044460572,
          5.017334992417092,
          4.529286603529899,
          4.59327931795015,
          4.667212464099432,
          6.120937333461356,
          5.22347280933803,
          3.5668774399005834,
          3.6001779210708253,
          4.854950001683419,
          6.5864134905855884,
          4.403805604380423,
          6.081812809954511,
          4.50194956289139,
          5.646238510667408,
          4.397251841014438,
          6.690638715643008
         ],
         "xaxis": "x",
         "y": [
          "Normal 2",
          "Normal 2",
          "Normal 2",
          "Normal 2",
          "Normal 2",
          "Normal 2",
          "Normal 2",
          "Normal 2",
          "Normal 2",
          "Normal 2",
          "Normal 2",
          "Normal 2",
          "Normal 2",
          "Normal 2",
          "Normal 2",
          "Normal 2",
          "Normal 2",
          "Normal 2",
          "Normal 2",
          "Normal 2",
          "Normal 2",
          "Normal 2",
          "Normal 2",
          "Normal 2",
          "Normal 2",
          "Normal 2",
          "Normal 2",
          "Normal 2",
          "Normal 2",
          "Normal 2",
          "Normal 2",
          "Normal 2",
          "Normal 2",
          "Normal 2",
          "Normal 2",
          "Normal 2",
          "Normal 2",
          "Normal 2",
          "Normal 2",
          "Normal 2",
          "Normal 2",
          "Normal 2",
          "Normal 2",
          "Normal 2",
          "Normal 2",
          "Normal 2",
          "Normal 2",
          "Normal 2",
          "Normal 2",
          "Normal 2",
          "Normal 2",
          "Normal 2",
          "Normal 2",
          "Normal 2",
          "Normal 2",
          "Normal 2",
          "Normal 2",
          "Normal 2",
          "Normal 2",
          "Normal 2",
          "Normal 2",
          "Normal 2",
          "Normal 2",
          "Normal 2",
          "Normal 2",
          "Normal 2",
          "Normal 2",
          "Normal 2",
          "Normal 2",
          "Normal 2",
          "Normal 2",
          "Normal 2",
          "Normal 2",
          "Normal 2",
          "Normal 2",
          "Normal 2",
          "Normal 2",
          "Normal 2",
          "Normal 2",
          "Normal 2",
          "Normal 2",
          "Normal 2",
          "Normal 2",
          "Normal 2",
          "Normal 2",
          "Normal 2",
          "Normal 2",
          "Normal 2",
          "Normal 2",
          "Normal 2",
          "Normal 2",
          "Normal 2",
          "Normal 2",
          "Normal 2",
          "Normal 2",
          "Normal 2",
          "Normal 2",
          "Normal 2",
          "Normal 2",
          "Normal 2",
          "Normal 2",
          "Normal 2",
          "Normal 2",
          "Normal 2",
          "Normal 2",
          "Normal 2",
          "Normal 2",
          "Normal 2",
          "Normal 2",
          "Normal 2",
          "Normal 2",
          "Normal 2",
          "Normal 2",
          "Normal 2",
          "Normal 2",
          "Normal 2",
          "Normal 2",
          "Normal 2",
          "Normal 2",
          "Normal 2",
          "Normal 2",
          "Normal 2",
          "Normal 2",
          "Normal 2",
          "Normal 2",
          "Normal 2",
          "Normal 2",
          "Normal 2",
          "Normal 2",
          "Normal 2",
          "Normal 2",
          "Normal 2",
          "Normal 2",
          "Normal 2",
          "Normal 2",
          "Normal 2",
          "Normal 2",
          "Normal 2",
          "Normal 2",
          "Normal 2",
          "Normal 2",
          "Normal 2",
          "Normal 2",
          "Normal 2",
          "Normal 2",
          "Normal 2",
          "Normal 2",
          "Normal 2",
          "Normal 2",
          "Normal 2",
          "Normal 2",
          "Normal 2",
          "Normal 2",
          "Normal 2",
          "Normal 2",
          "Normal 2",
          "Normal 2",
          "Normal 2",
          "Normal 2",
          "Normal 2",
          "Normal 2",
          "Normal 2",
          "Normal 2",
          "Normal 2",
          "Normal 2",
          "Normal 2",
          "Normal 2",
          "Normal 2",
          "Normal 2",
          "Normal 2",
          "Normal 2",
          "Normal 2",
          "Normal 2",
          "Normal 2",
          "Normal 2",
          "Normal 2",
          "Normal 2",
          "Normal 2",
          "Normal 2",
          "Normal 2",
          "Normal 2",
          "Normal 2",
          "Normal 2",
          "Normal 2",
          "Normal 2",
          "Normal 2",
          "Normal 2",
          "Normal 2",
          "Normal 2",
          "Normal 2",
          "Normal 2",
          "Normal 2",
          "Normal 2",
          "Normal 2",
          "Normal 2",
          "Normal 2",
          "Normal 2",
          "Normal 2",
          "Normal 2",
          "Normal 2",
          "Normal 2",
          "Normal 2",
          "Normal 2",
          "Normal 2",
          "Normal 2",
          "Normal 2",
          "Normal 2",
          "Normal 2",
          "Normal 2",
          "Normal 2",
          "Normal 2",
          "Normal 2",
          "Normal 2",
          "Normal 2",
          "Normal 2",
          "Normal 2",
          "Normal 2",
          "Normal 2",
          "Normal 2",
          "Normal 2",
          "Normal 2",
          "Normal 2",
          "Normal 2",
          "Normal 2",
          "Normal 2",
          "Normal 2",
          "Normal 2",
          "Normal 2",
          "Normal 2",
          "Normal 2",
          "Normal 2",
          "Normal 2",
          "Normal 2",
          "Normal 2",
          "Normal 2",
          "Normal 2",
          "Normal 2",
          "Normal 2",
          "Normal 2",
          "Normal 2",
          "Normal 2",
          "Normal 2",
          "Normal 2",
          "Normal 2",
          "Normal 2",
          "Normal 2",
          "Normal 2",
          "Normal 2",
          "Normal 2",
          "Normal 2",
          "Normal 2",
          "Normal 2",
          "Normal 2",
          "Normal 2",
          "Normal 2",
          "Normal 2",
          "Normal 2",
          "Normal 2",
          "Normal 2",
          "Normal 2",
          "Normal 2",
          "Normal 2",
          "Normal 2",
          "Normal 2",
          "Normal 2",
          "Normal 2",
          "Normal 2",
          "Normal 2",
          "Normal 2",
          "Normal 2",
          "Normal 2",
          "Normal 2",
          "Normal 2",
          "Normal 2",
          "Normal 2",
          "Normal 2",
          "Normal 2",
          "Normal 2",
          "Normal 2",
          "Normal 2",
          "Normal 2",
          "Normal 2",
          "Normal 2",
          "Normal 2",
          "Normal 2",
          "Normal 2",
          "Normal 2",
          "Normal 2",
          "Normal 2",
          "Normal 2",
          "Normal 2",
          "Normal 2",
          "Normal 2",
          "Normal 2",
          "Normal 2",
          "Normal 2",
          "Normal 2",
          "Normal 2",
          "Normal 2",
          "Normal 2",
          "Normal 2",
          "Normal 2",
          "Normal 2",
          "Normal 2",
          "Normal 2",
          "Normal 2",
          "Normal 2",
          "Normal 2",
          "Normal 2",
          "Normal 2",
          "Normal 2",
          "Normal 2",
          "Normal 2",
          "Normal 2",
          "Normal 2",
          "Normal 2",
          "Normal 2",
          "Normal 2",
          "Normal 2",
          "Normal 2",
          "Normal 2",
          "Normal 2",
          "Normal 2",
          "Normal 2",
          "Normal 2",
          "Normal 2",
          "Normal 2",
          "Normal 2",
          "Normal 2",
          "Normal 2",
          "Normal 2",
          "Normal 2",
          "Normal 2",
          "Normal 2",
          "Normal 2",
          "Normal 2",
          "Normal 2",
          "Normal 2",
          "Normal 2",
          "Normal 2",
          "Normal 2",
          "Normal 2",
          "Normal 2",
          "Normal 2",
          "Normal 2",
          "Normal 2",
          "Normal 2",
          "Normal 2",
          "Normal 2",
          "Normal 2",
          "Normal 2",
          "Normal 2",
          "Normal 2",
          "Normal 2",
          "Normal 2",
          "Normal 2",
          "Normal 2",
          "Normal 2",
          "Normal 2",
          "Normal 2",
          "Normal 2",
          "Normal 2",
          "Normal 2",
          "Normal 2",
          "Normal 2",
          "Normal 2",
          "Normal 2",
          "Normal 2",
          "Normal 2",
          "Normal 2",
          "Normal 2",
          "Normal 2",
          "Normal 2",
          "Normal 2",
          "Normal 2",
          "Normal 2",
          "Normal 2",
          "Normal 2",
          "Normal 2",
          "Normal 2",
          "Normal 2",
          "Normal 2",
          "Normal 2",
          "Normal 2",
          "Normal 2",
          "Normal 2",
          "Normal 2",
          "Normal 2",
          "Normal 2",
          "Normal 2",
          "Normal 2",
          "Normal 2",
          "Normal 2",
          "Normal 2",
          "Normal 2",
          "Normal 2",
          "Normal 2",
          "Normal 2",
          "Normal 2",
          "Normal 2",
          "Normal 2",
          "Normal 2",
          "Normal 2",
          "Normal 2",
          "Normal 2",
          "Normal 2",
          "Normal 2",
          "Normal 2",
          "Normal 2",
          "Normal 2",
          "Normal 2",
          "Normal 2",
          "Normal 2",
          "Normal 2",
          "Normal 2",
          "Normal 2",
          "Normal 2",
          "Normal 2",
          "Normal 2",
          "Normal 2",
          "Normal 2",
          "Normal 2",
          "Normal 2",
          "Normal 2",
          "Normal 2",
          "Normal 2",
          "Normal 2",
          "Normal 2",
          "Normal 2",
          "Normal 2",
          "Normal 2",
          "Normal 2",
          "Normal 2",
          "Normal 2",
          "Normal 2",
          "Normal 2",
          "Normal 2",
          "Normal 2",
          "Normal 2",
          "Normal 2",
          "Normal 2",
          "Normal 2",
          "Normal 2",
          "Normal 2",
          "Normal 2",
          "Normal 2",
          "Normal 2",
          "Normal 2",
          "Normal 2",
          "Normal 2",
          "Normal 2",
          "Normal 2",
          "Normal 2",
          "Normal 2",
          "Normal 2",
          "Normal 2",
          "Normal 2",
          "Normal 2",
          "Normal 2",
          "Normal 2",
          "Normal 2",
          "Normal 2",
          "Normal 2",
          "Normal 2",
          "Normal 2",
          "Normal 2",
          "Normal 2",
          "Normal 2",
          "Normal 2",
          "Normal 2",
          "Normal 2",
          "Normal 2",
          "Normal 2",
          "Normal 2",
          "Normal 2",
          "Normal 2",
          "Normal 2",
          "Normal 2",
          "Normal 2",
          "Normal 2",
          "Normal 2",
          "Normal 2",
          "Normal 2",
          "Normal 2",
          "Normal 2",
          "Normal 2",
          "Normal 2",
          "Normal 2",
          "Normal 2",
          "Normal 2",
          "Normal 2",
          "Normal 2",
          "Normal 2",
          "Normal 2",
          "Normal 2",
          "Normal 2",
          "Normal 2",
          "Normal 2",
          "Normal 2",
          "Normal 2",
          "Normal 2",
          "Normal 2",
          "Normal 2",
          "Normal 2",
          "Normal 2",
          "Normal 2",
          "Normal 2",
          "Normal 2",
          "Normal 2",
          "Normal 2",
          "Normal 2",
          "Normal 2",
          "Normal 2",
          "Normal 2",
          "Normal 2",
          "Normal 2",
          "Normal 2",
          "Normal 2",
          "Normal 2",
          "Normal 2",
          "Normal 2",
          "Normal 2",
          "Normal 2",
          "Normal 2",
          "Normal 2",
          "Normal 2",
          "Normal 2",
          "Normal 2",
          "Normal 2",
          "Normal 2",
          "Normal 2",
          "Normal 2",
          "Normal 2",
          "Normal 2",
          "Normal 2",
          "Normal 2",
          "Normal 2",
          "Normal 2",
          "Normal 2",
          "Normal 2",
          "Normal 2",
          "Normal 2",
          "Normal 2",
          "Normal 2",
          "Normal 2",
          "Normal 2",
          "Normal 2",
          "Normal 2",
          "Normal 2",
          "Normal 2",
          "Normal 2",
          "Normal 2",
          "Normal 2",
          "Normal 2",
          "Normal 2",
          "Normal 2",
          "Normal 2",
          "Normal 2",
          "Normal 2",
          "Normal 2",
          "Normal 2",
          "Normal 2",
          "Normal 2",
          "Normal 2",
          "Normal 2",
          "Normal 2",
          "Normal 2",
          "Normal 2",
          "Normal 2",
          "Normal 2",
          "Normal 2",
          "Normal 2",
          "Normal 2",
          "Normal 2",
          "Normal 2",
          "Normal 2",
          "Normal 2",
          "Normal 2",
          "Normal 2",
          "Normal 2",
          "Normal 2",
          "Normal 2",
          "Normal 2",
          "Normal 2",
          "Normal 2",
          "Normal 2",
          "Normal 2",
          "Normal 2",
          "Normal 2",
          "Normal 2",
          "Normal 2",
          "Normal 2",
          "Normal 2",
          "Normal 2",
          "Normal 2",
          "Normal 2",
          "Normal 2",
          "Normal 2",
          "Normal 2",
          "Normal 2",
          "Normal 2",
          "Normal 2",
          "Normal 2",
          "Normal 2",
          "Normal 2",
          "Normal 2",
          "Normal 2",
          "Normal 2",
          "Normal 2",
          "Normal 2",
          "Normal 2",
          "Normal 2",
          "Normal 2",
          "Normal 2",
          "Normal 2",
          "Normal 2",
          "Normal 2",
          "Normal 2",
          "Normal 2",
          "Normal 2",
          "Normal 2",
          "Normal 2",
          "Normal 2",
          "Normal 2",
          "Normal 2",
          "Normal 2",
          "Normal 2",
          "Normal 2",
          "Normal 2",
          "Normal 2",
          "Normal 2",
          "Normal 2",
          "Normal 2",
          "Normal 2",
          "Normal 2",
          "Normal 2",
          "Normal 2",
          "Normal 2",
          "Normal 2",
          "Normal 2",
          "Normal 2",
          "Normal 2",
          "Normal 2",
          "Normal 2",
          "Normal 2",
          "Normal 2",
          "Normal 2",
          "Normal 2",
          "Normal 2",
          "Normal 2",
          "Normal 2",
          "Normal 2",
          "Normal 2",
          "Normal 2",
          "Normal 2",
          "Normal 2",
          "Normal 2",
          "Normal 2",
          "Normal 2",
          "Normal 2",
          "Normal 2",
          "Normal 2",
          "Normal 2",
          "Normal 2",
          "Normal 2",
          "Normal 2",
          "Normal 2",
          "Normal 2",
          "Normal 2",
          "Normal 2",
          "Normal 2",
          "Normal 2",
          "Normal 2",
          "Normal 2",
          "Normal 2",
          "Normal 2",
          "Normal 2",
          "Normal 2",
          "Normal 2",
          "Normal 2",
          "Normal 2",
          "Normal 2",
          "Normal 2",
          "Normal 2",
          "Normal 2",
          "Normal 2",
          "Normal 2",
          "Normal 2",
          "Normal 2",
          "Normal 2",
          "Normal 2",
          "Normal 2",
          "Normal 2",
          "Normal 2",
          "Normal 2",
          "Normal 2",
          "Normal 2",
          "Normal 2",
          "Normal 2",
          "Normal 2",
          "Normal 2",
          "Normal 2",
          "Normal 2",
          "Normal 2",
          "Normal 2",
          "Normal 2",
          "Normal 2",
          "Normal 2",
          "Normal 2",
          "Normal 2",
          "Normal 2",
          "Normal 2",
          "Normal 2",
          "Normal 2",
          "Normal 2",
          "Normal 2",
          "Normal 2",
          "Normal 2",
          "Normal 2",
          "Normal 2",
          "Normal 2",
          "Normal 2",
          "Normal 2",
          "Normal 2",
          "Normal 2",
          "Normal 2",
          "Normal 2",
          "Normal 2",
          "Normal 2",
          "Normal 2",
          "Normal 2",
          "Normal 2",
          "Normal 2",
          "Normal 2",
          "Normal 2",
          "Normal 2",
          "Normal 2",
          "Normal 2",
          "Normal 2",
          "Normal 2",
          "Normal 2",
          "Normal 2",
          "Normal 2",
          "Normal 2",
          "Normal 2",
          "Normal 2",
          "Normal 2",
          "Normal 2",
          "Normal 2",
          "Normal 2",
          "Normal 2",
          "Normal 2",
          "Normal 2",
          "Normal 2",
          "Normal 2",
          "Normal 2",
          "Normal 2",
          "Normal 2",
          "Normal 2",
          "Normal 2",
          "Normal 2",
          "Normal 2",
          "Normal 2",
          "Normal 2",
          "Normal 2",
          "Normal 2",
          "Normal 2",
          "Normal 2",
          "Normal 2",
          "Normal 2",
          "Normal 2",
          "Normal 2",
          "Normal 2",
          "Normal 2",
          "Normal 2",
          "Normal 2",
          "Normal 2",
          "Normal 2",
          "Normal 2",
          "Normal 2",
          "Normal 2",
          "Normal 2",
          "Normal 2",
          "Normal 2",
          "Normal 2",
          "Normal 2",
          "Normal 2",
          "Normal 2",
          "Normal 2",
          "Normal 2",
          "Normal 2",
          "Normal 2",
          "Normal 2",
          "Normal 2",
          "Normal 2",
          "Normal 2",
          "Normal 2",
          "Normal 2",
          "Normal 2",
          "Normal 2",
          "Normal 2",
          "Normal 2",
          "Normal 2",
          "Normal 2",
          "Normal 2",
          "Normal 2",
          "Normal 2",
          "Normal 2",
          "Normal 2",
          "Normal 2",
          "Normal 2",
          "Normal 2",
          "Normal 2",
          "Normal 2",
          "Normal 2",
          "Normal 2",
          "Normal 2",
          "Normal 2",
          "Normal 2",
          "Normal 2",
          "Normal 2",
          "Normal 2",
          "Normal 2",
          "Normal 2",
          "Normal 2",
          "Normal 2",
          "Normal 2",
          "Normal 2",
          "Normal 2",
          "Normal 2",
          "Normal 2",
          "Normal 2",
          "Normal 2",
          "Normal 2",
          "Normal 2",
          "Normal 2",
          "Normal 2",
          "Normal 2",
          "Normal 2",
          "Normal 2",
          "Normal 2",
          "Normal 2",
          "Normal 2",
          "Normal 2",
          "Normal 2",
          "Normal 2",
          "Normal 2",
          "Normal 2",
          "Normal 2",
          "Normal 2",
          "Normal 2",
          "Normal 2",
          "Normal 2",
          "Normal 2",
          "Normal 2",
          "Normal 2",
          "Normal 2",
          "Normal 2",
          "Normal 2",
          "Normal 2",
          "Normal 2",
          "Normal 2",
          "Normal 2",
          "Normal 2",
          "Normal 2",
          "Normal 2",
          "Normal 2",
          "Normal 2",
          "Normal 2",
          "Normal 2",
          "Normal 2",
          "Normal 2",
          "Normal 2",
          "Normal 2",
          "Normal 2",
          "Normal 2",
          "Normal 2",
          "Normal 2",
          "Normal 2",
          "Normal 2",
          "Normal 2",
          "Normal 2",
          "Normal 2",
          "Normal 2",
          "Normal 2",
          "Normal 2",
          "Normal 2",
          "Normal 2",
          "Normal 2",
          "Normal 2",
          "Normal 2",
          "Normal 2",
          "Normal 2",
          "Normal 2",
          "Normal 2",
          "Normal 2",
          "Normal 2",
          "Normal 2",
          "Normal 2",
          "Normal 2",
          "Normal 2",
          "Normal 2",
          "Normal 2",
          "Normal 2",
          "Normal 2",
          "Normal 2",
          "Normal 2",
          "Normal 2",
          "Normal 2",
          "Normal 2",
          "Normal 2",
          "Normal 2",
          "Normal 2",
          "Normal 2",
          "Normal 2",
          "Normal 2",
          "Normal 2",
          "Normal 2",
          "Normal 2",
          "Normal 2",
          "Normal 2",
          "Normal 2",
          "Normal 2",
          "Normal 2",
          "Normal 2",
          "Normal 2",
          "Normal 2",
          "Normal 2",
          "Normal 2",
          "Normal 2",
          "Normal 2",
          "Normal 2",
          "Normal 2",
          "Normal 2",
          "Normal 2",
          "Normal 2",
          "Normal 2",
          "Normal 2",
          "Normal 2",
          "Normal 2",
          "Normal 2",
          "Normal 2",
          "Normal 2",
          "Normal 2",
          "Normal 2",
          "Normal 2",
          "Normal 2",
          "Normal 2",
          "Normal 2",
          "Normal 2",
          "Normal 2",
          "Normal 2",
          "Normal 2",
          "Normal 2",
          "Normal 2",
          "Normal 2",
          "Normal 2",
          "Normal 2",
          "Normal 2",
          "Normal 2",
          "Normal 2",
          "Normal 2",
          "Normal 2",
          "Normal 2",
          "Normal 2",
          "Normal 2",
          "Normal 2",
          "Normal 2",
          "Normal 2",
          "Normal 2",
          "Normal 2",
          "Normal 2",
          "Normal 2",
          "Normal 2",
          "Normal 2",
          "Normal 2",
          "Normal 2",
          "Normal 2",
          "Normal 2",
          "Normal 2",
          "Normal 2",
          "Normal 2",
          "Normal 2",
          "Normal 2",
          "Normal 2",
          "Normal 2",
          "Normal 2",
          "Normal 2",
          "Normal 2",
          "Normal 2",
          "Normal 2",
          "Normal 2",
          "Normal 2",
          "Normal 2",
          "Normal 2",
          "Normal 2",
          "Normal 2",
          "Normal 2",
          "Normal 2",
          "Normal 2"
         ],
         "yaxis": "y2"
        }
       ],
       "layout": {
        "barmode": "overlay",
        "hovermode": "closest",
        "legend": {
         "traceorder": "reversed"
        },
        "template": {
         "data": {
          "bar": [
           {
            "error_x": {
             "color": "#2a3f5f"
            },
            "error_y": {
             "color": "#2a3f5f"
            },
            "marker": {
             "line": {
              "color": "#E5ECF6",
              "width": 0.5
             },
             "pattern": {
              "fillmode": "overlay",
              "size": 10,
              "solidity": 0.2
             }
            },
            "type": "bar"
           }
          ],
          "barpolar": [
           {
            "marker": {
             "line": {
              "color": "#E5ECF6",
              "width": 0.5
             },
             "pattern": {
              "fillmode": "overlay",
              "size": 10,
              "solidity": 0.2
             }
            },
            "type": "barpolar"
           }
          ],
          "carpet": [
           {
            "aaxis": {
             "endlinecolor": "#2a3f5f",
             "gridcolor": "white",
             "linecolor": "white",
             "minorgridcolor": "white",
             "startlinecolor": "#2a3f5f"
            },
            "baxis": {
             "endlinecolor": "#2a3f5f",
             "gridcolor": "white",
             "linecolor": "white",
             "minorgridcolor": "white",
             "startlinecolor": "#2a3f5f"
            },
            "type": "carpet"
           }
          ],
          "choropleth": [
           {
            "colorbar": {
             "outlinewidth": 0,
             "ticks": ""
            },
            "type": "choropleth"
           }
          ],
          "contour": [
           {
            "colorbar": {
             "outlinewidth": 0,
             "ticks": ""
            },
            "colorscale": [
             [
              0,
              "#0d0887"
             ],
             [
              0.1111111111111111,
              "#46039f"
             ],
             [
              0.2222222222222222,
              "#7201a8"
             ],
             [
              0.3333333333333333,
              "#9c179e"
             ],
             [
              0.4444444444444444,
              "#bd3786"
             ],
             [
              0.5555555555555556,
              "#d8576b"
             ],
             [
              0.6666666666666666,
              "#ed7953"
             ],
             [
              0.7777777777777778,
              "#fb9f3a"
             ],
             [
              0.8888888888888888,
              "#fdca26"
             ],
             [
              1,
              "#f0f921"
             ]
            ],
            "type": "contour"
           }
          ],
          "contourcarpet": [
           {
            "colorbar": {
             "outlinewidth": 0,
             "ticks": ""
            },
            "type": "contourcarpet"
           }
          ],
          "heatmap": [
           {
            "colorbar": {
             "outlinewidth": 0,
             "ticks": ""
            },
            "colorscale": [
             [
              0,
              "#0d0887"
             ],
             [
              0.1111111111111111,
              "#46039f"
             ],
             [
              0.2222222222222222,
              "#7201a8"
             ],
             [
              0.3333333333333333,
              "#9c179e"
             ],
             [
              0.4444444444444444,
              "#bd3786"
             ],
             [
              0.5555555555555556,
              "#d8576b"
             ],
             [
              0.6666666666666666,
              "#ed7953"
             ],
             [
              0.7777777777777778,
              "#fb9f3a"
             ],
             [
              0.8888888888888888,
              "#fdca26"
             ],
             [
              1,
              "#f0f921"
             ]
            ],
            "type": "heatmap"
           }
          ],
          "heatmapgl": [
           {
            "colorbar": {
             "outlinewidth": 0,
             "ticks": ""
            },
            "colorscale": [
             [
              0,
              "#0d0887"
             ],
             [
              0.1111111111111111,
              "#46039f"
             ],
             [
              0.2222222222222222,
              "#7201a8"
             ],
             [
              0.3333333333333333,
              "#9c179e"
             ],
             [
              0.4444444444444444,
              "#bd3786"
             ],
             [
              0.5555555555555556,
              "#d8576b"
             ],
             [
              0.6666666666666666,
              "#ed7953"
             ],
             [
              0.7777777777777778,
              "#fb9f3a"
             ],
             [
              0.8888888888888888,
              "#fdca26"
             ],
             [
              1,
              "#f0f921"
             ]
            ],
            "type": "heatmapgl"
           }
          ],
          "histogram": [
           {
            "marker": {
             "pattern": {
              "fillmode": "overlay",
              "size": 10,
              "solidity": 0.2
             }
            },
            "type": "histogram"
           }
          ],
          "histogram2d": [
           {
            "colorbar": {
             "outlinewidth": 0,
             "ticks": ""
            },
            "colorscale": [
             [
              0,
              "#0d0887"
             ],
             [
              0.1111111111111111,
              "#46039f"
             ],
             [
              0.2222222222222222,
              "#7201a8"
             ],
             [
              0.3333333333333333,
              "#9c179e"
             ],
             [
              0.4444444444444444,
              "#bd3786"
             ],
             [
              0.5555555555555556,
              "#d8576b"
             ],
             [
              0.6666666666666666,
              "#ed7953"
             ],
             [
              0.7777777777777778,
              "#fb9f3a"
             ],
             [
              0.8888888888888888,
              "#fdca26"
             ],
             [
              1,
              "#f0f921"
             ]
            ],
            "type": "histogram2d"
           }
          ],
          "histogram2dcontour": [
           {
            "colorbar": {
             "outlinewidth": 0,
             "ticks": ""
            },
            "colorscale": [
             [
              0,
              "#0d0887"
             ],
             [
              0.1111111111111111,
              "#46039f"
             ],
             [
              0.2222222222222222,
              "#7201a8"
             ],
             [
              0.3333333333333333,
              "#9c179e"
             ],
             [
              0.4444444444444444,
              "#bd3786"
             ],
             [
              0.5555555555555556,
              "#d8576b"
             ],
             [
              0.6666666666666666,
              "#ed7953"
             ],
             [
              0.7777777777777778,
              "#fb9f3a"
             ],
             [
              0.8888888888888888,
              "#fdca26"
             ],
             [
              1,
              "#f0f921"
             ]
            ],
            "type": "histogram2dcontour"
           }
          ],
          "mesh3d": [
           {
            "colorbar": {
             "outlinewidth": 0,
             "ticks": ""
            },
            "type": "mesh3d"
           }
          ],
          "parcoords": [
           {
            "line": {
             "colorbar": {
              "outlinewidth": 0,
              "ticks": ""
             }
            },
            "type": "parcoords"
           }
          ],
          "pie": [
           {
            "automargin": true,
            "type": "pie"
           }
          ],
          "scatter": [
           {
            "fillpattern": {
             "fillmode": "overlay",
             "size": 10,
             "solidity": 0.2
            },
            "type": "scatter"
           }
          ],
          "scatter3d": [
           {
            "line": {
             "colorbar": {
              "outlinewidth": 0,
              "ticks": ""
             }
            },
            "marker": {
             "colorbar": {
              "outlinewidth": 0,
              "ticks": ""
             }
            },
            "type": "scatter3d"
           }
          ],
          "scattercarpet": [
           {
            "marker": {
             "colorbar": {
              "outlinewidth": 0,
              "ticks": ""
             }
            },
            "type": "scattercarpet"
           }
          ],
          "scattergeo": [
           {
            "marker": {
             "colorbar": {
              "outlinewidth": 0,
              "ticks": ""
             }
            },
            "type": "scattergeo"
           }
          ],
          "scattergl": [
           {
            "marker": {
             "colorbar": {
              "outlinewidth": 0,
              "ticks": ""
             }
            },
            "type": "scattergl"
           }
          ],
          "scattermapbox": [
           {
            "marker": {
             "colorbar": {
              "outlinewidth": 0,
              "ticks": ""
             }
            },
            "type": "scattermapbox"
           }
          ],
          "scatterpolar": [
           {
            "marker": {
             "colorbar": {
              "outlinewidth": 0,
              "ticks": ""
             }
            },
            "type": "scatterpolar"
           }
          ],
          "scatterpolargl": [
           {
            "marker": {
             "colorbar": {
              "outlinewidth": 0,
              "ticks": ""
             }
            },
            "type": "scatterpolargl"
           }
          ],
          "scatterternary": [
           {
            "marker": {
             "colorbar": {
              "outlinewidth": 0,
              "ticks": ""
             }
            },
            "type": "scatterternary"
           }
          ],
          "surface": [
           {
            "colorbar": {
             "outlinewidth": 0,
             "ticks": ""
            },
            "colorscale": [
             [
              0,
              "#0d0887"
             ],
             [
              0.1111111111111111,
              "#46039f"
             ],
             [
              0.2222222222222222,
              "#7201a8"
             ],
             [
              0.3333333333333333,
              "#9c179e"
             ],
             [
              0.4444444444444444,
              "#bd3786"
             ],
             [
              0.5555555555555556,
              "#d8576b"
             ],
             [
              0.6666666666666666,
              "#ed7953"
             ],
             [
              0.7777777777777778,
              "#fb9f3a"
             ],
             [
              0.8888888888888888,
              "#fdca26"
             ],
             [
              1,
              "#f0f921"
             ]
            ],
            "type": "surface"
           }
          ],
          "table": [
           {
            "cells": {
             "fill": {
              "color": "#EBF0F8"
             },
             "line": {
              "color": "white"
             }
            },
            "header": {
             "fill": {
              "color": "#C8D4E3"
             },
             "line": {
              "color": "white"
             }
            },
            "type": "table"
           }
          ]
         },
         "layout": {
          "annotationdefaults": {
           "arrowcolor": "#2a3f5f",
           "arrowhead": 0,
           "arrowwidth": 1
          },
          "autotypenumbers": "strict",
          "coloraxis": {
           "colorbar": {
            "outlinewidth": 0,
            "ticks": ""
           }
          },
          "colorscale": {
           "diverging": [
            [
             0,
             "#8e0152"
            ],
            [
             0.1,
             "#c51b7d"
            ],
            [
             0.2,
             "#de77ae"
            ],
            [
             0.3,
             "#f1b6da"
            ],
            [
             0.4,
             "#fde0ef"
            ],
            [
             0.5,
             "#f7f7f7"
            ],
            [
             0.6,
             "#e6f5d0"
            ],
            [
             0.7,
             "#b8e186"
            ],
            [
             0.8,
             "#7fbc41"
            ],
            [
             0.9,
             "#4d9221"
            ],
            [
             1,
             "#276419"
            ]
           ],
           "sequential": [
            [
             0,
             "#0d0887"
            ],
            [
             0.1111111111111111,
             "#46039f"
            ],
            [
             0.2222222222222222,
             "#7201a8"
            ],
            [
             0.3333333333333333,
             "#9c179e"
            ],
            [
             0.4444444444444444,
             "#bd3786"
            ],
            [
             0.5555555555555556,
             "#d8576b"
            ],
            [
             0.6666666666666666,
             "#ed7953"
            ],
            [
             0.7777777777777778,
             "#fb9f3a"
            ],
            [
             0.8888888888888888,
             "#fdca26"
            ],
            [
             1,
             "#f0f921"
            ]
           ],
           "sequentialminus": [
            [
             0,
             "#0d0887"
            ],
            [
             0.1111111111111111,
             "#46039f"
            ],
            [
             0.2222222222222222,
             "#7201a8"
            ],
            [
             0.3333333333333333,
             "#9c179e"
            ],
            [
             0.4444444444444444,
             "#bd3786"
            ],
            [
             0.5555555555555556,
             "#d8576b"
            ],
            [
             0.6666666666666666,
             "#ed7953"
            ],
            [
             0.7777777777777778,
             "#fb9f3a"
            ],
            [
             0.8888888888888888,
             "#fdca26"
            ],
            [
             1,
             "#f0f921"
            ]
           ]
          },
          "colorway": [
           "#636efa",
           "#EF553B",
           "#00cc96",
           "#ab63fa",
           "#FFA15A",
           "#19d3f3",
           "#FF6692",
           "#B6E880",
           "#FF97FF",
           "#FECB52"
          ],
          "font": {
           "color": "#2a3f5f"
          },
          "geo": {
           "bgcolor": "white",
           "lakecolor": "white",
           "landcolor": "#E5ECF6",
           "showlakes": true,
           "showland": true,
           "subunitcolor": "white"
          },
          "hoverlabel": {
           "align": "left"
          },
          "hovermode": "closest",
          "mapbox": {
           "style": "light"
          },
          "paper_bgcolor": "white",
          "plot_bgcolor": "#E5ECF6",
          "polar": {
           "angularaxis": {
            "gridcolor": "white",
            "linecolor": "white",
            "ticks": ""
           },
           "bgcolor": "#E5ECF6",
           "radialaxis": {
            "gridcolor": "white",
            "linecolor": "white",
            "ticks": ""
           }
          },
          "scene": {
           "xaxis": {
            "backgroundcolor": "#E5ECF6",
            "gridcolor": "white",
            "gridwidth": 2,
            "linecolor": "white",
            "showbackground": true,
            "ticks": "",
            "zerolinecolor": "white"
           },
           "yaxis": {
            "backgroundcolor": "#E5ECF6",
            "gridcolor": "white",
            "gridwidth": 2,
            "linecolor": "white",
            "showbackground": true,
            "ticks": "",
            "zerolinecolor": "white"
           },
           "zaxis": {
            "backgroundcolor": "#E5ECF6",
            "gridcolor": "white",
            "gridwidth": 2,
            "linecolor": "white",
            "showbackground": true,
            "ticks": "",
            "zerolinecolor": "white"
           }
          },
          "shapedefaults": {
           "line": {
            "color": "#2a3f5f"
           }
          },
          "ternary": {
           "aaxis": {
            "gridcolor": "white",
            "linecolor": "white",
            "ticks": ""
           },
           "baxis": {
            "gridcolor": "white",
            "linecolor": "white",
            "ticks": ""
           },
           "bgcolor": "#E5ECF6",
           "caxis": {
            "gridcolor": "white",
            "linecolor": "white",
            "ticks": ""
           }
          },
          "title": {
           "x": 0.05
          },
          "xaxis": {
           "automargin": true,
           "gridcolor": "white",
           "linecolor": "white",
           "ticks": "",
           "title": {
            "standoff": 15
           },
           "zerolinecolor": "white",
           "zerolinewidth": 2
          },
          "yaxis": {
           "automargin": true,
           "gridcolor": "white",
           "linecolor": "white",
           "ticks": "",
           "title": {
            "standoff": 15
           },
           "zerolinecolor": "white",
           "zerolinewidth": 2
          }
         }
        },
        "xaxis": {
         "anchor": "y2",
         "domain": [
          0,
          1
         ],
         "zeroline": false
        },
        "yaxis": {
         "anchor": "free",
         "domain": [
          0.35,
          1
         ],
         "position": 0
        },
        "yaxis2": {
         "anchor": "x",
         "domain": [
          0,
          0.25
         ],
         "dtick": 1,
         "showticklabels": false
        }
       }
      }
     },
     "metadata": {},
     "output_type": "display_data"
    }
   ],
   "source": [
    "# Gráficos de distribuição\n",
    "ff.create_distplot([x1, x2], group_labels=['Normal 1', 'Normal 2'])"
   ]
  },
  {
   "cell_type": "code",
   "execution_count": 21,
   "metadata": {},
   "outputs": [
    {
     "data": {
      "application/vnd.plotly.v1+json": {
       "config": {
        "plotlyServerURL": "https://plot.ly"
       },
       "data": [
        {
         "autobinx": false,
         "histnorm": "probability density",
         "legendgroup": "Total bill",
         "marker": {
          "color": "rgb(31, 119, 180)"
         },
         "name": "Total bill",
         "opacity": 0.7,
         "type": "histogram",
         "x": [
          16.99,
          10.34,
          21.01,
          23.68,
          24.59,
          25.29,
          8.77,
          26.88,
          15.04,
          14.78,
          10.27,
          35.26,
          15.42,
          18.43,
          14.83,
          21.58,
          10.33,
          16.29,
          16.97,
          20.65,
          17.92,
          20.29,
          15.77,
          39.42,
          19.82,
          17.81,
          13.37,
          12.69,
          21.7,
          19.65,
          9.55,
          18.35,
          15.06,
          20.69,
          17.78,
          24.06,
          16.31,
          16.93,
          18.69,
          31.27,
          16.04,
          17.46,
          13.94,
          9.68,
          30.4,
          18.29,
          22.23,
          32.4,
          28.55,
          18.04,
          12.54,
          10.29,
          34.81,
          9.94,
          25.56,
          19.49,
          38.01,
          26.41,
          11.24,
          48.27,
          20.29,
          13.81,
          11.02,
          18.29,
          17.59,
          20.08,
          16.45,
          3.07,
          20.23,
          15.01,
          12.02,
          17.07,
          26.86,
          25.28,
          14.73,
          10.51,
          17.92,
          27.2,
          22.76,
          17.29,
          19.44,
          16.66,
          10.07,
          32.68,
          15.98,
          34.83,
          13.03,
          18.28,
          24.71,
          21.16,
          28.97,
          22.49,
          5.75,
          16.32,
          22.75,
          40.17,
          27.28,
          12.03,
          21.01,
          12.46,
          11.35,
          15.38,
          44.3,
          22.42,
          20.92,
          15.36,
          20.49,
          25.21,
          18.24,
          14.31,
          14,
          7.25,
          38.07,
          23.95,
          25.71,
          17.31,
          29.93,
          10.65,
          12.43,
          24.08,
          11.69,
          13.42,
          14.26,
          15.95,
          12.48,
          29.8,
          8.52,
          14.52,
          11.38,
          22.82,
          19.08,
          20.27,
          11.17,
          12.26,
          18.26,
          8.51,
          10.33,
          14.15,
          16,
          13.16,
          17.47,
          34.3,
          41.19,
          27.05,
          16.43,
          8.35,
          18.64,
          11.87,
          9.78,
          7.51,
          14.07,
          13.13,
          17.26,
          24.55,
          19.77,
          29.85,
          48.17,
          25,
          13.39,
          16.49,
          21.5,
          12.66,
          16.21,
          13.81,
          17.51,
          24.52,
          20.76,
          31.71,
          10.59,
          10.63,
          50.81,
          15.81,
          7.25,
          31.85,
          16.82,
          32.9,
          17.89,
          14.48,
          9.6,
          34.63,
          34.65,
          23.33,
          45.35,
          23.17,
          40.55,
          20.69,
          20.9,
          30.46,
          18.15,
          23.1,
          15.69,
          19.81,
          28.44,
          15.48,
          16.58,
          7.56,
          10.34,
          43.11,
          13,
          13.51,
          18.71,
          12.74,
          13,
          16.4,
          20.53,
          16.47,
          26.59,
          38.73,
          24.27,
          12.76,
          30.06,
          25.89,
          48.33,
          13.27,
          28.17,
          12.9,
          28.15,
          11.59,
          7.74,
          30.14,
          12.16,
          13.42,
          8.58,
          15.98,
          13.42,
          16.27,
          10.09,
          20.45,
          13.28,
          22.12,
          24.01,
          15.69,
          11.61,
          10.77,
          15.53,
          10.07,
          12.6,
          32.83,
          35.83,
          29.03,
          27.18,
          22.67,
          17.82,
          18.78
         ],
         "xaxis": "x",
         "xbins": {
          "end": 50.81,
          "size": 1,
          "start": 3.07
         },
         "yaxis": "y"
        },
        {
         "autobinx": false,
         "histnorm": "probability density",
         "legendgroup": "Tips",
         "marker": {
          "color": "rgb(255, 127, 14)"
         },
         "name": "Tips",
         "opacity": 0.7,
         "type": "histogram",
         "x": [
          1.01,
          1.66,
          3.5,
          3.31,
          3.61,
          4.71,
          2,
          3.12,
          1.96,
          3.23,
          1.71,
          5,
          1.57,
          3,
          3.02,
          3.92,
          1.67,
          3.71,
          3.5,
          3.35,
          4.08,
          2.75,
          2.23,
          7.58,
          3.18,
          2.34,
          2,
          2,
          4.3,
          3,
          1.45,
          2.5,
          3,
          2.45,
          3.27,
          3.6,
          2,
          3.07,
          2.31,
          5,
          2.24,
          2.54,
          3.06,
          1.32,
          5.6,
          3,
          5,
          6,
          2.05,
          3,
          2.5,
          2.6,
          5.2,
          1.56,
          4.34,
          3.51,
          3,
          1.5,
          1.76,
          6.73,
          3.21,
          2,
          1.98,
          3.76,
          2.64,
          3.15,
          2.47,
          1,
          2.01,
          2.09,
          1.97,
          3,
          3.14,
          5,
          2.2,
          1.25,
          3.08,
          4,
          3,
          2.71,
          3,
          3.4,
          1.83,
          5,
          2.03,
          5.17,
          2,
          4,
          5.85,
          3,
          3,
          3.5,
          1,
          4.3,
          3.25,
          4.73,
          4,
          1.5,
          3,
          1.5,
          2.5,
          3,
          2.5,
          3.48,
          4.08,
          1.64,
          4.06,
          4.29,
          3.76,
          4,
          3,
          1,
          4,
          2.55,
          4,
          3.5,
          5.07,
          1.5,
          1.8,
          2.92,
          2.31,
          1.68,
          2.5,
          2,
          2.52,
          4.2,
          1.48,
          2,
          2,
          2.18,
          1.5,
          2.83,
          1.5,
          2,
          3.25,
          1.25,
          2,
          2,
          2,
          2.75,
          3.5,
          6.7,
          5,
          5,
          2.3,
          1.5,
          1.36,
          1.63,
          1.73,
          2,
          2.5,
          2,
          2.74,
          2,
          2,
          5.14,
          5,
          3.75,
          2.61,
          2,
          3.5,
          2.5,
          2,
          2,
          3,
          3.48,
          2.24,
          4.5,
          1.61,
          2,
          10,
          3.16,
          5.15,
          3.18,
          4,
          3.11,
          2,
          2,
          4,
          3.55,
          3.68,
          5.65,
          3.5,
          6.5,
          3,
          5,
          3.5,
          2,
          3.5,
          4,
          1.5,
          4.19,
          2.56,
          2.02,
          4,
          1.44,
          2,
          5,
          2,
          2,
          4,
          2.01,
          2,
          2.5,
          4,
          3.23,
          3.41,
          3,
          2.03,
          2.23,
          2,
          5.16,
          9,
          2.5,
          6.5,
          1.1,
          3,
          1.5,
          1.44,
          3.09,
          2.2,
          3.48,
          1.92,
          3,
          1.58,
          2.5,
          2,
          3,
          2.72,
          2.88,
          2,
          3,
          3.39,
          1.47,
          3,
          1.25,
          1,
          1.17,
          4.67,
          5.92,
          2,
          2,
          1.75,
          3
         ],
         "xaxis": "x",
         "xbins": {
          "end": 10,
          "size": 1,
          "start": 1
         },
         "yaxis": "y"
        },
        {
         "legendgroup": "Total bill",
         "marker": {
          "color": "rgb(31, 119, 180)"
         },
         "mode": "lines",
         "name": "Total bill",
         "showlegend": false,
         "type": "scatter",
         "x": [
          3.07,
          3.1654799999999996,
          3.26096,
          3.3564399999999996,
          3.45192,
          3.5473999999999997,
          3.64288,
          3.73836,
          3.83384,
          3.9293199999999997,
          4.0248,
          4.120279999999999,
          4.2157599999999995,
          4.31124,
          4.40672,
          4.5022,
          4.59768,
          4.69316,
          4.78864,
          4.88412,
          4.9796,
          5.07508,
          5.17056,
          5.26604,
          5.36152,
          5.457,
          5.552479999999999,
          5.647959999999999,
          5.74344,
          5.83892,
          5.9344,
          6.02988,
          6.125360000000001,
          6.22084,
          6.31632,
          6.4117999999999995,
          6.50728,
          6.60276,
          6.69824,
          6.79372,
          6.889200000000001,
          6.98468,
          7.080159999999999,
          7.17564,
          7.27112,
          7.3666,
          7.46208,
          7.5575600000000005,
          7.653039999999999,
          7.748520000000001,
          7.843999999999999,
          7.93948,
          8.03496,
          8.13044,
          8.22592,
          8.3214,
          8.41688,
          8.512360000000001,
          8.60784,
          8.70332,
          8.7988,
          8.89428,
          8.98976,
          9.08524,
          9.18072,
          9.2762,
          9.37168,
          9.46716,
          9.56264,
          9.65812,
          9.7536,
          9.849079999999999,
          9.944560000000001,
          10.04004,
          10.13552,
          10.231,
          10.32648,
          10.42196,
          10.51744,
          10.61292,
          10.708400000000001,
          10.80388,
          10.89936,
          10.99484,
          11.09032,
          11.1858,
          11.28128,
          11.37676,
          11.47224,
          11.567720000000001,
          11.663200000000002,
          11.75868,
          11.85416,
          11.949640000000002,
          12.04512,
          12.140600000000001,
          12.23608,
          12.33156,
          12.427040000000002,
          12.52252,
          12.618,
          12.71348,
          12.80896,
          12.904440000000001,
          12.99992,
          13.0954,
          13.190880000000002,
          13.28636,
          13.38184,
          13.47732,
          13.5728,
          13.668280000000001,
          13.763760000000001,
          13.85924,
          13.954720000000002,
          14.0502,
          14.14568,
          14.24116,
          14.336640000000001,
          14.432120000000001,
          14.527600000000001,
          14.62308,
          14.718560000000002,
          14.81404,
          14.90952,
          15.005,
          15.100480000000001,
          15.195960000000001,
          15.291440000000001,
          15.38692,
          15.4824,
          15.577880000000002,
          15.67336,
          15.76884,
          15.86432,
          15.959800000000001,
          16.05528,
          16.15076,
          16.24624,
          16.341720000000002,
          16.4372,
          16.53268,
          16.628159999999998,
          16.72364,
          16.81912,
          16.9146,
          17.01008,
          17.10556,
          17.20104,
          17.29652,
          17.392,
          17.48748,
          17.58296,
          17.67844,
          17.77392,
          17.869400000000002,
          17.96488,
          18.06036,
          18.15584,
          18.25132,
          18.3468,
          18.44228,
          18.53776,
          18.63324,
          18.72872,
          18.8242,
          18.91968,
          19.015159999999998,
          19.11064,
          19.206120000000002,
          19.3016,
          19.39708,
          19.49256,
          19.58804,
          19.68352,
          19.779,
          19.87448,
          19.96996,
          20.065440000000002,
          20.16092,
          20.256400000000003,
          20.35188,
          20.44736,
          20.54284,
          20.63832,
          20.7338,
          20.829280000000004,
          20.924760000000003,
          21.02024,
          21.115720000000003,
          21.2112,
          21.30668,
          21.40216,
          21.49764,
          21.59312,
          21.6886,
          21.784080000000003,
          21.87956,
          21.97504,
          22.070520000000002,
          22.166,
          22.26148,
          22.35696,
          22.452440000000003,
          22.54792,
          22.643400000000003,
          22.73888,
          22.83436,
          22.92984,
          23.02532,
          23.1208,
          23.21628,
          23.311760000000003,
          23.40724,
          23.50272,
          23.598200000000002,
          23.69368,
          23.78916,
          23.88464,
          23.980120000000003,
          24.0756,
          24.171080000000003,
          24.266560000000002,
          24.36204,
          24.457520000000002,
          24.553,
          24.64848,
          24.743959999999998,
          24.839440000000003,
          24.93492,
          25.0304,
          25.125880000000002,
          25.22136,
          25.31684,
          25.41232,
          25.5078,
          25.60328,
          25.698760000000004,
          25.794240000000002,
          25.88972,
          25.985200000000003,
          26.08068,
          26.17616,
          26.27164,
          26.367120000000003,
          26.462600000000002,
          26.55808,
          26.653560000000002,
          26.74904,
          26.84452,
          26.94,
          27.03548,
          27.13096,
          27.226440000000004,
          27.321920000000002,
          27.4174,
          27.512880000000003,
          27.60836,
          27.70384,
          27.79932,
          27.8948,
          27.990280000000002,
          28.085760000000004,
          28.181240000000003,
          28.27672,
          28.3722,
          28.46768,
          28.56316,
          28.65864,
          28.754120000000004,
          28.849600000000002,
          28.94508,
          29.040560000000003,
          29.13604,
          29.23152,
          29.327,
          29.42248,
          29.517960000000002,
          29.613440000000004,
          29.708920000000003,
          29.8044,
          29.89988,
          29.99536,
          30.09084,
          30.18632,
          30.281800000000004,
          30.377280000000003,
          30.47276,
          30.568240000000003,
          30.66372,
          30.7592,
          30.854680000000002,
          30.95016,
          31.04564,
          31.141120000000004,
          31.236600000000003,
          31.33208,
          31.427560000000003,
          31.52304,
          31.61852,
          31.714,
          31.80948,
          31.904960000000003,
          32.00044,
          32.09592,
          32.1914,
          32.28688,
          32.38236,
          32.47784,
          32.573319999999995,
          32.668800000000005,
          32.76428,
          32.85976,
          32.95524,
          33.05072,
          33.1462,
          33.24168,
          33.33716,
          33.43264,
          33.52812,
          33.6236,
          33.71908,
          33.81456,
          33.91004,
          34.00552,
          34.101,
          34.19648,
          34.29196,
          34.38744,
          34.48292,
          34.5784,
          34.67388,
          34.76936,
          34.86484,
          34.960319999999996,
          35.055800000000005,
          35.15128,
          35.24676,
          35.342240000000004,
          35.43772,
          35.5332,
          35.62868,
          35.72416,
          35.81964000000001,
          35.91512,
          36.0106,
          36.10608,
          36.20156000000001,
          36.29704,
          36.392520000000005,
          36.488,
          36.58348,
          36.67896,
          36.774440000000006,
          36.86992,
          36.9654,
          37.060880000000004,
          37.15636,
          37.25184,
          37.34732,
          37.442800000000005,
          37.53828,
          37.63376,
          37.72924,
          37.82472,
          37.9202,
          38.01568,
          38.111160000000005,
          38.20664,
          38.30212,
          38.3976,
          38.49308,
          38.58856000000001,
          38.68404,
          38.779520000000005,
          38.875,
          38.97048,
          39.06596,
          39.161440000000006,
          39.25692,
          39.3524,
          39.447880000000005,
          39.54336,
          39.63884,
          39.73432,
          39.829800000000006,
          39.92528,
          40.02076,
          40.11624,
          40.21172,
          40.3072,
          40.402680000000004,
          40.498160000000006,
          40.59364,
          40.68912,
          40.7846,
          40.88008,
          40.97556000000001,
          41.07104,
          41.166520000000006,
          41.262,
          41.35748,
          41.45296,
          41.54844,
          41.64392,
          41.7394,
          41.834880000000005,
          41.93036,
          42.02584,
          42.12132,
          42.216800000000006,
          42.31228,
          42.40776,
          42.503240000000005,
          42.59872,
          42.6942,
          42.78968,
          42.885160000000006,
          42.98064,
          43.07612,
          43.1716,
          43.26708,
          43.36256,
          43.458040000000004,
          43.553520000000006,
          43.649,
          43.74448,
          43.83996,
          43.93544,
          44.03092,
          44.126400000000004,
          44.221880000000006,
          44.31736,
          44.41284,
          44.50832,
          44.6038,
          44.69928,
          44.794760000000004,
          44.890240000000006,
          44.98572,
          45.0812,
          45.17668,
          45.27216000000001,
          45.36764,
          45.46312,
          45.5586,
          45.65408,
          45.74956,
          45.845040000000004,
          45.94052000000001,
          46.036,
          46.13148,
          46.22696,
          46.32244,
          46.417919999999995,
          46.513400000000004,
          46.608880000000006,
          46.70436,
          46.79984,
          46.89532,
          46.9908,
          47.08628,
          47.181760000000004,
          47.277240000000006,
          47.37272,
          47.4682,
          47.56368,
          47.65916000000001,
          47.75464,
          47.850120000000004,
          47.9456,
          48.04108,
          48.13656,
          48.23204,
          48.32752000000001,
          48.423,
          48.518480000000004,
          48.61396,
          48.70944,
          48.80492,
          48.900400000000005,
          48.99588000000001,
          49.09136,
          49.186840000000004,
          49.28232,
          49.3778,
          49.47328,
          49.568760000000005,
          49.66424000000001,
          49.75972,
          49.8552,
          49.95068,
          50.04616,
          50.14164,
          50.237120000000004,
          50.3326,
          50.42808,
          50.52356,
          50.61904,
          50.71452000000001
         ],
         "xaxis": "x",
         "y": [
          0.0031188443442123895,
          0.0032691424479530276,
          0.0034257487823013463,
          0.00358885502208896,
          0.003758652480277109,
          0.003935331599716789,
          0.004119081423794357,
          0.0043100890473717875,
          0.004508539049576963,
          0.004714612910140356,
          0.004928488411110008,
          0.005150339025905104,
          0.0053803332977900775,
          0.005618634209963664,
          0.005865398549561513,
          0.00612077626796502,
          0.006384909839892856,
          0.006657933623824756,
          0.006939973226368367,
          0.007231144873229748,
          0.007531554789485567,
          0.00784129859187962,
          0.008160460695878176,
          0.008489113740218006,
          0.008827318031666,
          0.009175121012682136,
          0.00953255675463653,
          0.00989964547917696,
          0.010276393110276066,
          0.010662790859406733,
          0.01105881484620086,
          0.011464425756840528,
          0.011879568542311883,
          0.012304172158521864,
          0.012738149350134814,
          0.013181396479832722,
          0.013633793404538049,
          0.014095203399962813,
          0.014565473134662872,
          0.015044432694582098,
          0.0155318956588678,
          0.016027659227528804,
          0.016531504401288397,
          0.01704319621376072,
          0.017562484015848763,
          0.0180891018120273,
          0.018622768647935346,
          0.01916318904846239,
          0.019710053505268343,
          0.02026303901243516,
          0.020821809648704025,
          0.021386017204512678,
          0.02195530185180769,
          0.02252929285437556,
          0.0231076093162074,
          0.02368986096519313,
          0.024275648969229322,
          0.02486456678162401,
          0.02545620101249208,
          0.026050132322659753,
          0.02664593633643355,
          0.027243184569445352,
          0.02784144536765683,
          0.028440284853496922,
          0.02903926787501927,
          0.029637958953897724,
          0.030235923228035214,
          0.030832727384540442,
          0.03142794057883059,
          0.032021135335649875,
          0.0326118884278483,
          0.03319978172884949,
          0.033784403034845444,
          0.03436534685289515,
          0.03494221515126735,
          0.035514618068560225,
          0.03608217457834879,
          0.03664451310635508,
          0.03720127209740424,
          0.037752100529723005,
          0.0382966583744505,
          0.03883461699856698,
          0.03936565950979909,
          0.039889481042431035,
          0.0404057889833328,
          0.04091430313791465,
          0.04141475583611825,
          0.04190689197896605,
          0.04239046902660164,
          0.042865256929165,
          0.043331038002254435,
          0.04378760674912535,
          0.0442347696321652,
          0.044672344796558024,
          0.04510016174940655,
          0.04551806099791594,
          0.0459258936505505,
          0.046323520985358156,
          0.046710813989905904,
          0.04708765287748651,
          0.04745392658443633,
          0.04780953225354487,
          0.04815437470863611,
          0.04848836592545944,
          0.0488114245040412,
          0.049123475147617106,
          0.04942444815318831,
          0.0497142789186228,
          0.04999290747105794,
          0.050260278021148005,
          0.050516338547448913,
          0.05076104041493735,
          0.05099433803133034,
          0.051216188544501905,
          0.051426551583893185,
          0.05162538904838112,
          0.05181266494261679,
          0.051988345263365515,
          0.05215239793688788,
          0.052304792807895226,
          0.05244550168009888,
          0.052574498407858106,
          0.052691759037917334,
          0.05279726199972063,
          0.05289098834229727,
          0.05297292201524047,
          0.053043050190848276,
          0.05310136362407354,
          0.05314785704653752,
          0.053182529590503326,
          0.053205385238392675,
          0.05321643329314954,
          0.0532156888645312,
          0.05320317336621953,
          0.053178915018518895,
          0.05314294935132164,
          0.05309531970199465,
          0.0530360777028588,
          0.052965283753009,
          0.052883007469341124,
          0.05278932811182472,
          0.052684334978276924,
          0.05256812776415304,
          0.05244081688317112,
          0.0523025237449264,
          0.05215338098602497,
          0.05199353265166531,
          0.051823134325026,
          0.051642353202263895,
          0.051451368111389895,
          0.05125036947376413,
          0.05103955920743286,
          0.05081915057200912,
          0.05058936795527881,
          0.05035044660218188,
          0.05010263228727668,
          0.049846180932235085,
          0.049581358170334794,
          0.04930843886031349,
          0.04902770655231421,
          0.048739452908991246,
          0.04844397708515072,
          0.04814158506957024,
          0.04783258899287698,
          0.04751730640556029,
          0.04719605953035475,
          0.04686917449335086,
          0.046536980538272904,
          0.046199809228409945,
          0.04585799364069588,
          0.04551186755640609,
          0.04516176465288167,
          0.044808017700597676,
          0.04445095776977307,
          0.04409091345056888,
          0.04372821009074981,
          0.043363169054485395,
          0.042996107005752696,
          0.042627335219568095,
          0.042257158924028,
          0.04188587667587755,
          0.04151377977205901,
          0.0411411516994142,
          0.04076826762443487,
          0.04039539392467414,
          0.04002278776314824,
          0.03965069670677851,
          0.0392793583896475,
          0.03890900022157124,
          0.03853983914222713,
          0.038172081420821,
          0.03780592250103058,
          0.03744154689072782,
          0.03707912809575729,
          0.03671882859683591,
          0.03636079986843957,
          0.036005182438354454,
          0.035652105986397196,
          0.035301689480648483,
          0.03495404134939579,
          0.03460925968685105,
          0.03426743249058625,
          0.03392863792852693,
          0.03359294463325093,
          0.03326041202126188,
          0.03293109063484119,
          0.032605022504034416,
          0.032282241526287114,
          0.031962773861223794,
          0.03164663833805207,
          0.031333846873076485,
          0.031024404894822392,
          0.030718311774299126,
          0.030415561257971804,
          0.03011614190106609,
          0.02982003749889546,
          0.029527227513978408,
          0.0292376874968027,
          0.02895138949819365,
          0.02866830247135587,
          0.02838839266177659,
          0.028111623983311924,
          0.027837958378913504,
          0.02756735616460251,
          0.02729977635544853,
          0.027035176972472895,
          0.026773515329557587,
          0.026514748299610216,
          0.026258832559404314,
          0.026005724812685684,
          0.025755381991305337,
          0.025507761434310283,
          0.025262821045087366,
          0.025020519426818745,
          0.024780815996662705,
          0.024543671079223395,
          0.024309045980012645,
          0.024076903039739698,
          0.023847205670384772,
          0.02361991837412107,
          0.02339500674624791,
          0.023172437463379655,
          0.022952178258204975,
          0.02273419788218689,
          0.02251846605761321,
          0.022304953420432618,
          0.022093631455322983,
          0.021884472424433515,
          0.021677449291223363,
          0.02147253564078752,
          0.021269705598015394,
          0.021068933744867357,
          0.020870195037987246,
          0.020673464727787104,
          0.02047871828005242,
          0.020285931301018027,
          0.020095079466762474,
          0.019906138457659456,
          0.019719083898513564,
          0.019533891304893063,
          0.019350536036058765,
          0.019168993254774534,
          0.018989237894173974,
          0.01881124463175187,
          0.01863498787044625,
          0.01846044172668318,
          0.018287580025168417,
          0.018116376300130882,
          0.01794680380265428,
          0.017778835513673694,
          0.017612444162164842,
          0.017447602248016492,
          0.017284282069050024,
          0.017122455751634298,
          0.016962095284339715,
          0.01680317255408135,
          0.016645659384217217,
          0.016489527574093304,
          0.016334748939560672,
          0.01618129535403197,
          0.016029138789692907,
          0.015878251358537245,
          0.015728605352952243,
          0.015580173285641288,
          0.01543292792873277,
          0.015286842351986381,
          0.015141889960068444,
          0.01499804452892658,
          0.014855280241348273,
          0.014713571721837576,
          0.014572894070987307,
          0.01443322289956067,
          0.014294534362524753,
          0.014156805193297418,
          0.014020012738480645,
          0.01388413499335367,
          0.013749150638390587,
          0.013615039077048802,
          0.013481780475046052,
          0.013349355801306483,
          0.013217746870709684,
          0.013086936388722265,
          0.012956907997930173,
          0.012827646326421145,
          0.01269913703789492,
          0.012571366883301233,
          0.012444323753726562,
          0.012317996734170429,
          0.01219237615777263,
          0.012067453659974164,
          0.011943222232021935,
          0.01181967627315703,
          0.011696811640764554,
          0.011574625697709002,
          0.011453117356033247,
          0.011332287116165452,
          0.011212137100755347,
          0.011092671082250368,
          0.010973894503325823,
          0.010855814489299929,
          0.010738439851695054,
          0.010621781082152485,
          0.010505850335967145,
          0.010390661404582384,
          0.010276229676471705,
          0.010162572085933979,
          0.010049707049440026,
          0.009937654389290134,
          0.009826435244473193,
          0.009716071968757073,
          0.009606588016184607,
          0.009498007814298411,
          0.009390356625569673,
          0.009283660397657578,
          0.009177945603276469,
          0.009073239070594034,
          0.00896956780522532,
          0.008866958805019712,
          0.008765438868962054,
          0.0086650344016208,
          0.008565771214674943,
          0.008467674327135206,
          0.008370767765943038,
          0.008275074368681084,
          0.00818061559016087,
          0.008087411314665994,
          0.007995479675622585,
          0.007904836884441647,
          0.007815497070230909,
          0.007727472132007423,
          0.007640771604956393,
          0.007555402542176765,
          0.007471369413232892,
          0.007388674020693034,
          0.007307315435682679,
          0.007227289953314041,
          0.007148591068676352,
          0.007071209473883697,
          0.006995133076483338,
          0.00692034703932806,
          0.006846833841813536,
          0.006774573362179054,
          0.00670354298036892,
          0.006633717700754632,
          0.0065650702938272135,
          0.006497571455786929,
          0.006431189984785596,
          0.006365892972417312,
          0.006301646008908288,
          0.006238413400326751,
          0.006176158396021686,
          0.006114843424404788,
          0.006054430335115364,
          0.005994880645552578,
          0.0059361557897249515,
          0.00587821736735278,
          0.005821027391165434,
          0.005764548530362178,
          0.005708744348251108,
          0.005653579532146221,
          0.005599020113685372,
          0.005545033677831997,
          0.005491589558938629,
          0.005438659022379284,
          0.005386215430399753,
          0.005334234390986215,
          0.005282693888714096,
          0.005231574396705896,
          0.005180858968999829,
          0.005130533312806006,
          0.005080585840303504,
          0.005031007699807123,
          0.004981792786305403,
          0.0049329377315399615,
          0.004884441873958296,
          0.004836307209027297,
          0.004788538320540222,
          0.004741142293685819,
          0.004694128610772736,
          0.004647509030614877,
          0.004601297452683311,
          0.004555509767216586,
          0.004510163692554844,
          0.004465278601021987,
          0.004420875334726278,
          0.004376976012681787,
          0.0043336038306724545,
          0.004290782855287008,
          0.00424853781354783,
          0.0042068938795402225,
          0.004165876459421706,
          0.004125510976154784,
          0.004085822655261823,
          0.004046836312848899,
          0.004008576147086867,
          0.003971065534274606,
          0.003934326830541698,
          0.003898381180176933,
          0.0038632483314963106,
          0.00382894646109018,
          0.0037954920072149423,
          0.0037628995130209405,
          0.003731181480235886,
          0.0037003482338523602,
          0.003670407798299919,
          0.003641365785516758,
          0.003613225295273626,
          0.003585986828043615,
          0.00355964821065576,
          0.003534204534918149,
          0.003509648109347191,
          0.0034859684240938662,
          0.003463152129114795,
          0.0034411830255954884,
          0.003420042070595013,
          0.003399707394844844,
          0.00338015433359976,
          0.0033613554704046197,
          0.003343280693607366,
          0.0033258972654153255,
          0.003309169903258292,
          0.003293060873187705,
          0.0032775300950061035,
          0.003262535258784903,
          0.0032480319523908855,
          0.003233973799602851,
          0.0032203126083593637,
          0.0032069985286366557,
          0.003193980219412498,
          0.0031812050241275635,
          0.0031686191540106464,
          0.003156167878588494,
          0.00314379572265538,
          0.0031314466689322347,
          0.0031190643656010177,
          0.003106592337857146,
          0.003093974202582371,
          0.0030811538852026075,
          0.0030680758377609123,
          0.003054685257205521,
          0.0030409283028672387,
          0.003026752312080168,
          0.003012106012885313,
          0.0029969397327484887,
          0.0029812056022226834,
          0.002964857752490933,
          0.0029478525057392286,
          0.002930148557330028,
          0.0029117071487760717,
          0.0028924922305510158,
          0.002872470613818141,
          0.0028516121102108816,
          0.0028298896588587123,
          0.002807279439918795,
          0.0027837609739474636,
          0.0027593172065252013,
          0.002733934577633828,
          0.002707603075374763,
          0.0026803162737110042,
          0.0026520713540128748,
          0.0026228691102871786,
          0.0025927139380706086,
          0.002561613807070057,
          0.0025295802177339446,
          0.0024966281420390826,
          0.0024627759488756004,
          0.002428045314507894,
          0.0023924611186807066,
          0.0023560513270263735,
          0.002318846860510574,
          0.002280881452729234,
          0.0022421914959380542,
          0.002202815876757411,
          0.0021627958025494075,
          0.0021221746195095835,
          0.002080997623553368,
          0.0020393118651063323,
          0.001997165948927916,
          0.0019546098301099495,
          0.00191169460739475
         ],
         "yaxis": "y"
        },
        {
         "legendgroup": "Tips",
         "marker": {
          "color": "rgb(255, 127, 14)"
         },
         "mode": "lines",
         "name": "Tips",
         "showlegend": false,
         "type": "scatter",
         "x": [
          1,
          1.018,
          1.036,
          1.054,
          1.072,
          1.09,
          1.108,
          1.126,
          1.144,
          1.162,
          1.18,
          1.198,
          1.216,
          1.234,
          1.252,
          1.27,
          1.288,
          1.306,
          1.324,
          1.342,
          1.3599999999999999,
          1.3780000000000001,
          1.396,
          1.414,
          1.432,
          1.45,
          1.468,
          1.486,
          1.504,
          1.522,
          1.54,
          1.558,
          1.576,
          1.5939999999999999,
          1.612,
          1.63,
          1.6480000000000001,
          1.666,
          1.6840000000000002,
          1.702,
          1.72,
          1.738,
          1.756,
          1.774,
          1.792,
          1.81,
          1.8279999999999998,
          1.846,
          1.8639999999999999,
          1.8820000000000001,
          1.9,
          1.9180000000000001,
          1.936,
          1.954,
          1.972,
          1.99,
          2.008,
          2.026,
          2.044,
          2.0620000000000003,
          2.08,
          2.098,
          2.116,
          2.134,
          2.152,
          2.17,
          2.1879999999999997,
          2.206,
          2.224,
          2.242,
          2.26,
          2.278,
          2.2960000000000003,
          2.314,
          2.332,
          2.35,
          2.3680000000000003,
          2.386,
          2.404,
          2.4219999999999997,
          2.44,
          2.458,
          2.476,
          2.4939999999999998,
          2.512,
          2.5300000000000002,
          2.548,
          2.566,
          2.584,
          2.6020000000000003,
          2.62,
          2.638,
          2.6559999999999997,
          2.674,
          2.692,
          2.71,
          2.7279999999999998,
          2.746,
          2.7640000000000002,
          2.782,
          2.8,
          2.818,
          2.8360000000000003,
          2.854,
          2.872,
          2.8899999999999997,
          2.908,
          2.926,
          2.944,
          2.9619999999999997,
          2.98,
          2.998,
          3.016,
          3.034,
          3.052,
          3.07,
          3.088,
          3.106,
          3.124,
          3.142,
          3.16,
          3.178,
          3.196,
          3.214,
          3.232,
          3.25,
          3.268,
          3.286,
          3.304,
          3.322,
          3.34,
          3.358,
          3.376,
          3.394,
          3.412,
          3.43,
          3.448,
          3.466,
          3.484,
          3.502,
          3.52,
          3.538,
          3.556,
          3.574,
          3.592,
          3.61,
          3.628,
          3.646,
          3.664,
          3.682,
          3.7,
          3.718,
          3.736,
          3.754,
          3.772,
          3.79,
          3.808,
          3.826,
          3.844,
          3.862,
          3.88,
          3.898,
          3.916,
          3.934,
          3.952,
          3.97,
          3.988,
          4.006,
          4.024,
          4.042,
          4.0600000000000005,
          4.077999999999999,
          4.096,
          4.114,
          4.132,
          4.15,
          4.168,
          4.186,
          4.204000000000001,
          4.2219999999999995,
          4.24,
          4.258,
          4.276,
          4.2940000000000005,
          4.311999999999999,
          4.33,
          4.348,
          4.366,
          4.384,
          4.402,
          4.42,
          4.438000000000001,
          4.4559999999999995,
          4.474,
          4.492,
          4.51,
          4.5280000000000005,
          4.545999999999999,
          4.564,
          4.582,
          4.6,
          4.618,
          4.636,
          4.654,
          4.672000000000001,
          4.6899999999999995,
          4.708,
          4.726,
          4.744,
          4.7620000000000005,
          4.779999999999999,
          4.798,
          4.816,
          4.834,
          4.852,
          4.87,
          4.888,
          4.906000000000001,
          4.9239999999999995,
          4.942,
          4.96,
          4.978,
          4.996,
          5.014,
          5.032,
          5.05,
          5.068,
          5.086,
          5.104,
          5.122,
          5.14,
          5.158,
          5.176,
          5.194,
          5.212,
          5.23,
          5.248,
          5.266,
          5.284,
          5.302,
          5.32,
          5.338,
          5.356,
          5.374,
          5.392,
          5.41,
          5.428,
          5.446,
          5.464,
          5.482,
          5.5,
          5.518,
          5.536,
          5.554,
          5.572,
          5.59,
          5.608,
          5.626,
          5.644,
          5.662,
          5.68,
          5.698,
          5.716,
          5.734,
          5.752,
          5.77,
          5.788,
          5.806,
          5.824,
          5.842,
          5.86,
          5.878,
          5.896,
          5.914,
          5.932,
          5.95,
          5.968,
          5.986,
          6.004,
          6.022,
          6.04,
          6.058,
          6.076,
          6.094,
          6.112,
          6.13,
          6.148,
          6.166,
          6.184,
          6.202,
          6.22,
          6.238,
          6.256,
          6.274,
          6.292,
          6.31,
          6.328,
          6.346,
          6.364,
          6.382,
          6.4,
          6.418,
          6.436,
          6.454,
          6.472,
          6.49,
          6.508,
          6.526,
          6.544,
          6.562,
          6.58,
          6.598,
          6.616,
          6.634,
          6.652,
          6.67,
          6.688,
          6.706,
          6.724,
          6.742,
          6.76,
          6.778,
          6.796,
          6.814,
          6.832,
          6.85,
          6.868,
          6.886,
          6.904,
          6.922,
          6.94,
          6.958,
          6.976,
          6.994,
          7.012,
          7.03,
          7.048,
          7.066,
          7.084,
          7.102,
          7.12,
          7.138,
          7.156,
          7.174,
          7.192,
          7.21,
          7.228,
          7.246,
          7.264,
          7.282,
          7.3,
          7.318,
          7.336,
          7.354,
          7.372,
          7.39,
          7.408,
          7.426,
          7.444,
          7.462,
          7.48,
          7.498,
          7.516,
          7.534,
          7.552,
          7.57,
          7.588,
          7.606,
          7.624,
          7.642,
          7.66,
          7.678,
          7.696,
          7.714,
          7.732,
          7.75,
          7.768,
          7.786,
          7.804,
          7.822,
          7.84,
          7.858,
          7.876,
          7.894,
          7.912,
          7.93,
          7.948,
          7.966,
          7.984,
          8.001999999999999,
          8.02,
          8.038,
          8.056000000000001,
          8.074,
          8.091999999999999,
          8.11,
          8.128,
          8.146,
          8.164,
          8.182,
          8.2,
          8.218,
          8.236,
          8.254,
          8.272,
          8.29,
          8.308,
          8.326,
          8.344000000000001,
          8.362,
          8.379999999999999,
          8.398,
          8.416,
          8.434000000000001,
          8.452,
          8.469999999999999,
          8.488,
          8.506,
          8.524000000000001,
          8.542,
          8.559999999999999,
          8.578,
          8.596,
          8.614,
          8.632,
          8.65,
          8.668,
          8.686,
          8.704,
          8.722000000000001,
          8.74,
          8.758,
          8.776,
          8.794,
          8.812000000000001,
          8.83,
          8.847999999999999,
          8.866,
          8.884,
          8.902000000000001,
          8.92,
          8.937999999999999,
          8.956,
          8.974,
          8.992,
          9.01,
          9.028,
          9.046,
          9.064,
          9.082,
          9.1,
          9.118,
          9.136,
          9.154,
          9.172,
          9.19,
          9.208,
          9.226,
          9.244,
          9.262,
          9.28,
          9.298,
          9.316,
          9.334,
          9.352,
          9.37,
          9.388,
          9.406,
          9.424,
          9.442,
          9.46,
          9.478,
          9.496,
          9.514,
          9.532,
          9.55,
          9.568,
          9.586,
          9.604,
          9.622,
          9.64,
          9.658,
          9.676,
          9.694,
          9.712,
          9.73,
          9.748,
          9.766,
          9.784,
          9.802,
          9.82,
          9.838,
          9.856,
          9.874,
          9.892,
          9.91,
          9.928,
          9.946,
          9.964,
          9.982
         ],
         "xaxis": "x",
         "y": [
          0.10212911182065688,
          0.10619315681894548,
          0.11033743731954594,
          0.11455964158218422,
          0.11885724473702497,
          0.12322750453984048,
          0.12766745728618495,
          0.13217391394146744,
          0.13674345655277167,
          0.14137243501720342,
          0.146056964290246,
          0.15079292212592274,
          0.15557594744828412,
          0.16040143946070276,
          0.1652645576054127,
          0.1701602224905225,
          0.17508311790513387,
          0.18002769404502647,
          0.18498817207143553,
          0.18995855012360774,
          0.1949326109018866,
          0.1999039309319684,
          0.204865891612559,
          0.20981169213789588,
          0.21473436437346288,
          0.21962678974768943,
          0.22448171820460067,
          0.2292917892423139,
          0.23404955504011427,
          0.23874750565280542,
          0.2433780962253003,
          0.24793377615329015,
          0.2524070200876471,
          0.2567903606512875,
          0.2610764227079547,
          0.265257958993212,
          0.2693278868892851,
          0.2732793260977038,
          0.2771056369375005,
          0.2808004589723787,
          0.2843577496483946,
          0.2877718226045602,
          0.2910373853029883,
          0.29414957561297367,
          0.29710399697526363,
          0.2998967517688693,
          0.3025244725034595,
          0.3049843504658018,
          0.307274161459003,
          0.3093922882885085,
          0.3113377396689112,
          0.31311016525051677,
          0.3147098664941127,
          0.3161378031562655,
          0.317395595185392,
          0.3184855198704006,
          0.31941050412848254,
          0.32017411186605726,
          0.3207805263964302,
          0.3212345279487763,
          0.3215414663549995,
          0.3217072290531183,
          0.32173820459748154,
          0.32164124191660415,
          0.3214236056080658,
          0.3210929276060789,
          0.320657155600389,
          0.3201244986245368,
          0.31950337026661524,
          0.3188023299860595,
          0.3180300230452293,
          0.3171951195842899,
          0.3163062533818449,
          0.3153719608517126,
          0.31440062082808956,
          0.31340039568699113,
          0.31237917434142576,
          0.31134451763127297,
          0.31030360660654943,
          0.30926319417490816,
          0.30822956055116935,
          0.30720847290877934,
          0.3062051495909089,
          0.30522422919279163,
          0.30426974477753393,
          0.30334510343558646,
          0.3024530713438559,
          0.3015957644248569,
          0.3007746446498675,
          0.29999052197350035,
          0.2992435618310069,
          0.2985332980747162,
          0.29785865117277754,
          0.2972179514425448,
          0.2966089670429124,
          0.29602893640533684,
          0.2954746047425422,
          0.29494226423743114,
          0.2944277974829192,
          0.29392672371650175,
          0.29343424737169715,
          0.29294530845212696,
          0.29245463422319856,
          0.2919567917109807,
          0.2914462404980892,
          0.29091738531204203,
          0.2903646279124991,
          0.28978241779985275,
          0.2891653012886015,
          0.2885079685143908,
          0.2878052979733332,
          0.28705239822570955,
          0.28624464643305464,
          0.28537772343741724,
          0.2844476451338064,
          0.28345078993096523,
          0.28238392214110103,
          0.28124421118554177,
          0.28002924654994593,
          0.27873704846907355,
          0.2773660743668252,
          0.27591522112161565,
          0.2743838232698515,
          0.27277164730072234,
          0.27107888223338505,
          0.2693061267024792,
          0.2674543728094109,
          0.2655249870247493,
          0.263519688451029,
          0.26144052477518626,
          0.25928984625547946,
          0.25707027809909333,
          0.25478469159351325,
          0.25243617435735066,
          0.2500280000744831,
          0.24756359806939007,
          0.24504652307150582,
          0.24248042550242868,
          0.23986902260230186,
          0.2372160706906846,
          0.23452533883328244,
          0.23180058415917268,
          0.2290455290441374,
          0.22626384034471442,
          0.22345911083498715,
          0.2206348429645197,
          0.2177944350213862,
          0.21494116974959576,
          0.21207820543571543,
          0.20920856944550256,
          0.2063351541583857,
          0.20346071521604311,
          0.20058787197143366,
          0.19771910999686992,
          0.19485678548435992,
          0.19200313134878508,
          0.18916026482478443,
          0.18633019633169473,
          0.18351483936775176,
          0.18071602118508834,
          0.1779354939910035,
          0.1751749464185585,
          0.17243601501077274,
          0.1697202954675269,
          0.16702935341263342,
          0.16436473445026983,
          0.16172797329492836,
          0.15912060177698947,
          0.15654415554673837,
          0.15400017932279633,
          0.15149023055624766,
          0.14901588140882138,
          0.14657871897199168,
          0.14418034368337906,
          0.1418223659269537,
          0.13950640083387686,
          0.13723406133089502,
          0.13500694951265796,
          0.1328266464427066,
          0.13069470051480717,
          0.1286126145313865,
          0.126581831678723,
          0.12460372059888886,
          0.12267955977600689,
          0.12081052146883044,
          0.11899765543284946,
          0.11724187268282389,
          0.11554392955079543,
          0.11390441229509252,
          0.11232372251265664,
          0.11080206360016007,
          0.10933942849898168,
          0.10793558894525943,
          0.10659008642914354,
          0.10530222504724103,
          0.10407106640937983,
          0.10289542673549225,
          0.10177387625099943,
          0.10070474095995567,
          0.09968610684475206,
          0.09871582650984435,
          0.09779152825517233,
          0.09691062753313537,
          0.09607034071161073,
          0.09526770103501105,
          0.09449957664617961,
          0.09376269050443907,
          0.09305364200972978,
          0.09236893011983673,
          0.09170497772755343,
          0.09105815704752519,
          0.09042481574870355,
          0.08980130355800775,
          0.08918399905407523,
          0.08856933636696507,
          0.08795383150038985,
          0.08733410799748682,
          0.08670692167918319,
          0.08606918419578366,
          0.08541798514727607,
          0.08475061254583734,
          0.0840645714148153,
          0.08335760034176948,
          0.08262768582863234,
          0.08187307430931158,
          0.08109228173370676,
          0.08028410064674875,
          0.07944760472124252,
          0.0785821507335946,
          0.07768737800149994,
          0.07676320533193484,
          0.07580982555594304,
          0.07482769775335864,
          0.0738175372953998,
          0.07278030385569985,
          0.0717171875605309,
          0.07062959346647694,
          0.06951912456844794,
          0.06838756355254481,
          0.0672368535167832,
          0.06606907788804324,
          0.0648864397657974,
          0.06369124092227219,
          0.06248586068479276,
          0.06127273491930114,
          0.06005433532460551,
          0.05883314923503688,
          0.05761166011511287,
          0.05639232891380917,
          0.055177576428441365,
          0.05396976680925243,
          0.052771192315947825,
          0.051584059416927154,
          0.05041047630118095,
          0.049252441852072275,
          0.04811183611181996,
          0.04699041224574945,
          0.04588978999653968,
          0.04481145060103773,
          0.04375673312594221,
          0.04272683216397458,
          0.041722796819204475,
          0.040745530899104376,
          0.03979579422174892,
          0.03887420493940124,
          0.03798124277454109,
          0.03711725306116937,
          0.03628245148290882,
          0.03547692939991576,
          0.034700659658814303,
          0.033953502783606544,
          0.0332352134506491,
          0.03254544715712477,
          0.03188376699978712,
          0.031249650488918264,
          0.030642496331193154,
          0.030061631124292224,
          0.02950631591543371,
          0.028975752585310616,
          0.028469090028029304,
          0.027985430106377576,
          0.027523833369948528,
          0.02708332453116837,
          0.02666289770100682,
          0.026261521391991453,
          0.025878143301030745,
          0.025511694888426542,
          0.02516109577230015,
          0.02482525795946647,
          0.02450308993459098,
          0.02419350062929232,
          0.023895403291778923,
          0.02360771927570045,
          0.023329381764258743,
          0.0230593394423578,
          0.022796560125798913,
          0.022540034352368243,
          0.022288778935250317,
          0.022041840474657282,
          0.02179829881902797,
          0.02155727046273652,
          0.021317911863086878,
          0.021079422655560433,
          0.020841048742930104,
          0.020602085231045102,
          0.020361879181895158,
          0.02011983215304451,
          0.01987540249172201,
          0.019628107351794665,
          0.019377524402545115,
          0.019123293199613426,
          0.018865116190628386,
          0.018602759330906018,
          0.018336052288082345,
          0.01806488821861083,
          0.017789223103616,
          0.017509074636574997,
          0.017224520660597896,
          0.016935697158610243,
          0.01664279580539524,
          0.016346061096135824,
          0.0160457870716998,
          0.01574231366633851,
          0.0154360227086234,
          0.015127333611236886,
          0.014816698789579674,
          0.014504598852983611,
          0.01419153761556218,
          0.013878036976336444,
          0.013564631720200816,
          0.013251864292510648,
          0.012940279600563747,
          0.01263041989500707,
          0.012322819783233538,
          0.012018001425160813,
          0.011716469959436222,
          0.011418709205127676,
          0.011125177680391188,
          0.01083630497551138,
          0.010552488513154682,
          0.010274090723732355,
          0.010001436658516152,
          0.00973481205766439,
          0.009474461884683677,
          0.009220589333153173,
          0.008973355305857212,
          0.008732878360888053,
          0.008499235113869989,
          0.008272461080291968,
          0.008052551937084212,
          0.007839465178096517,
          0.007633122134084106,
          0.007433410324226971,
          0.00724018610313855,
          0.007053277564785799,
          0.006872487662767207,
          0.006697597504987332,
          0.006528369779928786,
          0.006364552271448655,
          0.006205881419302565,
          0.00605208588340186,
          0.005902890071111818,
          0.005758017588663148,
          0.005617194579936496,
          0.005480152918444527,
          0.005346633221228221,
          0.005216387656553399,
          0.005089182520683779,
          0.004964800562565928,
          0.004843043038932159,
          0.004723731486056846,
          0.004606709198137666,
          0.004491842405964624,
          0.004379021153140584,
          0.004268159870584391,
          0.004159197653340928,
          0.004052098246809781,
          0.003946849752354275,
          0.00384346406484226,
          0.0037419760569810216,
          0.0036424425273265137,
          0.0035449409305648195,
          0.0034495679100783857,
          0.0033564376539218545,
          0.0032656800961510125,
          0.0031774389859820307,
          0.0030918698475221325,
          0.00300913785282491,
          0.002929415630802707,
          0.0028528810340981816,
          0.0027797148854001,
          0.0027100987239095094,
          0.0026442125717463954,
          0.00258223273905839,
          0.002524329685475921,
          0.0024706659543749674,
          0.002421394195180577,
          0.0023766552876903417,
          0.0023365765811345653,
          0.0023012702594325573,
          0.0022708318428651315,
          0.002245338835170464,
          0.002224849523891207,
          0.002209401940658718,
          0.0021990129869975433,
          0.0021936777301690426,
          0.002193368872544819,
          0.002198036397004466,
          0.002207607389882252,
          0.0022219860420378042,
          0.002241053827689193,
          0.002264669859716356,
          0.0022926714192115063,
          0.002324874656114764,
          0.0023610754568224508,
          0.0024010504736883954,
          0.0024445583103525704,
          0.0024913408558259304,
          0.0025411247592367,
          0.002593623036104935,
          0.00264853679596467,
          0.0027055570801038783,
          0.002764366797151869,
          0.002824642743223213,
          0.002886057692340267,
          0.002948282541918254,
          0.003010988497223342,
          0.0030738492779231333,
          0.003136543329157035,
          0.003198756018980165,
          0.0032601818035947745,
          0.0033205263414955127,
          0.003379508537533846,
          0.0034368624979669435,
          0.003492339377809089,
          0.0035457091022585607,
          0.0035967619446371345,
          0.0036453099441563553,
          0.0036911881479156305,
          0.0037342556628389163,
          0.0037743965047634075,
          0.0038115202335954794,
          0.0038455623653329387,
          0.0038764845538020285,
          0.0039042745371526888,
          0.003928945846473596,
          0.003950537276304086,
          0.003969112119305245,
          0.003984757169877567,
          0.003997581504046016,
          0.004007715045443079,
          0.004015306929672936,
          0.004020523681702581,
          0.0040235472231657824,
          0.004024572728551494,
          0.004023806351149723,
          0.004021462841316665,
          0.00401776308107136,
          0.004012931560225523,
          0.0040071938201566406,
          0.004000773891946274,
          0.0039938917559082425,
          0.003986760849517221,
          0.00397958565041325,
          0.0039725593605025025,
          0.003965861716204106,
          0.003959656948616279,
          0.003954091915806102,
          0.003949294427583301,
          0.003945371781021153,
          0.003942409522661985,
          0.003940470450818845,
          0.003939593868690151,
          0.003939795096173709,
          0.0039410652453360385,
          0.003943371261499457,
          0.003946656228890402,
          0.003950839936786762,
          0.003955819699147207,
          0.00396147141783958,
          0.003967650876844381,
          0.003974195252228029,
          0.0039809248202912935,
          0.003987644844131014,
          0.003994147616934622,
          0.004000214638680599,
          0.004005618901563237,
          0.004010127258413034,
          0.004013502847655551,
          0.004015507547949315,
          0.004015904435569491,
          0.004014460217857088,
          0.00401094761662694,
          0.004005147676311229,
          0.003996851972794106,
          0.003985864700348517,
          0.003972004615796546,
          0.003955106820953858,
          0.003935024366559186,
          0.003911629663200393
         ],
         "yaxis": "y"
        },
        {
         "legendgroup": "Total bill",
         "marker": {
          "color": "rgb(31, 119, 180)",
          "symbol": "line-ns-open"
         },
         "mode": "markers",
         "name": "Total bill",
         "showlegend": false,
         "type": "scatter",
         "x": [
          16.99,
          10.34,
          21.01,
          23.68,
          24.59,
          25.29,
          8.77,
          26.88,
          15.04,
          14.78,
          10.27,
          35.26,
          15.42,
          18.43,
          14.83,
          21.58,
          10.33,
          16.29,
          16.97,
          20.65,
          17.92,
          20.29,
          15.77,
          39.42,
          19.82,
          17.81,
          13.37,
          12.69,
          21.7,
          19.65,
          9.55,
          18.35,
          15.06,
          20.69,
          17.78,
          24.06,
          16.31,
          16.93,
          18.69,
          31.27,
          16.04,
          17.46,
          13.94,
          9.68,
          30.4,
          18.29,
          22.23,
          32.4,
          28.55,
          18.04,
          12.54,
          10.29,
          34.81,
          9.94,
          25.56,
          19.49,
          38.01,
          26.41,
          11.24,
          48.27,
          20.29,
          13.81,
          11.02,
          18.29,
          17.59,
          20.08,
          16.45,
          3.07,
          20.23,
          15.01,
          12.02,
          17.07,
          26.86,
          25.28,
          14.73,
          10.51,
          17.92,
          27.2,
          22.76,
          17.29,
          19.44,
          16.66,
          10.07,
          32.68,
          15.98,
          34.83,
          13.03,
          18.28,
          24.71,
          21.16,
          28.97,
          22.49,
          5.75,
          16.32,
          22.75,
          40.17,
          27.28,
          12.03,
          21.01,
          12.46,
          11.35,
          15.38,
          44.3,
          22.42,
          20.92,
          15.36,
          20.49,
          25.21,
          18.24,
          14.31,
          14,
          7.25,
          38.07,
          23.95,
          25.71,
          17.31,
          29.93,
          10.65,
          12.43,
          24.08,
          11.69,
          13.42,
          14.26,
          15.95,
          12.48,
          29.8,
          8.52,
          14.52,
          11.38,
          22.82,
          19.08,
          20.27,
          11.17,
          12.26,
          18.26,
          8.51,
          10.33,
          14.15,
          16,
          13.16,
          17.47,
          34.3,
          41.19,
          27.05,
          16.43,
          8.35,
          18.64,
          11.87,
          9.78,
          7.51,
          14.07,
          13.13,
          17.26,
          24.55,
          19.77,
          29.85,
          48.17,
          25,
          13.39,
          16.49,
          21.5,
          12.66,
          16.21,
          13.81,
          17.51,
          24.52,
          20.76,
          31.71,
          10.59,
          10.63,
          50.81,
          15.81,
          7.25,
          31.85,
          16.82,
          32.9,
          17.89,
          14.48,
          9.6,
          34.63,
          34.65,
          23.33,
          45.35,
          23.17,
          40.55,
          20.69,
          20.9,
          30.46,
          18.15,
          23.1,
          15.69,
          19.81,
          28.44,
          15.48,
          16.58,
          7.56,
          10.34,
          43.11,
          13,
          13.51,
          18.71,
          12.74,
          13,
          16.4,
          20.53,
          16.47,
          26.59,
          38.73,
          24.27,
          12.76,
          30.06,
          25.89,
          48.33,
          13.27,
          28.17,
          12.9,
          28.15,
          11.59,
          7.74,
          30.14,
          12.16,
          13.42,
          8.58,
          15.98,
          13.42,
          16.27,
          10.09,
          20.45,
          13.28,
          22.12,
          24.01,
          15.69,
          11.61,
          10.77,
          15.53,
          10.07,
          12.6,
          32.83,
          35.83,
          29.03,
          27.18,
          22.67,
          17.82,
          18.78
         ],
         "xaxis": "x",
         "y": [
          "Total bill",
          "Total bill",
          "Total bill",
          "Total bill",
          "Total bill",
          "Total bill",
          "Total bill",
          "Total bill",
          "Total bill",
          "Total bill",
          "Total bill",
          "Total bill",
          "Total bill",
          "Total bill",
          "Total bill",
          "Total bill",
          "Total bill",
          "Total bill",
          "Total bill",
          "Total bill",
          "Total bill",
          "Total bill",
          "Total bill",
          "Total bill",
          "Total bill",
          "Total bill",
          "Total bill",
          "Total bill",
          "Total bill",
          "Total bill",
          "Total bill",
          "Total bill",
          "Total bill",
          "Total bill",
          "Total bill",
          "Total bill",
          "Total bill",
          "Total bill",
          "Total bill",
          "Total bill",
          "Total bill",
          "Total bill",
          "Total bill",
          "Total bill",
          "Total bill",
          "Total bill",
          "Total bill",
          "Total bill",
          "Total bill",
          "Total bill",
          "Total bill",
          "Total bill",
          "Total bill",
          "Total bill",
          "Total bill",
          "Total bill",
          "Total bill",
          "Total bill",
          "Total bill",
          "Total bill",
          "Total bill",
          "Total bill",
          "Total bill",
          "Total bill",
          "Total bill",
          "Total bill",
          "Total bill",
          "Total bill",
          "Total bill",
          "Total bill",
          "Total bill",
          "Total bill",
          "Total bill",
          "Total bill",
          "Total bill",
          "Total bill",
          "Total bill",
          "Total bill",
          "Total bill",
          "Total bill",
          "Total bill",
          "Total bill",
          "Total bill",
          "Total bill",
          "Total bill",
          "Total bill",
          "Total bill",
          "Total bill",
          "Total bill",
          "Total bill",
          "Total bill",
          "Total bill",
          "Total bill",
          "Total bill",
          "Total bill",
          "Total bill",
          "Total bill",
          "Total bill",
          "Total bill",
          "Total bill",
          "Total bill",
          "Total bill",
          "Total bill",
          "Total bill",
          "Total bill",
          "Total bill",
          "Total bill",
          "Total bill",
          "Total bill",
          "Total bill",
          "Total bill",
          "Total bill",
          "Total bill",
          "Total bill",
          "Total bill",
          "Total bill",
          "Total bill",
          "Total bill",
          "Total bill",
          "Total bill",
          "Total bill",
          "Total bill",
          "Total bill",
          "Total bill",
          "Total bill",
          "Total bill",
          "Total bill",
          "Total bill",
          "Total bill",
          "Total bill",
          "Total bill",
          "Total bill",
          "Total bill",
          "Total bill",
          "Total bill",
          "Total bill",
          "Total bill",
          "Total bill",
          "Total bill",
          "Total bill",
          "Total bill",
          "Total bill",
          "Total bill",
          "Total bill",
          "Total bill",
          "Total bill",
          "Total bill",
          "Total bill",
          "Total bill",
          "Total bill",
          "Total bill",
          "Total bill",
          "Total bill",
          "Total bill",
          "Total bill",
          "Total bill",
          "Total bill",
          "Total bill",
          "Total bill",
          "Total bill",
          "Total bill",
          "Total bill",
          "Total bill",
          "Total bill",
          "Total bill",
          "Total bill",
          "Total bill",
          "Total bill",
          "Total bill",
          "Total bill",
          "Total bill",
          "Total bill",
          "Total bill",
          "Total bill",
          "Total bill",
          "Total bill",
          "Total bill",
          "Total bill",
          "Total bill",
          "Total bill",
          "Total bill",
          "Total bill",
          "Total bill",
          "Total bill",
          "Total bill",
          "Total bill",
          "Total bill",
          "Total bill",
          "Total bill",
          "Total bill",
          "Total bill",
          "Total bill",
          "Total bill",
          "Total bill",
          "Total bill",
          "Total bill",
          "Total bill",
          "Total bill",
          "Total bill",
          "Total bill",
          "Total bill",
          "Total bill",
          "Total bill",
          "Total bill",
          "Total bill",
          "Total bill",
          "Total bill",
          "Total bill",
          "Total bill",
          "Total bill",
          "Total bill",
          "Total bill",
          "Total bill",
          "Total bill",
          "Total bill",
          "Total bill",
          "Total bill",
          "Total bill",
          "Total bill",
          "Total bill",
          "Total bill",
          "Total bill",
          "Total bill",
          "Total bill",
          "Total bill",
          "Total bill",
          "Total bill",
          "Total bill",
          "Total bill",
          "Total bill",
          "Total bill",
          "Total bill",
          "Total bill",
          "Total bill",
          "Total bill",
          "Total bill",
          "Total bill",
          "Total bill",
          "Total bill",
          "Total bill",
          "Total bill",
          "Total bill",
          "Total bill",
          "Total bill"
         ],
         "yaxis": "y2"
        },
        {
         "legendgroup": "Tips",
         "marker": {
          "color": "rgb(255, 127, 14)",
          "symbol": "line-ns-open"
         },
         "mode": "markers",
         "name": "Tips",
         "showlegend": false,
         "type": "scatter",
         "x": [
          1.01,
          1.66,
          3.5,
          3.31,
          3.61,
          4.71,
          2,
          3.12,
          1.96,
          3.23,
          1.71,
          5,
          1.57,
          3,
          3.02,
          3.92,
          1.67,
          3.71,
          3.5,
          3.35,
          4.08,
          2.75,
          2.23,
          7.58,
          3.18,
          2.34,
          2,
          2,
          4.3,
          3,
          1.45,
          2.5,
          3,
          2.45,
          3.27,
          3.6,
          2,
          3.07,
          2.31,
          5,
          2.24,
          2.54,
          3.06,
          1.32,
          5.6,
          3,
          5,
          6,
          2.05,
          3,
          2.5,
          2.6,
          5.2,
          1.56,
          4.34,
          3.51,
          3,
          1.5,
          1.76,
          6.73,
          3.21,
          2,
          1.98,
          3.76,
          2.64,
          3.15,
          2.47,
          1,
          2.01,
          2.09,
          1.97,
          3,
          3.14,
          5,
          2.2,
          1.25,
          3.08,
          4,
          3,
          2.71,
          3,
          3.4,
          1.83,
          5,
          2.03,
          5.17,
          2,
          4,
          5.85,
          3,
          3,
          3.5,
          1,
          4.3,
          3.25,
          4.73,
          4,
          1.5,
          3,
          1.5,
          2.5,
          3,
          2.5,
          3.48,
          4.08,
          1.64,
          4.06,
          4.29,
          3.76,
          4,
          3,
          1,
          4,
          2.55,
          4,
          3.5,
          5.07,
          1.5,
          1.8,
          2.92,
          2.31,
          1.68,
          2.5,
          2,
          2.52,
          4.2,
          1.48,
          2,
          2,
          2.18,
          1.5,
          2.83,
          1.5,
          2,
          3.25,
          1.25,
          2,
          2,
          2,
          2.75,
          3.5,
          6.7,
          5,
          5,
          2.3,
          1.5,
          1.36,
          1.63,
          1.73,
          2,
          2.5,
          2,
          2.74,
          2,
          2,
          5.14,
          5,
          3.75,
          2.61,
          2,
          3.5,
          2.5,
          2,
          2,
          3,
          3.48,
          2.24,
          4.5,
          1.61,
          2,
          10,
          3.16,
          5.15,
          3.18,
          4,
          3.11,
          2,
          2,
          4,
          3.55,
          3.68,
          5.65,
          3.5,
          6.5,
          3,
          5,
          3.5,
          2,
          3.5,
          4,
          1.5,
          4.19,
          2.56,
          2.02,
          4,
          1.44,
          2,
          5,
          2,
          2,
          4,
          2.01,
          2,
          2.5,
          4,
          3.23,
          3.41,
          3,
          2.03,
          2.23,
          2,
          5.16,
          9,
          2.5,
          6.5,
          1.1,
          3,
          1.5,
          1.44,
          3.09,
          2.2,
          3.48,
          1.92,
          3,
          1.58,
          2.5,
          2,
          3,
          2.72,
          2.88,
          2,
          3,
          3.39,
          1.47,
          3,
          1.25,
          1,
          1.17,
          4.67,
          5.92,
          2,
          2,
          1.75,
          3
         ],
         "xaxis": "x",
         "y": [
          "Tips",
          "Tips",
          "Tips",
          "Tips",
          "Tips",
          "Tips",
          "Tips",
          "Tips",
          "Tips",
          "Tips",
          "Tips",
          "Tips",
          "Tips",
          "Tips",
          "Tips",
          "Tips",
          "Tips",
          "Tips",
          "Tips",
          "Tips",
          "Tips",
          "Tips",
          "Tips",
          "Tips",
          "Tips",
          "Tips",
          "Tips",
          "Tips",
          "Tips",
          "Tips",
          "Tips",
          "Tips",
          "Tips",
          "Tips",
          "Tips",
          "Tips",
          "Tips",
          "Tips",
          "Tips",
          "Tips",
          "Tips",
          "Tips",
          "Tips",
          "Tips",
          "Tips",
          "Tips",
          "Tips",
          "Tips",
          "Tips",
          "Tips",
          "Tips",
          "Tips",
          "Tips",
          "Tips",
          "Tips",
          "Tips",
          "Tips",
          "Tips",
          "Tips",
          "Tips",
          "Tips",
          "Tips",
          "Tips",
          "Tips",
          "Tips",
          "Tips",
          "Tips",
          "Tips",
          "Tips",
          "Tips",
          "Tips",
          "Tips",
          "Tips",
          "Tips",
          "Tips",
          "Tips",
          "Tips",
          "Tips",
          "Tips",
          "Tips",
          "Tips",
          "Tips",
          "Tips",
          "Tips",
          "Tips",
          "Tips",
          "Tips",
          "Tips",
          "Tips",
          "Tips",
          "Tips",
          "Tips",
          "Tips",
          "Tips",
          "Tips",
          "Tips",
          "Tips",
          "Tips",
          "Tips",
          "Tips",
          "Tips",
          "Tips",
          "Tips",
          "Tips",
          "Tips",
          "Tips",
          "Tips",
          "Tips",
          "Tips",
          "Tips",
          "Tips",
          "Tips",
          "Tips",
          "Tips",
          "Tips",
          "Tips",
          "Tips",
          "Tips",
          "Tips",
          "Tips",
          "Tips",
          "Tips",
          "Tips",
          "Tips",
          "Tips",
          "Tips",
          "Tips",
          "Tips",
          "Tips",
          "Tips",
          "Tips",
          "Tips",
          "Tips",
          "Tips",
          "Tips",
          "Tips",
          "Tips",
          "Tips",
          "Tips",
          "Tips",
          "Tips",
          "Tips",
          "Tips",
          "Tips",
          "Tips",
          "Tips",
          "Tips",
          "Tips",
          "Tips",
          "Tips",
          "Tips",
          "Tips",
          "Tips",
          "Tips",
          "Tips",
          "Tips",
          "Tips",
          "Tips",
          "Tips",
          "Tips",
          "Tips",
          "Tips",
          "Tips",
          "Tips",
          "Tips",
          "Tips",
          "Tips",
          "Tips",
          "Tips",
          "Tips",
          "Tips",
          "Tips",
          "Tips",
          "Tips",
          "Tips",
          "Tips",
          "Tips",
          "Tips",
          "Tips",
          "Tips",
          "Tips",
          "Tips",
          "Tips",
          "Tips",
          "Tips",
          "Tips",
          "Tips",
          "Tips",
          "Tips",
          "Tips",
          "Tips",
          "Tips",
          "Tips",
          "Tips",
          "Tips",
          "Tips",
          "Tips",
          "Tips",
          "Tips",
          "Tips",
          "Tips",
          "Tips",
          "Tips",
          "Tips",
          "Tips",
          "Tips",
          "Tips",
          "Tips",
          "Tips",
          "Tips",
          "Tips",
          "Tips",
          "Tips",
          "Tips",
          "Tips",
          "Tips",
          "Tips",
          "Tips",
          "Tips",
          "Tips",
          "Tips",
          "Tips",
          "Tips",
          "Tips",
          "Tips",
          "Tips",
          "Tips",
          "Tips",
          "Tips",
          "Tips",
          "Tips",
          "Tips",
          "Tips",
          "Tips",
          "Tips",
          "Tips",
          "Tips",
          "Tips",
          "Tips",
          "Tips",
          "Tips",
          "Tips",
          "Tips",
          "Tips"
         ],
         "yaxis": "y2"
        }
       ],
       "layout": {
        "barmode": "overlay",
        "hovermode": "closest",
        "legend": {
         "traceorder": "reversed"
        },
        "template": {
         "data": {
          "bar": [
           {
            "error_x": {
             "color": "#2a3f5f"
            },
            "error_y": {
             "color": "#2a3f5f"
            },
            "marker": {
             "line": {
              "color": "#E5ECF6",
              "width": 0.5
             },
             "pattern": {
              "fillmode": "overlay",
              "size": 10,
              "solidity": 0.2
             }
            },
            "type": "bar"
           }
          ],
          "barpolar": [
           {
            "marker": {
             "line": {
              "color": "#E5ECF6",
              "width": 0.5
             },
             "pattern": {
              "fillmode": "overlay",
              "size": 10,
              "solidity": 0.2
             }
            },
            "type": "barpolar"
           }
          ],
          "carpet": [
           {
            "aaxis": {
             "endlinecolor": "#2a3f5f",
             "gridcolor": "white",
             "linecolor": "white",
             "minorgridcolor": "white",
             "startlinecolor": "#2a3f5f"
            },
            "baxis": {
             "endlinecolor": "#2a3f5f",
             "gridcolor": "white",
             "linecolor": "white",
             "minorgridcolor": "white",
             "startlinecolor": "#2a3f5f"
            },
            "type": "carpet"
           }
          ],
          "choropleth": [
           {
            "colorbar": {
             "outlinewidth": 0,
             "ticks": ""
            },
            "type": "choropleth"
           }
          ],
          "contour": [
           {
            "colorbar": {
             "outlinewidth": 0,
             "ticks": ""
            },
            "colorscale": [
             [
              0,
              "#0d0887"
             ],
             [
              0.1111111111111111,
              "#46039f"
             ],
             [
              0.2222222222222222,
              "#7201a8"
             ],
             [
              0.3333333333333333,
              "#9c179e"
             ],
             [
              0.4444444444444444,
              "#bd3786"
             ],
             [
              0.5555555555555556,
              "#d8576b"
             ],
             [
              0.6666666666666666,
              "#ed7953"
             ],
             [
              0.7777777777777778,
              "#fb9f3a"
             ],
             [
              0.8888888888888888,
              "#fdca26"
             ],
             [
              1,
              "#f0f921"
             ]
            ],
            "type": "contour"
           }
          ],
          "contourcarpet": [
           {
            "colorbar": {
             "outlinewidth": 0,
             "ticks": ""
            },
            "type": "contourcarpet"
           }
          ],
          "heatmap": [
           {
            "colorbar": {
             "outlinewidth": 0,
             "ticks": ""
            },
            "colorscale": [
             [
              0,
              "#0d0887"
             ],
             [
              0.1111111111111111,
              "#46039f"
             ],
             [
              0.2222222222222222,
              "#7201a8"
             ],
             [
              0.3333333333333333,
              "#9c179e"
             ],
             [
              0.4444444444444444,
              "#bd3786"
             ],
             [
              0.5555555555555556,
              "#d8576b"
             ],
             [
              0.6666666666666666,
              "#ed7953"
             ],
             [
              0.7777777777777778,
              "#fb9f3a"
             ],
             [
              0.8888888888888888,
              "#fdca26"
             ],
             [
              1,
              "#f0f921"
             ]
            ],
            "type": "heatmap"
           }
          ],
          "heatmapgl": [
           {
            "colorbar": {
             "outlinewidth": 0,
             "ticks": ""
            },
            "colorscale": [
             [
              0,
              "#0d0887"
             ],
             [
              0.1111111111111111,
              "#46039f"
             ],
             [
              0.2222222222222222,
              "#7201a8"
             ],
             [
              0.3333333333333333,
              "#9c179e"
             ],
             [
              0.4444444444444444,
              "#bd3786"
             ],
             [
              0.5555555555555556,
              "#d8576b"
             ],
             [
              0.6666666666666666,
              "#ed7953"
             ],
             [
              0.7777777777777778,
              "#fb9f3a"
             ],
             [
              0.8888888888888888,
              "#fdca26"
             ],
             [
              1,
              "#f0f921"
             ]
            ],
            "type": "heatmapgl"
           }
          ],
          "histogram": [
           {
            "marker": {
             "pattern": {
              "fillmode": "overlay",
              "size": 10,
              "solidity": 0.2
             }
            },
            "type": "histogram"
           }
          ],
          "histogram2d": [
           {
            "colorbar": {
             "outlinewidth": 0,
             "ticks": ""
            },
            "colorscale": [
             [
              0,
              "#0d0887"
             ],
             [
              0.1111111111111111,
              "#46039f"
             ],
             [
              0.2222222222222222,
              "#7201a8"
             ],
             [
              0.3333333333333333,
              "#9c179e"
             ],
             [
              0.4444444444444444,
              "#bd3786"
             ],
             [
              0.5555555555555556,
              "#d8576b"
             ],
             [
              0.6666666666666666,
              "#ed7953"
             ],
             [
              0.7777777777777778,
              "#fb9f3a"
             ],
             [
              0.8888888888888888,
              "#fdca26"
             ],
             [
              1,
              "#f0f921"
             ]
            ],
            "type": "histogram2d"
           }
          ],
          "histogram2dcontour": [
           {
            "colorbar": {
             "outlinewidth": 0,
             "ticks": ""
            },
            "colorscale": [
             [
              0,
              "#0d0887"
             ],
             [
              0.1111111111111111,
              "#46039f"
             ],
             [
              0.2222222222222222,
              "#7201a8"
             ],
             [
              0.3333333333333333,
              "#9c179e"
             ],
             [
              0.4444444444444444,
              "#bd3786"
             ],
             [
              0.5555555555555556,
              "#d8576b"
             ],
             [
              0.6666666666666666,
              "#ed7953"
             ],
             [
              0.7777777777777778,
              "#fb9f3a"
             ],
             [
              0.8888888888888888,
              "#fdca26"
             ],
             [
              1,
              "#f0f921"
             ]
            ],
            "type": "histogram2dcontour"
           }
          ],
          "mesh3d": [
           {
            "colorbar": {
             "outlinewidth": 0,
             "ticks": ""
            },
            "type": "mesh3d"
           }
          ],
          "parcoords": [
           {
            "line": {
             "colorbar": {
              "outlinewidth": 0,
              "ticks": ""
             }
            },
            "type": "parcoords"
           }
          ],
          "pie": [
           {
            "automargin": true,
            "type": "pie"
           }
          ],
          "scatter": [
           {
            "fillpattern": {
             "fillmode": "overlay",
             "size": 10,
             "solidity": 0.2
            },
            "type": "scatter"
           }
          ],
          "scatter3d": [
           {
            "line": {
             "colorbar": {
              "outlinewidth": 0,
              "ticks": ""
             }
            },
            "marker": {
             "colorbar": {
              "outlinewidth": 0,
              "ticks": ""
             }
            },
            "type": "scatter3d"
           }
          ],
          "scattercarpet": [
           {
            "marker": {
             "colorbar": {
              "outlinewidth": 0,
              "ticks": ""
             }
            },
            "type": "scattercarpet"
           }
          ],
          "scattergeo": [
           {
            "marker": {
             "colorbar": {
              "outlinewidth": 0,
              "ticks": ""
             }
            },
            "type": "scattergeo"
           }
          ],
          "scattergl": [
           {
            "marker": {
             "colorbar": {
              "outlinewidth": 0,
              "ticks": ""
             }
            },
            "type": "scattergl"
           }
          ],
          "scattermapbox": [
           {
            "marker": {
             "colorbar": {
              "outlinewidth": 0,
              "ticks": ""
             }
            },
            "type": "scattermapbox"
           }
          ],
          "scatterpolar": [
           {
            "marker": {
             "colorbar": {
              "outlinewidth": 0,
              "ticks": ""
             }
            },
            "type": "scatterpolar"
           }
          ],
          "scatterpolargl": [
           {
            "marker": {
             "colorbar": {
              "outlinewidth": 0,
              "ticks": ""
             }
            },
            "type": "scatterpolargl"
           }
          ],
          "scatterternary": [
           {
            "marker": {
             "colorbar": {
              "outlinewidth": 0,
              "ticks": ""
             }
            },
            "type": "scatterternary"
           }
          ],
          "surface": [
           {
            "colorbar": {
             "outlinewidth": 0,
             "ticks": ""
            },
            "colorscale": [
             [
              0,
              "#0d0887"
             ],
             [
              0.1111111111111111,
              "#46039f"
             ],
             [
              0.2222222222222222,
              "#7201a8"
             ],
             [
              0.3333333333333333,
              "#9c179e"
             ],
             [
              0.4444444444444444,
              "#bd3786"
             ],
             [
              0.5555555555555556,
              "#d8576b"
             ],
             [
              0.6666666666666666,
              "#ed7953"
             ],
             [
              0.7777777777777778,
              "#fb9f3a"
             ],
             [
              0.8888888888888888,
              "#fdca26"
             ],
             [
              1,
              "#f0f921"
             ]
            ],
            "type": "surface"
           }
          ],
          "table": [
           {
            "cells": {
             "fill": {
              "color": "#EBF0F8"
             },
             "line": {
              "color": "white"
             }
            },
            "header": {
             "fill": {
              "color": "#C8D4E3"
             },
             "line": {
              "color": "white"
             }
            },
            "type": "table"
           }
          ]
         },
         "layout": {
          "annotationdefaults": {
           "arrowcolor": "#2a3f5f",
           "arrowhead": 0,
           "arrowwidth": 1
          },
          "autotypenumbers": "strict",
          "coloraxis": {
           "colorbar": {
            "outlinewidth": 0,
            "ticks": ""
           }
          },
          "colorscale": {
           "diverging": [
            [
             0,
             "#8e0152"
            ],
            [
             0.1,
             "#c51b7d"
            ],
            [
             0.2,
             "#de77ae"
            ],
            [
             0.3,
             "#f1b6da"
            ],
            [
             0.4,
             "#fde0ef"
            ],
            [
             0.5,
             "#f7f7f7"
            ],
            [
             0.6,
             "#e6f5d0"
            ],
            [
             0.7,
             "#b8e186"
            ],
            [
             0.8,
             "#7fbc41"
            ],
            [
             0.9,
             "#4d9221"
            ],
            [
             1,
             "#276419"
            ]
           ],
           "sequential": [
            [
             0,
             "#0d0887"
            ],
            [
             0.1111111111111111,
             "#46039f"
            ],
            [
             0.2222222222222222,
             "#7201a8"
            ],
            [
             0.3333333333333333,
             "#9c179e"
            ],
            [
             0.4444444444444444,
             "#bd3786"
            ],
            [
             0.5555555555555556,
             "#d8576b"
            ],
            [
             0.6666666666666666,
             "#ed7953"
            ],
            [
             0.7777777777777778,
             "#fb9f3a"
            ],
            [
             0.8888888888888888,
             "#fdca26"
            ],
            [
             1,
             "#f0f921"
            ]
           ],
           "sequentialminus": [
            [
             0,
             "#0d0887"
            ],
            [
             0.1111111111111111,
             "#46039f"
            ],
            [
             0.2222222222222222,
             "#7201a8"
            ],
            [
             0.3333333333333333,
             "#9c179e"
            ],
            [
             0.4444444444444444,
             "#bd3786"
            ],
            [
             0.5555555555555556,
             "#d8576b"
            ],
            [
             0.6666666666666666,
             "#ed7953"
            ],
            [
             0.7777777777777778,
             "#fb9f3a"
            ],
            [
             0.8888888888888888,
             "#fdca26"
            ],
            [
             1,
             "#f0f921"
            ]
           ]
          },
          "colorway": [
           "#636efa",
           "#EF553B",
           "#00cc96",
           "#ab63fa",
           "#FFA15A",
           "#19d3f3",
           "#FF6692",
           "#B6E880",
           "#FF97FF",
           "#FECB52"
          ],
          "font": {
           "color": "#2a3f5f"
          },
          "geo": {
           "bgcolor": "white",
           "lakecolor": "white",
           "landcolor": "#E5ECF6",
           "showlakes": true,
           "showland": true,
           "subunitcolor": "white"
          },
          "hoverlabel": {
           "align": "left"
          },
          "hovermode": "closest",
          "mapbox": {
           "style": "light"
          },
          "paper_bgcolor": "white",
          "plot_bgcolor": "#E5ECF6",
          "polar": {
           "angularaxis": {
            "gridcolor": "white",
            "linecolor": "white",
            "ticks": ""
           },
           "bgcolor": "#E5ECF6",
           "radialaxis": {
            "gridcolor": "white",
            "linecolor": "white",
            "ticks": ""
           }
          },
          "scene": {
           "xaxis": {
            "backgroundcolor": "#E5ECF6",
            "gridcolor": "white",
            "gridwidth": 2,
            "linecolor": "white",
            "showbackground": true,
            "ticks": "",
            "zerolinecolor": "white"
           },
           "yaxis": {
            "backgroundcolor": "#E5ECF6",
            "gridcolor": "white",
            "gridwidth": 2,
            "linecolor": "white",
            "showbackground": true,
            "ticks": "",
            "zerolinecolor": "white"
           },
           "zaxis": {
            "backgroundcolor": "#E5ECF6",
            "gridcolor": "white",
            "gridwidth": 2,
            "linecolor": "white",
            "showbackground": true,
            "ticks": "",
            "zerolinecolor": "white"
           }
          },
          "shapedefaults": {
           "line": {
            "color": "#2a3f5f"
           }
          },
          "ternary": {
           "aaxis": {
            "gridcolor": "white",
            "linecolor": "white",
            "ticks": ""
           },
           "baxis": {
            "gridcolor": "white",
            "linecolor": "white",
            "ticks": ""
           },
           "bgcolor": "#E5ECF6",
           "caxis": {
            "gridcolor": "white",
            "linecolor": "white",
            "ticks": ""
           }
          },
          "title": {
           "x": 0.05
          },
          "xaxis": {
           "automargin": true,
           "gridcolor": "white",
           "linecolor": "white",
           "ticks": "",
           "title": {
            "standoff": 15
           },
           "zerolinecolor": "white",
           "zerolinewidth": 2
          },
          "yaxis": {
           "automargin": true,
           "gridcolor": "white",
           "linecolor": "white",
           "ticks": "",
           "title": {
            "standoff": 15
           },
           "zerolinecolor": "white",
           "zerolinewidth": 2
          }
         }
        },
        "xaxis": {
         "anchor": "y2",
         "domain": [
          0,
          1
         ],
         "zeroline": false
        },
        "yaxis": {
         "anchor": "free",
         "domain": [
          0.35,
          1
         ],
         "position": 0
        },
        "yaxis2": {
         "anchor": "x",
         "domain": [
          0,
          0.25
         ],
         "dtick": 1,
         "showticklabels": false
        }
       }
      }
     },
     "metadata": {},
     "output_type": "display_data"
    }
   ],
   "source": [
    "# Gráficos com dados de um dataset\n",
    "ff.create_distplot(\n",
    "    [df['total_bill'], df['tip']],\n",
    "    group_labels=['Total bill', 'Tips']\n",
    ")"
   ]
  }
 ],
 "metadata": {
  "kernelspec": {
   "display_name": "venv",
   "language": "python",
   "name": "python3"
  },
  "language_info": {
   "codemirror_mode": {
    "name": "ipython",
    "version": 3
   },
   "file_extension": ".py",
   "mimetype": "text/x-python",
   "name": "python",
   "nbconvert_exporter": "python",
   "pygments_lexer": "ipython3",
   "version": "3.11.4"
  },
  "orig_nbformat": 4
 },
 "nbformat": 4,
 "nbformat_minor": 2
}
