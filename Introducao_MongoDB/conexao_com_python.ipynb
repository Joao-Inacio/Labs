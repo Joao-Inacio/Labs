{
 "cells": [
  {
   "cell_type": "markdown",
   "metadata": {},
   "source": [
    "# Conexão do MongoDB com Python"
   ]
  },
  {
   "cell_type": "markdown",
   "metadata": {},
   "source": [
    "## Importação"
   ]
  },
  {
   "cell_type": "code",
   "execution_count": 1,
   "metadata": {},
   "outputs": [],
   "source": [
    "# Lib\n",
    "from pymongo import MongoClient"
   ]
  },
  {
   "cell_type": "markdown",
   "metadata": {},
   "source": [
    "### Criando a conexão"
   ]
  },
  {
   "cell_type": "code",
   "execution_count": 2,
   "metadata": {},
   "outputs": [],
   "source": [
    "# Conexão com o MongoDB\n",
    "cliente = MongoClient('127.0.0.1:27017')"
   ]
  },
  {
   "cell_type": "code",
   "execution_count": 3,
   "metadata": {},
   "outputs": [],
   "source": [
    "# Conexão com o banco de dados\n",
    "db = cliente.dbmidias\n",
    "conexao = db.posts"
   ]
  },
  {
   "cell_type": "markdown",
   "metadata": {},
   "source": [
    "### Visualizando as consultas"
   ]
  },
  {
   "cell_type": "code",
   "execution_count": 4,
   "metadata": {},
   "outputs": [
    {
     "name": "stdout",
     "output_type": "stream",
     "text": [
      "{'nome': 'José', 'postagem': 'Bons Produtos!', 'data': '31-06-2019', 'idade': 25}\n"
     ]
    }
   ],
   "source": [
    "# Visualizando\n",
    "print(conexao.find_one({\"nome\":\"José\"},{\"_id\":0}))"
   ]
  },
  {
   "cell_type": "code",
   "execution_count": 5,
   "metadata": {},
   "outputs": [
    {
     "name": "stdout",
     "output_type": "stream",
     "text": [
      "{'_id': ObjectId('64f8811b142de5631ac330f0'), 'nome': 'José', 'postagem': 'Bons Produtos!', 'data': '31-06-2019', 'idade': 25}\n",
      "{'_id': ObjectId('64f8811d142de5631ac330f1'), 'nome': 'Antonio', 'postagem': 'Minha bike quebrou', 'data': '26-05-2019', 'idade': 30}\n",
      "{'_id': ObjectId('64f8811d142de5631ac330f2'), 'nome': 'Maria Silva', 'postagem': 'Encontrei tudo que procurava', 'data': '14-06-2019', 'idade': 45}\n",
      "{'_id': ObjectId('64f8811d142de5631ac330f3'), 'nome': 'Lucas Andrade', 'postagem': 'Ótimo atendimento! ', 'data': '12-04-2019', 'idade': 19}\n"
     ]
    }
   ],
   "source": [
    "# Percorrendo todos os dados\n",
    "for conexao in conexao.find():\n",
    "    print(conexao)"
   ]
  }
 ],
 "metadata": {
  "kernelspec": {
   "display_name": "venv",
   "language": "python",
   "name": "python3"
  },
  "language_info": {
   "codemirror_mode": {
    "name": "ipython",
    "version": 3
   },
   "file_extension": ".py",
   "mimetype": "text/x-python",
   "name": "python",
   "nbconvert_exporter": "python",
   "pygments_lexer": "ipython3",
   "version": "3.11.4"
  },
  "orig_nbformat": 4
 },
 "nbformat": 4,
 "nbformat_minor": 2
}
