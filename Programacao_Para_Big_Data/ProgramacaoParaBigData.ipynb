{
  "cells": [
    {
      "cell_type": "markdown",
      "metadata": {
        "id": "6LDprFJxqlAj"
      },
      "source": [
        "# **Disciplina: Programação Para Big Data**\n",
        "## **Aluno: João Inácio**\n",
        "### **Turma: 1982BDI**\n",
        "#### AUTOATIVIDADES"
      ]
    },
    {
      "cell_type": "markdown",
      "metadata": {
        "id": "LobqgxjarjgR"
      },
      "source": [
        "- 1 Crie um programa em Python que leia o tempo de duração de um evento expressa em segundos e mostre-o expresso em horas, minutos e segundos"
      ]
    },
    {
      "cell_type": "code",
      "execution_count": null,
      "metadata": {
        "id": "BfX6Y70Eqfqv"
      },
      "outputs": [],
      "source": [
        "segundos = int(input())\n",
        "horas = segundos // 3600\n",
        "resto = segundos % 3600\n",
        "minutos = resto // 60\n",
        "segundos = resto % 60\n",
        "print(f'{horas} Horas {minutos} Minutos {segundos%60} Segundos')"
      ]
    },
    {
      "attachments": {},
      "cell_type": "markdown",
      "metadata": {},
      "source": [
        "- 2 Utilizando Python leia uma temperatura em graus Celsius e apresente-a convertida em graus Fahrenheit. A fórmula de conversão é: F = (9 * C + 160) / 5, na\n",
        "qual F é a temperatura em Fahrenheit e C é a temperatura em Celsius."
      ]
    },
    {
      "cell_type": "code",
      "execution_count": null,
      "metadata": {},
      "outputs": [],
      "source": [
        "grua_cel = int(input())\n",
        "f = (9*grua_cel+160)/5\n",
        "print(f'{f}° Fahrenheit')"
      ]
    },
    {
      "attachments": {},
      "cell_type": "markdown",
      "metadata": {},
      "source": [
        "- 3 Crie um programa em Python que calcule a quantidade de litros de combustível gasta em uma viagem, utilizando um automóvel que faz 12Km por litro.\n",
        "Para obter o cálculo, o usuário deve fornecer o tempo gasto na viagem e a velocidade média durante ela. Desta forma, será possível obter a distância percorrida com a fórmula DISTANCIA = TEMPO * VELOCIDADE. "
      ]
    },
    {
      "cell_type": "code",
      "execution_count": null,
      "metadata": {},
      "outputs": [],
      "source": [
        "tempo = int(input('Tempo: '))\n",
        "Velocidade = int(input('Velocidade: '))\n",
        "distancia = tempo * Velocidade\n",
        "litros_gastos = distancia / 12\n",
        "print(f'Com o tempo de {tempo} horas e a velocidade de {Velocidade} km/h, o carro gastou {litros_gastos:.2f} litros de combustível')"
      ]
    },
    {
      "attachments": {},
      "cell_type": "markdown",
      "metadata": {},
      "source": [
        "- 4 Receba dois números e indique qual deles é o maior. Você também precisa indicar se forem iguais."
      ]
    },
    {
      "cell_type": "code",
      "execution_count": null,
      "metadata": {},
      "outputs": [],
      "source": [
        "n1 = int(input('Digite um número: '))\n",
        "n2 = int(input('Digite um número: '))\n",
        "if n1 > n2:\n",
        "    print('O primeiro valor é maior')\n",
        "elif n1 == n2:\n",
        "    print('Os valores são iguais')\n",
        "else:\n",
        "    print('O segundo valor é maior')"
      ]
    },
    {
      "attachments": {},
      "cell_type": "markdown",
      "metadata": {},
      "source": [
        "- 5 O IMC – Índice de Massa Corporal é um critério da Organização Mundial de\n",
        "Saúde para dar uma indicação sobre a condição de peso de uma pessoa adulta.\n",
        "A fórmula é IMC = peso / ( altura )2 . Elabore um programa em Python que leia\n",
        "o peso e a altura de um adulto e mostre sua condição de acordo com o que está\n",
        "a seguir:"
      ]
    },
    {
      "cell_type": "code",
      "execution_count": null,
      "metadata": {},
      "outputs": [],
      "source": [
        "peso = int(input(\"Digite o seu peso: \"))\n",
        "altura = float(input(\"Digite a sua altura: \"))\n",
        "imc = peso / (altura)**2\n",
        "if imc < 18.5:\n",
        "    print(\"Abaixo do peso\")\n",
        "elif imc >= 18.5 and imc < 25:\n",
        "    print(\"Peso ideal\")\n",
        "elif imc >= 25 and imc < 30:\n",
        "    print(\"Sobrepeso\")\n",
        "else:\n",
        "    print(\"Obeso\")\n",
        "print(imc)"
      ]
    }
  ],
  "metadata": {
    "colab": {
      "provenance": []
    },
    "kernelspec": {
      "display_name": "Python 3",
      "name": "python3"
    },
    "language_info": {
      "codemirror_mode": {
        "name": "ipython",
        "version": 3
      },
      "file_extension": ".py",
      "mimetype": "text/x-python",
      "name": "python",
      "nbconvert_exporter": "python",
      "pygments_lexer": "ipython3",
      "version": "3.11.2"
    }
  },
  "nbformat": 4,
  "nbformat_minor": 0
}
