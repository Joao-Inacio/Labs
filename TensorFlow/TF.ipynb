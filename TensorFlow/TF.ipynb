{
 "cells": [
  {
   "cell_type": "markdown",
   "metadata": {},
   "source": [
    "# **TensorFlow WebDesign em Foco**"
   ]
  },
  {
   "cell_type": "markdown",
   "metadata": {},
   "source": [
    "## *Importação*"
   ]
  },
  {
   "cell_type": "code",
   "execution_count": 1,
   "metadata": {},
   "outputs": [],
   "source": [
    "# Lib\n",
    "import tensorflow as tf"
   ]
  },
  {
   "cell_type": "markdown",
   "metadata": {},
   "source": [
    "### *Criando uma Sessão*"
   ]
  },
  {
   "cell_type": "code",
   "execution_count": 2,
   "metadata": {},
   "outputs": [
    {
     "name": "stdout",
     "output_type": "stream",
     "text": [
      "b'Ol\\xc3\\xa1 Mundo!'\n"
     ]
    }
   ],
   "source": [
    "# Sessão\n",
    "with tf.compat.v1.Session() as sess:\n",
    "    frase = tf.constant(\"Olá Mundo!\")\n",
    "    rodar = sess.run(frase)\n",
    "print(rodar)"
   ]
  },
  {
   "cell_type": "code",
   "execution_count": 3,
   "metadata": {},
   "outputs": [
    {
     "name": "stdout",
     "output_type": "stream",
     "text": [
      "b'Hello World'\n"
     ]
    }
   ],
   "source": [
    "# Outra forma\n",
    "tf.compat.v1.disable_eager_execution()\n",
    "frase = tf.constant(\"Hello World\")\n",
    "sess = tf.compat.v1.Session()\n",
    "rodar = sess.run(frase)\n",
    "sess.close()\n",
    "print(rodar)"
   ]
  },
  {
   "cell_type": "markdown",
   "metadata": {},
   "source": [
    "### *Grafo Computacional*"
   ]
  },
  {
   "cell_type": "code",
   "execution_count": null,
   "metadata": {},
   "outputs": [],
   "source": [
    "# Visualizando o grafo\n",
    "tf.compat.v1.disable_eager_execution()\n",
    "num1 = tf.constant(5)\n",
    "num2 = tf.constant(2)\n",
    "\n",
    "with tf.compat.v1.Session() as sess:\n",
    "    soma = tf.math.add(num1, num2)\n",
    "    write = tf.compat.v1.summary.FileWriter('C:/Labs/TensorFlow/plot', sess.graph)\n",
    "    saida = sess.run(soma)"
   ]
  }
 ],
 "metadata": {
  "kernelspec": {
   "display_name": "venv",
   "language": "python",
   "name": "python3"
  },
  "language_info": {
   "codemirror_mode": {
    "name": "ipython",
    "version": 3
   },
   "file_extension": ".py",
   "mimetype": "text/x-python",
   "name": "python",
   "nbconvert_exporter": "python",
   "pygments_lexer": "ipython3",
   "version": "3.11.4"
  },
  "orig_nbformat": 4
 },
 "nbformat": 4,
 "nbformat_minor": 2
}
