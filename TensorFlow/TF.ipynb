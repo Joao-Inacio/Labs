{
 "cells": [
  {
   "cell_type": "markdown",
   "metadata": {},
   "source": [
    "# **TensorFlow WebDesign em Foco**"
   ]
  },
  {
   "cell_type": "markdown",
   "metadata": {},
   "source": [
    "## *Importação*"
   ]
  },
  {
   "cell_type": "code",
   "execution_count": 1,
   "metadata": {},
   "outputs": [],
   "source": [
    "# Lib\n",
    "import numpy as np\n",
    "import pandas as pd\n",
    "import matplotlib.pyplot as plt\n",
    "import tensorflow as tf\n",
    "from tensorflow import keras\n",
    "from tensorflow.keras.preprocessing.image import load_img,img_to_array\n",
    "from tensorflow.keras.models import load_model\n",
    "from IPython.display import Image\n",
    "%matplotlib inline"
   ]
  },
  {
   "cell_type": "markdown",
   "metadata": {},
   "source": [
    "### *Criando uma Sessão*"
   ]
  },
  {
   "cell_type": "code",
   "execution_count": 2,
   "metadata": {},
   "outputs": [
    {
     "name": "stdout",
     "output_type": "stream",
     "text": [
      "b'Ol\\xc3\\xa1 Mundo!'\n"
     ]
    }
   ],
   "source": [
    "# Sessão\n",
    "with tf.compat.v1.Session() as sess:\n",
    "    frase = tf.constant(\"Olá Mundo!\")\n",
    "    rodar = sess.run(frase)\n",
    "print(rodar)"
   ]
  },
  {
   "cell_type": "code",
   "execution_count": 3,
   "metadata": {},
   "outputs": [
    {
     "name": "stdout",
     "output_type": "stream",
     "text": [
      "b'Hello World'\n"
     ]
    }
   ],
   "source": [
    "# Outra forma\n",
    "tf.compat.v1.disable_eager_execution()\n",
    "frase = tf.constant(\"Hello World\")\n",
    "sess = tf.compat.v1.Session()\n",
    "rodar = sess.run(frase)\n",
    "sess.close()\n",
    "print(rodar)"
   ]
  },
  {
   "cell_type": "markdown",
   "metadata": {},
   "source": [
    "### *Grafo Computacional*"
   ]
  },
  {
   "cell_type": "code",
   "execution_count": 4,
   "metadata": {},
   "outputs": [],
   "source": [
    "# Visualizando o grafo\n",
    "tf.compat.v1.disable_eager_execution()\n",
    "num1 = tf.constant(5)\n",
    "num2 = tf.constant(2)\n",
    "\n",
    "with tf.compat.v1.Session() as sess:\n",
    "    soma = tf.math.add(num1, num2)\n",
    "    write = tf.compat.v1.summary.FileWriter('C:/Labs/TensorFlow/plot', sess.graph)\n",
    "    saida = sess.run(soma)"
   ]
  },
  {
   "cell_type": "markdown",
   "metadata": {},
   "source": [
    "### *Keras - Classificação de Imagens*"
   ]
  },
  {
   "cell_type": "markdown",
   "metadata": {},
   "source": [
    "#### Dados"
   ]
  },
  {
   "cell_type": "code",
   "execution_count": 5,
   "metadata": {},
   "outputs": [],
   "source": [
    "# mportando o Data Frame de imagens\n",
    "fashion_mnist = keras.datasets.fashion_mnist\n",
    "\n",
    "(X_train, y_train), (X_test, y_test) = fashion_mnist.load_data()"
   ]
  },
  {
   "cell_type": "code",
   "execution_count": 6,
   "metadata": {},
   "outputs": [],
   "source": [
    "# As classes de roupas\n",
    "class_names = [\n",
    "    'T-shirt/top', 'Trouser', 'Pullover', 'Dress', 'Coat',\n",
    "    'Sandal', 'Shirt', 'Sneaker', 'Bag', 'Ankle boot'\n",
    "]"
   ]
  },
  {
   "cell_type": "markdown",
   "metadata": {},
   "source": [
    "### *Normalização dos Dados de Imagens*"
   ]
  },
  {
   "cell_type": "code",
   "execution_count": 7,
   "metadata": {},
   "outputs": [
    {
     "data": {
      "image/png": "[encoded data removed]",
      "text/plain": [
       "<Figure size 640x480 with 2 Axes>"
      ]
     },
     "metadata": {},
     "output_type": "display_data"
    }
   ],
   "source": [
    "# Normalizando e visualizando\n",
    "plt.figure()\n",
    "plt.imshow(X_train[5])\n",
    "plt.colorbar()\n",
    "plt.grid(False)\n",
    "plt.show()\n",
    "\n",
    "X_train = X_train / 255.0\n",
    "X_test = X_test / 255.0"
   ]
  },
  {
   "cell_type": "markdown",
   "metadata": {},
   "source": [
    "### *Criando o modelo*"
   ]
  },
  {
   "cell_type": "code",
   "execution_count": 8,
   "metadata": {},
   "outputs": [],
   "source": [
    "# Modelo\n",
    "model = keras.Sequential([\n",
    "    keras.layers.Flatten(input_shape=(28, 28)),\n",
    "    keras.layers.Dense(128, activation='relu'),\n",
    "    keras.layers.Dense(10, activation='softmax')\n",
    "])"
   ]
  },
  {
   "cell_type": "code",
   "execution_count": 9,
   "metadata": {},
   "outputs": [],
   "source": [
    "# Compilando o modelo\n",
    "model.compile(\n",
    "    optimizer='adam', loss='sparse_categorical_crossentropy',\n",
    "    metrics=['accuracy']\n",
    ")"
   ]
  },
  {
   "cell_type": "code",
   "execution_count": 10,
   "metadata": {},
   "outputs": [
    {
     "name": "stdout",
     "output_type": "stream",
     "text": [
      "Train on 60000 samples\n",
      "Epoch 1/30\n",
      "60000/60000 [==============================] - 3s 56us/sample - loss: 0.4981 - accuracy: 0.8237\n",
      "Epoch 2/30\n",
      "60000/60000 [==============================] - 3s 57us/sample - loss: 0.3745 - accuracy: 0.8655\n",
      "Epoch 3/30\n",
      "60000/60000 [==============================] - 3s 56us/sample - loss: 0.3354 - accuracy: 0.8780\n",
      "Epoch 4/30\n",
      "60000/60000 [==============================] - 3s 56us/sample - loss: 0.3129 - accuracy: 0.8859\n",
      "Epoch 5/30\n",
      "60000/60000 [==============================] - 4s 68us/sample - loss: 0.2946 - accuracy: 0.8919\n",
      "Epoch 6/30\n",
      "60000/60000 [==============================] - 6s 92us/sample - loss: 0.2786 - accuracy: 0.8971\n",
      "Epoch 7/30\n",
      "60000/60000 [==============================] - 7s 110us/sample - loss: 0.2687 - accuracy: 0.8996\n",
      "Epoch 8/30\n",
      "60000/60000 [==============================] - 6s 97us/sample - loss: 0.2581 - accuracy: 0.9046\n",
      "Epoch 9/30\n",
      "60000/60000 [==============================] - 5s 79us/sample - loss: 0.2476 - accuracy: 0.9081\n",
      "Epoch 10/30\n",
      "60000/60000 [==============================] - 6s 100us/sample - loss: 0.2400 - accuracy: 0.9108\n",
      "Epoch 11/30\n",
      "60000/60000 [==============================] - 6s 105us/sample - loss: 0.2314 - accuracy: 0.9136\n",
      "Epoch 12/30\n",
      "60000/60000 [==============================] - 5s 78us/sample - loss: 0.2262 - accuracy: 0.9150\n",
      "Epoch 13/30\n",
      "60000/60000 [==============================] - 4s 65us/sample - loss: 0.2182 - accuracy: 0.9186\n",
      "Epoch 14/30\n",
      "60000/60000 [==============================] - 5s 80us/sample - loss: 0.2128 - accuracy: 0.9201\n",
      "Epoch 15/30\n",
      "60000/60000 [==============================] - 4s 74us/sample - loss: 0.2047 - accuracy: 0.9236\n",
      "Epoch 16/30\n",
      "60000/60000 [==============================] - 4s 63us/sample - loss: 0.2016 - accuracy: 0.9249\n",
      "Epoch 17/30\n",
      "60000/60000 [==============================] - 4s 63us/sample - loss: 0.1948 - accuracy: 0.9267\n",
      "Epoch 18/30\n",
      "60000/60000 [==============================] - 4s 74us/sample - loss: 0.1901 - accuracy: 0.9287\n",
      "Epoch 19/30\n",
      "60000/60000 [==============================] - 5s 79us/sample - loss: 0.1842 - accuracy: 0.9316\n",
      "Epoch 20/30\n",
      "60000/60000 [==============================] - 4s 73us/sample - loss: 0.1805 - accuracy: 0.9323\n",
      "Epoch 21/30\n",
      "60000/60000 [==============================] - 4s 64us/sample - loss: 0.1770 - accuracy: 0.9338\n",
      "Epoch 22/30\n",
      "60000/60000 [==============================] - 4s 66us/sample - loss: 0.1704 - accuracy: 0.9365\n",
      "Epoch 23/30\n",
      "60000/60000 [==============================] - 4s 61us/sample - loss: 0.1681 - accuracy: 0.9370\n",
      "Epoch 24/30\n",
      "60000/60000 [==============================] - 5s 76us/sample - loss: 0.1639 - accuracy: 0.9385\n",
      "Epoch 25/30\n",
      "60000/60000 [==============================] - 4s 75us/sample - loss: 0.1597 - accuracy: 0.9394\n",
      "Epoch 26/30\n",
      "60000/60000 [==============================] - 5s 86us/sample - loss: 0.1566 - accuracy: 0.9417\n",
      "Epoch 27/30\n",
      "60000/60000 [==============================] - 5s 79us/sample - loss: 0.1540 - accuracy: 0.9423\n",
      "Epoch 28/30\n",
      "60000/60000 [==============================] - 6s 95us/sample - loss: 0.1473 - accuracy: 0.9450\n",
      "Epoch 29/30\n",
      "60000/60000 [==============================] - 6s 97us/sample - loss: 0.1486 - accuracy: 0.9438\n",
      "Epoch 30/30\n",
      "60000/60000 [==============================] - 5s 89us/sample - loss: 0.1462 - accuracy: 0.9452\n"
     ]
    },
    {
     "name": "stderr",
     "output_type": "stream",
     "text": [
      "c:\\Labs\\venv\\Lib\\site-packages\\keras\\src\\engine\\training.py:3000: UserWarning: You are saving your model as an HDF5 file via `model.save()`. This file format is considered legacy. We recommend using instead the native Keras format, e.g. `model.save('my_model.keras')`.\n",
      "  saving_api.save_model(\n"
     ]
    }
   ],
   "source": [
    "# Treinando o modelo\n",
    "model.fit(X_train, y_train, epochs=30)\n",
    "model.save('final_model.h5')"
   ]
  },
  {
   "cell_type": "markdown",
   "metadata": {},
   "source": [
    "### *Predições*"
   ]
  },
  {
   "cell_type": "code",
   "execution_count": 11,
   "metadata": {},
   "outputs": [
    {
     "name": "stderr",
     "output_type": "stream",
     "text": [
      "c:\\Labs\\venv\\Lib\\site-packages\\keras\\src\\engine\\training_v1.py:2359: UserWarning: `Model.state_updates` will be removed in a future version. This property should not be used in TensorFlow 2.0, as `updates` are applied automatically.\n",
      "  updates=self.state_updates,\n"
     ]
    },
    {
     "data": {
      "text/plain": [
       "array([9.82446790e-01, 3.04634220e-08, 2.24184524e-03, 3.50456045e-04,\n",
       "       8.31058787e-06, 5.77275925e-14, 1.49524845e-02, 3.43943172e-19,\n",
       "       1.33033240e-09, 1.23872470e-13], dtype=float32)"
      ]
     },
     "execution_count": 11,
     "metadata": {},
     "output_type": "execute_result"
    }
   ],
   "source": [
    "# Predição\n",
    "pred = model.predict(X_test)\n",
    "pred[19]"
   ]
  },
  {
   "cell_type": "code",
   "execution_count": 12,
   "metadata": {},
   "outputs": [
    {
     "data": {
      "text/plain": [
       "0"
      ]
     },
     "execution_count": 12,
     "metadata": {},
     "output_type": "execute_result"
    }
   ],
   "source": [
    "# Valor máximo\n",
    "np.argmax(pred[19])"
   ]
  },
  {
   "cell_type": "code",
   "execution_count": 13,
   "metadata": {},
   "outputs": [
    {
     "data": {
      "text/plain": [
       "0"
      ]
     },
     "execution_count": 13,
     "metadata": {},
     "output_type": "execute_result"
    }
   ],
   "source": [
    "# Visualizando o y de Teste\n",
    "y_test[19]"
   ]
  },
  {
   "cell_type": "markdown",
   "metadata": {},
   "source": [
    "### *Predizendo Novas Imagem*"
   ]
  },
  {
   "cell_type": "code",
   "execution_count": 14,
   "metadata": {},
   "outputs": [],
   "source": [
    "# Função de carregamento de Imagem\n",
    "def load_image(filename):\n",
    "    img = load_img(filename, color_mode='grayscale', target_size=(28, 28))\n",
    "    img = img_to_array(img)\n",
    "    img = img.reshape(1, 28, 28)\n",
    "    img = img.astype('float32')\n",
    "    img = img / 255.0\n",
    "    return img"
   ]
  },
  {
   "cell_type": "code",
   "execution_count": 15,
   "metadata": {},
   "outputs": [
    {
     "name": "stderr",
     "output_type": "stream",
     "text": [
      "c:\\Labs\\venv\\Lib\\site-packages\\PIL\\Image.py:970: UserWarning: Palette images with Transparency expressed in bytes should be converted to RGBA images\n",
      "  warnings.warn(\n"
     ]
    },
    {
     "data": {
      "image/png": "[encoded data removed]",
      "text/plain": [
       "<Figure size 640x480 with 2 Axes>"
      ]
     },
     "metadata": {},
     "output_type": "display_data"
    }
   ],
   "source": [
    "# Testando com imagem\n",
    "# Testando com imagem\n",
    "newImg = load_image('./img/calca_moleton.png')\n",
    "newImg2 = newImg.reshape(28, 28)\n",
    "plt.figure()\n",
    "plt.imshow(newImg2, cmap='viridis')  # Usando newImg2 aqui\n",
    "plt.colorbar()\n",
    "plt.grid(False)"
   ]
  },
  {
   "cell_type": "code",
   "execution_count": 16,
   "metadata": {},
   "outputs": [
    {
     "data": {
      "text/plain": [
       "8"
      ]
     },
     "execution_count": 16,
     "metadata": {},
     "output_type": "execute_result"
    }
   ],
   "source": [
    "# predizendo \n",
    "pred = model.predict(newImg)\n",
    "np.argmax(pred)"
   ]
  },
  {
   "cell_type": "code",
   "execution_count": 17,
   "metadata": {},
   "outputs": [
    {
     "data": {
      "text/plain": [
       "'Bag'"
      ]
     },
     "execution_count": 17,
     "metadata": {},
     "output_type": "execute_result"
    }
   ],
   "source": [
    "# nome da classe\n",
    "class_names[8]"
   ]
  }
 ],
 "metadata": {
  "kernelspec": {
   "display_name": "venv",
   "language": "python",
   "name": "python3"
  },
  "language_info": {
   "codemirror_mode": {
    "name": "ipython",
    "version": 3
   },
   "file_extension": ".py",
   "mimetype": "text/x-python",
   "name": "python",
   "nbconvert_exporter": "python",
   "pygments_lexer": "ipython3",
   "version": "3.11.4"
  },
  "orig_nbformat": 4
 },
 "nbformat": 4,
 "nbformat_minor": 2
}
