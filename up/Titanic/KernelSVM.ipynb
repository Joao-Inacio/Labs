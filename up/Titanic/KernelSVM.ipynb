{
 "cells": [
  {
   "attachments": {},
   "cell_type": "markdown",
   "metadata": {},
   "source": [
    "# **Kernel do SVM - Machine Learning 15**"
   ]
  },
  {
   "cell_type": "markdown",
   "metadata": {},
   "source": [
    "### Bibliotecas"
   ]
  },
  {
   "cell_type": "code",
   "execution_count": 1,
   "metadata": {
    "tags": []
   },
   "outputs": [],
   "source": [
    "# Libs\n",
    "import numpy as np\n",
    "import pandas as pd"
   ]
  },
  {
   "cell_type": "markdown",
   "metadata": {},
   "source": [
    "### Base de Dados"
   ]
  },
  {
   "cell_type": "code",
   "execution_count": 2,
   "metadata": {
    "tags": []
   },
   "outputs": [],
   "source": [
    "# Função de carregamento de dados\n",
    "def carregarDados(arquivo, deli):\n",
    "    ds = pd.read_csv(arquivo, sep=deli)\n",
    "    # Amostra\n",
    "    X = ds.iloc[:,:-1].values\n",
    "    # Variável independente \n",
    "    y = ds.iloc[:,-1].values\n",
    "    return X, y, ds"
   ]
  },
  {
   "cell_type": "markdown",
   "metadata": {},
   "source": [
    "### Dividindo a base de Treino e Teste"
   ]
  },
  {
   "cell_type": "code",
   "execution_count": 3,
   "metadata": {},
   "outputs": [],
   "source": [
    "# Função de Treino e Teste\n",
    "def treinoTeste(X, y, testSize):\n",
    "    from sklearn.model_selection import train_test_split\n",
    "    XTrain, XTest, yTrain, yTest = train_test_split(X, y, test_size = testSize)\n",
    "    return XTrain, XTest, yTrain, yTest"
   ]
  },
  {
   "cell_type": "markdown",
   "metadata": {},
   "source": [
    "### Classe de Classificação do Modelo"
   ]
  },
  {
   "cell_type": "code",
   "execution_count": 4,
   "metadata": {},
   "outputs": [],
   "source": [
    "# Função de previsão\n",
    "def previsaoModelo(regressor , X_test):\n",
    "    previsao = regressor.predict(X_test)\n",
    "    return previsao\n",
    "\n",
    "# Função de matriz de confusão \n",
    "def matrizConfusao(regressor, y_Test, y_Pred):\n",
    "    from sklearn.metrics import confusion_matrix\n",
    "    cm = confusion_matrix(y_Test, y_Pred)\n",
    "\n",
    "    return cm"
   ]
  },
  {
   "cell_type": "markdown",
   "metadata": {},
   "source": [
    "### Modelo SVM"
   ]
  },
  {
   "cell_type": "code",
   "execution_count": 5,
   "metadata": {},
   "outputs": [],
   "source": [
    "# Classe do Modelo SVM\n",
    "def computarModelo(X_train, y_train, k, d):\n",
    "    from sklearn.svm import SVC\n",
    "\n",
    "    classifier = SVC(kernel=k, degree=d)\n",
    "    classifier.fit(X_train, y_train)\n",
    "\n",
    "    return classifier        "
   ]
  },
  {
   "cell_type": "markdown",
   "metadata": {},
   "source": [
    "### Valor da Accuracy"
   ]
  },
  {
   "cell_type": "code",
   "execution_count": 6,
   "metadata": {},
   "outputs": [],
   "source": [
    "# Função para calcular o valor de Accuracy\n",
    "def valorAccuracy(matrizConfusao):\n",
    "    valor_accuracy = (matrizConfusao[0][0] + matrizConfusao[1][1]) / (matrizConfusao[0][0] + matrizConfusao[1][0] + matrizConfusao[0][1] + matrizConfusao[1][1])\n",
    "    return valor_accuracy * 100"
   ]
  },
  {
   "cell_type": "markdown",
   "metadata": {},
   "source": [
    "### Rodando Todas as Funções"
   ]
  },
  {
   "cell_type": "code",
   "execution_count": 7,
   "metadata": {},
   "outputs": [],
   "source": [
    "# Função que roda todas as funções nos dados do titanic\n",
    "def rodarModeloTitan(dados):\n",
    "    X, y, csv = carregarDados(dados, ',')\n",
    "\n",
    "    XTrain, XTest, yTrain, yTest = treinoTeste(X, y, 0.15)\n",
    "\n",
    "    classifier = computarModelo(XTrain, yTrain, 'linear', 0)\n",
    "    y_pred = previsaoModelo(classifier, XTest)\n",
    "    return matrizConfusao(classifier, y_pred, yTest)"
   ]
  },
  {
   "cell_type": "markdown",
   "metadata": {},
   "source": [
    "### Resultado Final"
   ]
  },
  {
   "cell_type": "code",
   "execution_count": 8,
   "metadata": {
    "tags": []
   },
   "outputs": [
    {
     "name": "stderr",
     "output_type": "stream",
     "text": [
      "C:\\Users\\joaoi\\AppData\\Local\\Temp\\ipykernel_19024\\1288406885.py:3: RuntimeWarning: invalid value encountered in scalar divide\n",
      "  valor_accuracy = (matrizConfusao[0][0] + matrizConfusao[1][1]) / (matrizConfusao[0][0] + matrizConfusao[1][0] + matrizConfusao[0][1] + matrizConfusao[1][1])\n"
     ]
    }
   ],
   "source": [
    "# Rodando a função no dados de titanic\n",
    "import numpy as np\n",
    "svmArray = []\n",
    "for i in range(0, 100):\n",
    "    cmSVM = rodarModeloTitan('../data/train.csv')\n",
    "    svmArray.append(valorAccuracy(cmSVM))\n",
    "\n",
    "print(f'Média do SVM: {np.mean(svmArray)}')\n",
    "print(f'Desvio padrão do SVM: {np.std(svmArray)}')\n",
    "\n",
    "# Visualizando os resultados no gráfico\n",
    "import matplotlib.pyplot as plt\n",
    "plt.plot(svmArray)\n",
    "plt.title('SVM do Titanic')\n",
    "plt.ylabel(\"Acurácia\")\n",
    "plt.xlabel(\"Tentativas\")\n",
    "plt.show()"
   ]
  }
 ],
 "metadata": {
  "kernelspec": {
   "display_name": "Python 3 (ipykernel)",
   "language": "python",
   "name": "python3"
  },
  "language_info": {
   "codemirror_mode": {
    "name": "ipython",
    "version": 3
   },
   "file_extension": ".py",
   "mimetype": "text/x-python",
   "name": "python",
   "nbconvert_exporter": "python",
   "pygments_lexer": "ipython3",
   "version": "3.11.2"
  }
 },
 "nbformat": 4,
 "nbformat_minor": 4
}
